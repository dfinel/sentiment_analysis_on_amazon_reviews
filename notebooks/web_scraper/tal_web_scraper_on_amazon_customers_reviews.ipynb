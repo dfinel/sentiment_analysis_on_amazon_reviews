{
 "cells": [
  {
   "cell_type": "markdown",
   "id": "1c08a0f7",
   "metadata": {},
   "source": [
    "## Amazon product reviews web-scraper - ~7.5 seconds for 7 pages"
   ]
  },
  {
   "cell_type": "code",
   "execution_count": 1,
   "id": "b751874d",
   "metadata": {
    "ExecuteTime": {
     "end_time": "2024-04-04T16:07:08.381416Z",
     "start_time": "2024-04-04T16:07:04.718191Z"
    }
   },
   "outputs": [
    {
     "name": "stderr",
     "output_type": "stream",
     "text": [
      "C:\\Users\\user\\anaconda3\\Lib\\site-packages\\gevent\\hub.py:161: UserWarning: libuv only supports millisecond timer resolution; all times less will be set to 1 ms\n",
      "  with loop.timer(seconds, ref=ref) as t:\n"
     ]
    }
   ],
   "source": [
    "import grequests\n",
    "from bs4 import BeautifulSoup\n",
    "import pandas as pd\n",
    "import time"
   ]
  },
  {
   "cell_type": "code",
   "execution_count": 2,
   "id": "23dd09a1",
   "metadata": {
    "ExecuteTime": {
     "end_time": "2024-04-04T16:07:08.402429Z",
     "start_time": "2024-04-04T16:07:08.387534Z"
    }
   },
   "outputs": [],
   "source": [
    "product_url = \"https://www.amazon.co.uk/Simply-Cheetos-Cheddar-Cheese-Flavored/product-reviews/B0015GTJCI/ref=cm_cr_dp_d_show_all_btm?ie=UTF8&reviewerType=all_reviews\""
   ]
  },
  {
   "cell_type": "code",
   "execution_count": 3,
   "id": "65fd257f",
   "metadata": {
    "ExecuteTime": {
     "end_time": "2024-04-04T16:07:08.422368Z",
     "start_time": "2024-04-04T16:07:08.407347Z"
    }
   },
   "outputs": [],
   "source": [
    "custom_headers = {\n",
    "    # Eliminating non-english reviews\n",
    "    \"Accept-language\": \"en-US,en;q=0.9\",\n",
    "    \"Accept-Encoding\": \"gzip, deflate, br\",\n",
    "    \"Cache-Control\": \"max-age=0\",\n",
    "    \"Connection\": \"keep-alive\",\n",
    "    \"User-agent\": \"Mozilla/5.0 (Macintosh; Intel Mac OS X 10_15_7) AppleWebKit/605.1.15 (KHTML, like Gecko) Version/17.1 Safari/605.1.15\",\n",
    "}"
   ]
  },
  {
   "cell_type": "code",
   "execution_count": 4,
   "id": "257d9c89",
   "metadata": {
    "ExecuteTime": {
     "end_time": "2024-04-04T16:07:08.500591Z",
     "start_time": "2024-04-04T16:07:08.422368Z"
    }
   },
   "outputs": [],
   "source": [
    "def get_soup(response):\n",
    "    if response.status_code != 200:\n",
    "        print(\"Error in getting webpage\")\n",
    "        return None\n",
    "\n",
    "    soup = BeautifulSoup(response.text, \"html.parser\")\n",
    "    return soup\n",
    "\n",
    "def get_reviews(soup):\n",
    "    review_elements = soup.select(\"div.review\")\n",
    "\n",
    "    scraped_reviews = []\n",
    "\n",
    "    for review in review_elements:\n",
    "        r_content_element = review.select_one(\"span.review-text\")\n",
    "        r_content = r_content_element.text if r_content_element else None\n",
    "        \n",
    "        review_dict = {\n",
    "                    \"content\": r_content\n",
    "                }\n",
    "\n",
    "        scraped_reviews.append(review_dict)\n",
    "\n",
    "    return scraped_reviews\n",
    "\n",
    "def scrape_reviews(base_url):\n",
    "    all_reviews = []\n",
    "    page_number = 1\n",
    "\n",
    "    while True:\n",
    "        url = f\"{base_url}&pageNumber={page_number}\"\n",
    "        response = grequests.get(url, headers=custom_headers).send().response\n",
    "        soup = get_soup(response)\n",
    "\n",
    "        if not soup:\n",
    "            break  # Exit loop if unable to parse page\n",
    "\n",
    "        reviews = get_reviews(soup)\n",
    "        all_reviews.extend(reviews)\n",
    "        \n",
    "        # Note: there's a valid page for any pageNumber, \n",
    "        # so we need to stop scraping based on the button of next page\n",
    "        # Check for the presence of the \"Next page\" element\n",
    "        next_page_element = soup.find(\"li\", class_=\"a-disabled a-last\")\n",
    "        if next_page_element:\n",
    "            break  # Exit loop if \"Next page\" element is found\n",
    "\n",
    "        page_number += 1\n",
    "\n",
    "    return all_reviews"
   ]
  },
  {
   "cell_type": "code",
   "execution_count": 5,
   "id": "7e4471ef",
   "metadata": {
    "ExecuteTime": {
     "end_time": "2024-04-04T16:07:15.050195Z",
     "start_time": "2024-04-04T16:07:08.502828Z"
    }
   },
   "outputs": [],
   "source": [
    "all_reviews = scrape_reviews(product_url)"
   ]
  },
  {
   "cell_type": "code",
   "execution_count": 6,
   "id": "07f0aa5a",
   "metadata": {
    "ExecuteTime": {
     "end_time": "2024-04-04T16:07:15.098042Z",
     "start_time": "2024-04-04T16:07:15.050195Z"
    }
   },
   "outputs": [],
   "source": [
    "df = pd.DataFrame(all_reviews)\n",
    "df.to_csv('amazon_reviews.csv', index=False, encoding='utf-8')"
   ]
  },
  {
   "cell_type": "markdown",
   "id": "aa9d7792",
   "metadata": {},
   "source": [
    "## Scraper with the total time"
   ]
  },
  {
   "cell_type": "code",
   "execution_count": 7,
   "id": "359dcf69",
   "metadata": {
    "ExecuteTime": {
     "end_time": "2024-04-04T16:07:15.123151Z",
     "start_time": "2024-04-04T16:07:15.100492Z"
    }
   },
   "outputs": [],
   "source": [
    "# Testing the time:\n",
    "import time\n",
    "\n",
    "def get_soup(response):\n",
    "    if response.status_code != 200:\n",
    "        print(\"Error in getting webpage\")\n",
    "        return None\n",
    "\n",
    "    soup = BeautifulSoup(response.text, \"html.parser\")\n",
    "    return soup\n",
    "\n",
    "def get_reviews(soup):\n",
    "    review_elements = soup.select(\"div.review\")\n",
    "\n",
    "    scraped_reviews = []\n",
    "\n",
    "    for review in review_elements:\n",
    "        r_content_element = review.select_one(\"span.review-text\")\n",
    "        r_content = r_content_element.text if r_content_element else None\n",
    "        \n",
    "        review_dict = {\n",
    "                    \"content\": r_content\n",
    "                }\n",
    "\n",
    "        scraped_reviews.append(review_dict)\n",
    "\n",
    "    return scraped_reviews\n",
    "\n",
    "def scrape_reviews(base_url):\n",
    "    all_reviews = []\n",
    "    page_number = 1\n",
    "\n",
    "    start_time = time.time()\n",
    "\n",
    "    while True:\n",
    "        url = f\"{base_url}&pageNumber={page_number}\"\n",
    "        response = grequests.get(url, headers=custom_headers).send().response\n",
    "        soup = get_soup(response)\n",
    "\n",
    "        if not soup:\n",
    "            break  # Exit loop if unable to parse page\n",
    "\n",
    "        reviews = get_reviews(soup)\n",
    "        all_reviews.extend(reviews)\n",
    "        \n",
    "        # Note: there's a valid page for any pageNumber, \n",
    "        # so we need to stop scraping based on the button of next page\n",
    "        # Check for the presence of the \"Next page\" element\n",
    "        next_page_element = soup.find(\"li\", class_=\"a-disabled a-last\")\n",
    "        if next_page_element:\n",
    "            break  # Exit loop if \"Next page\" element is found\n",
    "\n",
    "        page_number += 1\n",
    "\n",
    "    end_time = time.time()\n",
    "    scraping_time = end_time - start_time\n",
    "\n",
    "    print(f\"Scraping completed in {scraping_time:.2f} seconds\")\n",
    "\n",
    "    return all_reviews"
   ]
  },
  {
   "cell_type": "code",
   "execution_count": 8,
   "id": "9c1053c6",
   "metadata": {
    "ExecuteTime": {
     "end_time": "2024-04-04T16:07:22.047839Z",
     "start_time": "2024-04-04T16:07:15.123151Z"
    }
   },
   "outputs": [
    {
     "name": "stdout",
     "output_type": "stream",
     "text": [
      "Scraping completed in 6.91 seconds\n"
     ]
    }
   ],
   "source": [
    "all_reviews = scrape_reviews(product_url)"
   ]
  },
  {
   "cell_type": "markdown",
   "id": "19284b49",
   "metadata": {},
   "source": [
    "## Overview of the scraped reviews data"
   ]
  },
  {
   "cell_type": "code",
   "execution_count": 9,
   "id": "55cbd720",
   "metadata": {
    "ExecuteTime": {
     "end_time": "2024-04-04T16:07:22.062444Z",
     "start_time": "2024-04-04T16:07:22.053082Z"
    }
   },
   "outputs": [
    {
     "data": {
      "text/plain": [
       "70"
      ]
     },
     "execution_count": 9,
     "metadata": {},
     "output_type": "execute_result"
    }
   ],
   "source": [
    "len(all_reviews)"
   ]
  },
  {
   "cell_type": "code",
   "execution_count": 10,
   "id": "c652ad83",
   "metadata": {
    "ExecuteTime": {
     "end_time": "2024-04-04T16:07:22.081583Z",
     "start_time": "2024-04-04T16:07:22.064499Z"
    }
   },
   "outputs": [
    {
     "data": {
      "text/plain": [
       "{'content': '\\nWe did not like these cheese puffs. They tasted stale.\\n'}"
      ]
     },
     "execution_count": 10,
     "metadata": {},
     "output_type": "execute_result"
    }
   ],
   "source": [
    "all_reviews[68]"
   ]
  },
  {
   "cell_type": "code",
   "execution_count": 11,
   "id": "1dad32e4",
   "metadata": {
    "ExecuteTime": {
     "end_time": "2024-04-04T16:07:22.097052Z",
     "start_time": "2024-04-04T16:07:22.084695Z"
    }
   },
   "outputs": [
    {
     "name": "stdout",
     "output_type": "stream",
     "text": [
      "{'content': '\\nExcellent - the best thing that I’ve ever tasted in my entire life.The problem that it’s very hard to get it only through amazon and it’s taking too too much time to be received.\\n'}\n",
      "{'content': '\\nWow, these are so addicting! I really don’t eat any other chips very often, but these are my go-to. For some reason they seem slightly healthier than regular Cheetos, and are made my Simply. The white cheddar taste is delicious and you don’t get bright orange fingers after eating them. They have the perfect crispy puff texture, and are larger in size. The bag is also nice and big.\\n'}\n",
      "{'content': \"\\nIt's hard to find quality snacks here. These were awesome, great taste ! Will def buy again\\n\"}\n",
      "{'content': '\\nWith healthy ingredients and strong flavor of white cheddar. These are one of their best products!\\n'}\n",
      "{'content': '\\nWay more cheesy taste that the orange puffs!! So so good, can eat the entire bag!\\n'}\n",
      "{'content': '\\nBeen eating these for years. All natural, I cannot eat preservatives or MSG.  They have changed them though. Like Pirate booty a little. Keep buying hoping that changes. Need to call the company and comment. They are just delicious. Fantastic product in, individual bads as well. Oh and check out all their other yummy products!\\n'}\n",
      "{'content': '\\nThese were pretty good. Had a good flavor and good “puff”, not sure if they are actually better for you but I can Pretend!\\n'}\n",
      "{'content': '\\nWhy is this not readily available allllll the time? Its so good. I will buy a bag of chips have a few then it sits for a month slightly pecking at it until I throw it away,  including the orange puffs, I cant finish a bag, I lose interest and craving. The white cheddar cheetos lasted 3 days and as i raced to buy more.....not in stock.....chester come on now!\\n'}\n",
      "{'content': '\\nHad gained weight during COVID, went on Weight Watchers and this was a great snack with not too many points when you really needed something to get you over a hump!  Still love them.\\n'}\n",
      "{'content': '\\nThese are so good, I am not a chip person and the regular Cheetos bug me with the meds but these…from the very first bite have been my favorite snack every. Even beating out chocolate…well…ok it’s a tie but still.\\n'}\n",
      "{'content': '\\nI love these snacks!  But I paid double the price that I would pay at any store.  I just wanted to make sure that I had these for my birthday party.  So, they came in time for my birthday....but the price was a killer!\\n'}\n",
      "{'content': '\\nSnacks, nothing to dislike. Thank you\\n'}\n",
      "{'content': '\\nSo good.  One of my favorite snacks!\\n'}\n",
      "{'content': '\\nThese are the best Cheetos. Delicious and no weird orange staining. I will never go back to those neon orange original Cheetos.\\n'}\n",
      "{'content': '\\nThe flavor is spot on. Good value and taste good.\\n'}\n",
      "{'content': '\\nThese tastes so good that I can’t ever eat only the suggested serving size.  Cheat snack!\\n'}\n",
      "{'content': \"\\nFlavor is great if you're not hungry for lunch but force yourself to eat something. Light and puff dry. Value is great. Baked to be healthier choice. Portion size great snack.\\n\"}\n",
      "{'content': '\\nI think i got a bad bag from Amazon because the chip was stale, otherwise I know this brand and I’ve had these chips before from other places and they’re really good\\n'}\n",
      "{'content': '\\nDelicious snack in moderation. More expensive than in the grocery store but great for someone like me who cannot drive. Favorite for my 5 year old with a sandwich as a side.\\n'}\n",
      "{'content': '\\nYou can get addicted to it very fast. You wont stop untill bag is empty\\n'}\n",
      "{'content': '\\nThese made me love Cheetos again! Why did it take so long to come up with white cheddar flavors? I’m obsessed! These are big, light, and fluffy. Nice tang. I stock up on these and the Doritos white cheddar version when they are in stock.\\n'}\n",
      "{'content': \"\\nI thought I'd like these, because I liked the picture on the package and Cheetos so much, but no such luck.  They were nothing like Cheetos.  Not even as much cheese!  In fact, the cheese flavor was almost non existent to me.  I didn't like them at all!\\n\"}\n",
      "{'content': '\\nThese taste so good\\n'}\n",
      "{'content': \"\\nThese taste incredible delicious. I can't get enough of them!\\n\"}\n",
      "{'content': '\\nHard to find and worth the buy!\\n'}\n",
      "{'content': '\\nTried them, brought them to a bbq and then saw my dad purchased them and is now addicted\\n'}\n",
      "{'content': '\\nI love these so much I have them on auto delivery.\\n'}\n",
      "{'content': '\\nWash your hands. Now open the bag. Serve some up in your favorite way. Pop in your mouth. nom nom nom...yum...nom...nom...nom. Lick fingers. Now wash your hands again.Tasty white cheddar goodness with a messy, sticky residue left behind to serve as witness that you enjoyed the heck out these little buggers.\\n'}\n",
      "{'content': '\\nI am addicted to this chips, though it is greasy and not healthy but what can I do, I really really enjoy the flavor and the crunchiness of this yummy snack.\\n'}\n",
      "{'content': '\\nI really like these.  Preference is crunchy over puffs but both are good snacks.\\n'}\n",
      "{'content': '\\nAlways so impressed with Amazon Fresh! Everything you order is always Fresh just like the name says\\n'}\n",
      "{'content': '\\nI absolute love this. Nice and crunchy , yet soft. It just melts in my mouth. I can eat a whole bag in one go. Guess I’m a fatty. Lol\\n'}\n",
      "{'content': \"\\nThese used to be my favorite guilt food. I didn't eat junk food, other than these, because they were just that good.Today I opened a new bag, and the texture was off. They've gone and blown more air into these things, with noticeably bigger air pockets that surprisingly got in the way of the taste and texture. And I can't help but feel like it was motivated by shrinkflation.\\n\"}\n",
      "{'content': '\\nAh yess Cheetos that don’t turn your fingers orange. Perfect!\\n'}\n",
      "{'content': '\\nPut in a bowl, don’t eat right out of the bag. Otherwise the contents will disappear ! Love the taste, but addictive!\\n'}\n",
      "{'content': '\\nToo good. I always end up eating the bag within a day or two :(\\n'}\n",
      "{'content': '\\nUm...I ate the whole bag in one sitting. These are dangerous.\\n'}\n",
      "{'content': \"\\nThese are awesome! I read the positive reviews and had to try them. I'm glad I did; they're so cheesy and light. If your going to much these are a little healthier than the others.\\n\"}\n",
      "{'content': '\\nInteresting\\n'}\n",
      "{'content': \"\\nHate that it's so high in sodium, I could go through a whole bag in one sitting.\\n\"}\n",
      "{'content': '\\nI’m addicted! Hard to just have one serving!\\n'}\n",
      "{'content': '\\nBig bag for value ,and cheaper than in store.\\n'}\n",
      "{'content': '\\nPleased with product\\n'}\n",
      "{'content': '\\nIt’s unfair how good these are. And they won’t stain anything!\\n'}\n",
      "{'content': '\\namaaazzzinng love them\\n'}\n",
      "{'content': '\\nSee headline\\n'}\n",
      "{'content': '\\nSimply cheese white cheddar puffs\\n'}\n",
      "{'content': '\\nAlways fresh\\n'}\n",
      "{'content': '\\nOnly problem with these are that once you start eating them you can’t stop!\\n'}\n",
      "{'content': '\\nVery salty I am a clean eater so anything super salty is a no go it’s just a puffy pile of salt I fed it to the pigeons.\\n'}\n",
      "{'content': '\\nOne of my favorite snacks. I like it better than all the other versions of Cheetos\\n'}\n",
      "{'content': '\\nCheesy, addicting, non-staining, and gluten free!\\n'}\n",
      "{'content': '\\nI wanted a cheetos fix but hate the GMO\\'s in the regular crunchy cheetos so I gave these a try.  The taste is artificially chemical and the texture is dried wallpaper paste.  I hate what has been done to our food supply in the USA.  We are having to contend with things in our food supply that are OUTLAWED!!! in Europe!  I have turned my back on this crap.  NO MO GMO and NO MO \"healthy\"  SIMPLY items either.  My health and taste buds are not worth it!\\n'}\n",
      "{'content': '\\nGood as expected\\n'}\n",
      "{'content': '\\nJunk. Food. Is. A. Delicious. Waste. Of. Money.\\n'}\n",
      "{'content': '\\nLove these\\n'}\n",
      "{'content': '\\nWe loved them\\n'}\n",
      "{'content': '\\nThey work in a pinch, but are slightly different in taste and texture from the holiday batch. Price is too high to order again.\\n'}\n",
      "{'content': '\\nA bit on the bland side not the big cheese flavor I usually get from Cheetos  but will do in a pinch, but be warned these are not a real Puff but the harder crunchy style if that matters\\n'}\n",
      "{'content': '\\nThe best Cheeto product at a fantastic price!\\n'}\n",
      "{'content': '\\nSo so delicious!!\\n'}\n",
      "{'content': '\\nThese used to be heavenly, dissolving nearly as easily as cotton candy in the mouth. Now they are basically a puff-crunch hybrid :(\\n'}\n",
      "{'content': '\\nWe are big Cheetos fans.  We thought we would try these to help with “Cheetos fingers”. Unfortunately these have no taste.  It was such a disappointment we tossed them and opened a bag of “finger lickin Cheetos”.  Never again!\\n'}\n",
      "{'content': '\\nGREAT TASTED AND FULL BAG , BUT ONE BAG ARRIVED OPEN LIKE SOME ONE TAKE IT AND EAT  ,  AMAZON BEWARE THAT IS REALLY BAD SHOW , I TAKE A PIC , AFTER I CONTACT CUSTOMER SERVICE BY CHAT AND PHONE I NEED TO PUSHING FOR THEY TAKE SERIOUSLY\\n'}\n",
      "{'content': '\\nfirst time having these and they were deliciously, i would definitely get them again\\n'}\n",
      "{'content': '\\nthanks for this product great buying from the seller\\n'}\n",
      "{'content': '\\nYou will pay $10.29 for 1 bag...OUTRAGEOUS PRICE...been trying to get a refund but no luck...BUYER BEWARE...this is a rip off\\n'}\n",
      "{'content': '\\nThis was a ripoff, I thought I was getting 3 bags for the price they charged. But when I got it was 1 bag for triple the price of what I normally pay in the store. Not happy\\n'}\n",
      "{'content': '\\nWe did not like these cheese puffs. They tasted stale.\\n'}\n",
      "{'content': '\\nOk\\n'}\n"
     ]
    }
   ],
   "source": [
    "for review in all_reviews:\n",
    "    print(review)"
   ]
  },
  {
   "cell_type": "code",
   "execution_count": null,
   "id": "49b6e07e",
   "metadata": {},
   "outputs": [],
   "source": []
  }
 ],
 "metadata": {
  "kernelspec": {
   "display_name": "Python 3 (ipykernel)",
   "language": "python",
   "name": "python3"
  },
  "language_info": {
   "codemirror_mode": {
    "name": "ipython",
    "version": 3
   },
   "file_extension": ".py",
   "mimetype": "text/x-python",
   "name": "python",
   "nbconvert_exporter": "python",
   "pygments_lexer": "ipython3",
   "version": "3.11.5"
  },
  "toc": {
   "base_numbering": 1,
   "nav_menu": {},
   "number_sections": true,
   "sideBar": true,
   "skip_h1_title": false,
   "title_cell": "Table of Contents",
   "title_sidebar": "Contents",
   "toc_cell": false,
   "toc_position": {},
   "toc_section_display": true,
   "toc_window_display": false
  },
  "varInspector": {
   "cols": {
    "lenName": 16,
    "lenType": 16,
    "lenVar": 40
   },
   "kernels_config": {
    "python": {
     "delete_cmd_postfix": "",
     "delete_cmd_prefix": "del ",
     "library": "var_list.py",
     "varRefreshCmd": "print(var_dic_list())"
    },
    "r": {
     "delete_cmd_postfix": ") ",
     "delete_cmd_prefix": "rm(",
     "library": "var_list.r",
     "varRefreshCmd": "cat(var_dic_list()) "
    }
   },
   "types_to_exclude": [
    "module",
    "function",
    "builtin_function_or_method",
    "instance",
    "_Feature"
   ],
   "window_display": false
  }
 },
 "nbformat": 4,
 "nbformat_minor": 5
}

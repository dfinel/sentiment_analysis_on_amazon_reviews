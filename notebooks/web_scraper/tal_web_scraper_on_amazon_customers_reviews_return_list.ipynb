{
 "cells": [
  {
   "cell_type": "markdown",
   "id": "1c08a0f7",
   "metadata": {},
   "source": [
    "## Amazon product reviews web-scraper - ~6.5 seconds for 10 pages"
   ]
  },
  {
   "cell_type": "code",
   "execution_count": 1,
   "id": "b751874d",
   "metadata": {
    "ExecuteTime": {
     "end_time": "2024-04-12T14:52:31.909259Z",
     "start_time": "2024-04-12T14:52:29.948343Z"
    }
   },
   "outputs": [
    {
     "name": "stderr",
     "output_type": "stream",
     "text": [
      "C:\\Users\\user\\anaconda3\\Lib\\site-packages\\gevent\\hub.py:161: UserWarning: libuv only supports millisecond timer resolution; all times less will be set to 1 ms\n",
      "  with loop.timer(seconds, ref=ref) as t:\n"
     ]
    }
   ],
   "source": [
    "import grequests\n",
    "from bs4 import BeautifulSoup\n",
    "import pandas as pd\n",
    "import time\n",
    "import csv"
   ]
  },
  {
   "cell_type": "code",
   "execution_count": 2,
   "id": "23dd09a1",
   "metadata": {
    "ExecuteTime": {
     "end_time": "2024-04-12T14:52:31.922140Z",
     "start_time": "2024-04-12T14:52:31.910328Z"
    }
   },
   "outputs": [],
   "source": [
    "product_url = \"https://www.amazon.co.uk/Smiths-Savoury-Snacks-Favourites-24/product-reviews/B07X2M1D16/ref=cm_cr_dp_d_show_all_btm?ie=UTF8&reviewerType=all_reviews\""
   ]
  },
  {
   "cell_type": "code",
   "execution_count": 3,
   "id": "65fd257f",
   "metadata": {
    "ExecuteTime": {
     "end_time": "2024-04-12T14:52:31.947757Z",
     "start_time": "2024-04-12T14:52:31.930161Z"
    }
   },
   "outputs": [],
   "source": [
    "custom_headers = {\n",
    "    # Eliminating non-english reviews\n",
    "    \"Accept-language\": \"en;q=1.0\",\n",
    "    \"Accept-Encoding\": \"gzip, deflate, br\",\n",
    "    \"Cache-Control\": \"max-age=0\",\n",
    "    \"Connection\": \"keep-alive\",\n",
    "    \"User-agent\": \"Mozilla/5.0 (Macintosh; Intel Mac OS X 10_15_7) AppleWebKit/605.1.15 (KHTML, like Gecko) Version/17.1 Safari/605.1.15\",\n",
    "}"
   ]
  },
  {
   "cell_type": "code",
   "execution_count": 4,
   "id": "257d9c89",
   "metadata": {
    "ExecuteTime": {
     "end_time": "2024-04-12T14:52:32.011680Z",
     "start_time": "2024-04-12T14:52:31.948302Z"
    }
   },
   "outputs": [],
   "source": [
    "def preprocess_review_content(reviews):\n",
    "    for review in reviews:\n",
    "        if review[\"content\"]:\n",
    "            review[\"content\"] = review[\"content\"].replace('\\n', '')\n",
    "    return reviews\n",
    "\n",
    "def get_soup(response):\n",
    "    if response.status_code != 200:\n",
    "        print(\"Error in getting webpage\")\n",
    "        return None\n",
    "\n",
    "    soup = BeautifulSoup(response.text, \"html.parser\")\n",
    "    return soup\n",
    "\n",
    "def get_reviews(soup):\n",
    "    review_elements = soup.select(\"div.review\")\n",
    "\n",
    "    scraped_reviews = []\n",
    "\n",
    "    for review in review_elements:\n",
    "        r_content_element = review.select_one(\"span.review-text\")\n",
    "        r_content = r_content_element.text if r_content_element else None\n",
    "        \n",
    "        review_dict = {\n",
    "                    \"content\": r_content\n",
    "                }\n",
    "\n",
    "        scraped_reviews.append(review_dict)\n",
    "\n",
    "    return scraped_reviews\n",
    "\n",
    "def scrape_reviews(base_url):\n",
    "    all_reviews = []\n",
    "    star_ratings = ['one', 'two', 'three', 'four', 'five']\n",
    "    \n",
    "    for star in star_ratings:\n",
    "        page_number = 1\n",
    "        \n",
    "        while True:\n",
    "            url = f\"{base_url}&filterByStar={star}_star&&pageNumber={page_number}\"\n",
    "            response = grequests.get(url, headers=custom_headers).send().response\n",
    "            soup = get_soup(response)\n",
    "\n",
    "            if not soup:\n",
    "                continue  # Skip to next star rating if unable to parse page\n",
    "\n",
    "            reviews = get_reviews(soup)\n",
    "            preprocessed_reviews = preprocess_review_content(reviews)\n",
    "            all_reviews.extend(preprocessed_reviews)\n",
    "        \n",
    "            # Note: there's a valid page for any pageNumber, \n",
    "            # so we need to stop scraping based on the button of next page\n",
    "            # Check for the presence of the \"Next page\" element\n",
    "            next_page_element = soup.find(\"li\", class_=\"a-disabled a-last\")\n",
    "            if next_page_element:\n",
    "                break  # Exit loop if \"Next page\" element is found\n",
    "\n",
    "            page_number += 1\n",
    "\n",
    "    return all_reviews"
   ]
  },
  {
   "cell_type": "code",
   "execution_count": 5,
   "id": "7e4471ef",
   "metadata": {
    "ExecuteTime": {
     "end_time": "2024-04-12T14:53:18.376566Z",
     "start_time": "2024-04-12T14:52:32.013388Z"
    }
   },
   "outputs": [],
   "source": [
    "all_reviews = scrape_reviews(product_url)"
   ]
  },
  {
   "cell_type": "code",
   "execution_count": 6,
   "id": "fc2f33a4",
   "metadata": {
    "ExecuteTime": {
     "end_time": "2024-04-12T14:53:18.392596Z",
     "start_time": "2024-04-12T14:53:18.376566Z"
    }
   },
   "outputs": [
    {
     "data": {
      "text/plain": [
       "477"
      ]
     },
     "execution_count": 6,
     "metadata": {},
     "output_type": "execute_result"
    }
   ],
   "source": [
    "len(all_reviews)"
   ]
  },
  {
   "cell_type": "markdown",
   "id": "aa9d7792",
   "metadata": {},
   "source": [
    "## Scraper with the total time"
   ]
  },
  {
   "cell_type": "code",
   "execution_count": 7,
   "id": "152894f5",
   "metadata": {
    "ExecuteTime": {
     "end_time": "2024-04-12T14:54:06.521809Z",
     "start_time": "2024-04-12T14:53:18.392596Z"
    }
   },
   "outputs": [
    {
     "name": "stdout",
     "output_type": "stream",
     "text": [
      "Time taken to scrape and export reviews: 48.11 seconds\n"
     ]
    }
   ],
   "source": [
    "# Testing the time- E2E:\n",
    "\n",
    "def scrape_and_reviews_time(url):\n",
    "    start_time = time.time()\n",
    "    \n",
    "    all_reviews = scrape_reviews(url)\n",
    "    \n",
    "    end_time = time.time()\n",
    "    \n",
    "    time_taken = end_time - start_time\n",
    "    \n",
    "    print(f\"Time taken to scrape and export reviews: {time_taken:.2f} seconds\")\n",
    "\n",
    "scrape_and_reviews_time(product_url)"
   ]
  },
  {
   "cell_type": "markdown",
   "id": "19284b49",
   "metadata": {},
   "source": [
    "## Overview of the scraped reviews data (before and after lightly preprocessed)"
   ]
  },
  {
   "cell_type": "code",
   "execution_count": 8,
   "id": "55cbd720",
   "metadata": {
    "ExecuteTime": {
     "end_time": "2024-04-12T14:54:06.553541Z",
     "start_time": "2024-04-12T14:54:06.524360Z"
    }
   },
   "outputs": [
    {
     "data": {
      "text/plain": [
       "477"
      ]
     },
     "execution_count": 8,
     "metadata": {},
     "output_type": "execute_result"
    }
   ],
   "source": [
    "len(all_reviews)"
   ]
  },
  {
   "cell_type": "code",
   "execution_count": 10,
   "id": "c652ad83",
   "metadata": {
    "ExecuteTime": {
     "end_time": "2024-04-12T14:54:32.787753Z",
     "start_time": "2024-04-12T14:54:32.765359Z"
    }
   },
   "outputs": [
    {
     "data": {
      "text/plain": [
       "{'content': 'Have ordered these before on amason , but this taste awful , not sure if it’s how they’ve been stored but just vileGutted as they are normally my favourite snack'}"
      ]
     },
     "execution_count": 10,
     "metadata": {},
     "output_type": "execute_result"
    }
   ],
   "source": [
    "all_reviews[0]"
   ]
  },
  {
   "cell_type": "code",
   "execution_count": null,
   "id": "25370939",
   "metadata": {},
   "outputs": [],
   "source": []
  }
 ],
 "metadata": {
  "kernelspec": {
   "display_name": "Python 3 (ipykernel)",
   "language": "python",
   "name": "python3"
  },
  "language_info": {
   "codemirror_mode": {
    "name": "ipython",
    "version": 3
   },
   "file_extension": ".py",
   "mimetype": "text/x-python",
   "name": "python",
   "nbconvert_exporter": "python",
   "pygments_lexer": "ipython3",
   "version": "3.11.5"
  },
  "toc": {
   "base_numbering": 1,
   "nav_menu": {},
   "number_sections": true,
   "sideBar": true,
   "skip_h1_title": false,
   "title_cell": "Table of Contents",
   "title_sidebar": "Contents",
   "toc_cell": false,
   "toc_position": {},
   "toc_section_display": true,
   "toc_window_display": false
  },
  "varInspector": {
   "cols": {
    "lenName": 16,
    "lenType": 16,
    "lenVar": 40
   },
   "kernels_config": {
    "python": {
     "delete_cmd_postfix": "",
     "delete_cmd_prefix": "del ",
     "library": "var_list.py",
     "varRefreshCmd": "print(var_dic_list())"
    },
    "r": {
     "delete_cmd_postfix": ") ",
     "delete_cmd_prefix": "rm(",
     "library": "var_list.r",
     "varRefreshCmd": "cat(var_dic_list()) "
    }
   },
   "types_to_exclude": [
    "module",
    "function",
    "builtin_function_or_method",
    "instance",
    "_Feature"
   ],
   "window_display": false
  }
 },
 "nbformat": 4,
 "nbformat_minor": 5
}

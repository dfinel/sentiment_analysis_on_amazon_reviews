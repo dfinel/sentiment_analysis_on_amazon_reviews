{
  "cells": [
    {
      "cell_type": "code",
      "execution_count": null,
      "metadata": {
        "id": "1xRvsIynUlq9"
      },
      "outputs": [],
      "source": [
        "import numpy as np\n",
        "import pandas as pd\n",
        "import matplotlib.pyplot as plt\n",
        "import seaborn as sns\n",
        "import nltk\n",
        "from sklearn.model_selection import train_test_split\n",
        "from sklearn.preprocessing import StandardScaler,MinMaxScaler,OrdinalEncoder, LabelEncoder, MinMaxScaler, OneHotEncoder\n",
        "from sklearn.metrics import confusion_matrix, classification_report\n",
        "from sklearn.feature_selection import f_regression, chi2, SelectKBest\n",
        "from sklearn.metrics import accuracy_score, mean_squared_error\n",
        "from sklearn.linear_model import LogisticRegression,LinearRegression\n",
        "from sklearn.ensemble import RandomForestClassifier, AdaBoostClassifier, RandomForestRegressor, AdaBoostRegressor\n",
        "from sklearn.neighbors import KNeighborsClassifier\n",
        "from sklearn.feature_selection import RFE\n",
        "from sklearn.feature_selection import SequentialFeatureSelector\n",
        "from sklearn.model_selection import cross_validate\n",
        "from sklearn.model_selection import GridSearchCV, RandomizedSearchCV"
      ]
    },
    {
      "cell_type": "code",
      "source": [
        "from google.colab import drive\n",
        "drive.mount('/content/drive')"
      ],
      "metadata": {
        "colab": {
          "base_uri": "https://localhost:8080/"
        },
        "id": "_7glFoU0ZQxv",
        "outputId": "ee416164-b7d5-471e-8e58-86f6629be703"
      },
      "execution_count": null,
      "outputs": [
        {
          "output_type": "stream",
          "name": "stdout",
          "text": [
            "Drive already mounted at /content/drive; to attempt to forcibly remount, call drive.mount(\"/content/drive\", force_remount=True).\n"
          ]
        }
      ]
    },
    {
      "cell_type": "code",
      "source": [
        "path = '/content/drive/MyDrive/final_project_itc/data.npy'\n",
        "data = np.load(path, allow_pickle = True)"
      ],
      "metadata": {
        "id": "_RsgkZEvREk_"
      },
      "execution_count": null,
      "outputs": []
    },
    {
      "cell_type": "code",
      "execution_count": null,
      "metadata": {
        "id": "c9EdotDANrZy"
      },
      "outputs": [],
      "source": [
        "df = pd.DataFrame(data, columns = ['Id', 'ProductId', 'UserId', 'ProfileName', 'HelpfulnessNumerator',\n",
        "       'HelpfulnessDenominator', 'Score', 'Time', 'Summary', 'Text'])"
      ]
    },
    {
      "cell_type": "markdown",
      "metadata": {
        "id": "IpN6UEbhXuuf"
      },
      "source": [
        "### EDA"
      ]
    },
    {
      "cell_type": "markdown",
      "source": [
        "#### Initial eda"
      ],
      "metadata": {
        "id": "zfKiumdlaTV7"
      }
    },
    {
      "cell_type": "code",
      "execution_count": null,
      "metadata": {
        "colab": {
          "base_uri": "https://localhost:8080/"
        },
        "id": "NLF9GDwgPEw9",
        "outputId": "8aa7d484-d9bf-4216-dcc0-b4025fd0c8ce"
      },
      "outputs": [
        {
          "output_type": "execute_result",
          "data": {
            "text/plain": [
              "(568454, 10)"
            ]
          },
          "metadata": {},
          "execution_count": 57
        }
      ],
      "source": [
        "df.shape"
      ]
    },
    {
      "cell_type": "code",
      "execution_count": null,
      "metadata": {
        "colab": {
          "base_uri": "https://localhost:8080/"
        },
        "id": "tBtiYjIJRqDE",
        "outputId": "fafce92b-8d38-413c-ba29-dbc10ca2908d"
      },
      "outputs": [
        {
          "output_type": "execute_result",
          "data": {
            "text/plain": [
              "  Id   ProductId          UserId                      ProfileName  \\\n",
              "0  1  B001E4KFG0  A3SGXH7AUHU8GW                       delmartian   \n",
              "1  2  B00813GRG4  A1D87F6ZCVE5NK                           dll pa   \n",
              "2  3  B000LQOCH0   ABXLMWJIXXAIN  Natalia Corres \"Natalia Corres\"   \n",
              "3  4  B000UA0QIQ  A395BORC6FGVXV                             Karl   \n",
              "4  5  B006K2ZZ7K  A1UQRSCLF8GW1T    Michael D. Bigham \"M. Wassir\"   \n",
              "\n",
              "  HelpfulnessNumerator HelpfulnessDenominator Score        Time  \\\n",
              "0                    1                      1     5  1303862400   \n",
              "1                    0                      0     1  1346976000   \n",
              "2                    1                      1     4  1219017600   \n",
              "3                    3                      3     2  1307923200   \n",
              "4                    0                      0     5  1350777600   \n",
              "\n",
              "                 Summary                                               Text  \n",
              "0  Good Quality Dog Food  I have bought several of the Vitality canned d...  \n",
              "1      Not as Advertised  Product arrived labeled as Jumbo Salted Peanut...  \n",
              "2  \"Delight\" says it all  This is a confection that has been around a fe...  \n",
              "3         Cough Medicine  If you are looking for the secret ingredient i...  \n",
              "4            Great taffy  Great taffy at a great price.  There was a wid...  "
            ],
            "text/html": [
              "\n",
              "  <div id=\"df-9c70413b-8392-44b8-87da-d7877b839f29\" class=\"colab-df-container\">\n",
              "    <div>\n",
              "<style scoped>\n",
              "    .dataframe tbody tr th:only-of-type {\n",
              "        vertical-align: middle;\n",
              "    }\n",
              "\n",
              "    .dataframe tbody tr th {\n",
              "        vertical-align: top;\n",
              "    }\n",
              "\n",
              "    .dataframe thead th {\n",
              "        text-align: right;\n",
              "    }\n",
              "</style>\n",
              "<table border=\"1\" class=\"dataframe\">\n",
              "  <thead>\n",
              "    <tr style=\"text-align: right;\">\n",
              "      <th></th>\n",
              "      <th>Id</th>\n",
              "      <th>ProductId</th>\n",
              "      <th>UserId</th>\n",
              "      <th>ProfileName</th>\n",
              "      <th>HelpfulnessNumerator</th>\n",
              "      <th>HelpfulnessDenominator</th>\n",
              "      <th>Score</th>\n",
              "      <th>Time</th>\n",
              "      <th>Summary</th>\n",
              "      <th>Text</th>\n",
              "    </tr>\n",
              "  </thead>\n",
              "  <tbody>\n",
              "    <tr>\n",
              "      <th>0</th>\n",
              "      <td>1</td>\n",
              "      <td>B001E4KFG0</td>\n",
              "      <td>A3SGXH7AUHU8GW</td>\n",
              "      <td>delmartian</td>\n",
              "      <td>1</td>\n",
              "      <td>1</td>\n",
              "      <td>5</td>\n",
              "      <td>1303862400</td>\n",
              "      <td>Good Quality Dog Food</td>\n",
              "      <td>I have bought several of the Vitality canned d...</td>\n",
              "    </tr>\n",
              "    <tr>\n",
              "      <th>1</th>\n",
              "      <td>2</td>\n",
              "      <td>B00813GRG4</td>\n",
              "      <td>A1D87F6ZCVE5NK</td>\n",
              "      <td>dll pa</td>\n",
              "      <td>0</td>\n",
              "      <td>0</td>\n",
              "      <td>1</td>\n",
              "      <td>1346976000</td>\n",
              "      <td>Not as Advertised</td>\n",
              "      <td>Product arrived labeled as Jumbo Salted Peanut...</td>\n",
              "    </tr>\n",
              "    <tr>\n",
              "      <th>2</th>\n",
              "      <td>3</td>\n",
              "      <td>B000LQOCH0</td>\n",
              "      <td>ABXLMWJIXXAIN</td>\n",
              "      <td>Natalia Corres \"Natalia Corres\"</td>\n",
              "      <td>1</td>\n",
              "      <td>1</td>\n",
              "      <td>4</td>\n",
              "      <td>1219017600</td>\n",
              "      <td>\"Delight\" says it all</td>\n",
              "      <td>This is a confection that has been around a fe...</td>\n",
              "    </tr>\n",
              "    <tr>\n",
              "      <th>3</th>\n",
              "      <td>4</td>\n",
              "      <td>B000UA0QIQ</td>\n",
              "      <td>A395BORC6FGVXV</td>\n",
              "      <td>Karl</td>\n",
              "      <td>3</td>\n",
              "      <td>3</td>\n",
              "      <td>2</td>\n",
              "      <td>1307923200</td>\n",
              "      <td>Cough Medicine</td>\n",
              "      <td>If you are looking for the secret ingredient i...</td>\n",
              "    </tr>\n",
              "    <tr>\n",
              "      <th>4</th>\n",
              "      <td>5</td>\n",
              "      <td>B006K2ZZ7K</td>\n",
              "      <td>A1UQRSCLF8GW1T</td>\n",
              "      <td>Michael D. Bigham \"M. Wassir\"</td>\n",
              "      <td>0</td>\n",
              "      <td>0</td>\n",
              "      <td>5</td>\n",
              "      <td>1350777600</td>\n",
              "      <td>Great taffy</td>\n",
              "      <td>Great taffy at a great price.  There was a wid...</td>\n",
              "    </tr>\n",
              "  </tbody>\n",
              "</table>\n",
              "</div>\n",
              "    <div class=\"colab-df-buttons\">\n",
              "\n",
              "  <div class=\"colab-df-container\">\n",
              "    <button class=\"colab-df-convert\" onclick=\"convertToInteractive('df-9c70413b-8392-44b8-87da-d7877b839f29')\"\n",
              "            title=\"Convert this dataframe to an interactive table.\"\n",
              "            style=\"display:none;\">\n",
              "\n",
              "  <svg xmlns=\"http://www.w3.org/2000/svg\" height=\"24px\" viewBox=\"0 -960 960 960\">\n",
              "    <path d=\"M120-120v-720h720v720H120Zm60-500h600v-160H180v160Zm220 220h160v-160H400v160Zm0 220h160v-160H400v160ZM180-400h160v-160H180v160Zm440 0h160v-160H620v160ZM180-180h160v-160H180v160Zm440 0h160v-160H620v160Z\"/>\n",
              "  </svg>\n",
              "    </button>\n",
              "\n",
              "  <style>\n",
              "    .colab-df-container {\n",
              "      display:flex;\n",
              "      gap: 12px;\n",
              "    }\n",
              "\n",
              "    .colab-df-convert {\n",
              "      background-color: #E8F0FE;\n",
              "      border: none;\n",
              "      border-radius: 50%;\n",
              "      cursor: pointer;\n",
              "      display: none;\n",
              "      fill: #1967D2;\n",
              "      height: 32px;\n",
              "      padding: 0 0 0 0;\n",
              "      width: 32px;\n",
              "    }\n",
              "\n",
              "    .colab-df-convert:hover {\n",
              "      background-color: #E2EBFA;\n",
              "      box-shadow: 0px 1px 2px rgba(60, 64, 67, 0.3), 0px 1px 3px 1px rgba(60, 64, 67, 0.15);\n",
              "      fill: #174EA6;\n",
              "    }\n",
              "\n",
              "    .colab-df-buttons div {\n",
              "      margin-bottom: 4px;\n",
              "    }\n",
              "\n",
              "    [theme=dark] .colab-df-convert {\n",
              "      background-color: #3B4455;\n",
              "      fill: #D2E3FC;\n",
              "    }\n",
              "\n",
              "    [theme=dark] .colab-df-convert:hover {\n",
              "      background-color: #434B5C;\n",
              "      box-shadow: 0px 1px 3px 1px rgba(0, 0, 0, 0.15);\n",
              "      filter: drop-shadow(0px 1px 2px rgba(0, 0, 0, 0.3));\n",
              "      fill: #FFFFFF;\n",
              "    }\n",
              "  </style>\n",
              "\n",
              "    <script>\n",
              "      const buttonEl =\n",
              "        document.querySelector('#df-9c70413b-8392-44b8-87da-d7877b839f29 button.colab-df-convert');\n",
              "      buttonEl.style.display =\n",
              "        google.colab.kernel.accessAllowed ? 'block' : 'none';\n",
              "\n",
              "      async function convertToInteractive(key) {\n",
              "        const element = document.querySelector('#df-9c70413b-8392-44b8-87da-d7877b839f29');\n",
              "        const dataTable =\n",
              "          await google.colab.kernel.invokeFunction('convertToInteractive',\n",
              "                                                    [key], {});\n",
              "        if (!dataTable) return;\n",
              "\n",
              "        const docLinkHtml = 'Like what you see? Visit the ' +\n",
              "          '<a target=\"_blank\" href=https://colab.research.google.com/notebooks/data_table.ipynb>data table notebook</a>'\n",
              "          + ' to learn more about interactive tables.';\n",
              "        element.innerHTML = '';\n",
              "        dataTable['output_type'] = 'display_data';\n",
              "        await google.colab.output.renderOutput(dataTable, element);\n",
              "        const docLink = document.createElement('div');\n",
              "        docLink.innerHTML = docLinkHtml;\n",
              "        element.appendChild(docLink);\n",
              "      }\n",
              "    </script>\n",
              "  </div>\n",
              "\n",
              "\n",
              "<div id=\"df-bc6fce40-330c-4f15-84f8-826a418410cc\">\n",
              "  <button class=\"colab-df-quickchart\" onclick=\"quickchart('df-bc6fce40-330c-4f15-84f8-826a418410cc')\"\n",
              "            title=\"Suggest charts\"\n",
              "            style=\"display:none;\">\n",
              "\n",
              "<svg xmlns=\"http://www.w3.org/2000/svg\" height=\"24px\"viewBox=\"0 0 24 24\"\n",
              "     width=\"24px\">\n",
              "    <g>\n",
              "        <path d=\"M19 3H5c-1.1 0-2 .9-2 2v14c0 1.1.9 2 2 2h14c1.1 0 2-.9 2-2V5c0-1.1-.9-2-2-2zM9 17H7v-7h2v7zm4 0h-2V7h2v10zm4 0h-2v-4h2v4z\"/>\n",
              "    </g>\n",
              "</svg>\n",
              "  </button>\n",
              "\n",
              "<style>\n",
              "  .colab-df-quickchart {\n",
              "      --bg-color: #E8F0FE;\n",
              "      --fill-color: #1967D2;\n",
              "      --hover-bg-color: #E2EBFA;\n",
              "      --hover-fill-color: #174EA6;\n",
              "      --disabled-fill-color: #AAA;\n",
              "      --disabled-bg-color: #DDD;\n",
              "  }\n",
              "\n",
              "  [theme=dark] .colab-df-quickchart {\n",
              "      --bg-color: #3B4455;\n",
              "      --fill-color: #D2E3FC;\n",
              "      --hover-bg-color: #434B5C;\n",
              "      --hover-fill-color: #FFFFFF;\n",
              "      --disabled-bg-color: #3B4455;\n",
              "      --disabled-fill-color: #666;\n",
              "  }\n",
              "\n",
              "  .colab-df-quickchart {\n",
              "    background-color: var(--bg-color);\n",
              "    border: none;\n",
              "    border-radius: 50%;\n",
              "    cursor: pointer;\n",
              "    display: none;\n",
              "    fill: var(--fill-color);\n",
              "    height: 32px;\n",
              "    padding: 0;\n",
              "    width: 32px;\n",
              "  }\n",
              "\n",
              "  .colab-df-quickchart:hover {\n",
              "    background-color: var(--hover-bg-color);\n",
              "    box-shadow: 0 1px 2px rgba(60, 64, 67, 0.3), 0 1px 3px 1px rgba(60, 64, 67, 0.15);\n",
              "    fill: var(--button-hover-fill-color);\n",
              "  }\n",
              "\n",
              "  .colab-df-quickchart-complete:disabled,\n",
              "  .colab-df-quickchart-complete:disabled:hover {\n",
              "    background-color: var(--disabled-bg-color);\n",
              "    fill: var(--disabled-fill-color);\n",
              "    box-shadow: none;\n",
              "  }\n",
              "\n",
              "  .colab-df-spinner {\n",
              "    border: 2px solid var(--fill-color);\n",
              "    border-color: transparent;\n",
              "    border-bottom-color: var(--fill-color);\n",
              "    animation:\n",
              "      spin 1s steps(1) infinite;\n",
              "  }\n",
              "\n",
              "  @keyframes spin {\n",
              "    0% {\n",
              "      border-color: transparent;\n",
              "      border-bottom-color: var(--fill-color);\n",
              "      border-left-color: var(--fill-color);\n",
              "    }\n",
              "    20% {\n",
              "      border-color: transparent;\n",
              "      border-left-color: var(--fill-color);\n",
              "      border-top-color: var(--fill-color);\n",
              "    }\n",
              "    30% {\n",
              "      border-color: transparent;\n",
              "      border-left-color: var(--fill-color);\n",
              "      border-top-color: var(--fill-color);\n",
              "      border-right-color: var(--fill-color);\n",
              "    }\n",
              "    40% {\n",
              "      border-color: transparent;\n",
              "      border-right-color: var(--fill-color);\n",
              "      border-top-color: var(--fill-color);\n",
              "    }\n",
              "    60% {\n",
              "      border-color: transparent;\n",
              "      border-right-color: var(--fill-color);\n",
              "    }\n",
              "    80% {\n",
              "      border-color: transparent;\n",
              "      border-right-color: var(--fill-color);\n",
              "      border-bottom-color: var(--fill-color);\n",
              "    }\n",
              "    90% {\n",
              "      border-color: transparent;\n",
              "      border-bottom-color: var(--fill-color);\n",
              "    }\n",
              "  }\n",
              "</style>\n",
              "\n",
              "  <script>\n",
              "    async function quickchart(key) {\n",
              "      const quickchartButtonEl =\n",
              "        document.querySelector('#' + key + ' button');\n",
              "      quickchartButtonEl.disabled = true;  // To prevent multiple clicks.\n",
              "      quickchartButtonEl.classList.add('colab-df-spinner');\n",
              "      try {\n",
              "        const charts = await google.colab.kernel.invokeFunction(\n",
              "            'suggestCharts', [key], {});\n",
              "      } catch (error) {\n",
              "        console.error('Error during call to suggestCharts:', error);\n",
              "      }\n",
              "      quickchartButtonEl.classList.remove('colab-df-spinner');\n",
              "      quickchartButtonEl.classList.add('colab-df-quickchart-complete');\n",
              "    }\n",
              "    (() => {\n",
              "      let quickchartButtonEl =\n",
              "        document.querySelector('#df-bc6fce40-330c-4f15-84f8-826a418410cc button');\n",
              "      quickchartButtonEl.style.display =\n",
              "        google.colab.kernel.accessAllowed ? 'block' : 'none';\n",
              "    })();\n",
              "  </script>\n",
              "</div>\n",
              "\n",
              "    </div>\n",
              "  </div>\n"
            ],
            "application/vnd.google.colaboratory.intrinsic+json": {
              "type": "dataframe",
              "variable_name": "df"
            }
          },
          "metadata": {},
          "execution_count": 58
        }
      ],
      "source": [
        "df.head(5)"
      ]
    },
    {
      "cell_type": "code",
      "execution_count": null,
      "metadata": {
        "colab": {
          "base_uri": "https://localhost:8080/"
        },
        "id": "GEhk5pvBRu6y",
        "outputId": "0f471d14-76a8-44eb-d422-9b6cbeee98b7"
      },
      "outputs": [
        {
          "output_type": "execute_result",
          "data": {
            "text/plain": [
              "Index(['Id', 'ProductId', 'UserId', 'ProfileName', 'HelpfulnessNumerator',\n",
              "       'HelpfulnessDenominator', 'Score', 'Time', 'Summary', 'Text'],\n",
              "      dtype='object')"
            ]
          },
          "metadata": {},
          "execution_count": 59
        }
      ],
      "source": [
        "df.columns"
      ]
    },
    {
      "cell_type": "markdown",
      "source": [
        "#### Duplicates reviews"
      ],
      "metadata": {
        "id": "laQVsOVDSRPK"
      }
    },
    {
      "cell_type": "code",
      "execution_count": null,
      "metadata": {
        "colab": {
          "base_uri": "https://localhost:8080/"
        },
        "id": "3BEmJOOKeEm3",
        "outputId": "d93cd49e-f5ba-4aeb-cdfe-39a736400e35"
      },
      "outputs": [
        {
          "output_type": "execute_result",
          "data": {
            "text/plain": [
              "58040"
            ]
          },
          "metadata": {},
          "execution_count": 60
        }
      ],
      "source": [
        "review_counts = df.Text.value_counts()\n",
        "duplicate_reviews = review_counts[review_counts > 1]\n",
        "len(duplicate_reviews)"
      ]
    },
    {
      "cell_type": "markdown",
      "metadata": {
        "id": "vx9vbcYteIEK"
      },
      "source": [
        "We have 58,040 duplicate reviews. Let's see if they have the same User Id."
      ]
    },
    {
      "cell_type": "code",
      "execution_count": null,
      "metadata": {
        "colab": {
          "base_uri": "https://localhost:8080/"
        },
        "id": "G34RiRdpeLmq",
        "outputId": "47197d6a-9dcd-45e0-804a-a97b3bd79cf1"
      },
      "outputs": [
        {
          "output_type": "execute_result",
          "data": {
            "text/plain": [
              "2122"
            ]
          },
          "metadata": {},
          "execution_count": 61
        }
      ],
      "source": [
        "reviews_with_same_userIds = df[df.duplicated(subset=['Text', 'ProductId', 'UserId'], keep=False)]\n",
        "len(reviews_with_same_userIds)"
      ]
    },
    {
      "cell_type": "markdown",
      "metadata": {
        "id": "zLmeUfb9eNqv"
      },
      "source": [
        "Out of the 58,040 duplicates, 2,122 have the same User Id. Let's remove the duplicates after the first from the dataset"
      ]
    },
    {
      "cell_type": "code",
      "execution_count": null,
      "metadata": {
        "colab": {
          "base_uri": "https://localhost:8080/"
        },
        "id": "Zyk5E-zrebSc",
        "outputId": "39bfda15-e4a8-4edc-dcdc-6c0e145df2a4"
      },
      "outputs": [
        {
          "output_type": "execute_result",
          "data": {
            "text/plain": [
              "(567145, 10)"
            ]
          },
          "metadata": {},
          "execution_count": 62
        }
      ],
      "source": [
        "df = df.drop_duplicates(subset=['Text', 'ProductId', 'UserId'], keep='first')\n",
        "df.shape"
      ]
    },
    {
      "cell_type": "markdown",
      "metadata": {
        "id": "i1kLgT9Aefzi"
      },
      "source": [
        "Let's also review how many of the duplicate reviews are over 100 words :"
      ]
    },
    {
      "cell_type": "code",
      "execution_count": null,
      "metadata": {
        "colab": {
          "base_uri": "https://localhost:8080/"
        },
        "id": "HAP83j_Yegw6",
        "outputId": "006183b0-b12a-4852-8c85-f713cacb0add"
      },
      "outputs": [
        {
          "output_type": "execute_result",
          "data": {
            "text/plain": [
              "14188"
            ]
          },
          "metadata": {},
          "execution_count": 63
        }
      ],
      "source": [
        "review_counts = df.Text.value_counts()\n",
        "duplicate_reviews = review_counts[review_counts > 1]\n",
        "duplicate_reviews = pd.Series(duplicate_reviews.index)\n",
        "duplicates_with_over_100_words = duplicate_reviews.apply(lambda x: len(x.split()) > 100)\n",
        "duplicates_with_over_100_words.sum()"
      ]
    },
    {
      "cell_type": "code",
      "execution_count": null,
      "metadata": {
        "colab": {
          "base_uri": "https://localhost:8080/",
          "height": 1000
        },
        "id": "pyAy2z9hiV4Z",
        "outputId": "3ed5764a-8f13-40f4-f6f0-1e897f59a32e"
      },
      "outputs": [
        {
          "output_type": "execute_result",
          "data": {
            "text/plain": [
              "            Id   ProductId          UserId ProfileName HelpfulnessNumerator  \\\n",
              "10836    10837  B0034KP00S  A1TMAVN4CEM8U8      Gunner                    1   \n",
              "11237    11238  B001KVPC0G  A1TMAVN4CEM8U8      Gunner                    0   \n",
              "25447    25448  B0051TPWUI  A1TMAVN4CEM8U8      Gunner                    1   \n",
              "43460    43461  B001EQ4P2I  A1TMAVN4CEM8U8      Gunner                    0   \n",
              "43671    43672  B0049ZCF9G  A1TMAVN4CEM8U8      Gunner                    1   \n",
              "51470    51471  B004HOLD92  A1TMAVN4CEM8U8      Gunner                    0   \n",
              "51754    51755  B0034KN2KS  A1TMAVN4CEM8U8      Gunner                    0   \n",
              "56016    56017  B004HONIMC  A1TMAVN4CEM8U8      Gunner                    0   \n",
              "74233    74234  B00473PNGW  A1TMAVN4CEM8U8      Gunner                    0   \n",
              "78118    78119  B004MC0CNW  A1TMAVN4CEM8U8      Gunner                    1   \n",
              "81451    81452  B001EQ4RBM  A1TMAVN4CEM8U8      Gunner                    0   \n",
              "96130    96131  B004HOLD4W  A1TMAVN4CEM8U8      Gunner                    0   \n",
              "105289  105290  B001EQ4QJK  A1TMAVN4CEM8U8      Gunner                    0   \n",
              "130312  130313  B001KVPBS4  A1TMAVN4CEM8U8      Gunner                    0   \n",
              "134889  134890  B004HOQE64  A1TMAVN4CEM8U8      Gunner                    0   \n",
              "158860  158861  B001TH4C2A  A1TMAVN4CEM8U8      Gunner                    1   \n",
              "160271  160272  B002RSG8AE  A1TMAVN4CEM8U8      Gunner                    0   \n",
              "195113  195114  B0049Z5OSK  A1TMAVN4CEM8U8      Gunner                    1   \n",
              "220071  220072  B004HOSG0Q  A1TMAVN4CEM8U8      Gunner                    2   \n",
              "220221  220222  B0051TPWG2  A1TMAVN4CEM8U8      Gunner                    3   \n",
              "220900  220901  B000ZSZ5QQ  A1TMAVN4CEM8U8      Gunner                    1   \n",
              "221927  221928  B0049Z9ANU  A1TMAVN4CEM8U8      Gunner                    1   \n",
              "225030  225031  B001LNTY70  A1TMAVN4CEM8U8      Gunner                    0   \n",
              "229922  229923  B000ZSX4GE  A1TMAVN4CEM8U8      Gunner                    1   \n",
              "255430  255431  B003VDC3AI  A1TMAVN4CEM8U8      Gunner                    0   \n",
              "307039  307040  B004HOOZEW  A1TMAVN4CEM8U8      Gunner                    0   \n",
              "340295  340296  B006PGVJOO  A1TMAVN4CEM8U8      Gunner                    0   \n",
              "347849  347850  B000ZT15EQ  A1TMAVN4CEM8U8      Gunner                    1   \n",
              "351058  351059  B0034KN29O  A1TMAVN4CEM8U8      Gunner                    1   \n",
              "352609  352610  B004HOQDK6  A1TMAVN4CEM8U8      Gunner                    0   \n",
              "370159  370160  B000ZSZ5S4  A1TMAVN4CEM8U8      Gunner                    0   \n",
              "439613  439614  B000ZSX4D2  A1TMAVN4CEM8U8      Gunner                    0   \n",
              "446352  446353  B004051AUU  A1TMAVN4CEM8U8      Gunner                    0   \n",
              "450160  450161  B004HOLDH4  A1TMAVN4CEM8U8      Gunner                    0   \n",
              "450725  450726  B0043H148S  A1TMAVN4CEM8U8      Gunner                    0   \n",
              "483041  483042  B002AWXELI  A1TMAVN4CEM8U8      Gunner                    0   \n",
              "491214  491215  B008114GDW  A1TMAVN4CEM8U8      Gunner                    1   \n",
              "513327  513328  B004HOLD60  A1TMAVN4CEM8U8      Gunner                    0   \n",
              "558404  558405  B001KVPC8I  A1TMAVN4CEM8U8      Gunner                    0   \n",
              "562161  562162  B004HOSGWE  A1TMAVN4CEM8U8      Gunner                    0   \n",
              "\n",
              "       HelpfulnessDenominator Score        Time  \\\n",
              "10836                       1     5  1331251200   \n",
              "11237                       1     5  1332288000   \n",
              "25447                       1     5  1331251200   \n",
              "43460                       0     5  1336348800   \n",
              "43671                       1     5  1331251200   \n",
              "51470                       0     5  1336348800   \n",
              "51754                       0     5  1336348800   \n",
              "56016                       1     5  1332288000   \n",
              "74233                       0     5  1336348800   \n",
              "78118                       1     5  1331251200   \n",
              "81451                       0     5  1336348800   \n",
              "96130                       0     5  1336348800   \n",
              "105289                      0     5  1336348800   \n",
              "130312                      0     5  1336348800   \n",
              "134889                      0     5  1336348800   \n",
              "158860                      1     5  1331251200   \n",
              "160271                      0     5  1331251200   \n",
              "195113                      1     5  1331251200   \n",
              "220071                      3     5  1336348800   \n",
              "220221                      3     5  1332115200   \n",
              "220900                      1     5  1336348800   \n",
              "221927                      1     5  1331251200   \n",
              "225030                      0     5  1336348800   \n",
              "229922                      1     5  1331251200   \n",
              "255430                      0     5  1335052800   \n",
              "307039                      0     5  1336348800   \n",
              "340295                      0     5  1336348800   \n",
              "347849                      1     5  1331251200   \n",
              "351058                      1     5  1331251200   \n",
              "352609                      1     5  1332288000   \n",
              "370159                      0     5  1336348800   \n",
              "439613                      1     5  1332288000   \n",
              "446352                      0     5  1336348800   \n",
              "450160                      1     5  1332288000   \n",
              "450725                      0     5  1336348800   \n",
              "483041                      0     5  1336348800   \n",
              "491214                      1     5  1331251200   \n",
              "513327                      0     5  1336348800   \n",
              "558404                      1     5  1332288000   \n",
              "562161                      0     5  1336348800   \n",
              "\n",
              "                                           Summary  \\\n",
              "10836                       My 3rd favorite flavor   \n",
              "11237                        I prefer the flavored   \n",
              "25447                       My 3rd favorite flavor   \n",
              "43460                       My 7th favorite flavor   \n",
              "43671                       My 3rd favorite flavor   \n",
              "51470                       My 7th favorite flavor   \n",
              "51754                        I prefer the flavored   \n",
              "56016                        I prefer the flavored   \n",
              "74233                       My 9th favorite flavor   \n",
              "78118                       My 3rd favorite flavor   \n",
              "81451                       My 7th favorite flavor   \n",
              "96130                       My 7th favorite flavor   \n",
              "105289                      My 7th favorite flavor   \n",
              "130312                      My 7th favorite flavor   \n",
              "134889                      My 7th favorite flavor   \n",
              "158860                      My 3rd favorite flavor   \n",
              "160271                      My 7th favorite flavor   \n",
              "195113                      My 3rd favorite flavor   \n",
              "220071                       I prefer the flavored   \n",
              "220221                          My 2nd best flavor   \n",
              "220900                       I prefer the flavored   \n",
              "221927                      My 3rd favorite flavor   \n",
              "225030                      My 7th favorite flavor   \n",
              "229922                      My 3rd favorite flavor   \n",
              "255430                      My 2nd favorite flavor   \n",
              "307039                      My 7th favorite flavor   \n",
              "340295                      My 9th favorite flavor   \n",
              "347849                      My 3rd favorite flavor   \n",
              "351058                      My 3rd favorite flavor   \n",
              "352609                       I prefer the flavored   \n",
              "370159                      My 7th favorite flavor   \n",
              "439613                       I prefer the flavored   \n",
              "446352                        Buy a larger package   \n",
              "450160                       I prefer the flavored   \n",
              "450725  I prefer the flavored and larger packaging   \n",
              "483041                      My 8th favorite flavor   \n",
              "491214                      My 3rd favorite flavor   \n",
              "513327                      My 7th favorite flavor   \n",
              "558404                       I prefer the flavored   \n",
              "562161                      My 7th favorite flavor   \n",
              "\n",
              "                                                     Text  \n",
              "10836   Diamond Almonds<br />Almonds are a good source...  \n",
              "11237   Diamond Almonds<br />Almonds are a good source...  \n",
              "25447   Diamond Almonds<br />Almonds are a good source...  \n",
              "43460   Diamond Almonds<br />Almonds are a good source...  \n",
              "43671   Diamond Almonds<br />Almonds are a good source...  \n",
              "51470   Diamond Almonds<br />Almonds are a good source...  \n",
              "51754   Diamond Almonds<br />Almonds are a good source...  \n",
              "56016   Diamond Almonds<br />Almonds are a good source...  \n",
              "74233   Diamond Almonds<br />Almonds are a good source...  \n",
              "78118   Diamond Almonds<br />Almonds are a good source...  \n",
              "81451   Diamond Almonds<br />Almonds are a good source...  \n",
              "96130   Diamond Almonds<br />Almonds are a good source...  \n",
              "105289  Diamond Almonds<br />Almonds are a good source...  \n",
              "130312  Diamond Almonds<br />Almonds are a good source...  \n",
              "134889  Diamond Almonds<br />Almonds are a good source...  \n",
              "158860  Diamond Almonds<br />Almonds are a good source...  \n",
              "160271  Diamond Almonds<br />Almonds are a good source...  \n",
              "195113  Diamond Almonds<br />Almonds are a good source...  \n",
              "220071  Diamond Almonds<br />Almonds are a good source...  \n",
              "220221  Diamond Almonds<br />Almonds are a good source...  \n",
              "220900  Diamond Almonds<br />Almonds are a good source...  \n",
              "221927  Diamond Almonds<br />Almonds are a good source...  \n",
              "225030  Diamond Almonds<br />Almonds are a good source...  \n",
              "229922  Diamond Almonds<br />Almonds are a good source...  \n",
              "255430  Diamond Almonds<br />Almonds are a good source...  \n",
              "307039  Diamond Almonds<br />Almonds are a good source...  \n",
              "340295  Diamond Almonds<br />Almonds are a good source...  \n",
              "347849  Diamond Almonds<br />Almonds are a good source...  \n",
              "351058  Diamond Almonds<br />Almonds are a good source...  \n",
              "352609  Diamond Almonds<br />Almonds are a good source...  \n",
              "370159  Diamond Almonds<br />Almonds are a good source...  \n",
              "439613  Diamond Almonds<br />Almonds are a good source...  \n",
              "446352  Diamond Almonds<br />Almonds are a good source...  \n",
              "450160  Diamond Almonds<br />Almonds are a good source...  \n",
              "450725  Diamond Almonds<br />Almonds are a good source...  \n",
              "483041  Diamond Almonds<br />Almonds are a good source...  \n",
              "491214  Diamond Almonds<br />Almonds are a good source...  \n",
              "513327  Diamond Almonds<br />Almonds are a good source...  \n",
              "558404  Diamond Almonds<br />Almonds are a good source...  \n",
              "562161  Diamond Almonds<br />Almonds are a good source...  "
            ],
            "text/html": [
              "\n",
              "  <div id=\"df-20690308-865f-49fd-b011-27dddbc8fe8a\" class=\"colab-df-container\">\n",
              "    <div>\n",
              "<style scoped>\n",
              "    .dataframe tbody tr th:only-of-type {\n",
              "        vertical-align: middle;\n",
              "    }\n",
              "\n",
              "    .dataframe tbody tr th {\n",
              "        vertical-align: top;\n",
              "    }\n",
              "\n",
              "    .dataframe thead th {\n",
              "        text-align: right;\n",
              "    }\n",
              "</style>\n",
              "<table border=\"1\" class=\"dataframe\">\n",
              "  <thead>\n",
              "    <tr style=\"text-align: right;\">\n",
              "      <th></th>\n",
              "      <th>Id</th>\n",
              "      <th>ProductId</th>\n",
              "      <th>UserId</th>\n",
              "      <th>ProfileName</th>\n",
              "      <th>HelpfulnessNumerator</th>\n",
              "      <th>HelpfulnessDenominator</th>\n",
              "      <th>Score</th>\n",
              "      <th>Time</th>\n",
              "      <th>Summary</th>\n",
              "      <th>Text</th>\n",
              "    </tr>\n",
              "  </thead>\n",
              "  <tbody>\n",
              "    <tr>\n",
              "      <th>10836</th>\n",
              "      <td>10837</td>\n",
              "      <td>B0034KP00S</td>\n",
              "      <td>A1TMAVN4CEM8U8</td>\n",
              "      <td>Gunner</td>\n",
              "      <td>1</td>\n",
              "      <td>1</td>\n",
              "      <td>5</td>\n",
              "      <td>1331251200</td>\n",
              "      <td>My 3rd favorite flavor</td>\n",
              "      <td>Diamond Almonds&lt;br /&gt;Almonds are a good source...</td>\n",
              "    </tr>\n",
              "    <tr>\n",
              "      <th>11237</th>\n",
              "      <td>11238</td>\n",
              "      <td>B001KVPC0G</td>\n",
              "      <td>A1TMAVN4CEM8U8</td>\n",
              "      <td>Gunner</td>\n",
              "      <td>0</td>\n",
              "      <td>1</td>\n",
              "      <td>5</td>\n",
              "      <td>1332288000</td>\n",
              "      <td>I prefer the flavored</td>\n",
              "      <td>Diamond Almonds&lt;br /&gt;Almonds are a good source...</td>\n",
              "    </tr>\n",
              "    <tr>\n",
              "      <th>25447</th>\n",
              "      <td>25448</td>\n",
              "      <td>B0051TPWUI</td>\n",
              "      <td>A1TMAVN4CEM8U8</td>\n",
              "      <td>Gunner</td>\n",
              "      <td>1</td>\n",
              "      <td>1</td>\n",
              "      <td>5</td>\n",
              "      <td>1331251200</td>\n",
              "      <td>My 3rd favorite flavor</td>\n",
              "      <td>Diamond Almonds&lt;br /&gt;Almonds are a good source...</td>\n",
              "    </tr>\n",
              "    <tr>\n",
              "      <th>43460</th>\n",
              "      <td>43461</td>\n",
              "      <td>B001EQ4P2I</td>\n",
              "      <td>A1TMAVN4CEM8U8</td>\n",
              "      <td>Gunner</td>\n",
              "      <td>0</td>\n",
              "      <td>0</td>\n",
              "      <td>5</td>\n",
              "      <td>1336348800</td>\n",
              "      <td>My 7th favorite flavor</td>\n",
              "      <td>Diamond Almonds&lt;br /&gt;Almonds are a good source...</td>\n",
              "    </tr>\n",
              "    <tr>\n",
              "      <th>43671</th>\n",
              "      <td>43672</td>\n",
              "      <td>B0049ZCF9G</td>\n",
              "      <td>A1TMAVN4CEM8U8</td>\n",
              "      <td>Gunner</td>\n",
              "      <td>1</td>\n",
              "      <td>1</td>\n",
              "      <td>5</td>\n",
              "      <td>1331251200</td>\n",
              "      <td>My 3rd favorite flavor</td>\n",
              "      <td>Diamond Almonds&lt;br /&gt;Almonds are a good source...</td>\n",
              "    </tr>\n",
              "    <tr>\n",
              "      <th>51470</th>\n",
              "      <td>51471</td>\n",
              "      <td>B004HOLD92</td>\n",
              "      <td>A1TMAVN4CEM8U8</td>\n",
              "      <td>Gunner</td>\n",
              "      <td>0</td>\n",
              "      <td>0</td>\n",
              "      <td>5</td>\n",
              "      <td>1336348800</td>\n",
              "      <td>My 7th favorite flavor</td>\n",
              "      <td>Diamond Almonds&lt;br /&gt;Almonds are a good source...</td>\n",
              "    </tr>\n",
              "    <tr>\n",
              "      <th>51754</th>\n",
              "      <td>51755</td>\n",
              "      <td>B0034KN2KS</td>\n",
              "      <td>A1TMAVN4CEM8U8</td>\n",
              "      <td>Gunner</td>\n",
              "      <td>0</td>\n",
              "      <td>0</td>\n",
              "      <td>5</td>\n",
              "      <td>1336348800</td>\n",
              "      <td>I prefer the flavored</td>\n",
              "      <td>Diamond Almonds&lt;br /&gt;Almonds are a good source...</td>\n",
              "    </tr>\n",
              "    <tr>\n",
              "      <th>56016</th>\n",
              "      <td>56017</td>\n",
              "      <td>B004HONIMC</td>\n",
              "      <td>A1TMAVN4CEM8U8</td>\n",
              "      <td>Gunner</td>\n",
              "      <td>0</td>\n",
              "      <td>1</td>\n",
              "      <td>5</td>\n",
              "      <td>1332288000</td>\n",
              "      <td>I prefer the flavored</td>\n",
              "      <td>Diamond Almonds&lt;br /&gt;Almonds are a good source...</td>\n",
              "    </tr>\n",
              "    <tr>\n",
              "      <th>74233</th>\n",
              "      <td>74234</td>\n",
              "      <td>B00473PNGW</td>\n",
              "      <td>A1TMAVN4CEM8U8</td>\n",
              "      <td>Gunner</td>\n",
              "      <td>0</td>\n",
              "      <td>0</td>\n",
              "      <td>5</td>\n",
              "      <td>1336348800</td>\n",
              "      <td>My 9th favorite flavor</td>\n",
              "      <td>Diamond Almonds&lt;br /&gt;Almonds are a good source...</td>\n",
              "    </tr>\n",
              "    <tr>\n",
              "      <th>78118</th>\n",
              "      <td>78119</td>\n",
              "      <td>B004MC0CNW</td>\n",
              "      <td>A1TMAVN4CEM8U8</td>\n",
              "      <td>Gunner</td>\n",
              "      <td>1</td>\n",
              "      <td>1</td>\n",
              "      <td>5</td>\n",
              "      <td>1331251200</td>\n",
              "      <td>My 3rd favorite flavor</td>\n",
              "      <td>Diamond Almonds&lt;br /&gt;Almonds are a good source...</td>\n",
              "    </tr>\n",
              "    <tr>\n",
              "      <th>81451</th>\n",
              "      <td>81452</td>\n",
              "      <td>B001EQ4RBM</td>\n",
              "      <td>A1TMAVN4CEM8U8</td>\n",
              "      <td>Gunner</td>\n",
              "      <td>0</td>\n",
              "      <td>0</td>\n",
              "      <td>5</td>\n",
              "      <td>1336348800</td>\n",
              "      <td>My 7th favorite flavor</td>\n",
              "      <td>Diamond Almonds&lt;br /&gt;Almonds are a good source...</td>\n",
              "    </tr>\n",
              "    <tr>\n",
              "      <th>96130</th>\n",
              "      <td>96131</td>\n",
              "      <td>B004HOLD4W</td>\n",
              "      <td>A1TMAVN4CEM8U8</td>\n",
              "      <td>Gunner</td>\n",
              "      <td>0</td>\n",
              "      <td>0</td>\n",
              "      <td>5</td>\n",
              "      <td>1336348800</td>\n",
              "      <td>My 7th favorite flavor</td>\n",
              "      <td>Diamond Almonds&lt;br /&gt;Almonds are a good source...</td>\n",
              "    </tr>\n",
              "    <tr>\n",
              "      <th>105289</th>\n",
              "      <td>105290</td>\n",
              "      <td>B001EQ4QJK</td>\n",
              "      <td>A1TMAVN4CEM8U8</td>\n",
              "      <td>Gunner</td>\n",
              "      <td>0</td>\n",
              "      <td>0</td>\n",
              "      <td>5</td>\n",
              "      <td>1336348800</td>\n",
              "      <td>My 7th favorite flavor</td>\n",
              "      <td>Diamond Almonds&lt;br /&gt;Almonds are a good source...</td>\n",
              "    </tr>\n",
              "    <tr>\n",
              "      <th>130312</th>\n",
              "      <td>130313</td>\n",
              "      <td>B001KVPBS4</td>\n",
              "      <td>A1TMAVN4CEM8U8</td>\n",
              "      <td>Gunner</td>\n",
              "      <td>0</td>\n",
              "      <td>0</td>\n",
              "      <td>5</td>\n",
              "      <td>1336348800</td>\n",
              "      <td>My 7th favorite flavor</td>\n",
              "      <td>Diamond Almonds&lt;br /&gt;Almonds are a good source...</td>\n",
              "    </tr>\n",
              "    <tr>\n",
              "      <th>134889</th>\n",
              "      <td>134890</td>\n",
              "      <td>B004HOQE64</td>\n",
              "      <td>A1TMAVN4CEM8U8</td>\n",
              "      <td>Gunner</td>\n",
              "      <td>0</td>\n",
              "      <td>0</td>\n",
              "      <td>5</td>\n",
              "      <td>1336348800</td>\n",
              "      <td>My 7th favorite flavor</td>\n",
              "      <td>Diamond Almonds&lt;br /&gt;Almonds are a good source...</td>\n",
              "    </tr>\n",
              "    <tr>\n",
              "      <th>158860</th>\n",
              "      <td>158861</td>\n",
              "      <td>B001TH4C2A</td>\n",
              "      <td>A1TMAVN4CEM8U8</td>\n",
              "      <td>Gunner</td>\n",
              "      <td>1</td>\n",
              "      <td>1</td>\n",
              "      <td>5</td>\n",
              "      <td>1331251200</td>\n",
              "      <td>My 3rd favorite flavor</td>\n",
              "      <td>Diamond Almonds&lt;br /&gt;Almonds are a good source...</td>\n",
              "    </tr>\n",
              "    <tr>\n",
              "      <th>160271</th>\n",
              "      <td>160272</td>\n",
              "      <td>B002RSG8AE</td>\n",
              "      <td>A1TMAVN4CEM8U8</td>\n",
              "      <td>Gunner</td>\n",
              "      <td>0</td>\n",
              "      <td>0</td>\n",
              "      <td>5</td>\n",
              "      <td>1331251200</td>\n",
              "      <td>My 7th favorite flavor</td>\n",
              "      <td>Diamond Almonds&lt;br /&gt;Almonds are a good source...</td>\n",
              "    </tr>\n",
              "    <tr>\n",
              "      <th>195113</th>\n",
              "      <td>195114</td>\n",
              "      <td>B0049Z5OSK</td>\n",
              "      <td>A1TMAVN4CEM8U8</td>\n",
              "      <td>Gunner</td>\n",
              "      <td>1</td>\n",
              "      <td>1</td>\n",
              "      <td>5</td>\n",
              "      <td>1331251200</td>\n",
              "      <td>My 3rd favorite flavor</td>\n",
              "      <td>Diamond Almonds&lt;br /&gt;Almonds are a good source...</td>\n",
              "    </tr>\n",
              "    <tr>\n",
              "      <th>220071</th>\n",
              "      <td>220072</td>\n",
              "      <td>B004HOSG0Q</td>\n",
              "      <td>A1TMAVN4CEM8U8</td>\n",
              "      <td>Gunner</td>\n",
              "      <td>2</td>\n",
              "      <td>3</td>\n",
              "      <td>5</td>\n",
              "      <td>1336348800</td>\n",
              "      <td>I prefer the flavored</td>\n",
              "      <td>Diamond Almonds&lt;br /&gt;Almonds are a good source...</td>\n",
              "    </tr>\n",
              "    <tr>\n",
              "      <th>220221</th>\n",
              "      <td>220222</td>\n",
              "      <td>B0051TPWG2</td>\n",
              "      <td>A1TMAVN4CEM8U8</td>\n",
              "      <td>Gunner</td>\n",
              "      <td>3</td>\n",
              "      <td>3</td>\n",
              "      <td>5</td>\n",
              "      <td>1332115200</td>\n",
              "      <td>My 2nd best flavor</td>\n",
              "      <td>Diamond Almonds&lt;br /&gt;Almonds are a good source...</td>\n",
              "    </tr>\n",
              "    <tr>\n",
              "      <th>220900</th>\n",
              "      <td>220901</td>\n",
              "      <td>B000ZSZ5QQ</td>\n",
              "      <td>A1TMAVN4CEM8U8</td>\n",
              "      <td>Gunner</td>\n",
              "      <td>1</td>\n",
              "      <td>1</td>\n",
              "      <td>5</td>\n",
              "      <td>1336348800</td>\n",
              "      <td>I prefer the flavored</td>\n",
              "      <td>Diamond Almonds&lt;br /&gt;Almonds are a good source...</td>\n",
              "    </tr>\n",
              "    <tr>\n",
              "      <th>221927</th>\n",
              "      <td>221928</td>\n",
              "      <td>B0049Z9ANU</td>\n",
              "      <td>A1TMAVN4CEM8U8</td>\n",
              "      <td>Gunner</td>\n",
              "      <td>1</td>\n",
              "      <td>1</td>\n",
              "      <td>5</td>\n",
              "      <td>1331251200</td>\n",
              "      <td>My 3rd favorite flavor</td>\n",
              "      <td>Diamond Almonds&lt;br /&gt;Almonds are a good source...</td>\n",
              "    </tr>\n",
              "    <tr>\n",
              "      <th>225030</th>\n",
              "      <td>225031</td>\n",
              "      <td>B001LNTY70</td>\n",
              "      <td>A1TMAVN4CEM8U8</td>\n",
              "      <td>Gunner</td>\n",
              "      <td>0</td>\n",
              "      <td>0</td>\n",
              "      <td>5</td>\n",
              "      <td>1336348800</td>\n",
              "      <td>My 7th favorite flavor</td>\n",
              "      <td>Diamond Almonds&lt;br /&gt;Almonds are a good source...</td>\n",
              "    </tr>\n",
              "    <tr>\n",
              "      <th>229922</th>\n",
              "      <td>229923</td>\n",
              "      <td>B000ZSX4GE</td>\n",
              "      <td>A1TMAVN4CEM8U8</td>\n",
              "      <td>Gunner</td>\n",
              "      <td>1</td>\n",
              "      <td>1</td>\n",
              "      <td>5</td>\n",
              "      <td>1331251200</td>\n",
              "      <td>My 3rd favorite flavor</td>\n",
              "      <td>Diamond Almonds&lt;br /&gt;Almonds are a good source...</td>\n",
              "    </tr>\n",
              "    <tr>\n",
              "      <th>255430</th>\n",
              "      <td>255431</td>\n",
              "      <td>B003VDC3AI</td>\n",
              "      <td>A1TMAVN4CEM8U8</td>\n",
              "      <td>Gunner</td>\n",
              "      <td>0</td>\n",
              "      <td>0</td>\n",
              "      <td>5</td>\n",
              "      <td>1335052800</td>\n",
              "      <td>My 2nd favorite flavor</td>\n",
              "      <td>Diamond Almonds&lt;br /&gt;Almonds are a good source...</td>\n",
              "    </tr>\n",
              "    <tr>\n",
              "      <th>307039</th>\n",
              "      <td>307040</td>\n",
              "      <td>B004HOOZEW</td>\n",
              "      <td>A1TMAVN4CEM8U8</td>\n",
              "      <td>Gunner</td>\n",
              "      <td>0</td>\n",
              "      <td>0</td>\n",
              "      <td>5</td>\n",
              "      <td>1336348800</td>\n",
              "      <td>My 7th favorite flavor</td>\n",
              "      <td>Diamond Almonds&lt;br /&gt;Almonds are a good source...</td>\n",
              "    </tr>\n",
              "    <tr>\n",
              "      <th>340295</th>\n",
              "      <td>340296</td>\n",
              "      <td>B006PGVJOO</td>\n",
              "      <td>A1TMAVN4CEM8U8</td>\n",
              "      <td>Gunner</td>\n",
              "      <td>0</td>\n",
              "      <td>0</td>\n",
              "      <td>5</td>\n",
              "      <td>1336348800</td>\n",
              "      <td>My 9th favorite flavor</td>\n",
              "      <td>Diamond Almonds&lt;br /&gt;Almonds are a good source...</td>\n",
              "    </tr>\n",
              "    <tr>\n",
              "      <th>347849</th>\n",
              "      <td>347850</td>\n",
              "      <td>B000ZT15EQ</td>\n",
              "      <td>A1TMAVN4CEM8U8</td>\n",
              "      <td>Gunner</td>\n",
              "      <td>1</td>\n",
              "      <td>1</td>\n",
              "      <td>5</td>\n",
              "      <td>1331251200</td>\n",
              "      <td>My 3rd favorite flavor</td>\n",
              "      <td>Diamond Almonds&lt;br /&gt;Almonds are a good source...</td>\n",
              "    </tr>\n",
              "    <tr>\n",
              "      <th>351058</th>\n",
              "      <td>351059</td>\n",
              "      <td>B0034KN29O</td>\n",
              "      <td>A1TMAVN4CEM8U8</td>\n",
              "      <td>Gunner</td>\n",
              "      <td>1</td>\n",
              "      <td>1</td>\n",
              "      <td>5</td>\n",
              "      <td>1331251200</td>\n",
              "      <td>My 3rd favorite flavor</td>\n",
              "      <td>Diamond Almonds&lt;br /&gt;Almonds are a good source...</td>\n",
              "    </tr>\n",
              "    <tr>\n",
              "      <th>352609</th>\n",
              "      <td>352610</td>\n",
              "      <td>B004HOQDK6</td>\n",
              "      <td>A1TMAVN4CEM8U8</td>\n",
              "      <td>Gunner</td>\n",
              "      <td>0</td>\n",
              "      <td>1</td>\n",
              "      <td>5</td>\n",
              "      <td>1332288000</td>\n",
              "      <td>I prefer the flavored</td>\n",
              "      <td>Diamond Almonds&lt;br /&gt;Almonds are a good source...</td>\n",
              "    </tr>\n",
              "    <tr>\n",
              "      <th>370159</th>\n",
              "      <td>370160</td>\n",
              "      <td>B000ZSZ5S4</td>\n",
              "      <td>A1TMAVN4CEM8U8</td>\n",
              "      <td>Gunner</td>\n",
              "      <td>0</td>\n",
              "      <td>0</td>\n",
              "      <td>5</td>\n",
              "      <td>1336348800</td>\n",
              "      <td>My 7th favorite flavor</td>\n",
              "      <td>Diamond Almonds&lt;br /&gt;Almonds are a good source...</td>\n",
              "    </tr>\n",
              "    <tr>\n",
              "      <th>439613</th>\n",
              "      <td>439614</td>\n",
              "      <td>B000ZSX4D2</td>\n",
              "      <td>A1TMAVN4CEM8U8</td>\n",
              "      <td>Gunner</td>\n",
              "      <td>0</td>\n",
              "      <td>1</td>\n",
              "      <td>5</td>\n",
              "      <td>1332288000</td>\n",
              "      <td>I prefer the flavored</td>\n",
              "      <td>Diamond Almonds&lt;br /&gt;Almonds are a good source...</td>\n",
              "    </tr>\n",
              "    <tr>\n",
              "      <th>446352</th>\n",
              "      <td>446353</td>\n",
              "      <td>B004051AUU</td>\n",
              "      <td>A1TMAVN4CEM8U8</td>\n",
              "      <td>Gunner</td>\n",
              "      <td>0</td>\n",
              "      <td>0</td>\n",
              "      <td>5</td>\n",
              "      <td>1336348800</td>\n",
              "      <td>Buy a larger package</td>\n",
              "      <td>Diamond Almonds&lt;br /&gt;Almonds are a good source...</td>\n",
              "    </tr>\n",
              "    <tr>\n",
              "      <th>450160</th>\n",
              "      <td>450161</td>\n",
              "      <td>B004HOLDH4</td>\n",
              "      <td>A1TMAVN4CEM8U8</td>\n",
              "      <td>Gunner</td>\n",
              "      <td>0</td>\n",
              "      <td>1</td>\n",
              "      <td>5</td>\n",
              "      <td>1332288000</td>\n",
              "      <td>I prefer the flavored</td>\n",
              "      <td>Diamond Almonds&lt;br /&gt;Almonds are a good source...</td>\n",
              "    </tr>\n",
              "    <tr>\n",
              "      <th>450725</th>\n",
              "      <td>450726</td>\n",
              "      <td>B0043H148S</td>\n",
              "      <td>A1TMAVN4CEM8U8</td>\n",
              "      <td>Gunner</td>\n",
              "      <td>0</td>\n",
              "      <td>0</td>\n",
              "      <td>5</td>\n",
              "      <td>1336348800</td>\n",
              "      <td>I prefer the flavored and larger packaging</td>\n",
              "      <td>Diamond Almonds&lt;br /&gt;Almonds are a good source...</td>\n",
              "    </tr>\n",
              "    <tr>\n",
              "      <th>483041</th>\n",
              "      <td>483042</td>\n",
              "      <td>B002AWXELI</td>\n",
              "      <td>A1TMAVN4CEM8U8</td>\n",
              "      <td>Gunner</td>\n",
              "      <td>0</td>\n",
              "      <td>0</td>\n",
              "      <td>5</td>\n",
              "      <td>1336348800</td>\n",
              "      <td>My 8th favorite flavor</td>\n",
              "      <td>Diamond Almonds&lt;br /&gt;Almonds are a good source...</td>\n",
              "    </tr>\n",
              "    <tr>\n",
              "      <th>491214</th>\n",
              "      <td>491215</td>\n",
              "      <td>B008114GDW</td>\n",
              "      <td>A1TMAVN4CEM8U8</td>\n",
              "      <td>Gunner</td>\n",
              "      <td>1</td>\n",
              "      <td>1</td>\n",
              "      <td>5</td>\n",
              "      <td>1331251200</td>\n",
              "      <td>My 3rd favorite flavor</td>\n",
              "      <td>Diamond Almonds&lt;br /&gt;Almonds are a good source...</td>\n",
              "    </tr>\n",
              "    <tr>\n",
              "      <th>513327</th>\n",
              "      <td>513328</td>\n",
              "      <td>B004HOLD60</td>\n",
              "      <td>A1TMAVN4CEM8U8</td>\n",
              "      <td>Gunner</td>\n",
              "      <td>0</td>\n",
              "      <td>0</td>\n",
              "      <td>5</td>\n",
              "      <td>1336348800</td>\n",
              "      <td>My 7th favorite flavor</td>\n",
              "      <td>Diamond Almonds&lt;br /&gt;Almonds are a good source...</td>\n",
              "    </tr>\n",
              "    <tr>\n",
              "      <th>558404</th>\n",
              "      <td>558405</td>\n",
              "      <td>B001KVPC8I</td>\n",
              "      <td>A1TMAVN4CEM8U8</td>\n",
              "      <td>Gunner</td>\n",
              "      <td>0</td>\n",
              "      <td>1</td>\n",
              "      <td>5</td>\n",
              "      <td>1332288000</td>\n",
              "      <td>I prefer the flavored</td>\n",
              "      <td>Diamond Almonds&lt;br /&gt;Almonds are a good source...</td>\n",
              "    </tr>\n",
              "    <tr>\n",
              "      <th>562161</th>\n",
              "      <td>562162</td>\n",
              "      <td>B004HOSGWE</td>\n",
              "      <td>A1TMAVN4CEM8U8</td>\n",
              "      <td>Gunner</td>\n",
              "      <td>0</td>\n",
              "      <td>0</td>\n",
              "      <td>5</td>\n",
              "      <td>1336348800</td>\n",
              "      <td>My 7th favorite flavor</td>\n",
              "      <td>Diamond Almonds&lt;br /&gt;Almonds are a good source...</td>\n",
              "    </tr>\n",
              "  </tbody>\n",
              "</table>\n",
              "</div>\n",
              "    <div class=\"colab-df-buttons\">\n",
              "\n",
              "  <div class=\"colab-df-container\">\n",
              "    <button class=\"colab-df-convert\" onclick=\"convertToInteractive('df-20690308-865f-49fd-b011-27dddbc8fe8a')\"\n",
              "            title=\"Convert this dataframe to an interactive table.\"\n",
              "            style=\"display:none;\">\n",
              "\n",
              "  <svg xmlns=\"http://www.w3.org/2000/svg\" height=\"24px\" viewBox=\"0 -960 960 960\">\n",
              "    <path d=\"M120-120v-720h720v720H120Zm60-500h600v-160H180v160Zm220 220h160v-160H400v160Zm0 220h160v-160H400v160ZM180-400h160v-160H180v160Zm440 0h160v-160H620v160ZM180-180h160v-160H180v160Zm440 0h160v-160H620v160Z\"/>\n",
              "  </svg>\n",
              "    </button>\n",
              "\n",
              "  <style>\n",
              "    .colab-df-container {\n",
              "      display:flex;\n",
              "      gap: 12px;\n",
              "    }\n",
              "\n",
              "    .colab-df-convert {\n",
              "      background-color: #E8F0FE;\n",
              "      border: none;\n",
              "      border-radius: 50%;\n",
              "      cursor: pointer;\n",
              "      display: none;\n",
              "      fill: #1967D2;\n",
              "      height: 32px;\n",
              "      padding: 0 0 0 0;\n",
              "      width: 32px;\n",
              "    }\n",
              "\n",
              "    .colab-df-convert:hover {\n",
              "      background-color: #E2EBFA;\n",
              "      box-shadow: 0px 1px 2px rgba(60, 64, 67, 0.3), 0px 1px 3px 1px rgba(60, 64, 67, 0.15);\n",
              "      fill: #174EA6;\n",
              "    }\n",
              "\n",
              "    .colab-df-buttons div {\n",
              "      margin-bottom: 4px;\n",
              "    }\n",
              "\n",
              "    [theme=dark] .colab-df-convert {\n",
              "      background-color: #3B4455;\n",
              "      fill: #D2E3FC;\n",
              "    }\n",
              "\n",
              "    [theme=dark] .colab-df-convert:hover {\n",
              "      background-color: #434B5C;\n",
              "      box-shadow: 0px 1px 3px 1px rgba(0, 0, 0, 0.15);\n",
              "      filter: drop-shadow(0px 1px 2px rgba(0, 0, 0, 0.3));\n",
              "      fill: #FFFFFF;\n",
              "    }\n",
              "  </style>\n",
              "\n",
              "    <script>\n",
              "      const buttonEl =\n",
              "        document.querySelector('#df-20690308-865f-49fd-b011-27dddbc8fe8a button.colab-df-convert');\n",
              "      buttonEl.style.display =\n",
              "        google.colab.kernel.accessAllowed ? 'block' : 'none';\n",
              "\n",
              "      async function convertToInteractive(key) {\n",
              "        const element = document.querySelector('#df-20690308-865f-49fd-b011-27dddbc8fe8a');\n",
              "        const dataTable =\n",
              "          await google.colab.kernel.invokeFunction('convertToInteractive',\n",
              "                                                    [key], {});\n",
              "        if (!dataTable) return;\n",
              "\n",
              "        const docLinkHtml = 'Like what you see? Visit the ' +\n",
              "          '<a target=\"_blank\" href=https://colab.research.google.com/notebooks/data_table.ipynb>data table notebook</a>'\n",
              "          + ' to learn more about interactive tables.';\n",
              "        element.innerHTML = '';\n",
              "        dataTable['output_type'] = 'display_data';\n",
              "        await google.colab.output.renderOutput(dataTable, element);\n",
              "        const docLink = document.createElement('div');\n",
              "        docLink.innerHTML = docLinkHtml;\n",
              "        element.appendChild(docLink);\n",
              "      }\n",
              "    </script>\n",
              "  </div>\n",
              "\n",
              "\n",
              "<div id=\"df-0ac56fd4-45f0-4492-af58-e05df252b1ec\">\n",
              "  <button class=\"colab-df-quickchart\" onclick=\"quickchart('df-0ac56fd4-45f0-4492-af58-e05df252b1ec')\"\n",
              "            title=\"Suggest charts\"\n",
              "            style=\"display:none;\">\n",
              "\n",
              "<svg xmlns=\"http://www.w3.org/2000/svg\" height=\"24px\"viewBox=\"0 0 24 24\"\n",
              "     width=\"24px\">\n",
              "    <g>\n",
              "        <path d=\"M19 3H5c-1.1 0-2 .9-2 2v14c0 1.1.9 2 2 2h14c1.1 0 2-.9 2-2V5c0-1.1-.9-2-2-2zM9 17H7v-7h2v7zm4 0h-2V7h2v10zm4 0h-2v-4h2v4z\"/>\n",
              "    </g>\n",
              "</svg>\n",
              "  </button>\n",
              "\n",
              "<style>\n",
              "  .colab-df-quickchart {\n",
              "      --bg-color: #E8F0FE;\n",
              "      --fill-color: #1967D2;\n",
              "      --hover-bg-color: #E2EBFA;\n",
              "      --hover-fill-color: #174EA6;\n",
              "      --disabled-fill-color: #AAA;\n",
              "      --disabled-bg-color: #DDD;\n",
              "  }\n",
              "\n",
              "  [theme=dark] .colab-df-quickchart {\n",
              "      --bg-color: #3B4455;\n",
              "      --fill-color: #D2E3FC;\n",
              "      --hover-bg-color: #434B5C;\n",
              "      --hover-fill-color: #FFFFFF;\n",
              "      --disabled-bg-color: #3B4455;\n",
              "      --disabled-fill-color: #666;\n",
              "  }\n",
              "\n",
              "  .colab-df-quickchart {\n",
              "    background-color: var(--bg-color);\n",
              "    border: none;\n",
              "    border-radius: 50%;\n",
              "    cursor: pointer;\n",
              "    display: none;\n",
              "    fill: var(--fill-color);\n",
              "    height: 32px;\n",
              "    padding: 0;\n",
              "    width: 32px;\n",
              "  }\n",
              "\n",
              "  .colab-df-quickchart:hover {\n",
              "    background-color: var(--hover-bg-color);\n",
              "    box-shadow: 0 1px 2px rgba(60, 64, 67, 0.3), 0 1px 3px 1px rgba(60, 64, 67, 0.15);\n",
              "    fill: var(--button-hover-fill-color);\n",
              "  }\n",
              "\n",
              "  .colab-df-quickchart-complete:disabled,\n",
              "  .colab-df-quickchart-complete:disabled:hover {\n",
              "    background-color: var(--disabled-bg-color);\n",
              "    fill: var(--disabled-fill-color);\n",
              "    box-shadow: none;\n",
              "  }\n",
              "\n",
              "  .colab-df-spinner {\n",
              "    border: 2px solid var(--fill-color);\n",
              "    border-color: transparent;\n",
              "    border-bottom-color: var(--fill-color);\n",
              "    animation:\n",
              "      spin 1s steps(1) infinite;\n",
              "  }\n",
              "\n",
              "  @keyframes spin {\n",
              "    0% {\n",
              "      border-color: transparent;\n",
              "      border-bottom-color: var(--fill-color);\n",
              "      border-left-color: var(--fill-color);\n",
              "    }\n",
              "    20% {\n",
              "      border-color: transparent;\n",
              "      border-left-color: var(--fill-color);\n",
              "      border-top-color: var(--fill-color);\n",
              "    }\n",
              "    30% {\n",
              "      border-color: transparent;\n",
              "      border-left-color: var(--fill-color);\n",
              "      border-top-color: var(--fill-color);\n",
              "      border-right-color: var(--fill-color);\n",
              "    }\n",
              "    40% {\n",
              "      border-color: transparent;\n",
              "      border-right-color: var(--fill-color);\n",
              "      border-top-color: var(--fill-color);\n",
              "    }\n",
              "    60% {\n",
              "      border-color: transparent;\n",
              "      border-right-color: var(--fill-color);\n",
              "    }\n",
              "    80% {\n",
              "      border-color: transparent;\n",
              "      border-right-color: var(--fill-color);\n",
              "      border-bottom-color: var(--fill-color);\n",
              "    }\n",
              "    90% {\n",
              "      border-color: transparent;\n",
              "      border-bottom-color: var(--fill-color);\n",
              "    }\n",
              "  }\n",
              "</style>\n",
              "\n",
              "  <script>\n",
              "    async function quickchart(key) {\n",
              "      const quickchartButtonEl =\n",
              "        document.querySelector('#' + key + ' button');\n",
              "      quickchartButtonEl.disabled = true;  // To prevent multiple clicks.\n",
              "      quickchartButtonEl.classList.add('colab-df-spinner');\n",
              "      try {\n",
              "        const charts = await google.colab.kernel.invokeFunction(\n",
              "            'suggestCharts', [key], {});\n",
              "      } catch (error) {\n",
              "        console.error('Error during call to suggestCharts:', error);\n",
              "      }\n",
              "      quickchartButtonEl.classList.remove('colab-df-spinner');\n",
              "      quickchartButtonEl.classList.add('colab-df-quickchart-complete');\n",
              "    }\n",
              "    (() => {\n",
              "      let quickchartButtonEl =\n",
              "        document.querySelector('#df-0ac56fd4-45f0-4492-af58-e05df252b1ec button');\n",
              "      quickchartButtonEl.style.display =\n",
              "        google.colab.kernel.accessAllowed ? 'block' : 'none';\n",
              "    })();\n",
              "  </script>\n",
              "</div>\n",
              "\n",
              "    </div>\n",
              "  </div>\n"
            ],
            "application/vnd.google.colaboratory.intrinsic+json": {
              "type": "dataframe",
              "repr_error": "0"
            }
          },
          "metadata": {},
          "execution_count": 64
        }
      ],
      "source": [
        "df[df.Text ==duplicate_reviews[0]]"
      ]
    },
    {
      "cell_type": "markdown",
      "metadata": {
        "id": "oI_QskCnenpL"
      },
      "source": [
        "Out of the 58,002 remaning duplicates, 14,188 of the reviews have over 100 words."
      ]
    },
    {
      "cell_type": "markdown",
      "source": [
        "#### We change the target variable to positive,neutral,negative."
      ],
      "metadata": {
        "id": "Q7gFGgZRcaYJ"
      }
    },
    {
      "cell_type": "code",
      "source": [
        "df.loc[df.Score == 1,'Score'] = 0\n",
        "df.loc[df.Score == 2,'Score'] = 0\n",
        "df.loc[df.Score == 3,'Score'] = 1\n",
        "df.loc[df.Score == 4,'Score'] = 2\n",
        "df.loc[df.Score == 5,'Score'] = 2\n"
      ],
      "metadata": {
        "id": "0XCGsjRyckzn"
      },
      "execution_count": null,
      "outputs": []
    },
    {
      "cell_type": "markdown",
      "source": [
        "#### Keep only 3 features"
      ],
      "metadata": {
        "id": "mT-JFMa3SbsB"
      }
    },
    {
      "cell_type": "code",
      "execution_count": null,
      "metadata": {
        "id": "h4aLUdzjSKaQ"
      },
      "outputs": [],
      "source": [
        "df = df.loc[:,['ProductId','Text','Score']]"
      ]
    },
    {
      "cell_type": "markdown",
      "source": [
        "#### New initial eda"
      ],
      "metadata": {
        "id": "LfXOotIyabb2"
      }
    },
    {
      "cell_type": "code",
      "execution_count": null,
      "metadata": {
        "colab": {
          "base_uri": "https://localhost:8080/"
        },
        "id": "MfdPdkKZSf8T",
        "outputId": "1800f413-f748-4e5c-fcf4-7f58962b3bf1"
      },
      "outputs": [
        {
          "output_type": "execute_result",
          "data": {
            "text/plain": [
              "(567145, 3)"
            ]
          },
          "metadata": {},
          "execution_count": 67
        }
      ],
      "source": [
        "df.shape"
      ]
    },
    {
      "cell_type": "code",
      "execution_count": null,
      "metadata": {
        "colab": {
          "base_uri": "https://localhost:8080/"
        },
        "id": "QAq8fNd_fdVl",
        "outputId": "933ae89d-b83a-45e4-8c53-6c97036efcb0"
      },
      "outputs": [
        {
          "output_type": "execute_result",
          "data": {
            "text/plain": [
              "ProductId    0\n",
              "Text         0\n",
              "Score        0\n",
              "dtype: int64"
            ]
          },
          "metadata": {},
          "execution_count": 68
        }
      ],
      "source": [
        "df.isnull().sum()"
      ]
    },
    {
      "cell_type": "markdown",
      "metadata": {
        "id": "RqJ3q01xfenI"
      },
      "source": [
        "We do not have missing values."
      ]
    },
    {
      "cell_type": "code",
      "execution_count": null,
      "metadata": {
        "colab": {
          "base_uri": "https://localhost:8080/"
        },
        "id": "NE-BfJWhSgqD",
        "outputId": "9b950412-581e-4aed-e409-0a398a284701"
      },
      "outputs": [
        {
          "output_type": "execute_result",
          "data": {
            "text/plain": [
              "    ProductId                                               Text Score\n",
              "0  B001E4KFG0  I have bought several of the Vitality canned d...     2\n",
              "1  B00813GRG4  Product arrived labeled as Jumbo Salted Peanut...     0\n",
              "2  B000LQOCH0  This is a confection that has been around a fe...     2\n",
              "3  B000UA0QIQ  If you are looking for the secret ingredient i...     0\n",
              "4  B006K2ZZ7K  Great taffy at a great price.  There was a wid...     2"
            ],
            "text/html": [
              "\n",
              "  <div id=\"df-8c58303d-c8c4-4901-b32e-3aeb60d83540\" class=\"colab-df-container\">\n",
              "    <div>\n",
              "<style scoped>\n",
              "    .dataframe tbody tr th:only-of-type {\n",
              "        vertical-align: middle;\n",
              "    }\n",
              "\n",
              "    .dataframe tbody tr th {\n",
              "        vertical-align: top;\n",
              "    }\n",
              "\n",
              "    .dataframe thead th {\n",
              "        text-align: right;\n",
              "    }\n",
              "</style>\n",
              "<table border=\"1\" class=\"dataframe\">\n",
              "  <thead>\n",
              "    <tr style=\"text-align: right;\">\n",
              "      <th></th>\n",
              "      <th>ProductId</th>\n",
              "      <th>Text</th>\n",
              "      <th>Score</th>\n",
              "    </tr>\n",
              "  </thead>\n",
              "  <tbody>\n",
              "    <tr>\n",
              "      <th>0</th>\n",
              "      <td>B001E4KFG0</td>\n",
              "      <td>I have bought several of the Vitality canned d...</td>\n",
              "      <td>2</td>\n",
              "    </tr>\n",
              "    <tr>\n",
              "      <th>1</th>\n",
              "      <td>B00813GRG4</td>\n",
              "      <td>Product arrived labeled as Jumbo Salted Peanut...</td>\n",
              "      <td>0</td>\n",
              "    </tr>\n",
              "    <tr>\n",
              "      <th>2</th>\n",
              "      <td>B000LQOCH0</td>\n",
              "      <td>This is a confection that has been around a fe...</td>\n",
              "      <td>2</td>\n",
              "    </tr>\n",
              "    <tr>\n",
              "      <th>3</th>\n",
              "      <td>B000UA0QIQ</td>\n",
              "      <td>If you are looking for the secret ingredient i...</td>\n",
              "      <td>0</td>\n",
              "    </tr>\n",
              "    <tr>\n",
              "      <th>4</th>\n",
              "      <td>B006K2ZZ7K</td>\n",
              "      <td>Great taffy at a great price.  There was a wid...</td>\n",
              "      <td>2</td>\n",
              "    </tr>\n",
              "  </tbody>\n",
              "</table>\n",
              "</div>\n",
              "    <div class=\"colab-df-buttons\">\n",
              "\n",
              "  <div class=\"colab-df-container\">\n",
              "    <button class=\"colab-df-convert\" onclick=\"convertToInteractive('df-8c58303d-c8c4-4901-b32e-3aeb60d83540')\"\n",
              "            title=\"Convert this dataframe to an interactive table.\"\n",
              "            style=\"display:none;\">\n",
              "\n",
              "  <svg xmlns=\"http://www.w3.org/2000/svg\" height=\"24px\" viewBox=\"0 -960 960 960\">\n",
              "    <path d=\"M120-120v-720h720v720H120Zm60-500h600v-160H180v160Zm220 220h160v-160H400v160Zm0 220h160v-160H400v160ZM180-400h160v-160H180v160Zm440 0h160v-160H620v160ZM180-180h160v-160H180v160Zm440 0h160v-160H620v160Z\"/>\n",
              "  </svg>\n",
              "    </button>\n",
              "\n",
              "  <style>\n",
              "    .colab-df-container {\n",
              "      display:flex;\n",
              "      gap: 12px;\n",
              "    }\n",
              "\n",
              "    .colab-df-convert {\n",
              "      background-color: #E8F0FE;\n",
              "      border: none;\n",
              "      border-radius: 50%;\n",
              "      cursor: pointer;\n",
              "      display: none;\n",
              "      fill: #1967D2;\n",
              "      height: 32px;\n",
              "      padding: 0 0 0 0;\n",
              "      width: 32px;\n",
              "    }\n",
              "\n",
              "    .colab-df-convert:hover {\n",
              "      background-color: #E2EBFA;\n",
              "      box-shadow: 0px 1px 2px rgba(60, 64, 67, 0.3), 0px 1px 3px 1px rgba(60, 64, 67, 0.15);\n",
              "      fill: #174EA6;\n",
              "    }\n",
              "\n",
              "    .colab-df-buttons div {\n",
              "      margin-bottom: 4px;\n",
              "    }\n",
              "\n",
              "    [theme=dark] .colab-df-convert {\n",
              "      background-color: #3B4455;\n",
              "      fill: #D2E3FC;\n",
              "    }\n",
              "\n",
              "    [theme=dark] .colab-df-convert:hover {\n",
              "      background-color: #434B5C;\n",
              "      box-shadow: 0px 1px 3px 1px rgba(0, 0, 0, 0.15);\n",
              "      filter: drop-shadow(0px 1px 2px rgba(0, 0, 0, 0.3));\n",
              "      fill: #FFFFFF;\n",
              "    }\n",
              "  </style>\n",
              "\n",
              "    <script>\n",
              "      const buttonEl =\n",
              "        document.querySelector('#df-8c58303d-c8c4-4901-b32e-3aeb60d83540 button.colab-df-convert');\n",
              "      buttonEl.style.display =\n",
              "        google.colab.kernel.accessAllowed ? 'block' : 'none';\n",
              "\n",
              "      async function convertToInteractive(key) {\n",
              "        const element = document.querySelector('#df-8c58303d-c8c4-4901-b32e-3aeb60d83540');\n",
              "        const dataTable =\n",
              "          await google.colab.kernel.invokeFunction('convertToInteractive',\n",
              "                                                    [key], {});\n",
              "        if (!dataTable) return;\n",
              "\n",
              "        const docLinkHtml = 'Like what you see? Visit the ' +\n",
              "          '<a target=\"_blank\" href=https://colab.research.google.com/notebooks/data_table.ipynb>data table notebook</a>'\n",
              "          + ' to learn more about interactive tables.';\n",
              "        element.innerHTML = '';\n",
              "        dataTable['output_type'] = 'display_data';\n",
              "        await google.colab.output.renderOutput(dataTable, element);\n",
              "        const docLink = document.createElement('div');\n",
              "        docLink.innerHTML = docLinkHtml;\n",
              "        element.appendChild(docLink);\n",
              "      }\n",
              "    </script>\n",
              "  </div>\n",
              "\n",
              "\n",
              "<div id=\"df-ca451f6e-e9b7-4741-8863-2d2d64133d02\">\n",
              "  <button class=\"colab-df-quickchart\" onclick=\"quickchart('df-ca451f6e-e9b7-4741-8863-2d2d64133d02')\"\n",
              "            title=\"Suggest charts\"\n",
              "            style=\"display:none;\">\n",
              "\n",
              "<svg xmlns=\"http://www.w3.org/2000/svg\" height=\"24px\"viewBox=\"0 0 24 24\"\n",
              "     width=\"24px\">\n",
              "    <g>\n",
              "        <path d=\"M19 3H5c-1.1 0-2 .9-2 2v14c0 1.1.9 2 2 2h14c1.1 0 2-.9 2-2V5c0-1.1-.9-2-2-2zM9 17H7v-7h2v7zm4 0h-2V7h2v10zm4 0h-2v-4h2v4z\"/>\n",
              "    </g>\n",
              "</svg>\n",
              "  </button>\n",
              "\n",
              "<style>\n",
              "  .colab-df-quickchart {\n",
              "      --bg-color: #E8F0FE;\n",
              "      --fill-color: #1967D2;\n",
              "      --hover-bg-color: #E2EBFA;\n",
              "      --hover-fill-color: #174EA6;\n",
              "      --disabled-fill-color: #AAA;\n",
              "      --disabled-bg-color: #DDD;\n",
              "  }\n",
              "\n",
              "  [theme=dark] .colab-df-quickchart {\n",
              "      --bg-color: #3B4455;\n",
              "      --fill-color: #D2E3FC;\n",
              "      --hover-bg-color: #434B5C;\n",
              "      --hover-fill-color: #FFFFFF;\n",
              "      --disabled-bg-color: #3B4455;\n",
              "      --disabled-fill-color: #666;\n",
              "  }\n",
              "\n",
              "  .colab-df-quickchart {\n",
              "    background-color: var(--bg-color);\n",
              "    border: none;\n",
              "    border-radius: 50%;\n",
              "    cursor: pointer;\n",
              "    display: none;\n",
              "    fill: var(--fill-color);\n",
              "    height: 32px;\n",
              "    padding: 0;\n",
              "    width: 32px;\n",
              "  }\n",
              "\n",
              "  .colab-df-quickchart:hover {\n",
              "    background-color: var(--hover-bg-color);\n",
              "    box-shadow: 0 1px 2px rgba(60, 64, 67, 0.3), 0 1px 3px 1px rgba(60, 64, 67, 0.15);\n",
              "    fill: var(--button-hover-fill-color);\n",
              "  }\n",
              "\n",
              "  .colab-df-quickchart-complete:disabled,\n",
              "  .colab-df-quickchart-complete:disabled:hover {\n",
              "    background-color: var(--disabled-bg-color);\n",
              "    fill: var(--disabled-fill-color);\n",
              "    box-shadow: none;\n",
              "  }\n",
              "\n",
              "  .colab-df-spinner {\n",
              "    border: 2px solid var(--fill-color);\n",
              "    border-color: transparent;\n",
              "    border-bottom-color: var(--fill-color);\n",
              "    animation:\n",
              "      spin 1s steps(1) infinite;\n",
              "  }\n",
              "\n",
              "  @keyframes spin {\n",
              "    0% {\n",
              "      border-color: transparent;\n",
              "      border-bottom-color: var(--fill-color);\n",
              "      border-left-color: var(--fill-color);\n",
              "    }\n",
              "    20% {\n",
              "      border-color: transparent;\n",
              "      border-left-color: var(--fill-color);\n",
              "      border-top-color: var(--fill-color);\n",
              "    }\n",
              "    30% {\n",
              "      border-color: transparent;\n",
              "      border-left-color: var(--fill-color);\n",
              "      border-top-color: var(--fill-color);\n",
              "      border-right-color: var(--fill-color);\n",
              "    }\n",
              "    40% {\n",
              "      border-color: transparent;\n",
              "      border-right-color: var(--fill-color);\n",
              "      border-top-color: var(--fill-color);\n",
              "    }\n",
              "    60% {\n",
              "      border-color: transparent;\n",
              "      border-right-color: var(--fill-color);\n",
              "    }\n",
              "    80% {\n",
              "      border-color: transparent;\n",
              "      border-right-color: var(--fill-color);\n",
              "      border-bottom-color: var(--fill-color);\n",
              "    }\n",
              "    90% {\n",
              "      border-color: transparent;\n",
              "      border-bottom-color: var(--fill-color);\n",
              "    }\n",
              "  }\n",
              "</style>\n",
              "\n",
              "  <script>\n",
              "    async function quickchart(key) {\n",
              "      const quickchartButtonEl =\n",
              "        document.querySelector('#' + key + ' button');\n",
              "      quickchartButtonEl.disabled = true;  // To prevent multiple clicks.\n",
              "      quickchartButtonEl.classList.add('colab-df-spinner');\n",
              "      try {\n",
              "        const charts = await google.colab.kernel.invokeFunction(\n",
              "            'suggestCharts', [key], {});\n",
              "      } catch (error) {\n",
              "        console.error('Error during call to suggestCharts:', error);\n",
              "      }\n",
              "      quickchartButtonEl.classList.remove('colab-df-spinner');\n",
              "      quickchartButtonEl.classList.add('colab-df-quickchart-complete');\n",
              "    }\n",
              "    (() => {\n",
              "      let quickchartButtonEl =\n",
              "        document.querySelector('#df-ca451f6e-e9b7-4741-8863-2d2d64133d02 button');\n",
              "      quickchartButtonEl.style.display =\n",
              "        google.colab.kernel.accessAllowed ? 'block' : 'none';\n",
              "    })();\n",
              "  </script>\n",
              "</div>\n",
              "\n",
              "    </div>\n",
              "  </div>\n"
            ],
            "application/vnd.google.colaboratory.intrinsic+json": {
              "type": "dataframe",
              "variable_name": "df"
            }
          },
          "metadata": {},
          "execution_count": 69
        }
      ],
      "source": [
        "df.head(5)"
      ]
    },
    {
      "cell_type": "markdown",
      "source": [
        "#### nbr of reviews per product"
      ],
      "metadata": {
        "id": "cC1pQllHSkqC"
      }
    },
    {
      "cell_type": "code",
      "execution_count": null,
      "metadata": {
        "id": "kmoG7pNuTShb"
      },
      "outputs": [],
      "source": [
        "index_unique_prod = np.where(df.ProductId.value_counts().values == 1)[0].shape[0]"
      ]
    },
    {
      "cell_type": "code",
      "execution_count": null,
      "metadata": {
        "colab": {
          "base_uri": "https://localhost:8080/"
        },
        "id": "wv8eKKmhdDA4",
        "outputId": "d363e202-b843-43ec-9ac3-29865cb25746"
      },
      "outputs": [
        {
          "output_type": "execute_result",
          "data": {
            "text/plain": [
              "30416"
            ]
          },
          "metadata": {},
          "execution_count": 71
        }
      ],
      "source": [
        "index_unique_prod"
      ]
    },
    {
      "cell_type": "code",
      "execution_count": null,
      "metadata": {
        "colab": {
          "base_uri": "https://localhost:8080/"
        },
        "id": "yYZQI1LJT0Jr",
        "outputId": "008dbea1-7bb7-4e44-9c17-704be057ef08"
      },
      "outputs": [
        {
          "output_type": "execute_result",
          "data": {
            "text/plain": [
              "43842"
            ]
          },
          "metadata": {},
          "execution_count": 72
        }
      ],
      "source": [
        "len(set(df.ProductId)) - index_unique_prod"
      ]
    },
    {
      "cell_type": "markdown",
      "metadata": {
        "id": "glWn5pm3TzSo"
      },
      "source": [
        "We have 43842 products that has at least 2 reviews on the dataset."
      ]
    },
    {
      "cell_type": "code",
      "execution_count": null,
      "metadata": {
        "colab": {
          "base_uri": "https://localhost:8080/"
        },
        "id": "m0wZvS0yVGoE",
        "outputId": "07d0dec3-03df-45cd-c77b-515309108eea"
      },
      "outputs": [
        {
          "output_type": "execute_result",
          "data": {
            "text/plain": [
              "17304"
            ]
          },
          "metadata": {},
          "execution_count": 73
        }
      ],
      "source": [
        "np.where(df.ProductId.value_counts().values > 5)[0].shape[0]"
      ]
    },
    {
      "cell_type": "markdown",
      "metadata": {
        "id": "v2bj1IaDVOln"
      },
      "source": [
        "We have 17310 products on our dataset with more than 5 reviews."
      ]
    },
    {
      "cell_type": "code",
      "execution_count": null,
      "metadata": {
        "colab": {
          "base_uri": "https://localhost:8080/"
        },
        "id": "uoXXzN3-T796",
        "outputId": "8fcbc8dd-d66f-49cb-a1be-130e275ea7e4"
      },
      "outputs": [
        {
          "output_type": "execute_result",
          "data": {
            "text/plain": [
              "9617"
            ]
          },
          "metadata": {},
          "execution_count": 74
        }
      ],
      "source": [
        "np.where(df.ProductId.value_counts().values > 10)[0].shape[0]"
      ]
    },
    {
      "cell_type": "markdown",
      "metadata": {
        "id": "pgZHZC_wVUlV"
      },
      "source": [
        "We have 9617 products on our dataset with more than 10 reviews."
      ]
    },
    {
      "cell_type": "code",
      "execution_count": null,
      "metadata": {
        "colab": {
          "base_uri": "https://localhost:8080/"
        },
        "id": "yIuEiWUXTj-h",
        "outputId": "20730151-6c6f-4594-8e01-d6d2642521b5"
      },
      "outputs": [
        {
          "output_type": "execute_result",
          "data": {
            "text/plain": [
              "843"
            ]
          },
          "metadata": {},
          "execution_count": 75
        }
      ],
      "source": [
        "np.where(df.ProductId.value_counts().values > 100)[0].shape[0]"
      ]
    },
    {
      "cell_type": "markdown",
      "metadata": {
        "id": "zHd8axNzVitx"
      },
      "source": [
        "We have 843 products on our dataset with more than 100 reviews."
      ]
    },
    {
      "cell_type": "code",
      "execution_count": null,
      "metadata": {
        "id": "qsNFH12uTmYp"
      },
      "outputs": [],
      "source": [
        "nbr_reviews = [np.where(df.ProductId.value_counts().values > k)[0].shape[0] for k in range(10,1000,20)]"
      ]
    },
    {
      "cell_type": "markdown",
      "source": [
        "#### Deep dive in length of reviews"
      ],
      "metadata": {
        "id": "IcJkvenoSu7c"
      }
    },
    {
      "cell_type": "code",
      "execution_count": null,
      "metadata": {
        "colab": {
          "base_uri": "https://localhost:8080/"
        },
        "id": "q5zv5zLyWfho",
        "outputId": "ba4b2632-3336-4cb9-8c4d-06caa38bf562"
      },
      "outputs": [
        {
          "output_type": "execute_result",
          "data": {
            "text/plain": [
              "(0.0, 5000.0)"
            ]
          },
          "metadata": {},
          "execution_count": 77
        },
        {
          "output_type": "display_data",
          "data": {
            "text/plain": [
              "<Figure size 640x480 with 1 Axes>"
            ],
            "image/png": "[encoded data removed]"
          },
          "metadata": {}
        }
      ],
      "source": [
        "df.Text.str.len().hist(bins = 200)\n",
        "plt.title('Number of characters per reviews')\n",
        "plt.xlim(0,5000)"
      ]
    },
    {
      "cell_type": "markdown",
      "metadata": {
        "id": "ki6_yBfGYznB"
      },
      "source": [
        "We can see that most of our reviews has less than 1000 characters. The majority of them has between 100 and 200 characters."
      ]
    },
    {
      "cell_type": "code",
      "execution_count": null,
      "metadata": {
        "colab": {
          "base_uri": "https://localhost:8080/"
        },
        "id": "FFiloj7-X6K3",
        "outputId": "df0be199-fc09-47fd-de30-6bb3b7ef1fcb"
      },
      "outputs": [
        {
          "output_type": "execute_result",
          "data": {
            "text/plain": [
              "(0.0, 1000.0)"
            ]
          },
          "metadata": {},
          "execution_count": 78
        },
        {
          "output_type": "display_data",
          "data": {
            "text/plain": [
              "<Figure size 640x480 with 1 Axes>"
            ],
            "image/png": "[encoded data removed]"
          },
          "metadata": {}
        }
      ],
      "source": [
        "df.Text.str.split().map(lambda x : len(x)).hist(bins = 200)\n",
        "plt.title('number of words per reviews')\n",
        "plt.xlim(0,1000)"
      ]
    },
    {
      "cell_type": "markdown",
      "metadata": {
        "id": "_wRrKnkwaEJr"
      },
      "source": [
        "We can see that most of our reviews have less than 200 words. Most of them have around 40 words."
      ]
    },
    {
      "cell_type": "code",
      "execution_count": null,
      "metadata": {
        "colab": {
          "base_uri": "https://localhost:8080/"
        },
        "id": "Oe15hRBPZlNK",
        "outputId": "1364a866-7ed9-4e19-e9be-14a1913fbf39"
      },
      "outputs": [
        {
          "output_type": "execute_result",
          "data": {
            "text/plain": [
              "Text(0.5, 1.0, 'Average len of words per reviews')"
            ]
          },
          "metadata": {},
          "execution_count": 79
        },
        {
          "output_type": "display_data",
          "data": {
            "text/plain": [
              "<Figure size 640x480 with 1 Axes>"
            ],
            "image/png": "[encoded data removed]"
          },
          "metadata": {}
        }
      ],
      "source": [
        "df.Text.str.split().apply(lambda x : [len(i) for i in x]).map(lambda x : np.mean(x)).hist(bins = 50)\n",
        "plt.xlim(0,10)\n",
        "plt.title('Average len of words per reviews')"
      ]
    },
    {
      "cell_type": "markdown",
      "metadata": {
        "id": "y6H1bEgzb1I_"
      },
      "source": [
        "We see that most of the reviews have a length of words between 3 and 6. This can be explained by the 'stop words' which are reducing the mean."
      ]
    },
    {
      "cell_type": "markdown",
      "source": [
        "#### Stopwords and its occurences"
      ],
      "metadata": {
        "id": "0GkXF8lGTSMp"
      }
    },
    {
      "cell_type": "code",
      "execution_count": null,
      "metadata": {
        "colab": {
          "base_uri": "https://localhost:8080/"
        },
        "id": "j1wscv6ubHpD",
        "outputId": "5f8f0632-a567-4bc1-8ad0-e1c2ed50df77"
      },
      "outputs": [
        {
          "output_type": "stream",
          "name": "stderr",
          "text": [
            "[nltk_data] Downloading package stopwords to /root/nltk_data...\n",
            "[nltk_data]   Package stopwords is already up-to-date!\n"
          ]
        }
      ],
      "source": [
        "from nltk.corpus import stopwords\n",
        "nltk.download('stopwords')\n",
        "stop = set(stopwords.words('english'))"
      ]
    },
    {
      "cell_type": "code",
      "execution_count": null,
      "metadata": {
        "id": "4Dn6GHybcfGd"
      },
      "outputs": [],
      "source": [
        "from collections import defaultdict\n",
        "new = df.Text.str.split()\n",
        "new = new.values.tolist()\n",
        "all_words = [word for i in new for word in i] # we get a list with all the words of all the reviews\n",
        "\n",
        "dic = defaultdict(int)\n",
        "for word in all_words:\n",
        "  if word in stop:\n",
        "    dic[word] +=1\n",
        "\n"
      ]
    },
    {
      "cell_type": "code",
      "execution_count": null,
      "metadata": {
        "colab": {
          "base_uri": "https://localhost:8080/"
        },
        "id": "lpOpu3DBcziD",
        "outputId": "2de846d5-3cb0-4ec6-bdf2-41326bacb3b2"
      },
      "outputs": [
        {
          "output_type": "execute_result",
          "data": {
            "text/plain": [
              "<BarContainer object of 20 artists>"
            ]
          },
          "metadata": {},
          "execution_count": 82
        },
        {
          "output_type": "display_data",
          "data": {
            "text/plain": [
              "<Figure size 640x480 with 1 Axes>"
            ],
            "image/png": "[encoded data removed]"
          },
          "metadata": {}
        }
      ],
      "source": [
        "top = sorted(dic.items(), key = lambda x : x[1], reverse = True)[:20]\n",
        "x,y = zip(*top)\n",
        "plt.xticks(rotation = 45)\n",
        "plt.title('Most frequents words in our reviews')\n",
        "plt.bar(x,y)"
      ]
    },
    {
      "cell_type": "markdown",
      "source": [
        "#### Occurences without stopwords"
      ],
      "metadata": {
        "id": "Nj815QIdTVYn"
      }
    },
    {
      "cell_type": "markdown",
      "metadata": {
        "id": "hTxKheE_epTE"
      },
      "source": [
        "We see how often are appearing stop words such as 'the','and',..."
      ]
    },
    {
      "cell_type": "code",
      "execution_count": null,
      "metadata": {
        "colab": {
          "base_uri": "https://localhost:8080/"
        },
        "id": "jYoOGKtBeSUE",
        "outputId": "f6b987f7-e64c-4a67-cec3-9b49bc80ca58"
      },
      "outputs": [
        {
          "output_type": "execute_result",
          "data": {
            "text/plain": [
              "<Axes: title={'center': 'Most frequent words that are not stopwords'}>"
            ]
          },
          "metadata": {},
          "execution_count": 83
        },
        {
          "output_type": "display_data",
          "data": {
            "text/plain": [
              "<Figure size 640x480 with 1 Axes>"
            ],
            "image/png": "[encoded data removed]"
          },
          "metadata": {}
        }
      ],
      "source": [
        "from collections import Counter\n",
        "import re\n",
        "counter = Counter(all_words)\n",
        "most = counter.most_common()\n",
        "x,y = [],[]\n",
        "for word,count in most[:100]:\n",
        "  if word.lower() not in stop :\n",
        "    clean_word = re.sub(r'[^\\w\\s]', '', word) # remove punctuation\n",
        "    if clean_word and len(clean_word) > 2:\n",
        "      x.append(clean_word)\n",
        "      y.append(count)\n",
        "\n",
        "plt.title('Most frequent words that are not stopwords')\n",
        "sns.barplot(x=y, y=x)\n",
        "\n"
      ]
    },
    {
      "cell_type": "markdown",
      "metadata": {
        "id": "W8tdT_ZHhedx"
      },
      "source": [
        "We see that we have a lot of positive words due to the fact that our dataset is imbalanced with a lot of good review with Words like 'good','great','love'."
      ]
    },
    {
      "cell_type": "markdown",
      "source": [
        "#### Ngrams"
      ],
      "metadata": {
        "id": "cD8CGiu9Thd1"
      }
    },
    {
      "cell_type": "code",
      "execution_count": null,
      "metadata": {
        "id": "y5muzqqHfilO"
      },
      "outputs": [],
      "source": [
        "from nltk.util import ngrams\n",
        "from sklearn.feature_extraction.text import CountVectorizer\n",
        "\n",
        "def get_top_ngram(all_words, n=None):\n",
        "    vec = CountVectorizer(ngram_range=(n, n)).fit(all_words)\n",
        "    bag_of_words = vec.transform(all_words)\n",
        "    sum_words = bag_of_words.sum(axis=0)\n",
        "    words_freq = [(word, sum_words[0, idx])\n",
        "                  for word, idx in vec.vocabulary_.items()]\n",
        "    words_freq =sorted(words_freq, key = lambda x: x[1], reverse=True)\n",
        "    return words_freq[:15]"
      ]
    },
    {
      "cell_type": "code",
      "execution_count": null,
      "metadata": {
        "colab": {
          "base_uri": "https://localhost:8080/"
        },
        "id": "yUg_rYyg94qc",
        "outputId": "7661ef5e-8a5c-4eef-a330-5f89324c51c1"
      },
      "outputs": [
        {
          "output_type": "display_data",
          "data": {
            "text/plain": [
              "<Figure size 640x480 with 1 Axes>"
            ],
            "image/png": "[encoded data removed]"
          },
          "metadata": {}
        }
      ],
      "source": [
        "top_trigrams = get_top_ngram(df.Text.iloc[:5000], 3)\n",
        "x,y = map(list,zip(*top_trigrams))\n",
        "sns.barplot(x = y, y = x)\n",
        "plt.title('Trigrams that occur the most in the 5000 first samples')\n",
        "plt.show()"
      ]
    },
    {
      "cell_type": "markdown",
      "metadata": {
        "id": "CpQlYIou_8C6"
      },
      "source": [
        "We see that we have a lot of reference to amazon and maybe the link of the product. We will see later why. We also have a lof of positive reviews patterns such as 'if you like', 'is the best', 'this is great'. We will have to do some data cleaning."
      ]
    },
    {
      "cell_type": "markdown",
      "metadata": {
        "id": "ynljlujaKZW-"
      },
      "source": [
        "We split our data to train, validation and test using a groupshuffle to keep the same products on the same set."
      ]
    },
    {
      "cell_type": "markdown",
      "source": [
        "#### Split the dataset into train val and test using 100k samples"
      ],
      "metadata": {
        "id": "kzj1VlMFTmjO"
      }
    },
    {
      "cell_type": "code",
      "execution_count": null,
      "metadata": {
        "id": "INm9_ZCgH1Na"
      },
      "outputs": [],
      "source": [
        "from sklearn.model_selection import GroupShuffleSplit\n",
        "splitter_temp = GroupShuffleSplit(test_size=.40, n_splits=1, random_state = 42)\n",
        "split_temp = splitter_temp.split(df[:100000], groups=df[:100000]['ProductId'])\n",
        "train_inds, temp_inds = next(split_temp)\n",
        "\n",
        "train = df.iloc[train_inds]\n",
        "temp = df.iloc[temp_inds]\n",
        "\n"
      ]
    },
    {
      "cell_type": "code",
      "source": [
        "train.Score.value_counts(normalize = True)"
      ],
      "metadata": {
        "colab": {
          "base_uri": "https://localhost:8080/"
        },
        "id": "d1y9Y_ACd5aC",
        "outputId": "56081e61-0beb-466b-cd1b-5b4378ec4fae"
      },
      "execution_count": null,
      "outputs": [
        {
          "output_type": "execute_result",
          "data": {
            "text/plain": [
              "2    0.774561\n",
              "0    0.145096\n",
              "1    0.080343\n",
              "Name: Score, dtype: float64"
            ]
          },
          "metadata": {},
          "execution_count": 87
        }
      ]
    },
    {
      "cell_type": "code",
      "execution_count": null,
      "metadata": {
        "id": "zg059kSjDOwX"
      },
      "outputs": [],
      "source": [
        "splitter_val = GroupShuffleSplit(test_size=.50, n_splits=1, random_state = 42)\n",
        "split_val = splitter_val.split(temp, groups=temp['ProductId'])\n",
        "val_inds, test_inds = next(split_val)\n",
        "\n",
        "val = temp.iloc[val_inds]\n",
        "test = temp.iloc[test_inds]"
      ]
    },
    {
      "cell_type": "code",
      "source": [
        "val.Score.value_counts(normalize = True)"
      ],
      "metadata": {
        "colab": {
          "base_uri": "https://localhost:8080/"
        },
        "id": "sPhYHNRCeDhh",
        "outputId": "f338b715-cbd4-404e-b77e-12e0a531f4be"
      },
      "execution_count": null,
      "outputs": [
        {
          "output_type": "execute_result",
          "data": {
            "text/plain": [
              "2    0.776394\n",
              "0    0.149167\n",
              "1    0.074439\n",
              "Name: Score, dtype: float64"
            ]
          },
          "metadata": {},
          "execution_count": 89
        }
      ]
    },
    {
      "cell_type": "code",
      "source": [
        "test.Score.value_counts(normalize = True)"
      ],
      "metadata": {
        "colab": {
          "base_uri": "https://localhost:8080/"
        },
        "id": "41bqvPOTeGfS",
        "outputId": "04a3a75b-e15c-469a-9da5-a1d9c91e91e6"
      },
      "execution_count": null,
      "outputs": [
        {
          "output_type": "execute_result",
          "data": {
            "text/plain": [
              "2    0.754706\n",
              "0    0.157549\n",
              "1    0.087745\n",
              "Name: Score, dtype: float64"
            ]
          },
          "metadata": {},
          "execution_count": 90
        }
      ]
    },
    {
      "cell_type": "code",
      "execution_count": null,
      "metadata": {
        "colab": {
          "base_uri": "https://localhost:8080/"
        },
        "id": "uo1wKWlIJe75",
        "outputId": "7706a4f8-41a0-4a06-a75d-59af1cfd2e6e"
      },
      "outputs": [
        {
          "output_type": "execute_result",
          "data": {
            "text/plain": [
              "((58885, 3), (20715, 3), (20400, 3))"
            ]
          },
          "metadata": {},
          "execution_count": 91
        }
      ],
      "source": [
        "train.shape,val.shape,test.shape"
      ]
    },
    {
      "cell_type": "code",
      "execution_count": null,
      "metadata": {
        "id": "c8KrlV2SJ_Tv"
      },
      "outputs": [],
      "source": [
        "X_train = train.drop(columns = 'Score')\n",
        "y_train = train.Score.astype(int)\n",
        "\n",
        "X_val = val.drop(columns = 'Score')\n",
        "y_val = val.Score.astype(int)\n",
        "\n",
        "X_test = test.drop(columns = 'Score')\n",
        "y_test = test.Score.astype(int)"
      ]
    },
    {
      "cell_type": "markdown",
      "metadata": {
        "id": "V63UcDgwinJc"
      },
      "source": [
        "#### NER (Name Entity Recognition)"
      ]
    },
    {
      "cell_type": "code",
      "execution_count": null,
      "metadata": {
        "id": "rBGbiXTDis_0"
      },
      "outputs": [],
      "source": [
        "import spacy\n",
        "nlp = spacy.load('en_core_web_sm')\n"
      ]
    },
    {
      "cell_type": "code",
      "execution_count": null,
      "metadata": {
        "id": "jboocIYGkUJY"
      },
      "outputs": [],
      "source": [
        "processed_reviews = []\n",
        "for review in X_train.Text[:5]:\n",
        "  doc = nlp(review)\n",
        "  processed_reviews.append(doc)"
      ]
    },
    {
      "cell_type": "code",
      "execution_count": null,
      "metadata": {
        "colab": {
          "base_uri": "https://localhost:8080/"
        },
        "id": "-Xw5DRwgu9fV",
        "outputId": "97a456aa-cd50-4bd6-f9dc-13a29f6a0981"
      },
      "outputs": [
        {
          "output_type": "stream",
          "name": "stdout",
          "text": [
            "[('Vitality', 'ORG'), ('Labrador', 'PERSON')]\n",
            "[('citrus gelatin', 'PERSON'), ('Filberts', 'PERSON'), (\"C.S. Lewis'\", 'ORG'), ('The Lion, The Witch', 'WORK_OF_ART'), ('The Wardrobe', 'WORK_OF_ART'), ('Edmund', 'GPE'), ('Sisters', 'PERSON'), ('Witch', 'LOC')]\n",
            "[('Robitussin', 'GPE'), ('the Root Beer Extract', 'ORG')]\n",
            "[]\n",
            "[('five pound', 'QUANTITY'), ('only two weeks', 'DATE')]\n"
          ]
        }
      ],
      "source": [
        "for x in processed_reviews:\n",
        "  print([(y.text,y.label_) for y in (x.ents)])"
      ]
    },
    {
      "cell_type": "code",
      "execution_count": null,
      "metadata": {
        "colab": {
          "base_uri": "https://localhost:8080/"
        },
        "id": "OA1SuDFkk4Pb",
        "outputId": "8a87e0cf-ebef-4d12-f530-cb6c4541fbf4"
      },
      "outputs": [
        {
          "output_type": "display_data",
          "data": {
            "text/plain": [
              "<IPython.core.display.HTML object>"
            ],
            "text/html": [
              "<span class=\"tex2jax_ignore\"><div class=\"entities\" style=\"line-height: 2.5; direction: ltr\">I have bought several of the \n",
              "<mark class=\"entity\" style=\"background: #7aecec; padding: 0.45em 0.6em; margin: 0 0.25em; line-height: 1; border-radius: 0.35em;\">\n",
              "    Vitality\n",
              "    <span style=\"font-size: 0.8em; font-weight: bold; line-height: 1; border-radius: 0.35em; vertical-align: middle; margin-left: 0.5rem\">ORG</span>\n",
              "</mark>\n",
              " canned dog food products and have found them all to be of good quality. The product looks more like a stew than a processed meat and it smells better. My \n",
              "<mark class=\"entity\" style=\"background: #aa9cfc; padding: 0.45em 0.6em; margin: 0 0.25em; line-height: 1; border-radius: 0.35em;\">\n",
              "    Labrador\n",
              "    <span style=\"font-size: 0.8em; font-weight: bold; line-height: 1; border-radius: 0.35em; vertical-align: middle; margin-left: 0.5rem\">PERSON</span>\n",
              "</mark>\n",
              " is finicky and she appreciates this product better than  most.</div></span>"
            ]
          },
          "metadata": {}
        },
        {
          "output_type": "stream",
          "name": "stdout",
          "text": [
            "\n",
            "\n"
          ]
        },
        {
          "output_type": "display_data",
          "data": {
            "text/plain": [
              "<IPython.core.display.HTML object>"
            ],
            "text/html": [
              "<span class=\"tex2jax_ignore\"><div class=\"entities\" style=\"line-height: 2.5; direction: ltr\">This is a confection that has been around a few centuries.  It is a light, pillowy \n",
              "<mark class=\"entity\" style=\"background: #aa9cfc; padding: 0.45em 0.6em; margin: 0 0.25em; line-height: 1; border-radius: 0.35em;\">\n",
              "    citrus gelatin\n",
              "    <span style=\"font-size: 0.8em; font-weight: bold; line-height: 1; border-radius: 0.35em; vertical-align: middle; margin-left: 0.5rem\">PERSON</span>\n",
              "</mark>\n",
              " with nuts - in this case \n",
              "<mark class=\"entity\" style=\"background: #aa9cfc; padding: 0.45em 0.6em; margin: 0 0.25em; line-height: 1; border-radius: 0.35em;\">\n",
              "    Filberts\n",
              "    <span style=\"font-size: 0.8em; font-weight: bold; line-height: 1; border-radius: 0.35em; vertical-align: middle; margin-left: 0.5rem\">PERSON</span>\n",
              "</mark>\n",
              ". And it is cut into tiny squares and then liberally coated with powdered sugar.  And it is a tiny mouthful of heaven.  Not too chewy, and very flavorful.  I highly recommend this yummy treat.  If you are familiar with the story of \n",
              "<mark class=\"entity\" style=\"background: #7aecec; padding: 0.45em 0.6em; margin: 0 0.25em; line-height: 1; border-radius: 0.35em;\">\n",
              "    C.S. Lewis'\n",
              "    <span style=\"font-size: 0.8em; font-weight: bold; line-height: 1; border-radius: 0.35em; vertical-align: middle; margin-left: 0.5rem\">ORG</span>\n",
              "</mark>\n",
              " &quot;\n",
              "<mark class=\"entity\" style=\"background: #f0d0ff; padding: 0.45em 0.6em; margin: 0 0.25em; line-height: 1; border-radius: 0.35em;\">\n",
              "    The Lion, The Witch\n",
              "    <span style=\"font-size: 0.8em; font-weight: bold; line-height: 1; border-radius: 0.35em; vertical-align: middle; margin-left: 0.5rem\">WORK_OF_ART</span>\n",
              "</mark>\n",
              ", and \n",
              "<mark class=\"entity\" style=\"background: #f0d0ff; padding: 0.45em 0.6em; margin: 0 0.25em; line-height: 1; border-radius: 0.35em;\">\n",
              "    The Wardrobe\n",
              "    <span style=\"font-size: 0.8em; font-weight: bold; line-height: 1; border-radius: 0.35em; vertical-align: middle; margin-left: 0.5rem\">WORK_OF_ART</span>\n",
              "</mark>\n",
              "&quot; - this is the treat that seduces \n",
              "<mark class=\"entity\" style=\"background: #feca74; padding: 0.45em 0.6em; margin: 0 0.25em; line-height: 1; border-radius: 0.35em;\">\n",
              "    Edmund\n",
              "    <span style=\"font-size: 0.8em; font-weight: bold; line-height: 1; border-radius: 0.35em; vertical-align: middle; margin-left: 0.5rem\">GPE</span>\n",
              "</mark>\n",
              " into selling out his Brother and \n",
              "<mark class=\"entity\" style=\"background: #aa9cfc; padding: 0.45em 0.6em; margin: 0 0.25em; line-height: 1; border-radius: 0.35em;\">\n",
              "    Sisters\n",
              "    <span style=\"font-size: 0.8em; font-weight: bold; line-height: 1; border-radius: 0.35em; vertical-align: middle; margin-left: 0.5rem\">PERSON</span>\n",
              "</mark>\n",
              " to the \n",
              "<mark class=\"entity\" style=\"background: #ff9561; padding: 0.45em 0.6em; margin: 0 0.25em; line-height: 1; border-radius: 0.35em;\">\n",
              "    Witch\n",
              "    <span style=\"font-size: 0.8em; font-weight: bold; line-height: 1; border-radius: 0.35em; vertical-align: middle; margin-left: 0.5rem\">LOC</span>\n",
              "</mark>\n",
              ".</div></span>"
            ]
          },
          "metadata": {}
        },
        {
          "output_type": "stream",
          "name": "stdout",
          "text": [
            "\n",
            "\n"
          ]
        },
        {
          "output_type": "display_data",
          "data": {
            "text/plain": [
              "<IPython.core.display.HTML object>"
            ],
            "text/html": [
              "<span class=\"tex2jax_ignore\"><div class=\"entities\" style=\"line-height: 2.5; direction: ltr\">If you are looking for the secret ingredient in \n",
              "<mark class=\"entity\" style=\"background: #feca74; padding: 0.45em 0.6em; margin: 0 0.25em; line-height: 1; border-radius: 0.35em;\">\n",
              "    Robitussin\n",
              "    <span style=\"font-size: 0.8em; font-weight: bold; line-height: 1; border-radius: 0.35em; vertical-align: middle; margin-left: 0.5rem\">GPE</span>\n",
              "</mark>\n",
              " I believe I have found it.  I got this in addition to \n",
              "<mark class=\"entity\" style=\"background: #7aecec; padding: 0.45em 0.6em; margin: 0 0.25em; line-height: 1; border-radius: 0.35em;\">\n",
              "    the Root Beer Extract\n",
              "    <span style=\"font-size: 0.8em; font-weight: bold; line-height: 1; border-radius: 0.35em; vertical-align: middle; margin-left: 0.5rem\">ORG</span>\n",
              "</mark>\n",
              " I ordered (which was good) and made some cherry soda.  The flavor is very medicinal.</div></span>"
            ]
          },
          "metadata": {}
        },
        {
          "output_type": "stream",
          "name": "stdout",
          "text": [
            "\n",
            "\n"
          ]
        },
        {
          "output_type": "stream",
          "name": "stderr",
          "text": [
            "/usr/local/lib/python3.10/dist-packages/spacy/displacy/__init__.py:213: UserWarning: [W006] No entities to visualize found in Doc object. If this is surprising to you, make sure the Doc was processed using a model that supports named entity recognition, and check the `doc.ents` property manually if necessary.\n",
            "  warnings.warn(Warnings.W006)\n"
          ]
        },
        {
          "output_type": "display_data",
          "data": {
            "text/plain": [
              "<IPython.core.display.HTML object>"
            ],
            "text/html": [
              "<span class=\"tex2jax_ignore\"><div class=\"entities\" style=\"line-height: 2.5; direction: ltr\">Great taffy at a great price.  There was a wide assortment of yummy taffy.  Delivery was very quick.  If your a taffy lover, this is a deal.</div></span>"
            ]
          },
          "metadata": {}
        },
        {
          "output_type": "stream",
          "name": "stdout",
          "text": [
            "\n",
            "\n"
          ]
        },
        {
          "output_type": "display_data",
          "data": {
            "text/plain": [
              "<IPython.core.display.HTML object>"
            ],
            "text/html": [
              "<span class=\"tex2jax_ignore\"><div class=\"entities\" style=\"line-height: 2.5; direction: ltr\">I got a wild hair for taffy and ordered this \n",
              "<mark class=\"entity\" style=\"background: #e4e7d2; padding: 0.45em 0.6em; margin: 0 0.25em; line-height: 1; border-radius: 0.35em;\">\n",
              "    five pound\n",
              "    <span style=\"font-size: 0.8em; font-weight: bold; line-height: 1; border-radius: 0.35em; vertical-align: middle; margin-left: 0.5rem\">QUANTITY</span>\n",
              "</mark>\n",
              " bag. The taffy was all very enjoyable with many flavors: watermelon, root beer, melon, peppermint, grape, etc. My only complaint is there was a bit too much red/black licorice-flavored pieces (just not my particular favorites). Between me, my kids, and my husband, this lasted \n",
              "<mark class=\"entity\" style=\"background: #bfe1d9; padding: 0.45em 0.6em; margin: 0 0.25em; line-height: 1; border-radius: 0.35em;\">\n",
              "    only two weeks\n",
              "    <span style=\"font-size: 0.8em; font-weight: bold; line-height: 1; border-radius: 0.35em; vertical-align: middle; margin-left: 0.5rem\">DATE</span>\n",
              "</mark>\n",
              "! I would recommend this brand of taffy -- it was a delightful treat.</div></span>"
            ]
          },
          "metadata": {}
        },
        {
          "output_type": "stream",
          "name": "stdout",
          "text": [
            "\n",
            "\n"
          ]
        }
      ],
      "source": [
        "from spacy import displacy\n",
        "for process_review in processed_reviews:\n",
        "  displacy.render(process_review,style = 'ent')\n",
        "  print('\\n')"
      ]
    },
    {
      "cell_type": "code",
      "execution_count": null,
      "metadata": {
        "id": "nOp0afYumTk5"
      },
      "outputs": [],
      "source": [
        "def ner(text):\n",
        "    doc=nlp(text)\n",
        "    return [X.label_ for X in doc.ents] # we just keep the labels\n",
        "\n",
        "ent=X_train.Text[:100].apply(lambda x : ner(x)) # for each rows we get a list of labels\n",
        "ent=[x for sub in ent for x in sub] # we get a single list with all the labels of all the rows\n",
        "\n",
        "counter=Counter(ent)\n",
        "count=counter.most_common()"
      ]
    },
    {
      "cell_type": "code",
      "execution_count": null,
      "metadata": {
        "colab": {
          "base_uri": "https://localhost:8080/"
        },
        "id": "7vqRrkO_nEsy",
        "outputId": "32255903-ef84-467a-ea2e-d867640a491a"
      },
      "outputs": [
        {
          "output_type": "display_data",
          "data": {
            "text/plain": [
              "<Figure size 640x480 with 1 Axes>"
            ],
            "image/png": "[encoded data removed]"
          },
          "metadata": {}
        }
      ],
      "source": [
        "x,y=map(list,zip(*count))\n",
        "sns.barplot(x=y,y=x)\n",
        "plt.title('Occurences of labels in the first 100 rows of X_train')\n",
        "plt.show()"
      ]
    },
    {
      "cell_type": "markdown",
      "metadata": {
        "id": "gUjHQPP1uM28"
      },
      "source": [
        "We see that on reviews, we have a lof of companies that are stated, probably corresponding to the company that is selling the product."
      ]
    },
    {
      "cell_type": "code",
      "execution_count": null,
      "metadata": {
        "id": "d6qMTN5wwuko"
      },
      "outputs": [],
      "source": [
        "def ner_label(text,ent):\n",
        "  doc = nlp(text)\n",
        "  return [X.text for X in doc.ents if X.label_ == ent]\n",
        "\n"
      ]
    },
    {
      "cell_type": "code",
      "execution_count": null,
      "metadata": {
        "colab": {
          "base_uri": "https://localhost:8080/"
        },
        "id": "bqqGOATUxMTA",
        "outputId": "c57a27a9-7922-49dc-eef5-cb469d1e2dfe"
      },
      "outputs": [
        {
          "output_type": "execute_result",
          "data": {
            "text/plain": [
              "<Axes: title={'center': 'Companies that are stated in the first 1000 reviews of the train set'}>"
            ]
          },
          "metadata": {},
          "execution_count": 133
        },
        {
          "output_type": "display_data",
          "data": {
            "text/plain": [
              "<Figure size 640x480 with 1 Axes>"
            ],
            "image/png": "[encoded data removed]"
          },
          "metadata": {}
        }
      ],
      "source": [
        "org = X_train.Text[:1000].apply(lambda x :ner_label(x,'ORG'))\n",
        "org = [i for x in org for i in x]\n",
        "counter = Counter(org)\n",
        "x,y = map(list,zip(*counter.most_common(10)))\n",
        "plt.title('Companies that are stated in the first 1000 reviews of the train set')\n",
        "sns.barplot(x = y,y = x)"
      ]
    },
    {
      "cell_type": "code",
      "execution_count": null,
      "metadata": {
        "colab": {
          "base_uri": "https://localhost:8080/"
        },
        "id": "F-dVoeGTyIji",
        "outputId": "592b137d-fcd3-40d1-e006-407a98e63e98"
      },
      "outputs": [
        {
          "output_type": "execute_result",
          "data": {
            "text/plain": [
              "<Axes: title={'center': 'Cardinality that is stated in the first 1000 reviews of the train set'}>"
            ]
          },
          "metadata": {},
          "execution_count": 134
        },
        {
          "output_type": "display_data",
          "data": {
            "text/plain": [
              "<Figure size 640x480 with 1 Axes>"
            ],
            "image/png": "[encoded data removed]"
          },
          "metadata": {}
        }
      ],
      "source": [
        "card = X_train.Text[:1000].apply(lambda x :ner_label(x,'CARDINAL'))\n",
        "card = [i for x in card for i in x]\n",
        "counter = Counter(card)\n",
        "x,y = map(list,zip(*counter.most_common(10)))\n",
        "plt.title('Cardinality that is stated in the first 1000 reviews of the train set')\n",
        "sns.barplot(x = y,y = x)"
      ]
    },
    {
      "cell_type": "code",
      "execution_count": null,
      "metadata": {
        "colab": {
          "base_uri": "https://localhost:8080/"
        },
        "id": "yS9Unkfhy9Jc",
        "outputId": "08182f9a-4805-4661-d8d1-90090cc50da8"
      },
      "outputs": [
        {
          "output_type": "execute_result",
          "data": {
            "text/plain": [
              "<Axes: title={'center': 'People or brand that are stated in the first 1000 reviews of the train set'}>"
            ]
          },
          "metadata": {},
          "execution_count": 135
        },
        {
          "output_type": "display_data",
          "data": {
            "text/plain": [
              "<Figure size 640x480 with 1 Axes>"
            ],
            "image/png": "[encoded data removed]"
          },
          "metadata": {}
        }
      ],
      "source": [
        "person = X_train.Text[:1000].apply(lambda x :ner_label(x,'PERSON'))\n",
        "person = [i for x in person for i in x]\n",
        "counter = Counter(person)\n",
        "x,y = map(list,zip(*counter.most_common(10)))\n",
        "plt.title('People or brand that are stated in the first 1000 reviews of the train set')\n",
        "sns.barplot(x = y,y = x)"
      ]
    },
    {
      "cell_type": "code",
      "execution_count": null,
      "metadata": {
        "colab": {
          "base_uri": "https://localhost:8080/"
        },
        "id": "I-c23COXedJv",
        "outputId": "cee0914f-9905-4993-8244-c621653f0cf5"
      },
      "outputs": [
        {
          "output_type": "stream",
          "name": "stdout",
          "text": [
            "Requirement already satisfied: contractions in /usr/local/lib/python3.10/dist-packages (0.1.73)\n",
            "Requirement already satisfied: textsearch>=0.0.21 in /usr/local/lib/python3.10/dist-packages (from contractions) (0.0.24)\n",
            "Requirement already satisfied: anyascii in /usr/local/lib/python3.10/dist-packages (from textsearch>=0.0.21->contractions) (0.3.2)\n",
            "Requirement already satisfied: pyahocorasick in /usr/local/lib/python3.10/dist-packages (from textsearch>=0.0.21->contractions) (2.1.0)\n"
          ]
        }
      ],
      "source": [
        "! pip install contractions"
      ]
    },
    {
      "cell_type": "markdown",
      "metadata": {
        "id": "Fe4L02RKMGeN"
      },
      "source": [
        "### Preprocessing"
      ]
    },
    {
      "cell_type": "markdown",
      "source": [
        "#### Cleaning of the word + corpus (list with all the cleaned words)."
      ],
      "metadata": {
        "id": "ciICHGFzXCqQ"
      }
    },
    {
      "cell_type": "code",
      "execution_count": null,
      "metadata": {
        "id": "dIM6inlR67JE"
      },
      "outputs": [],
      "source": [
        "stop.update(['come','got','however','think','box','still','want','always','eating','brand','though','put','sure','using','eat','bag','stuff',\"try\",'bought','mix','think','way','since','like','one','one','would','get','also','time','use','amazon','product','make','good','taste','find','tried','food','taste','flavor','could','found','used','made'])"
      ]
    },
    {
      "cell_type": "code",
      "execution_count": null,
      "metadata": {
        "colab": {
          "base_uri": "https://localhost:8080/"
        },
        "id": "T3NIMdcS8PlM",
        "outputId": "332aa2ed-b35c-4f4e-cc10-a0933d7c8cc6"
      },
      "outputs": [
        {
          "output_type": "stream",
          "name": "stderr",
          "text": [
            "[nltk_data] Downloading package punkt to /root/nltk_data...\n",
            "[nltk_data]   Package punkt is already up-to-date!\n",
            "[nltk_data] Downloading package wordnet to /root/nltk_data...\n",
            "[nltk_data]   Package wordnet is already up-to-date!\n"
          ]
        }
      ],
      "source": [
        "import nltk\n",
        "from nltk.stem import PorterStemmer, WordNetLemmatizer\n",
        "from nltk.tokenize import word_tokenize\n",
        "from tqdm import tqdm\n",
        "import contractions\n",
        "import string\n",
        "nltk.download('punkt')\n",
        "nltk.download('wordnet')\n",
        "#our_stopwords = ['amazon','like','just','because','only','there','were','one','would','product','get','all','had','more','other','some','out','from','than','the','and','this','that','with','for','have','they','you','was','are','these','them','can','will','when','has','but']\n",
        "def preprocess_news(df):\n",
        "  ### function to clean each review\n",
        "    corpus=[]\n",
        "    lem=WordNetLemmatizer()\n",
        "    for review in tqdm(df.Text, desc = 'preprocessing'):\n",
        "      review = contractions.fix(review) # it removes all contractions (i'm -> i am)\n",
        "      clean_words = []\n",
        "      for w in word_tokenize(review): # each review is converted to a list of words. We do not have punctuations in the word (it is great, but -> 'it','is','great','but')\n",
        "        if (w.lower() not in stop and len(w)> 2):\n",
        "          no_punct = [char for char in w if char not in string.punctuation and not char.isdigit()]\n",
        "          words_wo_punct = ''.join(no_punct).lower()\n",
        "          if words_wo_punct and len(words_wo_punct) > 2 and words_wo_punct not in stop:\n",
        "            words_wo_punct = lem.lemmatize(words_wo_punct)  # lemmatize : reduce each word into a common base (cats -> cat) based on the dictionary form\n",
        "            clean_words.append(words_wo_punct)\n",
        "\n",
        "      corpus.append(clean_words)\n",
        "\n",
        "    return corpus"
      ]
    },
    {
      "cell_type": "code",
      "execution_count": null,
      "metadata": {
        "colab": {
          "base_uri": "https://localhost:8080/"
        },
        "id": "y0hExAVFKl6f",
        "outputId": "758876a2-5911-4455-e645-9a2ab18d1acd"
      },
      "outputs": [
        {
          "output_type": "stream",
          "name": "stderr",
          "text": [
            "preprocessing: 100%|██████████| 58885/58885 [01:00<00:00, 977.36it/s] \n"
          ]
        }
      ],
      "source": [
        "corpus_train = preprocess_news(X_train) # we get a list of each words preprocessed of each reviews"
      ]
    },
    {
      "cell_type": "code",
      "source": [
        "corpus_val = preprocess_news(X_val)"
      ],
      "metadata": {
        "colab": {
          "base_uri": "https://localhost:8080/"
        },
        "id": "bXfn6c5IinAU",
        "outputId": "b7fcadb7-38cf-4aea-8da8-4e69fa672948"
      },
      "execution_count": null,
      "outputs": [
        {
          "output_type": "stream",
          "name": "stderr",
          "text": [
            "preprocessing: 100%|██████████| 20715/20715 [00:21<00:00, 974.49it/s]\n"
          ]
        }
      ]
    },
    {
      "cell_type": "code",
      "execution_count": null,
      "metadata": {
        "colab": {
          "base_uri": "https://localhost:8080/",
          "height": 501
        },
        "id": "3NYgwNGORDC3",
        "outputId": "5e7cf1b9-b296-4018-864c-29920333f8ff"
      },
      "outputs": [
        {
          "output_type": "display_data",
          "data": {
            "text/plain": [
              "<Figure size 1200x1200 with 1 Axes>"
            ],
            "image/png": "[encoded data removed]"
          },
          "metadata": {}
        }
      ],
      "source": [
        "from wordcloud import WordCloud\n",
        "\n",
        "def show_wordcloud(data):\n",
        "    wordcloud = WordCloud(\n",
        "        background_color='white',\n",
        "        stopwords=stop,\n",
        "        max_words=100,\n",
        "        max_font_size=30,\n",
        "        scale=3,\n",
        "        random_state=1)\n",
        "\n",
        "    wordcloud=wordcloud.generate(str(data)) # generates the wordcloud based on text\n",
        "\n",
        "    fig = plt.figure(1, figsize=(12, 12))\n",
        "    plt.axis('off')\n",
        "\n",
        "    plt.imshow(wordcloud)\n",
        "    plt.show()\n",
        "\n",
        "show_wordcloud(corpus_train)"
      ]
    },
    {
      "cell_type": "markdown",
      "source": [
        "### Model"
      ],
      "metadata": {
        "id": "mEKDUvj5XOMS"
      }
    },
    {
      "cell_type": "markdown",
      "metadata": {
        "id": "28ey7Z52AwyO"
      },
      "source": [
        "#### Baseline models supervised"
      ]
    },
    {
      "cell_type": "markdown",
      "source": [
        "#### BOW using Tfidf"
      ],
      "metadata": {
        "id": "Ltjt9WbVgVyo"
      }
    },
    {
      "cell_type": "markdown",
      "source": [
        "##### Tfidf"
      ],
      "metadata": {
        "id": "bAMXNthgWC-Z"
      }
    },
    {
      "cell_type": "code",
      "source": [
        "preprocessed_texts_train = [' '.join(word_list) for word_list in corpus_train]\n",
        "preprocessed_texts_val = [' '.join(word_list) for word_list in corpus_val]"
      ],
      "metadata": {
        "id": "KTaTIQAnjc8q"
      },
      "execution_count": null,
      "outputs": []
    },
    {
      "cell_type": "code",
      "source": [
        "from sklearn.feature_extraction.text import TfidfVectorizer\n",
        "vectorizer = TfidfVectorizer(ngram_range = (1,3), stop_words = 'english',lowercase = True, min_df = 0.01, max_df = 0.7)\n",
        "X_train_tfidf = vectorizer.fit_transform(preprocessed_texts_train).toarray()\n",
        "#X_train_tfidf = X_train_tfidf.reshape(X_train_tfidf.shape[0], 1, X_train_tfidf.shape[1]) # reshape tfidf for lstm input"
      ],
      "metadata": {
        "id": "uUZbSEYTSs-M"
      },
      "execution_count": null,
      "outputs": []
    },
    {
      "cell_type": "code",
      "source": [
        "X_val_tfidf = vectorizer.transform(preprocessed_texts_val).toarray()\n"
      ],
      "metadata": {
        "id": "ZDt_Wgs6bb60"
      },
      "execution_count": null,
      "outputs": []
    },
    {
      "cell_type": "code",
      "source": [
        "X_train_tfidf.shape, X_val_tfidf.shape"
      ],
      "metadata": {
        "colab": {
          "base_uri": "https://localhost:8080/"
        },
        "id": "-aqFWauEVAjf",
        "outputId": "f05387f8-60a7-4918-c18e-50430f6dc24e"
      },
      "execution_count": null,
      "outputs": [
        {
          "output_type": "execute_result",
          "data": {
            "text/plain": [
              "((58885, 546), (20715, 546))"
            ]
          },
          "metadata": {},
          "execution_count": 145
        }
      ]
    },
    {
      "cell_type": "code",
      "source": [
        "from tensorflow.keras.utils import to_categorical\n",
        "y_train_ohe = to_categorical(y_train)\n",
        "y_val_ohe = to_categorical(y_val)"
      ],
      "metadata": {
        "id": "1-oG9ZspBb-X"
      },
      "execution_count": null,
      "outputs": []
    },
    {
      "cell_type": "markdown",
      "source": [
        "##### randomforestclassifier using tfidf"
      ],
      "metadata": {
        "id": "2bk4Sdz_l1tz"
      }
    },
    {
      "cell_type": "code",
      "source": [
        "from sklearn.ensemble import RandomForestClassifier\n",
        "rfc = RandomForestClassifier()\n",
        "rfc.fit(X_train_tfidf,y_train)\n",
        "y_pred_rfc = rfc.predict(X_val_tfidf)"
      ],
      "metadata": {
        "id": "RFIi5zymkp3b"
      },
      "execution_count": null,
      "outputs": []
    },
    {
      "cell_type": "code",
      "source": [
        "print(classification_report(y_val,y_pred_rfc))"
      ],
      "metadata": {
        "colab": {
          "base_uri": "https://localhost:8080/"
        },
        "id": "Nif0bSyDlNiF",
        "outputId": "8dedac1d-e568-4097-aacd-4af79626dd51"
      },
      "execution_count": null,
      "outputs": [
        {
          "output_type": "stream",
          "name": "stdout",
          "text": [
            "              precision    recall  f1-score   support\n",
            "\n",
            "           0       0.73      0.36      0.48      3090\n",
            "           1       0.84      0.11      0.19      1542\n",
            "           2       0.83      0.98      0.90     16083\n",
            "\n",
            "    accuracy                           0.82     20715\n",
            "   macro avg       0.80      0.48      0.52     20715\n",
            "weighted avg       0.82      0.82      0.78     20715\n",
            "\n"
          ]
        }
      ]
    },
    {
      "cell_type": "markdown",
      "source": [
        "#### Clustering reviews"
      ],
      "metadata": {
        "id": "T3DFylWDbeTi"
      }
    },
    {
      "cell_type": "markdown",
      "source": [
        "##### KMeans tfidf"
      ],
      "metadata": {
        "id": "J4R60WcYfPWJ"
      }
    },
    {
      "cell_type": "code",
      "source": [
        "words = vectorizer.get_feature_names_out()"
      ],
      "metadata": {
        "id": "4QD48Ryqgkrl"
      },
      "execution_count": null,
      "outputs": []
    },
    {
      "cell_type": "code",
      "source": [
        "from sklearn.cluster import KMeans\n",
        "kmeans = KMeans(n_clusters = 10)\n",
        "#fit the data\n",
        "kmeans.fit(X_train_tfidf)\n",
        "#this loop transforms the numbers back into words\n",
        "common_words = kmeans.cluster_centers_.argsort()[:,-1:-11:-1]\n",
        "for num, centroid in enumerate(common_words):\n",
        "    print(str(num) + ' : ' + ', '.join(words[word] for word in centroid))"
      ],
      "metadata": {
        "colab": {
          "base_uri": "https://localhost:8080/"
        },
        "id": "8lJPJHHugxRK",
        "outputId": "eb5553c1-0155-4338-f18a-8b646a9fc29f"
      },
      "execution_count": null,
      "outputs": [
        {
          "output_type": "stream",
          "name": "stderr",
          "text": [
            "/usr/local/lib/python3.10/dist-packages/sklearn/cluster/_kmeans.py:870: FutureWarning: The default value of `n_init` will change from 10 to 'auto' in 1.4. Set the value of `n_init` explicitly to suppress the warning\n",
            "  warnings.warn(\n"
          ]
        },
        {
          "output_type": "stream",
          "name": "stdout",
          "text": [
            "0 : great, love, price, snack, great price, buy, really, taste, taste great, store\n",
            "1 : love, really, buy, store, best, price, little, better, order, year\n",
            "2 : coffee, cup, roast, strong, drink, cup coffee, blend, great, kcups, keurig\n",
            "3 : dog, treat, love, dog love, chew, toy, teeth, great, small, pet\n",
            "4 : chip, potato, potato chip, salt, love, vinegar, snack, great, bag, calorie\n",
            "5 : tea, green, green tea, drink, cup, love, stash, iced, chai, great\n",
            "6 : bar, snack, chocolate, nut, love, great, protein, candy, kind, delicious\n",
            "7 : chocolate, dark, dark chocolate, cocoa, cooky, milk, hot, almond, love, cookie\n",
            "8 : drink, water, coconut, juice, energy, sugar, soda, cherry, bottle, refreshing\n",
            "9 : cat, treat, love, chicken, dry, vet, diet, pet, food, ingredient\n"
          ]
        }
      ]
    },
    {
      "cell_type": "code",
      "source": [
        "kmeans.labels_"
      ],
      "metadata": {
        "colab": {
          "base_uri": "https://localhost:8080/"
        },
        "id": "EbCIhYm1l3Ud",
        "outputId": "abe56965-e4cb-45be-e289-f6b172091463"
      },
      "execution_count": null,
      "outputs": [
        {
          "output_type": "execute_result",
          "data": {
            "text/plain": [
              "array([3, 1, 1, ..., 1, 0, 1], dtype=int32)"
            ]
          },
          "metadata": {},
          "execution_count": 151
        }
      ]
    },
    {
      "cell_type": "markdown",
      "source": [
        "##### KMeans with Word2Vec"
      ],
      "metadata": {
        "id": "1MiqJhsxmMm9"
      }
    },
    {
      "cell_type": "code",
      "source": [
        "from gensim.models import Word2Vec\n",
        "model_word2vec = Word2Vec(corpus_train, vector_size = 500, min_count = 10, workers =4)"
      ],
      "metadata": {
        "id": "qY3CI4Oopx-n"
      },
      "execution_count": null,
      "outputs": []
    },
    {
      "cell_type": "code",
      "source": [
        "word_embeddings = model_word2vec.wv"
      ],
      "metadata": {
        "id": "yJ3Vt280pXEM"
      },
      "execution_count": null,
      "outputs": []
    },
    {
      "cell_type": "code",
      "source": [
        "embedding_vectors = [word_embeddings[word] for word in word_embeddings.key_to_index]"
      ],
      "metadata": {
        "id": "4si6mOQerkkT"
      },
      "execution_count": null,
      "outputs": []
    },
    {
      "cell_type": "code",
      "source": [
        "kmeans_w2v = KMeans(n_clusters = 10)\n",
        "#fit the data\n",
        "kmeans_w2v.fit(embedding_vectors)\n",
        "#this loop transforms the numbers back into words\n",
        "common_words = kmeans_w2v.cluster_centers_.argsort()[:,-1:-11:-1] # extract top10 words closest to each cluster for each clusters\n",
        "for num, centroid in enumerate(common_words):\n",
        "    print(str(num) + ' : ' + ', '.join(words[word] for word in centroid))"
      ],
      "metadata": {
        "colab": {
          "base_uri": "https://localhost:8080/"
        },
        "id": "5Ctgvz17rKFl",
        "outputId": "1f7da41d-c834-4a8e-fe91-b80662ef2099"
      },
      "execution_count": null,
      "outputs": [
        {
          "output_type": "stream",
          "name": "stderr",
          "text": [
            "/usr/local/lib/python3.10/dist-packages/sklearn/cluster/_kmeans.py:870: FutureWarning: The default value of `n_init` will change from 10 to 'auto' in 1.4. Set the value of `n_init` explicitly to suppress the warning\n",
            "  warnings.warn(\n"
          ]
        },
        {
          "output_type": "stream",
          "name": "stdout",
          "text": [
            "0 : serving, money, baby, drinking, hard, keurig, house, texture, glad, snack\n",
            "1 : hard, best, help, expect, pay, flavorful, keurig, kcups, decaf, long\n",
            "2 : extremely, cheaper, thank, addition, hope, life, decaf, noodle, mind, butter\n",
            "3 : help, say, liquid, regular, protein, able, review, loved, buy, home\n",
            "4 : pay, fiber, started, orange, like, definitely, plain, getting, giving, noticed\n",
            "5 : cook, gave, said, item, tasted, local store, ago, filling, dog, old\n",
            "6 : meat, overall, small, cream, carry, gluten free, ordered, substitute, difficult, contain\n",
            "7 : easily, dish, keurig, cheaper, hard, purchased, flavored, coconut, powder, open\n",
            "8 : chai, starbucks, glad, store, brand, matter, tea, loved, expect, friend\n",
            "9 : pay, salad, salt, olive, giving, star, called, healthier, protein, bar\n"
          ]
        }
      ]
    },
    {
      "cell_type": "markdown",
      "source": [
        "#### Sparse matrix"
      ],
      "metadata": {
        "id": "p3-dMRQTZa0M"
      }
    },
    {
      "cell_type": "code",
      "source": [
        "import gensim\n",
        "dic=gensim.corpora.Dictionary(corpus_train) # assign an id to each unique word of corpus\n",
        "bow_corpus = [dic.doc2bow(doc) for doc in corpus_train]"
      ],
      "metadata": {
        "id": "b5ceEIZYZDNB"
      },
      "execution_count": null,
      "outputs": []
    },
    {
      "cell_type": "code",
      "execution_count": null,
      "metadata": {
        "id": "0VYY7ce9l4-x"
      },
      "outputs": [],
      "source": [
        "from scipy.sparse import csr_matrix\n",
        "from sklearn.linear_model import LinearRegression\n",
        "\n",
        "rows, cols, data = [], [], []\n",
        "for i, document in enumerate(bow_corpus):\n",
        "    for word_index, word_count in document:\n",
        "        rows.append(i)\n",
        "        cols.append(word_index)\n",
        "        data.append(word_count)\n",
        "\n",
        "# Create a sparse matrix\n",
        "num_docs = len(bow_corpus)\n",
        "num_words = len(set(cols))\n",
        "X_sparse = csr_matrix((data, (rows, cols)), shape=(num_docs, num_words))\n",
        "# it creates a matrix where features are each words and each rows corresponds to a review\n"
      ]
    },
    {
      "cell_type": "code",
      "execution_count": null,
      "metadata": {
        "colab": {
          "base_uri": "https://localhost:8080/"
        },
        "id": "VBPDfW3iTqvi",
        "outputId": "329d76c5-ff76-4761-85ab-1953a49b743e"
      },
      "outputs": [
        {
          "output_type": "execute_result",
          "data": {
            "text/plain": [
              "(58885, 47232)"
            ]
          },
          "metadata": {},
          "execution_count": 158
        }
      ],
      "source": [
        "X_sparse.shape"
      ]
    },
    {
      "cell_type": "markdown",
      "metadata": {
        "id": "U5aqqdmMT3ff"
      },
      "source": [
        "We have too many features. We need to proceed to feature selection. We remove features that have less than 100 non zeros values."
      ]
    },
    {
      "cell_type": "code",
      "execution_count": null,
      "metadata": {
        "id": "228DVAMGSjTs"
      },
      "outputs": [],
      "source": [
        "threshold = 100\n",
        "non_zero_counts = X_sparse.getnnz(axis=0) # we get an array with the number of zeros per column\n",
        "columns_to_keep = (non_zero_counts >= threshold).reshape(-1)\n",
        "X_sparse_filtered = X_sparse[:, columns_to_keep]\n",
        "X_sparse_filtered = csr_matrix(X_sparse_filtered)"
      ]
    },
    {
      "cell_type": "code",
      "execution_count": null,
      "metadata": {
        "colab": {
          "base_uri": "https://localhost:8080/"
        },
        "id": "8vk9j8s3Sb7l",
        "outputId": "d3bbb60d-1258-4280-beec-fb9be641a5c1"
      },
      "outputs": [
        {
          "output_type": "execute_result",
          "data": {
            "text/plain": [
              "(58885, 2282)"
            ]
          },
          "metadata": {},
          "execution_count": 160
        }
      ],
      "source": [
        "X_sparse_filtered.shape"
      ]
    },
    {
      "cell_type": "code",
      "source": [
        "from sklearn.model_selection import train_test_split\n",
        "X_train_sparse, X_test_sparse, y_train_sparse, y_test_sparse = train_test_split(X_sparse_filtered, y_train, test_size=0.2, random_state=42)"
      ],
      "metadata": {
        "id": "Trc0kv1YY-Pi"
      },
      "execution_count": null,
      "outputs": []
    },
    {
      "cell_type": "markdown",
      "metadata": {
        "id": "Pw1oPlsAg7mO"
      },
      "source": [
        "#### logisticregression using sparse matrix"
      ]
    },
    {
      "cell_type": "code",
      "execution_count": null,
      "metadata": {
        "colab": {
          "base_uri": "https://localhost:8080/"
        },
        "id": "mCifeopMmgME",
        "outputId": "b89580ab-daca-4a10-f9f3-753ff2ebefb8"
      },
      "outputs": [
        {
          "output_type": "stream",
          "name": "stdout",
          "text": [
            "              precision    recall  f1-score   support\n",
            "\n",
            "           0       0.69      0.59      0.64      1749\n",
            "           1       0.35      0.17      0.23       917\n",
            "           2       0.88      0.95      0.92      9111\n",
            "\n",
            "    accuracy                           0.84     11777\n",
            "   macro avg       0.64      0.57      0.59     11777\n",
            "weighted avg       0.81      0.84      0.82     11777\n",
            "\n"
          ]
        },
        {
          "output_type": "stream",
          "name": "stderr",
          "text": [
            "/usr/local/lib/python3.10/dist-packages/sklearn/linear_model/_logistic.py:458: ConvergenceWarning: lbfgs failed to converge (status=1):\n",
            "STOP: TOTAL NO. of ITERATIONS REACHED LIMIT.\n",
            "\n",
            "Increase the number of iterations (max_iter) or scale the data as shown in:\n",
            "    https://scikit-learn.org/stable/modules/preprocessing.html\n",
            "Please also refer to the documentation for alternative solver options:\n",
            "    https://scikit-learn.org/stable/modules/linear_model.html#logistic-regression\n",
            "  n_iter_i = _check_optimize_result(\n"
          ]
        }
      ],
      "source": [
        "from sklearn.metrics import classification_report\n",
        "from sklearn.linear_model import LogisticRegression\n",
        "\n",
        "model = LogisticRegression()\n",
        "model.fit(X_train_sparse, y_train_sparse)\n",
        "y_pred = model.predict(X_test_sparse)\n",
        "\n",
        "class_report_lr = classification_report(y_test_sparse,y_pred)\n",
        "print(class_report_lr)"
      ]
    },
    {
      "cell_type": "markdown",
      "metadata": {
        "id": "XkmeVyeDnLpW"
      },
      "source": [
        "We get an accuracy of 0.69 for our baseline model.\n",
        "Precisions and recalls of each labels are very poor except the label 5 as it is the predominant one of our dataset."
      ]
    },
    {
      "cell_type": "markdown",
      "source": [
        "#### logisticregression using tfidf"
      ],
      "metadata": {
        "id": "Nj-YPIU_mxPr"
      }
    },
    {
      "cell_type": "code",
      "source": [
        "model_lrtf = LogisticRegression()\n",
        "model_lrtf.fit(X_train_tfidf, y_train)\n",
        "y_pred_lrtf = model_lrtf.predict(X_val_tfidf)\n",
        "\n",
        "class_report_lrtf = classification_report(y_val,y_pred_lrtf)\n",
        "print(class_report_lrtf)"
      ],
      "metadata": {
        "colab": {
          "base_uri": "https://localhost:8080/"
        },
        "id": "T3fhrjgRm0KI",
        "outputId": "a4b13937-c305-4a4d-eb5e-c7509fc92d54"
      },
      "execution_count": null,
      "outputs": [
        {
          "output_type": "stream",
          "name": "stdout",
          "text": [
            "              precision    recall  f1-score   support\n",
            "\n",
            "           0       0.62      0.45      0.52      3090\n",
            "           1       0.46      0.05      0.10      1542\n",
            "           2       0.85      0.96      0.90     16083\n",
            "\n",
            "    accuracy                           0.82     20715\n",
            "   macro avg       0.64      0.49      0.51     20715\n",
            "weighted avg       0.78      0.82      0.79     20715\n",
            "\n"
          ]
        },
        {
          "output_type": "stream",
          "name": "stderr",
          "text": [
            "/usr/local/lib/python3.10/dist-packages/sklearn/linear_model/_logistic.py:458: ConvergenceWarning: lbfgs failed to converge (status=1):\n",
            "STOP: TOTAL NO. of ITERATIONS REACHED LIMIT.\n",
            "\n",
            "Increase the number of iterations (max_iter) or scale the data as shown in:\n",
            "    https://scikit-learn.org/stable/modules/preprocessing.html\n",
            "Please also refer to the documentation for alternative solver options:\n",
            "    https://scikit-learn.org/stable/modules/linear_model.html#logistic-regression\n",
            "  n_iter_i = _check_optimize_result(\n"
          ]
        }
      ]
    },
    {
      "cell_type": "markdown",
      "metadata": {
        "id": "guRUF0krLYOE"
      },
      "source": [
        "#### knn"
      ]
    },
    {
      "cell_type": "code",
      "execution_count": null,
      "metadata": {
        "colab": {
          "base_uri": "https://localhost:8080/"
        },
        "id": "9bvdmYiaLRG4",
        "outputId": "bc9dc51b-e5c8-46fa-f19c-1f4392e57e5c"
      },
      "outputs": [
        {
          "output_type": "stream",
          "name": "stdout",
          "text": [
            "              precision    recall  f1-score   support\n",
            "\n",
            "           0       0.41      0.21      0.28      3090\n",
            "           1       0.26      0.06      0.10      1542\n",
            "           2       0.81      0.94      0.87     16083\n",
            "\n",
            "    accuracy                           0.77     20715\n",
            "   macro avg       0.49      0.40      0.41     20715\n",
            "weighted avg       0.71      0.77      0.72     20715\n",
            "\n"
          ]
        }
      ],
      "source": [
        "from sklearn.neighbors import KNeighborsClassifier\n",
        "knn = KNeighborsClassifier()\n",
        "knn.fit(X_train_tfidf,y_train)\n",
        "y_pred_knn = knn.predict(X_val_tfidf)\n",
        "print(classification_report(y_val,y_pred_knn))"
      ]
    },
    {
      "cell_type": "markdown",
      "metadata": {
        "id": "Hz_WDI9xL3qN"
      },
      "source": [
        "We get very poor results : accuracy of 0.61 and precisions and recalls very low for the first four classes."
      ]
    },
    {
      "cell_type": "markdown",
      "metadata": {
        "id": "A3L0aQ50F2fP"
      },
      "source": [
        "#### dummyclassifier"
      ]
    },
    {
      "cell_type": "code",
      "execution_count": null,
      "metadata": {
        "colab": {
          "base_uri": "https://localhost:8080/"
        },
        "id": "nZ3neo91lE3l",
        "outputId": "9b29c203-86ed-4ac8-c89f-26365a015c08"
      },
      "outputs": [
        {
          "output_type": "stream",
          "name": "stdout",
          "text": [
            "Strategy = most_frequent : \n",
            "              precision    recall  f1-score   support\n",
            "\n",
            "           0       0.00      0.00      0.00      3090\n",
            "           1       0.00      0.00      0.00      1542\n",
            "           2       0.78      1.00      0.87     16083\n",
            "\n",
            "    accuracy                           0.78     20715\n",
            "   macro avg       0.26      0.33      0.29     20715\n",
            "weighted avg       0.60      0.78      0.68     20715\n",
            "\n",
            "\n",
            "\n",
            "Strategy = prior : \n",
            "              precision    recall  f1-score   support\n",
            "\n",
            "           0       0.00      0.00      0.00      3090\n",
            "           1       0.00      0.00      0.00      1542\n",
            "           2       0.78      1.00      0.87     16083\n",
            "\n",
            "    accuracy                           0.78     20715\n",
            "   macro avg       0.26      0.33      0.29     20715\n",
            "weighted avg       0.60      0.78      0.68     20715\n",
            "\n",
            "\n",
            "\n",
            "Strategy = stratified : \n",
            "              precision    recall  f1-score   support\n",
            "\n",
            "           0       0.15      0.15      0.15      3090\n",
            "           1       0.08      0.08      0.08      1542\n",
            "           2       0.78      0.78      0.78     16083\n",
            "\n",
            "    accuracy                           0.63     20715\n",
            "   macro avg       0.33      0.33      0.33     20715\n",
            "weighted avg       0.63      0.63      0.63     20715\n",
            "\n",
            "\n",
            "\n",
            "Strategy = uniform : \n",
            "              precision    recall  f1-score   support\n",
            "\n",
            "           0       0.15      0.33      0.21      3090\n",
            "           1       0.07      0.31      0.11      1542\n",
            "           2       0.77      0.34      0.47     16083\n",
            "\n",
            "    accuracy                           0.33     20715\n",
            "   macro avg       0.33      0.33      0.26     20715\n",
            "weighted avg       0.63      0.33      0.40     20715\n",
            "\n",
            "\n",
            "\n"
          ]
        },
        {
          "output_type": "stream",
          "name": "stderr",
          "text": [
            "/usr/local/lib/python3.10/dist-packages/sklearn/metrics/_classification.py:1344: UndefinedMetricWarning: Precision and F-score are ill-defined and being set to 0.0 in labels with no predicted samples. Use `zero_division` parameter to control this behavior.\n",
            "  _warn_prf(average, modifier, msg_start, len(result))\n",
            "/usr/local/lib/python3.10/dist-packages/sklearn/metrics/_classification.py:1344: UndefinedMetricWarning: Precision and F-score are ill-defined and being set to 0.0 in labels with no predicted samples. Use `zero_division` parameter to control this behavior.\n",
            "  _warn_prf(average, modifier, msg_start, len(result))\n",
            "/usr/local/lib/python3.10/dist-packages/sklearn/metrics/_classification.py:1344: UndefinedMetricWarning: Precision and F-score are ill-defined and being set to 0.0 in labels with no predicted samples. Use `zero_division` parameter to control this behavior.\n",
            "  _warn_prf(average, modifier, msg_start, len(result))\n",
            "/usr/local/lib/python3.10/dist-packages/sklearn/metrics/_classification.py:1344: UndefinedMetricWarning: Precision and F-score are ill-defined and being set to 0.0 in labels with no predicted samples. Use `zero_division` parameter to control this behavior.\n",
            "  _warn_prf(average, modifier, msg_start, len(result))\n",
            "/usr/local/lib/python3.10/dist-packages/sklearn/metrics/_classification.py:1344: UndefinedMetricWarning: Precision and F-score are ill-defined and being set to 0.0 in labels with no predicted samples. Use `zero_division` parameter to control this behavior.\n",
            "  _warn_prf(average, modifier, msg_start, len(result))\n",
            "/usr/local/lib/python3.10/dist-packages/sklearn/metrics/_classification.py:1344: UndefinedMetricWarning: Precision and F-score are ill-defined and being set to 0.0 in labels with no predicted samples. Use `zero_division` parameter to control this behavior.\n",
            "  _warn_prf(average, modifier, msg_start, len(result))\n"
          ]
        }
      ],
      "source": [
        "from sklearn.dummy import DummyClassifier\n",
        "strat = ['most_frequent','prior','stratified','uniform']\n",
        "for strategy in strat:\n",
        "  dummy_clf = DummyClassifier(strategy = strategy)\n",
        "  dummy_clf.fit(X_train_tfidf,y_train)\n",
        "  y_pred_dumm = dummy_clf.predict(X_val_tfidf)\n",
        "  print(f'Strategy = {strategy} : ')\n",
        "  print(classification_report(y_val,y_pred_dumm))\n",
        "  print('\\n')"
      ]
    },
    {
      "cell_type": "markdown",
      "metadata": {
        "id": "mmtmDf0VG376"
      },
      "source": [
        "- Strategy = 'most_frequent' : As we are predicting all our samples at the most frequent score, we get an accuracy of 0.63 but precision and recall of 0 for all first 4 classes.\n",
        "- Strategy = 'prior' : As we are predicting all our samples at the most frequent score, we get an accuracy of 0.63 but precision and recall of 0 for all first 4 classes.\n",
        "- Strategy = 'stratified' : As we are predicting samples based on the distribution of the target variable, we do not get 0s for precisions and recall. We get an accuracy of 0.42 lower than for the previous two strategies.\n",
        "- Strategy = 'uniform' : As we predict each sample randomly we get almost the same precisions and recalls for each labels. However, as we have a majority of label 5 in our dataset, we get a very low accuracy of 0.2"
      ]
    },
    {
      "cell_type": "markdown",
      "source": [
        "#### LSTM model using Tfidf"
      ],
      "metadata": {
        "id": "JBvf30cIWYOS"
      }
    },
    {
      "cell_type": "code",
      "source": [
        "X_train_tfidf_lstm = X_train_tfidf.reshape(X_train_tfidf.shape[0], 1, X_train_tfidf.shape[1])\n",
        "X_val_tfidf_lstm = X_val_tfidf.reshape(X_val_tfidf.shape[0], 1, X_val_tfidf.shape[1])"
      ],
      "metadata": {
        "id": "tXK_11dIBD2G"
      },
      "execution_count": null,
      "outputs": []
    },
    {
      "cell_type": "code",
      "source": [
        "from tensorflow.keras.models import Sequential\n",
        "from tensorflow.keras.layers import LSTM, Dense, Embedding, Dropout\n",
        "model = Sequential([LSTM(128,input_shape = (1,X_train_tfidf.shape[1]),return_sequences = True),\n",
        "                    LSTM(128,return_sequences = True),\n",
        "                    LSTM(128),\n",
        "                    Dense(20, activation = 'relu'),\n",
        "                    Dense(3,activation = 'softmax')])"
      ],
      "metadata": {
        "id": "hL6-2hTHdAUb"
      },
      "execution_count": null,
      "outputs": []
    },
    {
      "cell_type": "code",
      "source": [
        "model.compile(loss = 'categorical_crossentropy', optimizer = 'adam', metrics = ['accuracy'])"
      ],
      "metadata": {
        "id": "am9TLdttnLqk"
      },
      "execution_count": null,
      "outputs": []
    },
    {
      "cell_type": "code",
      "source": [
        "from tensorflow.keras.callbacks import EarlyStopping\n",
        "early_stopping = EarlyStopping(monitor = 'val_loss', patience = 3, restore_best_weights = True)\n",
        "model.fit(X_train_tfidf_lstm,y_train_ohe, epochs = 5, batch_size = 16, validation_split = 0.2, callbacks = [early_stopping])"
      ],
      "metadata": {
        "colab": {
          "base_uri": "https://localhost:8080/"
        },
        "id": "VvrOiyMVnRw3",
        "outputId": "3a126118-22d0-48d1-808f-5645ebe321b1"
      },
      "execution_count": null,
      "outputs": [
        {
          "output_type": "stream",
          "name": "stdout",
          "text": [
            "Epoch 1/5\n",
            "2945/2945 [==============================] - 36s 9ms/step - loss: 0.5243 - accuracy: 0.8090 - val_loss: 0.5292 - val_accuracy: 0.8051\n",
            "Epoch 2/5\n",
            "2945/2945 [==============================] - 25s 8ms/step - loss: 0.4853 - accuracy: 0.8194 - val_loss: 0.5211 - val_accuracy: 0.8032\n",
            "Epoch 3/5\n",
            "2945/2945 [==============================] - 26s 9ms/step - loss: 0.4727 - accuracy: 0.8234 - val_loss: 0.5260 - val_accuracy: 0.8037\n",
            "Epoch 4/5\n",
            "2945/2945 [==============================] - 26s 9ms/step - loss: 0.4658 - accuracy: 0.8238 - val_loss: 0.5249 - val_accuracy: 0.8078\n",
            "Epoch 5/5\n",
            "2945/2945 [==============================] - 26s 9ms/step - loss: 0.4574 - accuracy: 0.8274 - val_loss: 0.5295 - val_accuracy: 0.8078\n"
          ]
        },
        {
          "output_type": "execute_result",
          "data": {
            "text/plain": [
              "<keras.src.callbacks.History at 0x7f9c247cb8e0>"
            ]
          },
          "metadata": {},
          "execution_count": 169
        }
      ]
    },
    {
      "cell_type": "code",
      "source": [
        "model.evaluate(X_val_tfidf_lstm, y_val_ohe)"
      ],
      "metadata": {
        "colab": {
          "base_uri": "https://localhost:8080/"
        },
        "id": "Zduy_x4JbYAR",
        "outputId": "cf871d0d-84f0-4c1d-d002-5e7892b0a32d"
      },
      "execution_count": null,
      "outputs": [
        {
          "output_type": "stream",
          "name": "stdout",
          "text": [
            "648/648 [==============================] - 3s 4ms/step - loss: 0.4869 - accuracy: 0.8161\n"
          ]
        },
        {
          "output_type": "execute_result",
          "data": {
            "text/plain": [
              "[0.48693951964378357, 0.8161236047744751]"
            ]
          },
          "metadata": {},
          "execution_count": 170
        }
      ]
    },
    {
      "cell_type": "code",
      "source": [
        "predictions = model.predict(X_val_tfidf_lstm)\n"
      ],
      "metadata": {
        "colab": {
          "base_uri": "https://localhost:8080/"
        },
        "id": "o70YRap9tSRt",
        "outputId": "f2fa7bd9-5851-417d-b5f6-9f7e8aa517bb"
      },
      "execution_count": null,
      "outputs": [
        {
          "output_type": "stream",
          "name": "stdout",
          "text": [
            "648/648 [==============================] - 3s 3ms/step\n"
          ]
        }
      ]
    },
    {
      "cell_type": "code",
      "source": [
        "y_val_pred_tfidf_lstm = np.argmax(predictions, axis = 1)"
      ],
      "metadata": {
        "id": "IR-bEbl4tmEi"
      },
      "execution_count": null,
      "outputs": []
    },
    {
      "cell_type": "code",
      "source": [
        "from sklearn.metrics import classification_report\n",
        "print(classification_report(y_val_pred_tfidf_lstm,y_val))"
      ],
      "metadata": {
        "colab": {
          "base_uri": "https://localhost:8080/"
        },
        "id": "UZPIEMu5tb3O",
        "outputId": "7f1d1f30-29a4-4f93-8f3a-4f49034a36cf"
      },
      "execution_count": null,
      "outputs": [
        {
          "output_type": "stream",
          "name": "stdout",
          "text": [
            "              precision    recall  f1-score   support\n",
            "\n",
            "           0       0.51      0.58      0.54      2712\n",
            "           1       0.01      0.45      0.02        38\n",
            "           2       0.95      0.85      0.90     17965\n",
            "\n",
            "    accuracy                           0.82     20715\n",
            "   macro avg       0.49      0.63      0.49     20715\n",
            "weighted avg       0.89      0.82      0.85     20715\n",
            "\n"
          ]
        }
      ]
    },
    {
      "cell_type": "code",
      "source": [
        "from sklearn.metrics import confusion_matrix\n",
        "print(confusion_matrix(y_val_pred_tfidf_lstm,y_val))"
      ],
      "metadata": {
        "colab": {
          "base_uri": "https://localhost:8080/"
        },
        "id": "qU24mXy0Dw0F",
        "outputId": "ba2bcb9e-3326-406b-d51a-263d3cd67e99"
      },
      "execution_count": null,
      "outputs": [
        {
          "output_type": "stream",
          "name": "stdout",
          "text": [
            "[[ 1571   383   758]\n",
            " [   14    17     7]\n",
            " [ 1505  1142 15318]]\n"
          ]
        }
      ]
    },
    {
      "cell_type": "markdown",
      "source": [
        "#### LSTM model using Word2Vec"
      ],
      "metadata": {
        "id": "GO00aWePF8V4"
      }
    },
    {
      "cell_type": "code",
      "source": [
        "from gensim.models import Word2Vec\n",
        "word2vec_model = Word2Vec(corpus_train,vector_size = 500,min_count = 10, sg = 1, workers = 5)"
      ],
      "metadata": {
        "id": "HUx36eJAGB9O"
      },
      "execution_count": null,
      "outputs": []
    },
    {
      "cell_type": "code",
      "source": [
        "word_embeddings = word2vec_model.wv # vectors of embedded words"
      ],
      "metadata": {
        "id": "-fD9H5nvHI6U"
      },
      "execution_count": null,
      "outputs": []
    },
    {
      "cell_type": "code",
      "source": [
        "embedding_dim = word_embeddings.vector_size #number of features"
      ],
      "metadata": {
        "id": "OfG_1tDGIYji"
      },
      "execution_count": null,
      "outputs": []
    },
    {
      "cell_type": "code",
      "source": [
        "from tensorflow.keras.preprocessing.text import Tokenizer\n",
        "max_len = 70\n",
        "tokenizer = Tokenizer()\n",
        "tokenizer.fit_on_texts(corpus_train)"
      ],
      "metadata": {
        "id": "Xyn-gbaELxYU"
      },
      "execution_count": null,
      "outputs": []
    },
    {
      "cell_type": "code",
      "source": [
        "X_train_lstm_w2v = tokenizer.texts_to_sequences(corpus_train)\n",
        "X_val_lstm_w2v = tokenizer.texts_to_sequences(corpus_val)"
      ],
      "metadata": {
        "id": "ZToIkUHIMcfm"
      },
      "execution_count": null,
      "outputs": []
    },
    {
      "cell_type": "code",
      "source": [
        "from tensorflow.keras.preprocessing.sequence import pad_sequences\n",
        "X_train_lstm_w2v = pad_sequences(X_train_lstm_w2v, maxlen = max_len)\n",
        "X_val_lstm_w2v = pad_sequences(X_val_lstm_w2v, maxlen = max_len)"
      ],
      "metadata": {
        "id": "h6FvzRXqMiv3"
      },
      "execution_count": null,
      "outputs": []
    },
    {
      "cell_type": "code",
      "source": [
        "vocab_size = np.max(X_train_lstm_w2v) +1\n",
        "embedding_matrix = np.zeros((vocab_size,embedding_dim))\n",
        "for word, index in tokenizer.word_index.items():\n",
        "    if word in word_embeddings:\n",
        "        embedding_matrix[index] = word_embeddings[word]"
      ],
      "metadata": {
        "id": "Lbwkyh6yNYt8"
      },
      "execution_count": null,
      "outputs": []
    },
    {
      "cell_type": "code",
      "source": [
        "model_w2v = Sequential([Embedding(input_dim = vocab_size, output_dim = embedding_dim, weights = [embedding_matrix],input_length = max_len, trainable = False),\n",
        "                        LSTM(128,return_sequences = True),\n",
        "                        LSTM(128,return_sequences = True),\n",
        "                        LSTM(128),\n",
        "                        Dense(20, activation = 'relu'),\n",
        "                        Dense(3,activation = 'softmax')])\n"
      ],
      "metadata": {
        "id": "iKw2GfzGIiHz"
      },
      "execution_count": null,
      "outputs": []
    },
    {
      "cell_type": "code",
      "source": [
        "model_w2v.compile(loss = 'categorical_crossentropy', optimizer = 'adam', metrics = ['accuracy'])"
      ],
      "metadata": {
        "id": "UikGVp1mKG90"
      },
      "execution_count": null,
      "outputs": []
    },
    {
      "cell_type": "code",
      "source": [
        "early_stopping = EarlyStopping(monitor = 'val_loss', patience = 3, restore_best_weights = True)\n",
        "model_w2v.fit(X_train_lstm_w2v,y_train_ohe, epochs = 20, batch_size = 64, validation_split = 0.2, callbacks = [early_stopping])"
      ],
      "metadata": {
        "colab": {
          "base_uri": "https://localhost:8080/"
        },
        "id": "OCgkCdhkKIyP",
        "outputId": "d8d192e7-1972-40a6-9fb6-fbdc270998a6"
      },
      "execution_count": null,
      "outputs": [
        {
          "output_type": "stream",
          "name": "stdout",
          "text": [
            "Epoch 1/20\n",
            "737/737 [==============================] - 194s 255ms/step - loss: 0.4809 - accuracy: 0.8261 - val_loss: 0.4573 - val_accuracy: 0.8312\n",
            "Epoch 2/20\n",
            "737/737 [==============================] - 190s 258ms/step - loss: 0.4203 - accuracy: 0.8441 - val_loss: 0.4351 - val_accuracy: 0.8355\n",
            "Epoch 3/20\n",
            "737/737 [==============================] - 188s 255ms/step - loss: 0.3992 - accuracy: 0.8510 - val_loss: 0.4331 - val_accuracy: 0.8401\n",
            "Epoch 4/20\n",
            "737/737 [==============================] - 188s 255ms/step - loss: 0.3781 - accuracy: 0.8585 - val_loss: 0.4336 - val_accuracy: 0.8427\n",
            "Epoch 5/20\n",
            "737/737 [==============================] - 189s 257ms/step - loss: 0.3560 - accuracy: 0.8663 - val_loss: 0.4278 - val_accuracy: 0.8341\n",
            "Epoch 6/20\n",
            "737/737 [==============================] - 192s 260ms/step - loss: 0.3284 - accuracy: 0.8768 - val_loss: 0.4296 - val_accuracy: 0.8390\n",
            "Epoch 7/20\n",
            "737/737 [==============================] - 188s 256ms/step - loss: 0.2960 - accuracy: 0.8874 - val_loss: 0.4858 - val_accuracy: 0.8374\n",
            "Epoch 8/20\n",
            "737/737 [==============================] - 188s 255ms/step - loss: 0.2575 - accuracy: 0.9023 - val_loss: 0.5056 - val_accuracy: 0.8341\n"
          ]
        },
        {
          "output_type": "execute_result",
          "data": {
            "text/plain": [
              "<keras.src.callbacks.History at 0x7f9c30578460>"
            ]
          },
          "metadata": {},
          "execution_count": 186
        }
      ]
    },
    {
      "cell_type": "code",
      "source": [
        "predictions = model_w2v.predict(X_val_lstm_w2v)\n",
        "y_pred_lstm_w2v = np.argmax(predictions, axis = 1)"
      ],
      "metadata": {
        "colab": {
          "base_uri": "https://localhost:8080/"
        },
        "id": "tDOhJPXWikUB",
        "outputId": "607469fe-6d3c-4e33-ccb8-b153c2287451"
      },
      "execution_count": null,
      "outputs": [
        {
          "output_type": "stream",
          "name": "stdout",
          "text": [
            "648/648 [==============================] - 45s 68ms/step\n"
          ]
        }
      ]
    },
    {
      "cell_type": "code",
      "source": [
        "print(classification_report(y_pred_lstm_w2v, y_val))"
      ],
      "metadata": {
        "colab": {
          "base_uri": "https://localhost:8080/"
        },
        "id": "GN2FXhGxi7xb",
        "outputId": "e493470f-23a4-4375-8546-114ad791281d"
      },
      "execution_count": null,
      "outputs": [
        {
          "output_type": "stream",
          "name": "stdout",
          "text": [
            "              precision    recall  f1-score   support\n",
            "\n",
            "           0       0.74      0.66      0.70      3453\n",
            "           1       0.17      0.39      0.24       689\n",
            "           2       0.94      0.91      0.92     16573\n",
            "\n",
            "    accuracy                           0.85     20715\n",
            "   macro avg       0.62      0.65      0.62     20715\n",
            "weighted avg       0.88      0.85      0.86     20715\n",
            "\n"
          ]
        }
      ]
    },
    {
      "cell_type": "markdown",
      "source": [
        "#### LDA model (baseline unsupervised)"
      ],
      "metadata": {
        "id": "nNdZYzU9YX8f"
      }
    },
    {
      "cell_type": "code",
      "execution_count": null,
      "metadata": {
        "id": "ECOMwpidKpef"
      },
      "outputs": [],
      "source": [
        "import gensim\n",
        "dic=gensim.corpora.Dictionary(corpus_train) # assign an id to each unique word of corpus\n",
        "bow_corpus = [dic.doc2bow(doc) for doc in corpus_train] # we create a bag of words. We have a list of tuples for each row with (ID of the word, occurences of the word)"
      ]
    },
    {
      "cell_type": "code",
      "execution_count": null,
      "metadata": {
        "colab": {
          "base_uri": "https://localhost:8080/"
        },
        "id": "Zz12l33tQUYg",
        "outputId": "3edf62e6-c40b-4b58-dfb9-da7eea805b42"
      },
      "outputs": [
        {
          "output_type": "execute_result",
          "data": {
            "text/plain": [
              "[(0,\n",
              "  '0.059*\"coffee\" + 0.022*\"drink\" + 0.022*\"tea\" + 0.021*\"cup\" + 0.013*\"water\" + 0.011*\"strong\" + 0.010*\"milk\" + 0.008*\"great\" + 0.007*\"roast\" + 0.006*\"really\"'),\n",
              " (1,\n",
              "  '0.015*\"cat\" + 0.007*\"review\" + 0.006*\"first\" + 0.005*\"know\" + 0.005*\"year\" + 0.005*\"even\" + 0.005*\"day\" + 0.005*\"month\" + 0.005*\"ingredient\" + 0.005*\"food\"'),\n",
              " (2,\n",
              "  '0.050*\"chocolate\" + 0.014*\"butter\" + 0.013*\"calorie\" + 0.013*\"peanut\" + 0.012*\"dark\" + 0.012*\"energy\" + 0.009*\"drink\" + 0.009*\"milk\" + 0.009*\"sweet\" + 0.009*\"really\"'),\n",
              " (3,\n",
              "  '0.027*\"price\" + 0.024*\"store\" + 0.017*\"great\" + 0.015*\"buy\" + 0.013*\"order\" + 0.012*\"love\" + 0.010*\"shipping\" + 0.010*\"local\" + 0.009*\"grocery\" + 0.008*\"ordered\"'),\n",
              " (4,\n",
              "  '0.040*\"chip\" + 0.023*\"salt\" + 0.013*\"potato\" + 0.012*\"love\" + 0.012*\"great\" + 0.012*\"snack\" + 0.012*\"almond\" + 0.011*\"spicy\" + 0.010*\"flavor\" + 0.008*\"really\"'),\n",
              " (5,\n",
              "  '0.014*\"cheese\" + 0.014*\"add\" + 0.014*\"noodle\" + 0.014*\"sauce\" + 0.011*\"rice\" + 0.011*\"chicken\" + 0.011*\"meal\" + 0.010*\"soup\" + 0.010*\"pasta\" + 0.007*\"great\"'),\n",
              " (6,\n",
              "  '0.025*\"coffee\" + 0.019*\"blend\" + 0.011*\"kcups\" + 0.010*\"best\" + 0.009*\"chai\" + 0.009*\"kcup\" + 0.009*\"jerky\" + 0.009*\"keurig\" + 0.009*\"bean\" + 0.008*\"cup\"'),\n",
              " (7,\n",
              "  '0.020*\"sugar\" + 0.012*\"juice\" + 0.010*\"ingredient\" + 0.010*\"drink\" + 0.008*\"sweet\" + 0.008*\"oil\" + 0.008*\"water\" + 0.008*\"honey\" + 0.007*\"natural\" + 0.007*\"soda\"'),\n",
              " (8,\n",
              "  '0.049*\"dog\" + 0.045*\"tea\" + 0.024*\"treat\" + 0.017*\"love\" + 0.008*\"day\" + 0.008*\"green\" + 0.007*\"great\" + 0.007*\"chew\" + 0.006*\"give\" + 0.006*\"little\"'),\n",
              " (9,\n",
              "  '0.025*\"love\" + 0.023*\"bar\" + 0.022*\"great\" + 0.017*\"snack\" + 0.010*\"nut\" + 0.010*\"cereal\" + 0.009*\"really\" + 0.009*\"healthy\" + 0.009*\"candy\" + 0.009*\"delicious\"')]"
            ]
          },
          "metadata": {},
          "execution_count": 190
        }
      ],
      "source": [
        "lda_model = gensim.models.LdaMulticore(bow_corpus,\n",
        "                                   num_topics = 10,\n",
        "                                   id2word = dic,\n",
        "                                   passes = 5,\n",
        "                                   workers = 2) # We use LDAMulticore as we have a large dataset ( it parallelizes the process)\n",
        "# LDA models are used to get the main topics of our data.\n",
        "# For each topic, we get the top words and the probability for this word to appear in the given topic\n",
        "# based on all the possible words of this topic\n",
        "lda_model.show_topics()"
      ]
    },
    {
      "cell_type": "markdown",
      "metadata": {
        "id": "wRGrMNH-V1Y1"
      },
      "source": [
        "We get 5 main topics :\n",
        "-  one seems to be about dog food\n",
        "-  one seams to be about tea and drinks\n",
        "-  one seems to be about food with chocolate\n",
        "-  one seems to be about coffee with a chocolate flavor maybe\n",
        "- one seems to be about snackfood such as chips"
      ]
    },
    {
      "cell_type": "code",
      "execution_count": null,
      "metadata": {
        "colab": {
          "base_uri": "https://localhost:8080/"
        },
        "id": "NAjMKlefDTbT",
        "outputId": "515f120b-d4a7-4715-eb03-06e79c7cf3c7"
      },
      "outputs": [
        {
          "output_type": "stream",
          "name": "stdout",
          "text": [
            "Coherence Score: 0.49435396107355356\n"
          ]
        }
      ],
      "source": [
        "from gensim.models.coherencemodel import CoherenceModel\n",
        "coherence_model = CoherenceModel(model=lda_model, texts=corpus_train, dictionary=dic, coherence='c_v')\n",
        "coherence_score = coherence_model.get_coherence()\n",
        "print(\"Coherence Score:\", coherence_score)"
      ]
    },
    {
      "cell_type": "markdown",
      "metadata": {
        "id": "eoTqsrR1hTjW"
      },
      "source": [
        "We see that many positive words are very frequent in the dataset such as 'delicious', 'love', 'good',...\n",
        "we also have many words from fooding products such as 'flavor','taste','ingredients',..."
      ]
    },
    {
      "cell_type": "code",
      "execution_count": null,
      "metadata": {
        "colab": {
          "base_uri": "https://localhost:8080/"
        },
        "id": "OvhAX2JMBtwU",
        "outputId": "a65564fd-6dc7-4be5-ba99-8e9ab8463ec9"
      },
      "outputs": [
        {
          "output_type": "execute_result",
          "data": {
            "text/plain": [
              "-8.085128011056263"
            ]
          },
          "metadata": {},
          "execution_count": 192
        }
      ],
      "source": [
        "perplexity = lda_model.log_perplexity(bow_corpus)\n",
        "perplexity"
      ]
    },
    {
      "cell_type": "code",
      "source": [],
      "metadata": {
        "id": "Ji5eFIsmoqVf"
      },
      "execution_count": null,
      "outputs": []
    },
    {
      "cell_type": "markdown",
      "source": [
        "#### Lime for LSTM model"
      ],
      "metadata": {
        "id": "EKfREz3_WjXV"
      }
    },
    {
      "cell_type": "code",
      "source": [
        "! pip install lime"
      ],
      "metadata": {
        "colab": {
          "base_uri": "https://localhost:8080/"
        },
        "id": "gCJCoxOAJINO",
        "outputId": "235609cc-83cc-4f8a-e83d-badca7ec796f"
      },
      "execution_count": null,
      "outputs": [
        {
          "output_type": "stream",
          "name": "stdout",
          "text": [
            "Collecting lime\n",
            "  Downloading lime-0.2.0.1.tar.gz (275 kB)\n",
            "\u001b[2K     \u001b[90m━━━━━━━━━━━━━━━━━━━━━━━━━━━━━━━━━━━━━━━━\u001b[0m \u001b[32m275.7/275.7 kB\u001b[0m \u001b[31m4.5 MB/s\u001b[0m eta \u001b[36m0:00:00\u001b[0m\n",
            "\u001b[?25h  Preparing metadata (setup.py) ... \u001b[?25l\u001b[?25hdone\n",
            "Requirement already satisfied: matplotlib in /usr/local/lib/python3.10/dist-packages (from lime) (3.7.1)\n",
            "Requirement already satisfied: numpy in /usr/local/lib/python3.10/dist-packages (from lime) (1.25.2)\n",
            "Requirement already satisfied: scipy in /usr/local/lib/python3.10/dist-packages (from lime) (1.11.4)\n",
            "Requirement already satisfied: tqdm in /usr/local/lib/python3.10/dist-packages (from lime) (4.66.2)\n",
            "Requirement already satisfied: scikit-learn>=0.18 in /usr/local/lib/python3.10/dist-packages (from lime) (1.2.2)\n",
            "Requirement already satisfied: scikit-image>=0.12 in /usr/local/lib/python3.10/dist-packages (from lime) (0.19.3)\n",
            "Requirement already satisfied: networkx>=2.2 in /usr/local/lib/python3.10/dist-packages (from scikit-image>=0.12->lime) (3.2.1)\n",
            "Requirement already satisfied: pillow!=7.1.0,!=7.1.1,!=8.3.0,>=6.1.0 in /usr/local/lib/python3.10/dist-packages (from scikit-image>=0.12->lime) (9.4.0)\n",
            "Requirement already satisfied: imageio>=2.4.1 in /usr/local/lib/python3.10/dist-packages (from scikit-image>=0.12->lime) (2.31.6)\n",
            "Requirement already satisfied: tifffile>=2019.7.26 in /usr/local/lib/python3.10/dist-packages (from scikit-image>=0.12->lime) (2024.2.12)\n",
            "Requirement already satisfied: PyWavelets>=1.1.1 in /usr/local/lib/python3.10/dist-packages (from scikit-image>=0.12->lime) (1.5.0)\n",
            "Requirement already satisfied: packaging>=20.0 in /usr/local/lib/python3.10/dist-packages (from scikit-image>=0.12->lime) (24.0)\n",
            "Requirement already satisfied: joblib>=1.1.1 in /usr/local/lib/python3.10/dist-packages (from scikit-learn>=0.18->lime) (1.3.2)\n",
            "Requirement already satisfied: threadpoolctl>=2.0.0 in /usr/local/lib/python3.10/dist-packages (from scikit-learn>=0.18->lime) (3.3.0)\n",
            "Requirement already satisfied: contourpy>=1.0.1 in /usr/local/lib/python3.10/dist-packages (from matplotlib->lime) (1.2.0)\n",
            "Requirement already satisfied: cycler>=0.10 in /usr/local/lib/python3.10/dist-packages (from matplotlib->lime) (0.12.1)\n",
            "Requirement already satisfied: fonttools>=4.22.0 in /usr/local/lib/python3.10/dist-packages (from matplotlib->lime) (4.50.0)\n",
            "Requirement already satisfied: kiwisolver>=1.0.1 in /usr/local/lib/python3.10/dist-packages (from matplotlib->lime) (1.4.5)\n",
            "Requirement already satisfied: pyparsing>=2.3.1 in /usr/local/lib/python3.10/dist-packages (from matplotlib->lime) (3.1.2)\n",
            "Requirement already satisfied: python-dateutil>=2.7 in /usr/local/lib/python3.10/dist-packages (from matplotlib->lime) (2.8.2)\n",
            "Requirement already satisfied: six>=1.5 in /usr/local/lib/python3.10/dist-packages (from python-dateutil>=2.7->matplotlib->lime) (1.16.0)\n",
            "Building wheels for collected packages: lime\n",
            "  Building wheel for lime (setup.py) ... \u001b[?25l\u001b[?25hdone\n",
            "  Created wheel for lime: filename=lime-0.2.0.1-py3-none-any.whl size=283835 sha256=5c4f0083c494dd950c3f033f31fa97185e142b1488cf891c6a1d1d4c19a8e2db\n",
            "  Stored in directory: /root/.cache/pip/wheels/fd/a2/af/9ac0a1a85a27f314a06b39e1f492bee1547d52549a4606ed89\n",
            "Successfully built lime\n",
            "Installing collected packages: lime\n",
            "Successfully installed lime-0.2.0.1\n"
          ]
        }
      ]
    },
    {
      "cell_type": "code",
      "source": [
        "from lime import lime_tabular\n",
        "explainer = lime_tabular.RecurrentTabularExplainer(X_train_tfidf, training_labels=y_train, feature_names=vectorizer.get_feature_names_out(),\n",
        "                                                   discretize_continuous=True,\n",
        "                                                   class_names=['0','1', '2'],\n",
        "                                                   discretizer='decile')"
      ],
      "metadata": {
        "colab": {
          "base_uri": "https://localhost:8080/",
          "height": 358
        },
        "id": "cn4BH765sZ4j",
        "outputId": "fd7fc4aa-4d00-4fcf-ed7d-847135f03c05"
      },
      "execution_count": null,
      "outputs": [
        {
          "output_type": "error",
          "ename": "ValueError",
          "evalue": "not enough values to unpack (expected 3, got 2)",
          "traceback": [
            "\u001b[0;31m---------------------------------------------------------------------------\u001b[0m",
            "\u001b[0;31mValueError\u001b[0m                                Traceback (most recent call last)",
            "\u001b[0;32m<ipython-input-194-f8554bd1cfd9>\u001b[0m in \u001b[0;36m<cell line: 2>\u001b[0;34m()\u001b[0m\n\u001b[1;32m      1\u001b[0m \u001b[0;32mfrom\u001b[0m \u001b[0mlime\u001b[0m \u001b[0;32mimport\u001b[0m \u001b[0mlime_tabular\u001b[0m\u001b[0;34m\u001b[0m\u001b[0;34m\u001b[0m\u001b[0m\n\u001b[0;32m----> 2\u001b[0;31m explainer = lime_tabular.RecurrentTabularExplainer(X_train_tfidf, training_labels=y_train, feature_names=vectorizer.get_feature_names_out(),\n\u001b[0m\u001b[1;32m      3\u001b[0m                                                    \u001b[0mdiscretize_continuous\u001b[0m\u001b[0;34m=\u001b[0m\u001b[0;32mTrue\u001b[0m\u001b[0;34m,\u001b[0m\u001b[0;34m\u001b[0m\u001b[0;34m\u001b[0m\u001b[0m\n\u001b[1;32m      4\u001b[0m                                                    \u001b[0mclass_names\u001b[0m\u001b[0;34m=\u001b[0m\u001b[0;34m[\u001b[0m\u001b[0;34m'0'\u001b[0m\u001b[0;34m,\u001b[0m\u001b[0;34m'1'\u001b[0m\u001b[0;34m,\u001b[0m \u001b[0;34m'2'\u001b[0m\u001b[0;34m]\u001b[0m\u001b[0;34m,\u001b[0m\u001b[0;34m\u001b[0m\u001b[0;34m\u001b[0m\u001b[0m\n\u001b[1;32m      5\u001b[0m                                                    discretizer='decile')\n",
            "\u001b[0;32m/usr/local/lib/python3.10/dist-packages/lime/lime_tabular.py\u001b[0m in \u001b[0;36m__init__\u001b[0;34m(self, training_data, mode, training_labels, feature_names, categorical_features, categorical_names, kernel_width, kernel, verbose, class_names, feature_selection, discretize_continuous, discretizer, random_state)\u001b[0m\n\u001b[1;32m    613\u001b[0m \u001b[0;34m\u001b[0m\u001b[0m\n\u001b[1;32m    614\u001b[0m         \u001b[0;31m# Reshape X\u001b[0m\u001b[0;34m\u001b[0m\u001b[0;34m\u001b[0m\u001b[0m\n\u001b[0;32m--> 615\u001b[0;31m         \u001b[0mn_samples\u001b[0m\u001b[0;34m,\u001b[0m \u001b[0mn_timesteps\u001b[0m\u001b[0;34m,\u001b[0m \u001b[0mn_features\u001b[0m \u001b[0;34m=\u001b[0m \u001b[0mtraining_data\u001b[0m\u001b[0;34m.\u001b[0m\u001b[0mshape\u001b[0m\u001b[0;34m\u001b[0m\u001b[0;34m\u001b[0m\u001b[0m\n\u001b[0m\u001b[1;32m    616\u001b[0m         training_data = np.transpose(training_data, axes=(0, 2, 1)).reshape(\n\u001b[1;32m    617\u001b[0m                 n_samples, n_timesteps * n_features)\n",
            "\u001b[0;31mValueError\u001b[0m: not enough values to unpack (expected 3, got 2)"
          ]
        }
      ]
    },
    {
      "cell_type": "code",
      "source": [
        "exp = explainer.explain_instance(X_test_tfidf[17], model.predict, num_features=10)\n",
        "exp.show_in_notebook()"
      ],
      "metadata": {
        "colab": {
          "base_uri": "https://localhost:8080/",
          "height": 180
        },
        "id": "nqqFVoHWsqT8",
        "outputId": "28e1afc8-d960-483e-cf51-f25540bd16a0"
      },
      "execution_count": null,
      "outputs": [
        {
          "output_type": "error",
          "ename": "NameError",
          "evalue": "name 'explainer' is not defined",
          "traceback": [
            "\u001b[0;31m---------------------------------------------------------------------------\u001b[0m",
            "\u001b[0;31mNameError\u001b[0m                                 Traceback (most recent call last)",
            "\u001b[0;32m<ipython-input-125-6429a0e1b910>\u001b[0m in \u001b[0;36m<cell line: 1>\u001b[0;34m()\u001b[0m\n\u001b[0;32m----> 1\u001b[0;31m \u001b[0mexp\u001b[0m \u001b[0;34m=\u001b[0m \u001b[0mexplainer\u001b[0m\u001b[0;34m.\u001b[0m\u001b[0mexplain_instance\u001b[0m\u001b[0;34m(\u001b[0m\u001b[0mX_test_tfidf\u001b[0m\u001b[0;34m[\u001b[0m\u001b[0;36m17\u001b[0m\u001b[0;34m]\u001b[0m\u001b[0;34m,\u001b[0m \u001b[0mmodel\u001b[0m\u001b[0;34m.\u001b[0m\u001b[0mpredict\u001b[0m\u001b[0;34m,\u001b[0m \u001b[0mnum_features\u001b[0m\u001b[0;34m=\u001b[0m\u001b[0;36m10\u001b[0m\u001b[0;34m)\u001b[0m\u001b[0;34m\u001b[0m\u001b[0;34m\u001b[0m\u001b[0m\n\u001b[0m\u001b[1;32m      2\u001b[0m \u001b[0mexp\u001b[0m\u001b[0;34m.\u001b[0m\u001b[0mshow_in_notebook\u001b[0m\u001b[0;34m(\u001b[0m\u001b[0;34m)\u001b[0m\u001b[0;34m\u001b[0m\u001b[0;34m\u001b[0m\u001b[0m\n",
            "\u001b[0;31mNameError\u001b[0m: name 'explainer' is not defined"
          ]
        }
      ]
    }
  ],
  "metadata": {
    "colab": {
      "machine_shape": "hm",
      "provenance": [],
      "collapsed_sections": [
        "laQVsOVDSRPK",
        "Q7gFGgZRcaYJ",
        "mT-JFMa3SbsB",
        "cC1pQllHSkqC",
        "IcJkvenoSu7c",
        "0GkXF8lGTSMp",
        "Nj815QIdTVYn",
        "cD8CGiu9Thd1",
        "kzj1VlMFTmjO",
        "V63UcDgwinJc",
        "Fe4L02RKMGeN",
        "ZtTUvLd1MzkW",
        "T3DFylWDbeTi",
        "1MiqJhsxmMm9",
        "p3-dMRQTZa0M",
        "Nj-YPIU_mxPr",
        "nNdZYzU9YX8f",
        "mGrTHDg-qmLM",
        "UAK0x9mboKdY",
        "peMRc0bioNdl"
      ]
    },
    "kernelspec": {
      "display_name": "Python 3",
      "name": "python3"
    },
    "language_info": {
      "codemirror_mode": {
        "name": "ipython",
        "version": 3
      },
      "file_extension": ".py",
      "mimetype": "text/x-python",
      "name": "python",
      "nbconvert_exporter": "python",
      "pygments_lexer": "ipython3",
      "version": "3.6.2"
    }
  },
  "nbformat": 4,
  "nbformat_minor": 0
}
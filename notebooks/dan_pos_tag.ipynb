{
  "nbformat": 4,
  "nbformat_minor": 0,
  "metadata": {
    "colab": {
      "provenance": []
    },
    "kernelspec": {
      "name": "python3",
      "display_name": "Python 3"
    },
    "language_info": {
      "name": "python"
    },
    "widgets": {
      "application/vnd.jupyter.widget-state+json": {
        "2ec6120bc04e457cb9bd57627b05f5c4": {
          "model_module": "@jupyter-widgets/controls",
          "model_name": "HBoxModel",
          "model_module_version": "1.5.0",
          "state": {
            "_dom_classes": [],
            "_model_module": "@jupyter-widgets/controls",
            "_model_module_version": "1.5.0",
            "_model_name": "HBoxModel",
            "_view_count": null,
            "_view_module": "@jupyter-widgets/controls",
            "_view_module_version": "1.5.0",
            "_view_name": "HBoxView",
            "box_style": "",
            "children": [
              "IPY_MODEL_684c392b78bb44439137e9154b8ec578",
              "IPY_MODEL_f77df31553564e74a7301238a841c0ee",
              "IPY_MODEL_fb1d3714acaa495d94a10987886ae8f9"
            ],
            "layout": "IPY_MODEL_1699a9274c0145228f1a7e4869344c01"
          }
        },
        "684c392b78bb44439137e9154b8ec578": {
          "model_module": "@jupyter-widgets/controls",
          "model_name": "HTMLModel",
          "model_module_version": "1.5.0",
          "state": {
            "_dom_classes": [],
            "_model_module": "@jupyter-widgets/controls",
            "_model_module_version": "1.5.0",
            "_model_name": "HTMLModel",
            "_view_count": null,
            "_view_module": "@jupyter-widgets/controls",
            "_view_module_version": "1.5.0",
            "_view_name": "HTMLView",
            "description": "",
            "description_tooltip": null,
            "layout": "IPY_MODEL_fef9ace1d7de4bb2a827ed76637bc236",
            "placeholder": "​",
            "style": "IPY_MODEL_115880cbe5d040609ec47c7f2249808d",
            "value": "config.json: 100%"
          }
        },
        "f77df31553564e74a7301238a841c0ee": {
          "model_module": "@jupyter-widgets/controls",
          "model_name": "FloatProgressModel",
          "model_module_version": "1.5.0",
          "state": {
            "_dom_classes": [],
            "_model_module": "@jupyter-widgets/controls",
            "_model_module_version": "1.5.0",
            "_model_name": "FloatProgressModel",
            "_view_count": null,
            "_view_module": "@jupyter-widgets/controls",
            "_view_module_version": "1.5.0",
            "_view_name": "ProgressView",
            "bar_style": "success",
            "description": "",
            "description_tooltip": null,
            "layout": "IPY_MODEL_29cffb1f2b624330963a904c8b5d1429",
            "max": 629,
            "min": 0,
            "orientation": "horizontal",
            "style": "IPY_MODEL_ca90106e82da4ca49c9fe022ada74810",
            "value": 629
          }
        },
        "fb1d3714acaa495d94a10987886ae8f9": {
          "model_module": "@jupyter-widgets/controls",
          "model_name": "HTMLModel",
          "model_module_version": "1.5.0",
          "state": {
            "_dom_classes": [],
            "_model_module": "@jupyter-widgets/controls",
            "_model_module_version": "1.5.0",
            "_model_name": "HTMLModel",
            "_view_count": null,
            "_view_module": "@jupyter-widgets/controls",
            "_view_module_version": "1.5.0",
            "_view_name": "HTMLView",
            "description": "",
            "description_tooltip": null,
            "layout": "IPY_MODEL_0839482b2dbd415e80a90c54069d6e5a",
            "placeholder": "​",
            "style": "IPY_MODEL_3e50587cb73341519981536a603332e3",
            "value": " 629/629 [00:00&lt;00:00, 23.9kB/s]"
          }
        },
        "1699a9274c0145228f1a7e4869344c01": {
          "model_module": "@jupyter-widgets/base",
          "model_name": "LayoutModel",
          "model_module_version": "1.2.0",
          "state": {
            "_model_module": "@jupyter-widgets/base",
            "_model_module_version": "1.2.0",
            "_model_name": "LayoutModel",
            "_view_count": null,
            "_view_module": "@jupyter-widgets/base",
            "_view_module_version": "1.2.0",
            "_view_name": "LayoutView",
            "align_content": null,
            "align_items": null,
            "align_self": null,
            "border": null,
            "bottom": null,
            "display": null,
            "flex": null,
            "flex_flow": null,
            "grid_area": null,
            "grid_auto_columns": null,
            "grid_auto_flow": null,
            "grid_auto_rows": null,
            "grid_column": null,
            "grid_gap": null,
            "grid_row": null,
            "grid_template_areas": null,
            "grid_template_columns": null,
            "grid_template_rows": null,
            "height": null,
            "justify_content": null,
            "justify_items": null,
            "left": null,
            "margin": null,
            "max_height": null,
            "max_width": null,
            "min_height": null,
            "min_width": null,
            "object_fit": null,
            "object_position": null,
            "order": null,
            "overflow": null,
            "overflow_x": null,
            "overflow_y": null,
            "padding": null,
            "right": null,
            "top": null,
            "visibility": null,
            "width": null
          }
        },
        "fef9ace1d7de4bb2a827ed76637bc236": {
          "model_module": "@jupyter-widgets/base",
          "model_name": "LayoutModel",
          "model_module_version": "1.2.0",
          "state": {
            "_model_module": "@jupyter-widgets/base",
            "_model_module_version": "1.2.0",
            "_model_name": "LayoutModel",
            "_view_count": null,
            "_view_module": "@jupyter-widgets/base",
            "_view_module_version": "1.2.0",
            "_view_name": "LayoutView",
            "align_content": null,
            "align_items": null,
            "align_self": null,
            "border": null,
            "bottom": null,
            "display": null,
            "flex": null,
            "flex_flow": null,
            "grid_area": null,
            "grid_auto_columns": null,
            "grid_auto_flow": null,
            "grid_auto_rows": null,
            "grid_column": null,
            "grid_gap": null,
            "grid_row": null,
            "grid_template_areas": null,
            "grid_template_columns": null,
            "grid_template_rows": null,
            "height": null,
            "justify_content": null,
            "justify_items": null,
            "left": null,
            "margin": null,
            "max_height": null,
            "max_width": null,
            "min_height": null,
            "min_width": null,
            "object_fit": null,
            "object_position": null,
            "order": null,
            "overflow": null,
            "overflow_x": null,
            "overflow_y": null,
            "padding": null,
            "right": null,
            "top": null,
            "visibility": null,
            "width": null
          }
        },
        "115880cbe5d040609ec47c7f2249808d": {
          "model_module": "@jupyter-widgets/controls",
          "model_name": "DescriptionStyleModel",
          "model_module_version": "1.5.0",
          "state": {
            "_model_module": "@jupyter-widgets/controls",
            "_model_module_version": "1.5.0",
            "_model_name": "DescriptionStyleModel",
            "_view_count": null,
            "_view_module": "@jupyter-widgets/base",
            "_view_module_version": "1.2.0",
            "_view_name": "StyleView",
            "description_width": ""
          }
        },
        "29cffb1f2b624330963a904c8b5d1429": {
          "model_module": "@jupyter-widgets/base",
          "model_name": "LayoutModel",
          "model_module_version": "1.2.0",
          "state": {
            "_model_module": "@jupyter-widgets/base",
            "_model_module_version": "1.2.0",
            "_model_name": "LayoutModel",
            "_view_count": null,
            "_view_module": "@jupyter-widgets/base",
            "_view_module_version": "1.2.0",
            "_view_name": "LayoutView",
            "align_content": null,
            "align_items": null,
            "align_self": null,
            "border": null,
            "bottom": null,
            "display": null,
            "flex": null,
            "flex_flow": null,
            "grid_area": null,
            "grid_auto_columns": null,
            "grid_auto_flow": null,
            "grid_auto_rows": null,
            "grid_column": null,
            "grid_gap": null,
            "grid_row": null,
            "grid_template_areas": null,
            "grid_template_columns": null,
            "grid_template_rows": null,
            "height": null,
            "justify_content": null,
            "justify_items": null,
            "left": null,
            "margin": null,
            "max_height": null,
            "max_width": null,
            "min_height": null,
            "min_width": null,
            "object_fit": null,
            "object_position": null,
            "order": null,
            "overflow": null,
            "overflow_x": null,
            "overflow_y": null,
            "padding": null,
            "right": null,
            "top": null,
            "visibility": null,
            "width": null
          }
        },
        "ca90106e82da4ca49c9fe022ada74810": {
          "model_module": "@jupyter-widgets/controls",
          "model_name": "ProgressStyleModel",
          "model_module_version": "1.5.0",
          "state": {
            "_model_module": "@jupyter-widgets/controls",
            "_model_module_version": "1.5.0",
            "_model_name": "ProgressStyleModel",
            "_view_count": null,
            "_view_module": "@jupyter-widgets/base",
            "_view_module_version": "1.2.0",
            "_view_name": "StyleView",
            "bar_color": null,
            "description_width": ""
          }
        },
        "0839482b2dbd415e80a90c54069d6e5a": {
          "model_module": "@jupyter-widgets/base",
          "model_name": "LayoutModel",
          "model_module_version": "1.2.0",
          "state": {
            "_model_module": "@jupyter-widgets/base",
            "_model_module_version": "1.2.0",
            "_model_name": "LayoutModel",
            "_view_count": null,
            "_view_module": "@jupyter-widgets/base",
            "_view_module_version": "1.2.0",
            "_view_name": "LayoutView",
            "align_content": null,
            "align_items": null,
            "align_self": null,
            "border": null,
            "bottom": null,
            "display": null,
            "flex": null,
            "flex_flow": null,
            "grid_area": null,
            "grid_auto_columns": null,
            "grid_auto_flow": null,
            "grid_auto_rows": null,
            "grid_column": null,
            "grid_gap": null,
            "grid_row": null,
            "grid_template_areas": null,
            "grid_template_columns": null,
            "grid_template_rows": null,
            "height": null,
            "justify_content": null,
            "justify_items": null,
            "left": null,
            "margin": null,
            "max_height": null,
            "max_width": null,
            "min_height": null,
            "min_width": null,
            "object_fit": null,
            "object_position": null,
            "order": null,
            "overflow": null,
            "overflow_x": null,
            "overflow_y": null,
            "padding": null,
            "right": null,
            "top": null,
            "visibility": null,
            "width": null
          }
        },
        "3e50587cb73341519981536a603332e3": {
          "model_module": "@jupyter-widgets/controls",
          "model_name": "DescriptionStyleModel",
          "model_module_version": "1.5.0",
          "state": {
            "_model_module": "@jupyter-widgets/controls",
            "_model_module_version": "1.5.0",
            "_model_name": "DescriptionStyleModel",
            "_view_count": null,
            "_view_module": "@jupyter-widgets/base",
            "_view_module_version": "1.2.0",
            "_view_name": "StyleView",
            "description_width": ""
          }
        },
        "3ab3bdfe55e246418a5d4066a2785f5f": {
          "model_module": "@jupyter-widgets/controls",
          "model_name": "HBoxModel",
          "model_module_version": "1.5.0",
          "state": {
            "_dom_classes": [],
            "_model_module": "@jupyter-widgets/controls",
            "_model_module_version": "1.5.0",
            "_model_name": "HBoxModel",
            "_view_count": null,
            "_view_module": "@jupyter-widgets/controls",
            "_view_module_version": "1.5.0",
            "_view_name": "HBoxView",
            "box_style": "",
            "children": [
              "IPY_MODEL_3c0fb7b63ffb4488a5ab9db8ffb1659e",
              "IPY_MODEL_f7fee31e1c1b4b93a518fe97d1c6206d",
              "IPY_MODEL_71d7176618954457979344d782133992"
            ],
            "layout": "IPY_MODEL_c6d38706013d4aaa8304fd3e3b36dc27"
          }
        },
        "3c0fb7b63ffb4488a5ab9db8ffb1659e": {
          "model_module": "@jupyter-widgets/controls",
          "model_name": "HTMLModel",
          "model_module_version": "1.5.0",
          "state": {
            "_dom_classes": [],
            "_model_module": "@jupyter-widgets/controls",
            "_model_module_version": "1.5.0",
            "_model_name": "HTMLModel",
            "_view_count": null,
            "_view_module": "@jupyter-widgets/controls",
            "_view_module_version": "1.5.0",
            "_view_name": "HTMLView",
            "description": "",
            "description_tooltip": null,
            "layout": "IPY_MODEL_0f16673e4b694ed2846d404630c1ffc6",
            "placeholder": "​",
            "style": "IPY_MODEL_a0a0175099cb4a9897ee264ad7dc0c19",
            "value": "model.safetensors: 100%"
          }
        },
        "f7fee31e1c1b4b93a518fe97d1c6206d": {
          "model_module": "@jupyter-widgets/controls",
          "model_name": "FloatProgressModel",
          "model_module_version": "1.5.0",
          "state": {
            "_dom_classes": [],
            "_model_module": "@jupyter-widgets/controls",
            "_model_module_version": "1.5.0",
            "_model_name": "FloatProgressModel",
            "_view_count": null,
            "_view_module": "@jupyter-widgets/controls",
            "_view_module_version": "1.5.0",
            "_view_name": "ProgressView",
            "bar_style": "success",
            "description": "",
            "description_tooltip": null,
            "layout": "IPY_MODEL_79d08f41f81a4a4caabdf13e9e623297",
            "max": 267832558,
            "min": 0,
            "orientation": "horizontal",
            "style": "IPY_MODEL_61379e203efa427d831af4a83ae0910b",
            "value": 267832558
          }
        },
        "71d7176618954457979344d782133992": {
          "model_module": "@jupyter-widgets/controls",
          "model_name": "HTMLModel",
          "model_module_version": "1.5.0",
          "state": {
            "_dom_classes": [],
            "_model_module": "@jupyter-widgets/controls",
            "_model_module_version": "1.5.0",
            "_model_name": "HTMLModel",
            "_view_count": null,
            "_view_module": "@jupyter-widgets/controls",
            "_view_module_version": "1.5.0",
            "_view_name": "HTMLView",
            "description": "",
            "description_tooltip": null,
            "layout": "IPY_MODEL_60d21eae491b42388c97565f2de5c261",
            "placeholder": "​",
            "style": "IPY_MODEL_1d49a04cddbf46b29ef16f9012e027de",
            "value": " 268M/268M [00:01&lt;00:00, 138MB/s]"
          }
        },
        "c6d38706013d4aaa8304fd3e3b36dc27": {
          "model_module": "@jupyter-widgets/base",
          "model_name": "LayoutModel",
          "model_module_version": "1.2.0",
          "state": {
            "_model_module": "@jupyter-widgets/base",
            "_model_module_version": "1.2.0",
            "_model_name": "LayoutModel",
            "_view_count": null,
            "_view_module": "@jupyter-widgets/base",
            "_view_module_version": "1.2.0",
            "_view_name": "LayoutView",
            "align_content": null,
            "align_items": null,
            "align_self": null,
            "border": null,
            "bottom": null,
            "display": null,
            "flex": null,
            "flex_flow": null,
            "grid_area": null,
            "grid_auto_columns": null,
            "grid_auto_flow": null,
            "grid_auto_rows": null,
            "grid_column": null,
            "grid_gap": null,
            "grid_row": null,
            "grid_template_areas": null,
            "grid_template_columns": null,
            "grid_template_rows": null,
            "height": null,
            "justify_content": null,
            "justify_items": null,
            "left": null,
            "margin": null,
            "max_height": null,
            "max_width": null,
            "min_height": null,
            "min_width": null,
            "object_fit": null,
            "object_position": null,
            "order": null,
            "overflow": null,
            "overflow_x": null,
            "overflow_y": null,
            "padding": null,
            "right": null,
            "top": null,
            "visibility": null,
            "width": null
          }
        },
        "0f16673e4b694ed2846d404630c1ffc6": {
          "model_module": "@jupyter-widgets/base",
          "model_name": "LayoutModel",
          "model_module_version": "1.2.0",
          "state": {
            "_model_module": "@jupyter-widgets/base",
            "_model_module_version": "1.2.0",
            "_model_name": "LayoutModel",
            "_view_count": null,
            "_view_module": "@jupyter-widgets/base",
            "_view_module_version": "1.2.0",
            "_view_name": "LayoutView",
            "align_content": null,
            "align_items": null,
            "align_self": null,
            "border": null,
            "bottom": null,
            "display": null,
            "flex": null,
            "flex_flow": null,
            "grid_area": null,
            "grid_auto_columns": null,
            "grid_auto_flow": null,
            "grid_auto_rows": null,
            "grid_column": null,
            "grid_gap": null,
            "grid_row": null,
            "grid_template_areas": null,
            "grid_template_columns": null,
            "grid_template_rows": null,
            "height": null,
            "justify_content": null,
            "justify_items": null,
            "left": null,
            "margin": null,
            "max_height": null,
            "max_width": null,
            "min_height": null,
            "min_width": null,
            "object_fit": null,
            "object_position": null,
            "order": null,
            "overflow": null,
            "overflow_x": null,
            "overflow_y": null,
            "padding": null,
            "right": null,
            "top": null,
            "visibility": null,
            "width": null
          }
        },
        "a0a0175099cb4a9897ee264ad7dc0c19": {
          "model_module": "@jupyter-widgets/controls",
          "model_name": "DescriptionStyleModel",
          "model_module_version": "1.5.0",
          "state": {
            "_model_module": "@jupyter-widgets/controls",
            "_model_module_version": "1.5.0",
            "_model_name": "DescriptionStyleModel",
            "_view_count": null,
            "_view_module": "@jupyter-widgets/base",
            "_view_module_version": "1.2.0",
            "_view_name": "StyleView",
            "description_width": ""
          }
        },
        "79d08f41f81a4a4caabdf13e9e623297": {
          "model_module": "@jupyter-widgets/base",
          "model_name": "LayoutModel",
          "model_module_version": "1.2.0",
          "state": {
            "_model_module": "@jupyter-widgets/base",
            "_model_module_version": "1.2.0",
            "_model_name": "LayoutModel",
            "_view_count": null,
            "_view_module": "@jupyter-widgets/base",
            "_view_module_version": "1.2.0",
            "_view_name": "LayoutView",
            "align_content": null,
            "align_items": null,
            "align_self": null,
            "border": null,
            "bottom": null,
            "display": null,
            "flex": null,
            "flex_flow": null,
            "grid_area": null,
            "grid_auto_columns": null,
            "grid_auto_flow": null,
            "grid_auto_rows": null,
            "grid_column": null,
            "grid_gap": null,
            "grid_row": null,
            "grid_template_areas": null,
            "grid_template_columns": null,
            "grid_template_rows": null,
            "height": null,
            "justify_content": null,
            "justify_items": null,
            "left": null,
            "margin": null,
            "max_height": null,
            "max_width": null,
            "min_height": null,
            "min_width": null,
            "object_fit": null,
            "object_position": null,
            "order": null,
            "overflow": null,
            "overflow_x": null,
            "overflow_y": null,
            "padding": null,
            "right": null,
            "top": null,
            "visibility": null,
            "width": null
          }
        },
        "61379e203efa427d831af4a83ae0910b": {
          "model_module": "@jupyter-widgets/controls",
          "model_name": "ProgressStyleModel",
          "model_module_version": "1.5.0",
          "state": {
            "_model_module": "@jupyter-widgets/controls",
            "_model_module_version": "1.5.0",
            "_model_name": "ProgressStyleModel",
            "_view_count": null,
            "_view_module": "@jupyter-widgets/base",
            "_view_module_version": "1.2.0",
            "_view_name": "StyleView",
            "bar_color": null,
            "description_width": ""
          }
        },
        "60d21eae491b42388c97565f2de5c261": {
          "model_module": "@jupyter-widgets/base",
          "model_name": "LayoutModel",
          "model_module_version": "1.2.0",
          "state": {
            "_model_module": "@jupyter-widgets/base",
            "_model_module_version": "1.2.0",
            "_model_name": "LayoutModel",
            "_view_count": null,
            "_view_module": "@jupyter-widgets/base",
            "_view_module_version": "1.2.0",
            "_view_name": "LayoutView",
            "align_content": null,
            "align_items": null,
            "align_self": null,
            "border": null,
            "bottom": null,
            "display": null,
            "flex": null,
            "flex_flow": null,
            "grid_area": null,
            "grid_auto_columns": null,
            "grid_auto_flow": null,
            "grid_auto_rows": null,
            "grid_column": null,
            "grid_gap": null,
            "grid_row": null,
            "grid_template_areas": null,
            "grid_template_columns": null,
            "grid_template_rows": null,
            "height": null,
            "justify_content": null,
            "justify_items": null,
            "left": null,
            "margin": null,
            "max_height": null,
            "max_width": null,
            "min_height": null,
            "min_width": null,
            "object_fit": null,
            "object_position": null,
            "order": null,
            "overflow": null,
            "overflow_x": null,
            "overflow_y": null,
            "padding": null,
            "right": null,
            "top": null,
            "visibility": null,
            "width": null
          }
        },
        "1d49a04cddbf46b29ef16f9012e027de": {
          "model_module": "@jupyter-widgets/controls",
          "model_name": "DescriptionStyleModel",
          "model_module_version": "1.5.0",
          "state": {
            "_model_module": "@jupyter-widgets/controls",
            "_model_module_version": "1.5.0",
            "_model_name": "DescriptionStyleModel",
            "_view_count": null,
            "_view_module": "@jupyter-widgets/base",
            "_view_module_version": "1.2.0",
            "_view_name": "StyleView",
            "description_width": ""
          }
        },
        "6573d7f514b34169b2c5e26bd3722262": {
          "model_module": "@jupyter-widgets/controls",
          "model_name": "HBoxModel",
          "model_module_version": "1.5.0",
          "state": {
            "_dom_classes": [],
            "_model_module": "@jupyter-widgets/controls",
            "_model_module_version": "1.5.0",
            "_model_name": "HBoxModel",
            "_view_count": null,
            "_view_module": "@jupyter-widgets/controls",
            "_view_module_version": "1.5.0",
            "_view_name": "HBoxView",
            "box_style": "",
            "children": [
              "IPY_MODEL_66b6915fdcc548b883714338ded8e676",
              "IPY_MODEL_0a51a705ea2e48f98966bc27fdba6123",
              "IPY_MODEL_87b15aab89364c3c863e2c61bb2a1369"
            ],
            "layout": "IPY_MODEL_b88bf2f39d564eac9438ac0e83052b37"
          }
        },
        "66b6915fdcc548b883714338ded8e676": {
          "model_module": "@jupyter-widgets/controls",
          "model_name": "HTMLModel",
          "model_module_version": "1.5.0",
          "state": {
            "_dom_classes": [],
            "_model_module": "@jupyter-widgets/controls",
            "_model_module_version": "1.5.0",
            "_model_name": "HTMLModel",
            "_view_count": null,
            "_view_module": "@jupyter-widgets/controls",
            "_view_module_version": "1.5.0",
            "_view_name": "HTMLView",
            "description": "",
            "description_tooltip": null,
            "layout": "IPY_MODEL_337d3aca9f9345eebbaf7e484e37721e",
            "placeholder": "​",
            "style": "IPY_MODEL_ce5da45de5e14d24a75d378c76720b34",
            "value": "tokenizer_config.json: 100%"
          }
        },
        "0a51a705ea2e48f98966bc27fdba6123": {
          "model_module": "@jupyter-widgets/controls",
          "model_name": "FloatProgressModel",
          "model_module_version": "1.5.0",
          "state": {
            "_dom_classes": [],
            "_model_module": "@jupyter-widgets/controls",
            "_model_module_version": "1.5.0",
            "_model_name": "FloatProgressModel",
            "_view_count": null,
            "_view_module": "@jupyter-widgets/controls",
            "_view_module_version": "1.5.0",
            "_view_name": "ProgressView",
            "bar_style": "success",
            "description": "",
            "description_tooltip": null,
            "layout": "IPY_MODEL_3b08c60955344ba0b5ee9cad5537df52",
            "max": 48,
            "min": 0,
            "orientation": "horizontal",
            "style": "IPY_MODEL_12765219e5a04c8b9bca1f1360832b10",
            "value": 48
          }
        },
        "87b15aab89364c3c863e2c61bb2a1369": {
          "model_module": "@jupyter-widgets/controls",
          "model_name": "HTMLModel",
          "model_module_version": "1.5.0",
          "state": {
            "_dom_classes": [],
            "_model_module": "@jupyter-widgets/controls",
            "_model_module_version": "1.5.0",
            "_model_name": "HTMLModel",
            "_view_count": null,
            "_view_module": "@jupyter-widgets/controls",
            "_view_module_version": "1.5.0",
            "_view_name": "HTMLView",
            "description": "",
            "description_tooltip": null,
            "layout": "IPY_MODEL_ef3a2b8a1732439497025c335d6528c1",
            "placeholder": "​",
            "style": "IPY_MODEL_99f494e605aa469a9a40dd3728343184",
            "value": " 48.0/48.0 [00:00&lt;00:00, 1.73kB/s]"
          }
        },
        "b88bf2f39d564eac9438ac0e83052b37": {
          "model_module": "@jupyter-widgets/base",
          "model_name": "LayoutModel",
          "model_module_version": "1.2.0",
          "state": {
            "_model_module": "@jupyter-widgets/base",
            "_model_module_version": "1.2.0",
            "_model_name": "LayoutModel",
            "_view_count": null,
            "_view_module": "@jupyter-widgets/base",
            "_view_module_version": "1.2.0",
            "_view_name": "LayoutView",
            "align_content": null,
            "align_items": null,
            "align_self": null,
            "border": null,
            "bottom": null,
            "display": null,
            "flex": null,
            "flex_flow": null,
            "grid_area": null,
            "grid_auto_columns": null,
            "grid_auto_flow": null,
            "grid_auto_rows": null,
            "grid_column": null,
            "grid_gap": null,
            "grid_row": null,
            "grid_template_areas": null,
            "grid_template_columns": null,
            "grid_template_rows": null,
            "height": null,
            "justify_content": null,
            "justify_items": null,
            "left": null,
            "margin": null,
            "max_height": null,
            "max_width": null,
            "min_height": null,
            "min_width": null,
            "object_fit": null,
            "object_position": null,
            "order": null,
            "overflow": null,
            "overflow_x": null,
            "overflow_y": null,
            "padding": null,
            "right": null,
            "top": null,
            "visibility": null,
            "width": null
          }
        },
        "337d3aca9f9345eebbaf7e484e37721e": {
          "model_module": "@jupyter-widgets/base",
          "model_name": "LayoutModel",
          "model_module_version": "1.2.0",
          "state": {
            "_model_module": "@jupyter-widgets/base",
            "_model_module_version": "1.2.0",
            "_model_name": "LayoutModel",
            "_view_count": null,
            "_view_module": "@jupyter-widgets/base",
            "_view_module_version": "1.2.0",
            "_view_name": "LayoutView",
            "align_content": null,
            "align_items": null,
            "align_self": null,
            "border": null,
            "bottom": null,
            "display": null,
            "flex": null,
            "flex_flow": null,
            "grid_area": null,
            "grid_auto_columns": null,
            "grid_auto_flow": null,
            "grid_auto_rows": null,
            "grid_column": null,
            "grid_gap": null,
            "grid_row": null,
            "grid_template_areas": null,
            "grid_template_columns": null,
            "grid_template_rows": null,
            "height": null,
            "justify_content": null,
            "justify_items": null,
            "left": null,
            "margin": null,
            "max_height": null,
            "max_width": null,
            "min_height": null,
            "min_width": null,
            "object_fit": null,
            "object_position": null,
            "order": null,
            "overflow": null,
            "overflow_x": null,
            "overflow_y": null,
            "padding": null,
            "right": null,
            "top": null,
            "visibility": null,
            "width": null
          }
        },
        "ce5da45de5e14d24a75d378c76720b34": {
          "model_module": "@jupyter-widgets/controls",
          "model_name": "DescriptionStyleModel",
          "model_module_version": "1.5.0",
          "state": {
            "_model_module": "@jupyter-widgets/controls",
            "_model_module_version": "1.5.0",
            "_model_name": "DescriptionStyleModel",
            "_view_count": null,
            "_view_module": "@jupyter-widgets/base",
            "_view_module_version": "1.2.0",
            "_view_name": "StyleView",
            "description_width": ""
          }
        },
        "3b08c60955344ba0b5ee9cad5537df52": {
          "model_module": "@jupyter-widgets/base",
          "model_name": "LayoutModel",
          "model_module_version": "1.2.0",
          "state": {
            "_model_module": "@jupyter-widgets/base",
            "_model_module_version": "1.2.0",
            "_model_name": "LayoutModel",
            "_view_count": null,
            "_view_module": "@jupyter-widgets/base",
            "_view_module_version": "1.2.0",
            "_view_name": "LayoutView",
            "align_content": null,
            "align_items": null,
            "align_self": null,
            "border": null,
            "bottom": null,
            "display": null,
            "flex": null,
            "flex_flow": null,
            "grid_area": null,
            "grid_auto_columns": null,
            "grid_auto_flow": null,
            "grid_auto_rows": null,
            "grid_column": null,
            "grid_gap": null,
            "grid_row": null,
            "grid_template_areas": null,
            "grid_template_columns": null,
            "grid_template_rows": null,
            "height": null,
            "justify_content": null,
            "justify_items": null,
            "left": null,
            "margin": null,
            "max_height": null,
            "max_width": null,
            "min_height": null,
            "min_width": null,
            "object_fit": null,
            "object_position": null,
            "order": null,
            "overflow": null,
            "overflow_x": null,
            "overflow_y": null,
            "padding": null,
            "right": null,
            "top": null,
            "visibility": null,
            "width": null
          }
        },
        "12765219e5a04c8b9bca1f1360832b10": {
          "model_module": "@jupyter-widgets/controls",
          "model_name": "ProgressStyleModel",
          "model_module_version": "1.5.0",
          "state": {
            "_model_module": "@jupyter-widgets/controls",
            "_model_module_version": "1.5.0",
            "_model_name": "ProgressStyleModel",
            "_view_count": null,
            "_view_module": "@jupyter-widgets/base",
            "_view_module_version": "1.2.0",
            "_view_name": "StyleView",
            "bar_color": null,
            "description_width": ""
          }
        },
        "ef3a2b8a1732439497025c335d6528c1": {
          "model_module": "@jupyter-widgets/base",
          "model_name": "LayoutModel",
          "model_module_version": "1.2.0",
          "state": {
            "_model_module": "@jupyter-widgets/base",
            "_model_module_version": "1.2.0",
            "_model_name": "LayoutModel",
            "_view_count": null,
            "_view_module": "@jupyter-widgets/base",
            "_view_module_version": "1.2.0",
            "_view_name": "LayoutView",
            "align_content": null,
            "align_items": null,
            "align_self": null,
            "border": null,
            "bottom": null,
            "display": null,
            "flex": null,
            "flex_flow": null,
            "grid_area": null,
            "grid_auto_columns": null,
            "grid_auto_flow": null,
            "grid_auto_rows": null,
            "grid_column": null,
            "grid_gap": null,
            "grid_row": null,
            "grid_template_areas": null,
            "grid_template_columns": null,
            "grid_template_rows": null,
            "height": null,
            "justify_content": null,
            "justify_items": null,
            "left": null,
            "margin": null,
            "max_height": null,
            "max_width": null,
            "min_height": null,
            "min_width": null,
            "object_fit": null,
            "object_position": null,
            "order": null,
            "overflow": null,
            "overflow_x": null,
            "overflow_y": null,
            "padding": null,
            "right": null,
            "top": null,
            "visibility": null,
            "width": null
          }
        },
        "99f494e605aa469a9a40dd3728343184": {
          "model_module": "@jupyter-widgets/controls",
          "model_name": "DescriptionStyleModel",
          "model_module_version": "1.5.0",
          "state": {
            "_model_module": "@jupyter-widgets/controls",
            "_model_module_version": "1.5.0",
            "_model_name": "DescriptionStyleModel",
            "_view_count": null,
            "_view_module": "@jupyter-widgets/base",
            "_view_module_version": "1.2.0",
            "_view_name": "StyleView",
            "description_width": ""
          }
        },
        "f47ed5c08fb14995bb09f9f144abca70": {
          "model_module": "@jupyter-widgets/controls",
          "model_name": "HBoxModel",
          "model_module_version": "1.5.0",
          "state": {
            "_dom_classes": [],
            "_model_module": "@jupyter-widgets/controls",
            "_model_module_version": "1.5.0",
            "_model_name": "HBoxModel",
            "_view_count": null,
            "_view_module": "@jupyter-widgets/controls",
            "_view_module_version": "1.5.0",
            "_view_name": "HBoxView",
            "box_style": "",
            "children": [
              "IPY_MODEL_e3c77ff9ea54425985495753bec72e77",
              "IPY_MODEL_027b7bde51a44c29a2f0a867d1bd57e1",
              "IPY_MODEL_6bb49ba943824def9feec1f8e2c01c9c"
            ],
            "layout": "IPY_MODEL_0f82eb1cb9404469b2e4f155e1d372c3"
          }
        },
        "e3c77ff9ea54425985495753bec72e77": {
          "model_module": "@jupyter-widgets/controls",
          "model_name": "HTMLModel",
          "model_module_version": "1.5.0",
          "state": {
            "_dom_classes": [],
            "_model_module": "@jupyter-widgets/controls",
            "_model_module_version": "1.5.0",
            "_model_name": "HTMLModel",
            "_view_count": null,
            "_view_module": "@jupyter-widgets/controls",
            "_view_module_version": "1.5.0",
            "_view_name": "HTMLView",
            "description": "",
            "description_tooltip": null,
            "layout": "IPY_MODEL_3b612294750042028a9a6eb56ff0a6d5",
            "placeholder": "​",
            "style": "IPY_MODEL_3218457d2c2a42519ada1f84461dcfa6",
            "value": "vocab.txt: 100%"
          }
        },
        "027b7bde51a44c29a2f0a867d1bd57e1": {
          "model_module": "@jupyter-widgets/controls",
          "model_name": "FloatProgressModel",
          "model_module_version": "1.5.0",
          "state": {
            "_dom_classes": [],
            "_model_module": "@jupyter-widgets/controls",
            "_model_module_version": "1.5.0",
            "_model_name": "FloatProgressModel",
            "_view_count": null,
            "_view_module": "@jupyter-widgets/controls",
            "_view_module_version": "1.5.0",
            "_view_name": "ProgressView",
            "bar_style": "success",
            "description": "",
            "description_tooltip": null,
            "layout": "IPY_MODEL_c1a41e1a96ae4f8eb7e37bdd4a336bf6",
            "max": 231508,
            "min": 0,
            "orientation": "horizontal",
            "style": "IPY_MODEL_9576bfad0d3b42b883a1f2ff01935f6a",
            "value": 231508
          }
        },
        "6bb49ba943824def9feec1f8e2c01c9c": {
          "model_module": "@jupyter-widgets/controls",
          "model_name": "HTMLModel",
          "model_module_version": "1.5.0",
          "state": {
            "_dom_classes": [],
            "_model_module": "@jupyter-widgets/controls",
            "_model_module_version": "1.5.0",
            "_model_name": "HTMLModel",
            "_view_count": null,
            "_view_module": "@jupyter-widgets/controls",
            "_view_module_version": "1.5.0",
            "_view_name": "HTMLView",
            "description": "",
            "description_tooltip": null,
            "layout": "IPY_MODEL_f7f9ded0b4de4811bd321e943180f7b8",
            "placeholder": "​",
            "style": "IPY_MODEL_d7a7842119ac4db78a631de58eb0c873",
            "value": " 232k/232k [00:00&lt;00:00, 3.55MB/s]"
          }
        },
        "0f82eb1cb9404469b2e4f155e1d372c3": {
          "model_module": "@jupyter-widgets/base",
          "model_name": "LayoutModel",
          "model_module_version": "1.2.0",
          "state": {
            "_model_module": "@jupyter-widgets/base",
            "_model_module_version": "1.2.0",
            "_model_name": "LayoutModel",
            "_view_count": null,
            "_view_module": "@jupyter-widgets/base",
            "_view_module_version": "1.2.0",
            "_view_name": "LayoutView",
            "align_content": null,
            "align_items": null,
            "align_self": null,
            "border": null,
            "bottom": null,
            "display": null,
            "flex": null,
            "flex_flow": null,
            "grid_area": null,
            "grid_auto_columns": null,
            "grid_auto_flow": null,
            "grid_auto_rows": null,
            "grid_column": null,
            "grid_gap": null,
            "grid_row": null,
            "grid_template_areas": null,
            "grid_template_columns": null,
            "grid_template_rows": null,
            "height": null,
            "justify_content": null,
            "justify_items": null,
            "left": null,
            "margin": null,
            "max_height": null,
            "max_width": null,
            "min_height": null,
            "min_width": null,
            "object_fit": null,
            "object_position": null,
            "order": null,
            "overflow": null,
            "overflow_x": null,
            "overflow_y": null,
            "padding": null,
            "right": null,
            "top": null,
            "visibility": null,
            "width": null
          }
        },
        "3b612294750042028a9a6eb56ff0a6d5": {
          "model_module": "@jupyter-widgets/base",
          "model_name": "LayoutModel",
          "model_module_version": "1.2.0",
          "state": {
            "_model_module": "@jupyter-widgets/base",
            "_model_module_version": "1.2.0",
            "_model_name": "LayoutModel",
            "_view_count": null,
            "_view_module": "@jupyter-widgets/base",
            "_view_module_version": "1.2.0",
            "_view_name": "LayoutView",
            "align_content": null,
            "align_items": null,
            "align_self": null,
            "border": null,
            "bottom": null,
            "display": null,
            "flex": null,
            "flex_flow": null,
            "grid_area": null,
            "grid_auto_columns": null,
            "grid_auto_flow": null,
            "grid_auto_rows": null,
            "grid_column": null,
            "grid_gap": null,
            "grid_row": null,
            "grid_template_areas": null,
            "grid_template_columns": null,
            "grid_template_rows": null,
            "height": null,
            "justify_content": null,
            "justify_items": null,
            "left": null,
            "margin": null,
            "max_height": null,
            "max_width": null,
            "min_height": null,
            "min_width": null,
            "object_fit": null,
            "object_position": null,
            "order": null,
            "overflow": null,
            "overflow_x": null,
            "overflow_y": null,
            "padding": null,
            "right": null,
            "top": null,
            "visibility": null,
            "width": null
          }
        },
        "3218457d2c2a42519ada1f84461dcfa6": {
          "model_module": "@jupyter-widgets/controls",
          "model_name": "DescriptionStyleModel",
          "model_module_version": "1.5.0",
          "state": {
            "_model_module": "@jupyter-widgets/controls",
            "_model_module_version": "1.5.0",
            "_model_name": "DescriptionStyleModel",
            "_view_count": null,
            "_view_module": "@jupyter-widgets/base",
            "_view_module_version": "1.2.0",
            "_view_name": "StyleView",
            "description_width": ""
          }
        },
        "c1a41e1a96ae4f8eb7e37bdd4a336bf6": {
          "model_module": "@jupyter-widgets/base",
          "model_name": "LayoutModel",
          "model_module_version": "1.2.0",
          "state": {
            "_model_module": "@jupyter-widgets/base",
            "_model_module_version": "1.2.0",
            "_model_name": "LayoutModel",
            "_view_count": null,
            "_view_module": "@jupyter-widgets/base",
            "_view_module_version": "1.2.0",
            "_view_name": "LayoutView",
            "align_content": null,
            "align_items": null,
            "align_self": null,
            "border": null,
            "bottom": null,
            "display": null,
            "flex": null,
            "flex_flow": null,
            "grid_area": null,
            "grid_auto_columns": null,
            "grid_auto_flow": null,
            "grid_auto_rows": null,
            "grid_column": null,
            "grid_gap": null,
            "grid_row": null,
            "grid_template_areas": null,
            "grid_template_columns": null,
            "grid_template_rows": null,
            "height": null,
            "justify_content": null,
            "justify_items": null,
            "left": null,
            "margin": null,
            "max_height": null,
            "max_width": null,
            "min_height": null,
            "min_width": null,
            "object_fit": null,
            "object_position": null,
            "order": null,
            "overflow": null,
            "overflow_x": null,
            "overflow_y": null,
            "padding": null,
            "right": null,
            "top": null,
            "visibility": null,
            "width": null
          }
        },
        "9576bfad0d3b42b883a1f2ff01935f6a": {
          "model_module": "@jupyter-widgets/controls",
          "model_name": "ProgressStyleModel",
          "model_module_version": "1.5.0",
          "state": {
            "_model_module": "@jupyter-widgets/controls",
            "_model_module_version": "1.5.0",
            "_model_name": "ProgressStyleModel",
            "_view_count": null,
            "_view_module": "@jupyter-widgets/base",
            "_view_module_version": "1.2.0",
            "_view_name": "StyleView",
            "bar_color": null,
            "description_width": ""
          }
        },
        "f7f9ded0b4de4811bd321e943180f7b8": {
          "model_module": "@jupyter-widgets/base",
          "model_name": "LayoutModel",
          "model_module_version": "1.2.0",
          "state": {
            "_model_module": "@jupyter-widgets/base",
            "_model_module_version": "1.2.0",
            "_model_name": "LayoutModel",
            "_view_count": null,
            "_view_module": "@jupyter-widgets/base",
            "_view_module_version": "1.2.0",
            "_view_name": "LayoutView",
            "align_content": null,
            "align_items": null,
            "align_self": null,
            "border": null,
            "bottom": null,
            "display": null,
            "flex": null,
            "flex_flow": null,
            "grid_area": null,
            "grid_auto_columns": null,
            "grid_auto_flow": null,
            "grid_auto_rows": null,
            "grid_column": null,
            "grid_gap": null,
            "grid_row": null,
            "grid_template_areas": null,
            "grid_template_columns": null,
            "grid_template_rows": null,
            "height": null,
            "justify_content": null,
            "justify_items": null,
            "left": null,
            "margin": null,
            "max_height": null,
            "max_width": null,
            "min_height": null,
            "min_width": null,
            "object_fit": null,
            "object_position": null,
            "order": null,
            "overflow": null,
            "overflow_x": null,
            "overflow_y": null,
            "padding": null,
            "right": null,
            "top": null,
            "visibility": null,
            "width": null
          }
        },
        "d7a7842119ac4db78a631de58eb0c873": {
          "model_module": "@jupyter-widgets/controls",
          "model_name": "DescriptionStyleModel",
          "model_module_version": "1.5.0",
          "state": {
            "_model_module": "@jupyter-widgets/controls",
            "_model_module_version": "1.5.0",
            "_model_name": "DescriptionStyleModel",
            "_view_count": null,
            "_view_module": "@jupyter-widgets/base",
            "_view_module_version": "1.2.0",
            "_view_name": "StyleView",
            "description_width": ""
          }
        }
      }
    }
  },
  "cells": [
    {
      "cell_type": "code",
      "execution_count": 1,
      "metadata": {
        "id": "M6PQEK4eZyj7"
      },
      "outputs": [],
      "source": [
        "import pandas as pd\n",
        "import numpy as np"
      ]
    },
    {
      "cell_type": "markdown",
      "source": [
        "#### Google drive\n"
      ],
      "metadata": {
        "id": "vSVfBgb9Z7V4"
      }
    },
    {
      "cell_type": "code",
      "source": [
        "from google.colab import drive\n",
        "drive.mount('/content/drive')"
      ],
      "metadata": {
        "colab": {
          "base_uri": "https://localhost:8080/"
        },
        "id": "IijnM1bIeUPR",
        "outputId": "ae49a9d2-e802-4c86-d048-817373080c03"
      },
      "execution_count": 2,
      "outputs": [
        {
          "output_type": "stream",
          "name": "stdout",
          "text": [
            "Mounted at /content/drive\n"
          ]
        }
      ]
    },
    {
      "cell_type": "code",
      "source": [
        "path = '/content/drive/MyDrive/final_project_itc/data.npy'\n",
        "data = np.load(path, allow_pickle = True)"
      ],
      "metadata": {
        "id": "SOUVfkCLeGX9"
      },
      "execution_count": 3,
      "outputs": []
    },
    {
      "cell_type": "code",
      "source": [
        "df = pd.DataFrame(data, columns = ['Id', 'ProductId', 'UserId', 'ProfileName', 'HelpfulnessNumerator',\n",
        "       'HelpfulnessDenominator', 'Score', 'Time', 'Summary', 'Text'])"
      ],
      "metadata": {
        "id": "hKvBtxT2EwA3"
      },
      "execution_count": 4,
      "outputs": []
    },
    {
      "cell_type": "markdown",
      "source": [
        "#### Keep only 3 features"
      ],
      "metadata": {
        "id": "mT-JFMa3SbsB"
      }
    },
    {
      "cell_type": "code",
      "execution_count": 5,
      "metadata": {
        "id": "h4aLUdzjSKaQ"
      },
      "outputs": [],
      "source": [
        "df = df.loc[:,['ProductId','Text','Score']]"
      ]
    },
    {
      "cell_type": "markdown",
      "source": [
        "#### Remove html tags"
      ],
      "metadata": {
        "id": "9t-lnyh8LHlG"
      }
    },
    {
      "cell_type": "code",
      "source": [
        "df['Text'] = df['Text'].str.replace(r'<[^>]*>', '', regex=True)"
      ],
      "metadata": {
        "id": "PAmTL-nD8VXr"
      },
      "execution_count": 6,
      "outputs": []
    },
    {
      "cell_type": "markdown",
      "source": [
        "#### Split the dataset into train val and test using 100k samples"
      ],
      "metadata": {
        "id": "kzj1VlMFTmjO"
      }
    },
    {
      "cell_type": "code",
      "execution_count": 7,
      "metadata": {
        "id": "INm9_ZCgH1Na"
      },
      "outputs": [],
      "source": [
        "from sklearn.model_selection import GroupShuffleSplit\n",
        "splitter_temp = GroupShuffleSplit(test_size=.40, n_splits=1, random_state = 42)\n",
        "split_temp = splitter_temp.split(df[:100000], groups=df[:100000]['ProductId'])\n",
        "train_inds, temp_inds = next(split_temp)\n",
        "\n",
        "train = df.iloc[train_inds]\n",
        "temp = df.iloc[temp_inds]\n",
        "\n"
      ]
    },
    {
      "cell_type": "code",
      "execution_count": 8,
      "metadata": {
        "id": "zg059kSjDOwX"
      },
      "outputs": [],
      "source": [
        "splitter_val = GroupShuffleSplit(test_size=.50, n_splits=1, random_state = 42)\n",
        "split_val = splitter_val.split(temp, groups=temp['ProductId'])\n",
        "val_inds, test_inds = next(split_val)\n",
        "\n",
        "val = temp.iloc[val_inds]\n",
        "test = temp.iloc[test_inds]"
      ]
    },
    {
      "cell_type": "code",
      "execution_count": 9,
      "metadata": {
        "id": "c8KrlV2SJ_Tv"
      },
      "outputs": [],
      "source": [
        "X_train = train.drop(columns = 'Score')\n",
        "y_train = train.Score\n",
        "\n",
        "X_val = val.drop(columns = 'Score')\n",
        "y_val = val.Score\n",
        "\n",
        "X_test = test.drop(columns = 'Score')\n",
        "y_test = test.Score"
      ]
    },
    {
      "cell_type": "markdown",
      "source": [
        "#### NER model"
      ],
      "metadata": {
        "id": "WG7Lp4IsbJMu"
      }
    },
    {
      "cell_type": "code",
      "source": [
        "import spacy\n",
        "nlp = spacy.load('en_core_web_sm')"
      ],
      "metadata": {
        "id": "BKUEXcanbdIW"
      },
      "execution_count": 10,
      "outputs": []
    },
    {
      "cell_type": "code",
      "source": [
        "nbr_sent = 500"
      ],
      "metadata": {
        "id": "tomDTfHwbAxu"
      },
      "execution_count": 11,
      "outputs": []
    },
    {
      "cell_type": "markdown",
      "source": [
        "##### displacy plots"
      ],
      "metadata": {
        "id": "ir0nyDb7eyMB"
      }
    },
    {
      "cell_type": "markdown",
      "source": [
        "##### all dependencies"
      ],
      "metadata": {
        "id": "8WJTRBHWe0xa"
      }
    },
    {
      "cell_type": "code",
      "source": [
        "from tqdm import tqdm\n",
        "acomps = []\n",
        "advcl = [] # verbs : not interesting\n",
        "advmod = []# adverb that modify the verb : very,so,much,only,better,just,...\n",
        "amod = [] # adjective that modify the noun : good,great,best,little,hot\n",
        "ccomp = [] # complement of a verb : recomment, buying,got,...\n",
        "compound = [] # word formed by a combination of words : saltwater,supermarket\n",
        "conj = [] # second verb : (he sings and dances -> dances) : tasted,smokey,...\n",
        "dobj = [] # object after a verb : product, flavor, tea\n",
        "intj = [] # interjections : Oh,well,NO\n",
        "nmod = [] # not interesting\n",
        "for i in tqdm(range(nbr_sent)):\n",
        "  sente = nlp(X_train.Text.iloc[i])\n",
        "  for token in sente:\n",
        "    if token.dep_ == 'acomp':\n",
        "      acomps.append(token.text)\n",
        "    elif token.dep_ == 'advcl':\n",
        "      advcl.append(token.text)\n",
        "    elif token.dep_ == 'advmod':\n",
        "      advmod.append(token.text)\n",
        "    elif token.dep_ == 'amod':\n",
        "      amod.append(token.text)\n",
        "    elif token.dep_ == 'ccomp':\n",
        "      ccomp.append(token.text)\n",
        "    elif token.dep_ == 'compound':\n",
        "      compound.append(token.text)\n",
        "    elif token.dep_ == 'conj':\n",
        "      conj.append(token.text)\n",
        "    elif token.dep_ == 'dobj':\n",
        "      dobj.append(token.text)\n",
        "    elif token.dep_ == 'intj':\n",
        "      intj.append(token.text)\n",
        "    elif token.dep_ == 'nmod':\n",
        "      nmod.append(token.text)"
      ],
      "metadata": {
        "colab": {
          "base_uri": "https://localhost:8080/"
        },
        "outputId": "b290455f-51a8-4d2a-da5c-b83c9ee3cf6d",
        "id": "lXS81qjhbAxv"
      },
      "execution_count": 12,
      "outputs": [
        {
          "output_type": "stream",
          "name": "stderr",
          "text": [
            "100%|██████████| 500/500 [00:13<00:00, 37.62it/s]\n"
          ]
        }
      ]
    },
    {
      "cell_type": "code",
      "source": [
        "from collections import Counter\n",
        "counter_intj = Counter(intj)\n",
        "counter_intj.most_common(10)"
      ],
      "metadata": {
        "colab": {
          "base_uri": "https://localhost:8080/"
        },
        "outputId": "5cfba52f-ee17-46bc-aab2-1666ebd08d2c",
        "id": "6Pxi2Pe4bAxv"
      },
      "execution_count": 13,
      "outputs": [
        {
          "output_type": "execute_result",
          "data": {
            "text/plain": [
              "[('Well', 8),\n",
              " ('Oh', 6),\n",
              " ('like', 6),\n",
              " ('Yes', 4),\n",
              " ('wow', 4),\n",
              " ('Please', 3),\n",
              " ('please', 3),\n",
              " ('well', 2),\n",
              " ('OK', 2),\n",
              " ('Hey', 1)]"
            ]
          },
          "metadata": {},
          "execution_count": 13
        }
      ]
    },
    {
      "cell_type": "code",
      "source": [
        "counter_advcl = Counter(advmod)\n",
        "counter_advcl.most_common(10)"
      ],
      "metadata": {
        "colab": {
          "base_uri": "https://localhost:8080/"
        },
        "outputId": "af921999-90f1-4085-f25f-1fb5fa918ec1",
        "id": "ZT9-d80lbAxv"
      },
      "execution_count": 14,
      "outputs": [
        {
          "output_type": "execute_result",
          "data": {
            "text/plain": [
              "[('very', 123),\n",
              " ('so', 121),\n",
              " ('just', 113),\n",
              " ('too', 98),\n",
              " ('when', 76),\n",
              " ('really', 71),\n",
              " ('also', 67),\n",
              " ('as', 61),\n",
              " ('much', 51),\n",
              " ('more', 49)]"
            ]
          },
          "metadata": {},
          "execution_count": 14
        }
      ]
    },
    {
      "cell_type": "code",
      "source": [
        "counter_amod = Counter(amod)\n",
        "counter_amod.most_common(20)"
      ],
      "metadata": {
        "colab": {
          "base_uri": "https://localhost:8080/"
        },
        "outputId": "8e59dabf-d775-4a8f-a14e-7fa21badefcb",
        "id": "BAQ_WdH-bAxv"
      },
      "execution_count": 15,
      "outputs": [
        {
          "output_type": "execute_result",
          "data": {
            "text/plain": [
              "[('other', 98),\n",
              " ('great', 72),\n",
              " ('good', 71),\n",
              " ('best', 46),\n",
              " ('many', 32),\n",
              " ('local', 31),\n",
              " ('little', 30),\n",
              " ('only', 29),\n",
              " ('first', 28),\n",
              " ('more', 27),\n",
              " ('regular', 25),\n",
              " ('sweet', 25),\n",
              " ('natural', 23),\n",
              " ('big', 21),\n",
              " ('Great', 20),\n",
              " ('small', 20),\n",
              " ('favorite', 20),\n",
              " ('free', 19),\n",
              " ('whole', 19),\n",
              " ('better', 19)]"
            ]
          },
          "metadata": {},
          "execution_count": 15
        }
      ]
    },
    {
      "cell_type": "code",
      "source": [
        "counter_ccomp = Counter(ccomp)\n",
        "counter_ccomp.most_common(10)"
      ],
      "metadata": {
        "colab": {
          "base_uri": "https://localhost:8080/"
        },
        "outputId": "a2f726a7-152c-41b0-d22c-0f3edc909940",
        "id": "mJVdWyY3bAxw"
      },
      "execution_count": 16,
      "outputs": [
        {
          "output_type": "execute_result",
          "data": {
            "text/plain": [
              "[('is', 83),\n",
              " ('are', 62),\n",
              " ('was', 33),\n",
              " ('have', 22),\n",
              " ('were', 21),\n",
              " ('be', 18),\n",
              " (\"'s\", 17),\n",
              " ('get', 12),\n",
              " ('had', 11),\n",
              " ('has', 9)]"
            ]
          },
          "metadata": {},
          "execution_count": 16
        }
      ]
    },
    {
      "cell_type": "code",
      "source": [
        "counter_dobj = Counter(dobj)\n",
        "counter_dobj.most_common(10)"
      ],
      "metadata": {
        "colab": {
          "base_uri": "https://localhost:8080/"
        },
        "outputId": "a5b35706-58e1-4480-c249-81d00e299276",
        "id": "nK86x0EUbAxw"
      },
      "execution_count": 17,
      "outputs": [
        {
          "output_type": "execute_result",
          "data": {
            "text/plain": [
              "[('it', 202),\n",
              " ('them', 150),\n",
              " ('chips', 98),\n",
              " ('these', 74),\n",
              " ('flavor', 52),\n",
              " ('bag', 50),\n",
              " ('this', 45),\n",
              " ('taste', 37),\n",
              " ('product', 35),\n",
              " ('me', 31)]"
            ]
          },
          "metadata": {},
          "execution_count": 17
        }
      ]
    },
    {
      "cell_type": "markdown",
      "source": [
        "##### example of a sentence and all spacy attributes"
      ],
      "metadata": {
        "id": "QaCVjhvge5Af"
      }
    },
    {
      "cell_type": "code",
      "source": [
        "test_sent = nlp('This girl is beautiful')\n",
        "for token in test_sent:\n",
        "  print(token.text, token.dep_)\n",
        "  #print(token.dep_)\n",
        "  print([child.text for child in token.children])\n",
        "  print([child.pos_ for child in token.children])\n",
        "  print([child.dep_ for child in token.children])"
      ],
      "metadata": {
        "colab": {
          "base_uri": "https://localhost:8080/"
        },
        "outputId": "6477688d-9943-4f4b-e9be-8498d9ce222c",
        "id": "k-heW2CbbAxw"
      },
      "execution_count": 18,
      "outputs": [
        {
          "output_type": "stream",
          "name": "stdout",
          "text": [
            "This det\n",
            "[]\n",
            "[]\n",
            "[]\n",
            "girl nsubj\n",
            "['This']\n",
            "['DET']\n",
            "['det']\n",
            "is ROOT\n",
            "['girl', 'beautiful']\n",
            "['NOUN', 'ADJ']\n",
            "['nsubj', 'acomp']\n",
            "beautiful acomp\n",
            "[]\n",
            "[]\n",
            "[]\n"
          ]
        }
      ]
    },
    {
      "cell_type": "code",
      "source": [
        "test_sent = nlp('she is a very beautiful girl')\n",
        "for token in test_sent:\n",
        "  print(token.text, token.dep_)\n",
        "  #print(token.dep_)\n",
        "  print([child.text for child in token.children])\n",
        "  print([child.pos_ for child in token.children])\n",
        "  print([child.dep_ for child in token.children])"
      ],
      "metadata": {
        "colab": {
          "base_uri": "https://localhost:8080/"
        },
        "outputId": "33ad38b8-b886-4098-e986-0c510d58bca5",
        "id": "CMnOILZJbAxx"
      },
      "execution_count": 19,
      "outputs": [
        {
          "output_type": "stream",
          "name": "stdout",
          "text": [
            "she nsubj\n",
            "[]\n",
            "[]\n",
            "[]\n",
            "is ROOT\n",
            "['she', 'girl']\n",
            "['PRON', 'NOUN']\n",
            "['nsubj', 'attr']\n",
            "a det\n",
            "[]\n",
            "[]\n",
            "[]\n",
            "very advmod\n",
            "[]\n",
            "[]\n",
            "[]\n",
            "beautiful amod\n",
            "['very']\n",
            "['ADV']\n",
            "['advmod']\n",
            "girl attr\n",
            "['a', 'beautiful']\n",
            "['DET', 'ADJ']\n",
            "['det', 'amod']\n"
          ]
        }
      ]
    },
    {
      "cell_type": "markdown",
      "source": [
        "##### noun + verb + adjective"
      ],
      "metadata": {
        "id": "F925DeBYfInq"
      }
    },
    {
      "cell_type": "code",
      "source": [
        "from tqdm import tqdm\n",
        "noun_ver_adj = []\n",
        "score_noun = []\n",
        "indexes_noun = []\n",
        "adv_verb_ind = [] # tackle the case 'delivery was REALLY NOT quick'\n",
        "for i in tqdm(range(1000)):\n",
        "  sente = nlp(X_train.Text.iloc[i])\n",
        "  for token in sente:\n",
        "    noun = ''\n",
        "    adj = ''\n",
        "    adverb = ''\n",
        "    neg = ''\n",
        "    adv_verb = ''\n",
        "    if token.dep_ == 'ROOT':\n",
        "      for child in token.children:\n",
        "        if child.pos_ == 'NOUN':\n",
        "          noun = child.text\n",
        "        elif child.pos_ == 'ADJ':\n",
        "          adj = child.text\n",
        "          for other_child in child.children:\n",
        "            if other_child.pos_ == 'ADV':\n",
        "              adverb = other_child.text\n",
        "        elif child.pos_ == 'ADV':\n",
        "          adv_verb_ind.append((i,child.text))\n",
        "          adv_verb = child.text\n",
        "        elif child.pos_ == 'PART':\n",
        "          neg = child.text\n",
        "\n",
        "\n",
        "\n",
        "      if noun and adj:\n",
        "        indexes_noun.append(i)\n",
        "        score_noun.append(y_train.iloc[i])\n",
        "        if adverb :\n",
        "          noun_ver_adj.append((noun, token.text,adverb,adj))\n",
        "        elif adv_verb and neg:\n",
        "          noun_ver_adj.append((noun, token.text,adv_verb,neg,adj))\n",
        "        elif neg:\n",
        "          noun_ver_adj.append((noun, token.text,neg,adj))\n",
        "        else:\n",
        "          noun_ver_adj.append((noun, token.text,adj))"
      ],
      "metadata": {
        "colab": {
          "base_uri": "https://localhost:8080/"
        },
        "outputId": "48f2cd64-6d9c-4f9c-a4ff-16b25c2edc10",
        "id": "ET0KN_vfbAxw"
      },
      "execution_count": 12,
      "outputs": [
        {
          "output_type": "stream",
          "name": "stderr",
          "text": [
            "100%|██████████| 1000/1000 [00:28<00:00, 35.27it/s]\n"
          ]
        }
      ]
    },
    {
      "cell_type": "code",
      "source": [
        "len(indexes_noun)"
      ],
      "metadata": {
        "colab": {
          "base_uri": "https://localhost:8080/"
        },
        "id": "FnkePvSNKXHA",
        "outputId": "cc8e7f8d-bb5c-4c60-851f-6eb197741d63"
      },
      "execution_count": 13,
      "outputs": [
        {
          "output_type": "execute_result",
          "data": {
            "text/plain": [
              "480"
            ]
          },
          "metadata": {},
          "execution_count": 13
        }
      ]
    },
    {
      "cell_type": "code",
      "source": [
        "from collections import Counter\n",
        "element_counts_lemma_noun = Counter(nlp(item[0])[0].lemma_ for item in noun_ver_adj)"
      ],
      "metadata": {
        "id": "-BsWIlKYIl0-"
      },
      "execution_count": 14,
      "outputs": []
    },
    {
      "cell_type": "code",
      "source": [
        "most_common_noun = list(map(lambda x : x[0],element_counts_lemma_noun.most_common(10)))"
      ],
      "metadata": {
        "id": "0xGZgTCnIqy-"
      },
      "execution_count": 15,
      "outputs": []
    },
    {
      "cell_type": "code",
      "source": [
        "flavor_tuples = [' '.join(x) for x in noun_ver_adj if nlp(x[0])[0].lemma_ == most_common_noun[0]]"
      ],
      "metadata": {
        "id": "QiVJuh8HRt4_"
      },
      "execution_count": 16,
      "outputs": []
    },
    {
      "cell_type": "markdown",
      "source": [
        "##### Sentiment analysis\n",
        "\n",
        "\n",
        "\n"
      ],
      "metadata": {
        "id": "X9qa3niddha4"
      }
    },
    {
      "cell_type": "code",
      "source": [
        "from transformers import pipeline\n",
        "sentiment_pipeline = pipeline(\"sentiment-analysis\", model = 'distilbert/distilbert-base-uncased-finetuned-sst-2-english')"
      ],
      "metadata": {
        "colab": {
          "base_uri": "https://localhost:8080/",
          "height": 272,
          "referenced_widgets": [
            "2ec6120bc04e457cb9bd57627b05f5c4",
            "684c392b78bb44439137e9154b8ec578",
            "f77df31553564e74a7301238a841c0ee",
            "fb1d3714acaa495d94a10987886ae8f9",
            "1699a9274c0145228f1a7e4869344c01",
            "fef9ace1d7de4bb2a827ed76637bc236",
            "115880cbe5d040609ec47c7f2249808d",
            "29cffb1f2b624330963a904c8b5d1429",
            "ca90106e82da4ca49c9fe022ada74810",
            "0839482b2dbd415e80a90c54069d6e5a",
            "3e50587cb73341519981536a603332e3",
            "3ab3bdfe55e246418a5d4066a2785f5f",
            "3c0fb7b63ffb4488a5ab9db8ffb1659e",
            "f7fee31e1c1b4b93a518fe97d1c6206d",
            "71d7176618954457979344d782133992",
            "c6d38706013d4aaa8304fd3e3b36dc27",
            "0f16673e4b694ed2846d404630c1ffc6",
            "a0a0175099cb4a9897ee264ad7dc0c19",
            "79d08f41f81a4a4caabdf13e9e623297",
            "61379e203efa427d831af4a83ae0910b",
            "60d21eae491b42388c97565f2de5c261",
            "1d49a04cddbf46b29ef16f9012e027de",
            "6573d7f514b34169b2c5e26bd3722262",
            "66b6915fdcc548b883714338ded8e676",
            "0a51a705ea2e48f98966bc27fdba6123",
            "87b15aab89364c3c863e2c61bb2a1369",
            "b88bf2f39d564eac9438ac0e83052b37",
            "337d3aca9f9345eebbaf7e484e37721e",
            "ce5da45de5e14d24a75d378c76720b34",
            "3b08c60955344ba0b5ee9cad5537df52",
            "12765219e5a04c8b9bca1f1360832b10",
            "ef3a2b8a1732439497025c335d6528c1",
            "99f494e605aa469a9a40dd3728343184",
            "f47ed5c08fb14995bb09f9f144abca70",
            "e3c77ff9ea54425985495753bec72e77",
            "027b7bde51a44c29a2f0a867d1bd57e1",
            "6bb49ba943824def9feec1f8e2c01c9c",
            "0f82eb1cb9404469b2e4f155e1d372c3",
            "3b612294750042028a9a6eb56ff0a6d5",
            "3218457d2c2a42519ada1f84461dcfa6",
            "c1a41e1a96ae4f8eb7e37bdd4a336bf6",
            "9576bfad0d3b42b883a1f2ff01935f6a",
            "f7f9ded0b4de4811bd321e943180f7b8",
            "d7a7842119ac4db78a631de58eb0c873"
          ]
        },
        "id": "pXeg2Yh9C9A8",
        "outputId": "7fcd15bf-dfb3-4a07-cc17-0e05f301aaec"
      },
      "execution_count": 17,
      "outputs": [
        {
          "output_type": "stream",
          "name": "stderr",
          "text": [
            "/usr/local/lib/python3.10/dist-packages/huggingface_hub/utils/_token.py:88: UserWarning: \n",
            "The secret `HF_TOKEN` does not exist in your Colab secrets.\n",
            "To authenticate with the Hugging Face Hub, create a token in your settings tab (https://huggingface.co/settings/tokens), set it as secret in your Google Colab and restart your session.\n",
            "You will be able to reuse this secret in all of your notebooks.\n",
            "Please note that authentication is recommended but still optional to access public models or datasets.\n",
            "  warnings.warn(\n"
          ]
        },
        {
          "output_type": "display_data",
          "data": {
            "text/plain": [
              "config.json:   0%|          | 0.00/629 [00:00<?, ?B/s]"
            ],
            "application/vnd.jupyter.widget-view+json": {
              "version_major": 2,
              "version_minor": 0,
              "model_id": "2ec6120bc04e457cb9bd57627b05f5c4"
            }
          },
          "metadata": {}
        },
        {
          "output_type": "display_data",
          "data": {
            "text/plain": [
              "model.safetensors:   0%|          | 0.00/268M [00:00<?, ?B/s]"
            ],
            "application/vnd.jupyter.widget-view+json": {
              "version_major": 2,
              "version_minor": 0,
              "model_id": "3ab3bdfe55e246418a5d4066a2785f5f"
            }
          },
          "metadata": {}
        },
        {
          "output_type": "display_data",
          "data": {
            "text/plain": [
              "tokenizer_config.json:   0%|          | 0.00/48.0 [00:00<?, ?B/s]"
            ],
            "application/vnd.jupyter.widget-view+json": {
              "version_major": 2,
              "version_minor": 0,
              "model_id": "6573d7f514b34169b2c5e26bd3722262"
            }
          },
          "metadata": {}
        },
        {
          "output_type": "display_data",
          "data": {
            "text/plain": [
              "vocab.txt:   0%|          | 0.00/232k [00:00<?, ?B/s]"
            ],
            "application/vnd.jupyter.widget-view+json": {
              "version_major": 2,
              "version_minor": 0,
              "model_id": "f47ed5c08fb14995bb09f9f144abca70"
            }
          },
          "metadata": {}
        }
      ]
    },
    {
      "cell_type": "code",
      "source": [
        "most_common_noun"
      ],
      "metadata": {
        "colab": {
          "base_uri": "https://localhost:8080/"
        },
        "id": "RIzOX3u1GdAL",
        "outputId": "584aa89f-5412-4f52-83a7-e5060c1076c2"
      },
      "execution_count": 18,
      "outputs": [
        {
          "output_type": "execute_result",
          "data": {
            "text/plain": [
              "['chip',\n",
              " 'flavor',\n",
              " 'taste',\n",
              " 'price',\n",
              " 'bag',\n",
              " 'product',\n",
              " 'coffee',\n",
              " 'potato',\n",
              " 'tea',\n",
              " 'food']"
            ]
          },
          "metadata": {},
          "execution_count": 18
        }
      ]
    },
    {
      "cell_type": "code",
      "source": [
        "def get_insights(index):\n",
        "  list_tuples = [' '.join(x) for x in noun_ver_adj if nlp(x[0])[0].lemma_ == most_common_noun[index]]\n",
        "  results = sentiment_pipeline(list_tuples)\n",
        "  pos = 0\n",
        "  neg = 0\n",
        "  pos_adj = []\n",
        "  neg_adj = []\n",
        "  for sentence,result in zip(list_tuples,results):\n",
        "    if result['label'] == 'POSITIVE':\n",
        "      pos +=1\n",
        "      pos_adj.append(sentence.rsplit(None,1)[-1])\n",
        "    else:\n",
        "      neg +=1\n",
        "      neg_adj.append(sentence.rsplit(None,1)[-1])\n",
        "  return most_common_noun[index],round(pos/len(results)*100,2), round(neg/len(results)*100,2), pos_adj, neg_adj"
      ],
      "metadata": {
        "id": "D967sV4f8_ZB"
      },
      "execution_count": 19,
      "outputs": []
    },
    {
      "cell_type": "code",
      "source": [
        "flavor = get_insights(0)"
      ],
      "metadata": {
        "id": "i7EmhJ5_-3D8"
      },
      "execution_count": 20,
      "outputs": []
    },
    {
      "cell_type": "code",
      "source": [
        "flavor[0],flavor[1],flavor[2]"
      ],
      "metadata": {
        "colab": {
          "base_uri": "https://localhost:8080/"
        },
        "id": "vjHCU-3-0MJ4",
        "outputId": "f6fd0490-405a-4111-ef5b-b9beb18bf106"
      },
      "execution_count": 29,
      "outputs": [
        {
          "output_type": "execute_result",
          "data": {
            "text/plain": [
              "('chip', 74.07, 25.93)"
            ]
          },
          "metadata": {},
          "execution_count": 29
        }
      ]
    },
    {
      "cell_type": "code",
      "source": [
        "pos_adj_flavor = flavor[3]\n",
        "Counter(pos_adj_flavor).most_common(10)"
      ],
      "metadata": {
        "colab": {
          "base_uri": "https://localhost:8080/"
        },
        "id": "jJHYoGitUH10",
        "outputId": "71d8fb93-6c84-4a1b-81fd-1f30b4d0d20f"
      },
      "execution_count": 21,
      "outputs": [
        {
          "output_type": "execute_result",
          "data": {
            "text/plain": [
              "[('unmistakable', 5),\n",
              " ('good', 4),\n",
              " ('excellent', 3),\n",
              " ('delicious', 3),\n",
              " ('great', 3),\n",
              " ('crunchy', 2),\n",
              " ('awesome', 2),\n",
              " ('tasty', 2),\n",
              " ('spicy', 2),\n",
              " ('best', 2)]"
            ]
          },
          "metadata": {},
          "execution_count": 21
        }
      ]
    },
    {
      "cell_type": "code",
      "source": [
        "neg_adj_flavor = flavor[4]\n",
        "Counter(neg_adj_flavor).most_common(10)"
      ],
      "metadata": {
        "colab": {
          "base_uri": "https://localhost:8080/"
        },
        "id": "6gPD24OOU_s0",
        "outputId": "41f96606-ccb4-4f36-8c08-2493fb7392ea"
      },
      "execution_count": 22,
      "outputs": [
        {
          "output_type": "execute_result",
          "data": {
            "text/plain": [
              "[('bad', 2),\n",
              " ('crunchy', 2),\n",
              " ('tangy', 2),\n",
              " ('thick', 1),\n",
              " ('overcooked', 1),\n",
              " ('hard', 1),\n",
              " ('nasty', 1),\n",
              " ('greasy', 1),\n",
              " ('spicy', 1),\n",
              " ('fresh', 1)]"
            ]
          },
          "metadata": {},
          "execution_count": 22
        }
      ]
    },
    {
      "cell_type": "code",
      "source": [
        "taste = get_insights(1)"
      ],
      "metadata": {
        "id": "2PGmzlPcDx-J"
      },
      "execution_count": 23,
      "outputs": []
    },
    {
      "cell_type": "code",
      "source": [
        "pos_adj_taste = taste[3]\n",
        "Counter(pos_adj_taste).most_common(5)"
      ],
      "metadata": {
        "colab": {
          "base_uri": "https://localhost:8080/"
        },
        "id": "cOke7IciWFJW",
        "outputId": "c4eb508e-37b2-42e3-df77-09700ecca9e5"
      },
      "execution_count": 24,
      "outputs": [
        {
          "output_type": "execute_result",
          "data": {
            "text/plain": [
              "[('amazing', 2),\n",
              " ('great', 2),\n",
              " ('medicinal', 1),\n",
              " ('Other', 1),\n",
              " ('fantastic', 1)]"
            ]
          },
          "metadata": {},
          "execution_count": 24
        }
      ]
    },
    {
      "cell_type": "code",
      "source": [
        "neg_adj_taste = taste[4]\n",
        "Counter(neg_adj_taste).most_common(5)"
      ],
      "metadata": {
        "colab": {
          "base_uri": "https://localhost:8080/"
        },
        "id": "qJ0YD-Z2WSUh",
        "outputId": "efa6cf2a-02d6-471f-8a8a-25d1e7b1b7bd"
      },
      "execution_count": 25,
      "outputs": [
        {
          "output_type": "execute_result",
          "data": {
            "text/plain": [
              "[('much', 1), ('terrible', 1), ('earthier', 1), ('dry', 1)]"
            ]
          },
          "metadata": {},
          "execution_count": 25
        }
      ]
    },
    {
      "cell_type": "code",
      "source": [
        "price = get_insights(2)"
      ],
      "metadata": {
        "id": "cLXjecNgJ_zp"
      },
      "execution_count": 26,
      "outputs": []
    },
    {
      "cell_type": "code",
      "source": [
        "pos_adj_price = price[3]\n",
        "Counter(pos_adj_price).most_common(5)"
      ],
      "metadata": {
        "colab": {
          "base_uri": "https://localhost:8080/"
        },
        "id": "uewJCRMbW76B",
        "outputId": "f6b21bfb-382e-48fa-e511-54f4e7bca315"
      },
      "execution_count": 27,
      "outputs": [
        {
          "output_type": "execute_result",
          "data": {
            "text/plain": [
              "[('great', 4), ('Fresh', 1), ('easy', 1), ('decent', 1), ('perfect', 1)]"
            ]
          },
          "metadata": {},
          "execution_count": 27
        }
      ]
    },
    {
      "cell_type": "code",
      "source": [
        "neg_adj_price = price[4]\n",
        "Counter(neg_adj_price).most_common(5)"
      ],
      "metadata": {
        "colab": {
          "base_uri": "https://localhost:8080/"
        },
        "id": "0fgYkksIW1Su",
        "outputId": "664c91db-293f-44a8-c6de-6b47d3ebf3b1"
      },
      "execution_count": 28,
      "outputs": [
        {
          "output_type": "execute_result",
          "data": {
            "text/plain": [
              "[('complicated', 1),\n",
              " ('better', 1),\n",
              " ('Stale', 1),\n",
              " ('overwhelming', 1),\n",
              " ('harsh', 1)]"
            ]
          },
          "metadata": {},
          "execution_count": 28
        }
      ]
    },
    {
      "cell_type": "markdown",
      "source": [
        "##### Subj ver adj"
      ],
      "metadata": {
        "id": "41mORSrreUol"
      }
    },
    {
      "cell_type": "code",
      "source": [
        "index_ok = np.unique(indexes_noun)\n",
        "all_index = np.arange(500)\n",
        "index_notok = np.setdiff1d(all_index,indexes_noun)"
      ],
      "metadata": {
        "id": "ns9QSVjyNBqe"
      },
      "execution_count": 21,
      "outputs": []
    },
    {
      "cell_type": "code",
      "source": [
        "subj_ver_adj = []\n",
        "score_subj = []\n",
        "indexes_subj = []\n",
        "for i in tqdm(index_notok):\n",
        "  sente = nlp(X_train.Text.iloc[i])\n",
        "  for token in sente:\n",
        "    subj = ''\n",
        "    adj = ''\n",
        "    adverb = ''\n",
        "    neg = ''\n",
        "    if token.dep_ == 'ROOT':\n",
        "      for child in token.children:\n",
        "        if child.dep_ == 'nsubj':\n",
        "          subj = child.text\n",
        "        elif child.dep_ == 'neg':\n",
        "          neg = child.text\n",
        "        elif child.dep_ == 'acomp':\n",
        "          adj = child.text\n",
        "          for other_child in child.children:\n",
        "            if other_child.pos_ == 'ADV':\n",
        "              adverb = other_child.text\n",
        "\n",
        "      if subj and adj:\n",
        "        indexes_subj.append(i)\n",
        "        score_subj.append(y_train.iloc[i])\n",
        "        if adverb and neg:\n",
        "          subj_ver_adj.append((subj, token.text,adverb,neg,adj,i))\n",
        "        elif adverb:\n",
        "          subj_ver_adj.append((subj, token.text,adverb,adj,i))\n",
        "        elif neg:\n",
        "          subj_ver_adj.append((subj, token.text,neg,adj,i))\n",
        "        else:\n",
        "          subj_ver_adj.append((subj, token.text,adj,i))"
      ],
      "metadata": {
        "colab": {
          "base_uri": "https://localhost:8080/"
        },
        "id": "r6udsxVRC_5-",
        "outputId": "fb12586a-02ba-476c-f12c-c6a6ae199caa"
      },
      "execution_count": 22,
      "outputs": [
        {
          "output_type": "stream",
          "name": "stderr",
          "text": [
            "100%|██████████| 293/293 [00:09<00:00, 29.75it/s]\n"
          ]
        }
      ]
    },
    {
      "cell_type": "code",
      "source": [
        "element_counts_lemma = Counter(nlp(item[0])[0].lemma_ for item in subj_ver_adj)"
      ],
      "metadata": {
        "id": "ElMnI58XPbRL"
      },
      "execution_count": 31,
      "outputs": []
    },
    {
      "cell_type": "code",
      "source": [
        "#element_counts = Counter(item[0] for item in sub_ver_adj)"
      ],
      "metadata": {
        "id": "uqd-aTzw9pbO"
      },
      "execution_count": null,
      "outputs": []
    },
    {
      "cell_type": "code",
      "source": [
        "element_counts_lemma.most_common(10)"
      ],
      "metadata": {
        "colab": {
          "base_uri": "https://localhost:8080/"
        },
        "id": "dhOIrZ4f9ujz",
        "outputId": "1cb85267-036c-4543-94db-8fff64b5d8b1"
      },
      "execution_count": 32,
      "outputs": [
        {
          "output_type": "execute_result",
          "data": {
            "text/plain": [
              "[('it', 35),\n",
              " ('I', 35),\n",
              " ('they', 32),\n",
              " ('these', 12),\n",
              " ('this', 5),\n",
              " ('we', 4),\n",
              " ('chip', 2),\n",
              " ('Labrador', 1),\n",
              " ('delivery', 1),\n",
              " ('he', 1)]"
            ]
          },
          "metadata": {},
          "execution_count": 32
        }
      ]
    }
  ]
}
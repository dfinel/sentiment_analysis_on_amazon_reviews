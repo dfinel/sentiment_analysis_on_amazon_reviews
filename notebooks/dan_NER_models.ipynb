{
  "nbformat": 4,
  "nbformat_minor": 0,
  "metadata": {
    "colab": {
      "provenance": []
    },
    "kernelspec": {
      "name": "python3",
      "display_name": "Python 3"
    },
    "language_info": {
      "name": "python"
    }
  },
  "cells": [
    {
      "cell_type": "code",
      "execution_count": 1,
      "metadata": {
        "id": "M6PQEK4eZyj7"
      },
      "outputs": [],
      "source": [
        "import pandas as pd\n",
        "import numpy as np"
      ]
    },
    {
      "cell_type": "markdown",
      "source": [
        "#### Google drive\n"
      ],
      "metadata": {
        "id": "vSVfBgb9Z7V4"
      }
    },
    {
      "cell_type": "code",
      "source": [
        "from google.colab import drive\n",
        "drive.mount('/content/drive')"
      ],
      "metadata": {
        "colab": {
          "base_uri": "https://localhost:8080/"
        },
        "id": "IijnM1bIeUPR",
        "outputId": "44c89472-d798-457b-f667-d0086ca9861a"
      },
      "execution_count": 2,
      "outputs": [
        {
          "output_type": "stream",
          "name": "stdout",
          "text": [
            "Drive already mounted at /content/drive; to attempt to forcibly remount, call drive.mount(\"/content/drive\", force_remount=True).\n"
          ]
        }
      ]
    },
    {
      "cell_type": "code",
      "source": [
        "path = '/content/drive/MyDrive/final_project_itc/data.npy'\n",
        "data = np.load(path, allow_pickle = True)"
      ],
      "metadata": {
        "id": "SOUVfkCLeGX9"
      },
      "execution_count": 3,
      "outputs": []
    },
    {
      "cell_type": "code",
      "source": [
        "df = pd.DataFrame(data, columns = ['Id', 'ProductId', 'UserId', 'ProfileName', 'HelpfulnessNumerator',\n",
        "       'HelpfulnessDenominator', 'Score', 'Time', 'Summary', 'Text'])"
      ],
      "metadata": {
        "id": "hKvBtxT2EwA3"
      },
      "execution_count": 4,
      "outputs": []
    },
    {
      "cell_type": "markdown",
      "source": [
        "#### Keep only 3 features"
      ],
      "metadata": {
        "id": "mT-JFMa3SbsB"
      }
    },
    {
      "cell_type": "code",
      "execution_count": 5,
      "metadata": {
        "id": "h4aLUdzjSKaQ"
      },
      "outputs": [],
      "source": [
        "df = df.loc[:,['ProductId','Text','Score']]"
      ]
    },
    {
      "cell_type": "markdown",
      "source": [
        "#### Split the dataset into train val and test using 100k samples"
      ],
      "metadata": {
        "id": "kzj1VlMFTmjO"
      }
    },
    {
      "cell_type": "code",
      "execution_count": 6,
      "metadata": {
        "id": "INm9_ZCgH1Na"
      },
      "outputs": [],
      "source": [
        "from sklearn.model_selection import GroupShuffleSplit\n",
        "splitter_temp = GroupShuffleSplit(test_size=.40, n_splits=1, random_state = 42)\n",
        "split_temp = splitter_temp.split(df[:100000], groups=df[:100000]['ProductId'])\n",
        "train_inds, temp_inds = next(split_temp)\n",
        "\n",
        "train = df.iloc[train_inds]\n",
        "temp = df.iloc[temp_inds]\n",
        "\n"
      ]
    },
    {
      "cell_type": "code",
      "source": [
        "train.Score.value_counts(normalize = True)"
      ],
      "metadata": {
        "colab": {
          "base_uri": "https://localhost:8080/"
        },
        "id": "d1y9Y_ACd5aC",
        "outputId": "e5010c6c-f1a7-4084-c773-e74e789de741"
      },
      "execution_count": 7,
      "outputs": [
        {
          "output_type": "execute_result",
          "data": {
            "text/plain": [
              "5    0.630774\n",
              "4    0.144436\n",
              "1    0.091830\n",
              "3    0.077940\n",
              "2    0.055020\n",
              "Name: Score, dtype: float64"
            ]
          },
          "metadata": {},
          "execution_count": 7
        }
      ]
    },
    {
      "cell_type": "code",
      "execution_count": 8,
      "metadata": {
        "id": "zg059kSjDOwX"
      },
      "outputs": [],
      "source": [
        "splitter_val = GroupShuffleSplit(test_size=.50, n_splits=1, random_state = 42)\n",
        "split_val = splitter_val.split(temp, groups=temp['ProductId'])\n",
        "val_inds, test_inds = next(split_val)\n",
        "\n",
        "val = temp.iloc[val_inds]\n",
        "test = temp.iloc[test_inds]"
      ]
    },
    {
      "cell_type": "code",
      "source": [
        "val.Score.value_counts(normalize = True)"
      ],
      "metadata": {
        "colab": {
          "base_uri": "https://localhost:8080/"
        },
        "id": "sPhYHNRCeDhh",
        "outputId": "3cfe62ca-9104-465e-d0d1-cff74d5a9494"
      },
      "execution_count": 9,
      "outputs": [
        {
          "output_type": "execute_result",
          "data": {
            "text/plain": [
              "5    0.609850\n",
              "4    0.151715\n",
              "1    0.094591\n",
              "3    0.086352\n",
              "2    0.057491\n",
              "Name: Score, dtype: float64"
            ]
          },
          "metadata": {},
          "execution_count": 9
        }
      ]
    },
    {
      "cell_type": "code",
      "source": [
        "test.Score.value_counts(normalize = True)"
      ],
      "metadata": {
        "colab": {
          "base_uri": "https://localhost:8080/"
        },
        "id": "41bqvPOTeGfS",
        "outputId": "7bb378a5-aa1e-435f-91d4-08241a96c5c8"
      },
      "execution_count": 10,
      "outputs": [
        {
          "output_type": "execute_result",
          "data": {
            "text/plain": [
              "5    0.619691\n",
              "4    0.146604\n",
              "1    0.095774\n",
              "3    0.082265\n",
              "2    0.055667\n",
              "Name: Score, dtype: float64"
            ]
          },
          "metadata": {},
          "execution_count": 10
        }
      ]
    },
    {
      "cell_type": "code",
      "execution_count": 11,
      "metadata": {
        "colab": {
          "base_uri": "https://localhost:8080/"
        },
        "id": "uo1wKWlIJe75",
        "outputId": "63449e55-9e3e-444d-fb35-9215d143a2e7"
      },
      "outputs": [
        {
          "output_type": "execute_result",
          "data": {
            "text/plain": [
              "((59251, 3), (21725, 3), (19024, 3))"
            ]
          },
          "metadata": {},
          "execution_count": 11
        }
      ],
      "source": [
        "train.shape,val.shape,test.shape"
      ]
    },
    {
      "cell_type": "code",
      "execution_count": 12,
      "metadata": {
        "id": "c8KrlV2SJ_Tv"
      },
      "outputs": [],
      "source": [
        "X_train = train.drop(columns = 'Score')\n",
        "y_train = train.Score\n",
        "\n",
        "X_val = val.drop(columns = 'Score')\n",
        "y_val = val.Score\n",
        "\n",
        "X_test = test.drop(columns = 'Score')\n",
        "y_test = test.Score"
      ]
    },
    {
      "cell_type": "markdown",
      "source": [
        "#### NER model"
      ],
      "metadata": {
        "id": "WG7Lp4IsbJMu"
      }
    },
    {
      "cell_type": "code",
      "source": [
        "import spacy\n",
        "nlp = spacy.load('en_core_web_sm')"
      ],
      "metadata": {
        "id": "BKUEXcanbdIW"
      },
      "execution_count": 13,
      "outputs": []
    },
    {
      "cell_type": "code",
      "source": [
        "nbr_sent = 500"
      ],
      "metadata": {
        "id": "tomDTfHwbAxu"
      },
      "execution_count": 14,
      "outputs": []
    },
    {
      "cell_type": "markdown",
      "source": [
        "##### displacy plots"
      ],
      "metadata": {
        "id": "ir0nyDb7eyMB"
      }
    },
    {
      "cell_type": "code",
      "source": [
        "from spacy import displacy\n",
        "displacy.render(nlp(X_train.Text[0]), jupyter = True)"
      ],
      "metadata": {
        "colab": {
          "base_uri": "https://localhost:8080/",
          "height": 703
        },
        "outputId": "6a9d2fbf-7a81-44c9-8130-d51bb6c85de6",
        "id": "rvfx1ISvbAxu"
      },
      "execution_count": 15,
      "outputs": [
        {
          "output_type": "display_data",
          "data": {
            "text/plain": [
              "<IPython.core.display.HTML object>"
            ],
            "text/html": [
              "<span class=\"tex2jax_ignore\"><svg xmlns=\"http://www.w3.org/2000/svg\" xmlns:xlink=\"http://www.w3.org/1999/xlink\" xml:lang=\"en\" id=\"d06772913d0f427fbf29b5b2f7854eed-0\" class=\"displacy\" width=\"8625\" height=\"662.0\" direction=\"ltr\" style=\"max-width: none; height: 662.0px; color: #000000; background: #ffffff; font-family: Arial; direction: ltr\">\n",
              "<text class=\"displacy-token\" fill=\"currentColor\" text-anchor=\"middle\" y=\"572.0\">\n",
              "    <tspan class=\"displacy-word\" fill=\"currentColor\" x=\"50\">I</tspan>\n",
              "    <tspan class=\"displacy-tag\" dy=\"2em\" fill=\"currentColor\" x=\"50\">PRON</tspan>\n",
              "</text>\n",
              "\n",
              "<text class=\"displacy-token\" fill=\"currentColor\" text-anchor=\"middle\" y=\"572.0\">\n",
              "    <tspan class=\"displacy-word\" fill=\"currentColor\" x=\"225\">have</tspan>\n",
              "    <tspan class=\"displacy-tag\" dy=\"2em\" fill=\"currentColor\" x=\"225\">AUX</tspan>\n",
              "</text>\n",
              "\n",
              "<text class=\"displacy-token\" fill=\"currentColor\" text-anchor=\"middle\" y=\"572.0\">\n",
              "    <tspan class=\"displacy-word\" fill=\"currentColor\" x=\"400\">bought</tspan>\n",
              "    <tspan class=\"displacy-tag\" dy=\"2em\" fill=\"currentColor\" x=\"400\">VERB</tspan>\n",
              "</text>\n",
              "\n",
              "<text class=\"displacy-token\" fill=\"currentColor\" text-anchor=\"middle\" y=\"572.0\">\n",
              "    <tspan class=\"displacy-word\" fill=\"currentColor\" x=\"575\">several</tspan>\n",
              "    <tspan class=\"displacy-tag\" dy=\"2em\" fill=\"currentColor\" x=\"575\">ADJ</tspan>\n",
              "</text>\n",
              "\n",
              "<text class=\"displacy-token\" fill=\"currentColor\" text-anchor=\"middle\" y=\"572.0\">\n",
              "    <tspan class=\"displacy-word\" fill=\"currentColor\" x=\"750\">of</tspan>\n",
              "    <tspan class=\"displacy-tag\" dy=\"2em\" fill=\"currentColor\" x=\"750\">ADP</tspan>\n",
              "</text>\n",
              "\n",
              "<text class=\"displacy-token\" fill=\"currentColor\" text-anchor=\"middle\" y=\"572.0\">\n",
              "    <tspan class=\"displacy-word\" fill=\"currentColor\" x=\"925\">the</tspan>\n",
              "    <tspan class=\"displacy-tag\" dy=\"2em\" fill=\"currentColor\" x=\"925\">DET</tspan>\n",
              "</text>\n",
              "\n",
              "<text class=\"displacy-token\" fill=\"currentColor\" text-anchor=\"middle\" y=\"572.0\">\n",
              "    <tspan class=\"displacy-word\" fill=\"currentColor\" x=\"1100\">Vitality</tspan>\n",
              "    <tspan class=\"displacy-tag\" dy=\"2em\" fill=\"currentColor\" x=\"1100\">PROPN</tspan>\n",
              "</text>\n",
              "\n",
              "<text class=\"displacy-token\" fill=\"currentColor\" text-anchor=\"middle\" y=\"572.0\">\n",
              "    <tspan class=\"displacy-word\" fill=\"currentColor\" x=\"1275\">canned</tspan>\n",
              "    <tspan class=\"displacy-tag\" dy=\"2em\" fill=\"currentColor\" x=\"1275\">VERB</tspan>\n",
              "</text>\n",
              "\n",
              "<text class=\"displacy-token\" fill=\"currentColor\" text-anchor=\"middle\" y=\"572.0\">\n",
              "    <tspan class=\"displacy-word\" fill=\"currentColor\" x=\"1450\">dog</tspan>\n",
              "    <tspan class=\"displacy-tag\" dy=\"2em\" fill=\"currentColor\" x=\"1450\">NOUN</tspan>\n",
              "</text>\n",
              "\n",
              "<text class=\"displacy-token\" fill=\"currentColor\" text-anchor=\"middle\" y=\"572.0\">\n",
              "    <tspan class=\"displacy-word\" fill=\"currentColor\" x=\"1625\">food</tspan>\n",
              "    <tspan class=\"displacy-tag\" dy=\"2em\" fill=\"currentColor\" x=\"1625\">NOUN</tspan>\n",
              "</text>\n",
              "\n",
              "<text class=\"displacy-token\" fill=\"currentColor\" text-anchor=\"middle\" y=\"572.0\">\n",
              "    <tspan class=\"displacy-word\" fill=\"currentColor\" x=\"1800\">products</tspan>\n",
              "    <tspan class=\"displacy-tag\" dy=\"2em\" fill=\"currentColor\" x=\"1800\">NOUN</tspan>\n",
              "</text>\n",
              "\n",
              "<text class=\"displacy-token\" fill=\"currentColor\" text-anchor=\"middle\" y=\"572.0\">\n",
              "    <tspan class=\"displacy-word\" fill=\"currentColor\" x=\"1975\">and</tspan>\n",
              "    <tspan class=\"displacy-tag\" dy=\"2em\" fill=\"currentColor\" x=\"1975\">CCONJ</tspan>\n",
              "</text>\n",
              "\n",
              "<text class=\"displacy-token\" fill=\"currentColor\" text-anchor=\"middle\" y=\"572.0\">\n",
              "    <tspan class=\"displacy-word\" fill=\"currentColor\" x=\"2150\">have</tspan>\n",
              "    <tspan class=\"displacy-tag\" dy=\"2em\" fill=\"currentColor\" x=\"2150\">AUX</tspan>\n",
              "</text>\n",
              "\n",
              "<text class=\"displacy-token\" fill=\"currentColor\" text-anchor=\"middle\" y=\"572.0\">\n",
              "    <tspan class=\"displacy-word\" fill=\"currentColor\" x=\"2325\">found</tspan>\n",
              "    <tspan class=\"displacy-tag\" dy=\"2em\" fill=\"currentColor\" x=\"2325\">VERB</tspan>\n",
              "</text>\n",
              "\n",
              "<text class=\"displacy-token\" fill=\"currentColor\" text-anchor=\"middle\" y=\"572.0\">\n",
              "    <tspan class=\"displacy-word\" fill=\"currentColor\" x=\"2500\">them</tspan>\n",
              "    <tspan class=\"displacy-tag\" dy=\"2em\" fill=\"currentColor\" x=\"2500\">PRON</tspan>\n",
              "</text>\n",
              "\n",
              "<text class=\"displacy-token\" fill=\"currentColor\" text-anchor=\"middle\" y=\"572.0\">\n",
              "    <tspan class=\"displacy-word\" fill=\"currentColor\" x=\"2675\">all</tspan>\n",
              "    <tspan class=\"displacy-tag\" dy=\"2em\" fill=\"currentColor\" x=\"2675\">PRON</tspan>\n",
              "</text>\n",
              "\n",
              "<text class=\"displacy-token\" fill=\"currentColor\" text-anchor=\"middle\" y=\"572.0\">\n",
              "    <tspan class=\"displacy-word\" fill=\"currentColor\" x=\"2850\">to</tspan>\n",
              "    <tspan class=\"displacy-tag\" dy=\"2em\" fill=\"currentColor\" x=\"2850\">PART</tspan>\n",
              "</text>\n",
              "\n",
              "<text class=\"displacy-token\" fill=\"currentColor\" text-anchor=\"middle\" y=\"572.0\">\n",
              "    <tspan class=\"displacy-word\" fill=\"currentColor\" x=\"3025\">be</tspan>\n",
              "    <tspan class=\"displacy-tag\" dy=\"2em\" fill=\"currentColor\" x=\"3025\">AUX</tspan>\n",
              "</text>\n",
              "\n",
              "<text class=\"displacy-token\" fill=\"currentColor\" text-anchor=\"middle\" y=\"572.0\">\n",
              "    <tspan class=\"displacy-word\" fill=\"currentColor\" x=\"3200\">of</tspan>\n",
              "    <tspan class=\"displacy-tag\" dy=\"2em\" fill=\"currentColor\" x=\"3200\">ADP</tspan>\n",
              "</text>\n",
              "\n",
              "<text class=\"displacy-token\" fill=\"currentColor\" text-anchor=\"middle\" y=\"572.0\">\n",
              "    <tspan class=\"displacy-word\" fill=\"currentColor\" x=\"3375\">good</tspan>\n",
              "    <tspan class=\"displacy-tag\" dy=\"2em\" fill=\"currentColor\" x=\"3375\">ADJ</tspan>\n",
              "</text>\n",
              "\n",
              "<text class=\"displacy-token\" fill=\"currentColor\" text-anchor=\"middle\" y=\"572.0\">\n",
              "    <tspan class=\"displacy-word\" fill=\"currentColor\" x=\"3550\">quality.</tspan>\n",
              "    <tspan class=\"displacy-tag\" dy=\"2em\" fill=\"currentColor\" x=\"3550\">NOUN</tspan>\n",
              "</text>\n",
              "\n",
              "<text class=\"displacy-token\" fill=\"currentColor\" text-anchor=\"middle\" y=\"572.0\">\n",
              "    <tspan class=\"displacy-word\" fill=\"currentColor\" x=\"3725\">The</tspan>\n",
              "    <tspan class=\"displacy-tag\" dy=\"2em\" fill=\"currentColor\" x=\"3725\">DET</tspan>\n",
              "</text>\n",
              "\n",
              "<text class=\"displacy-token\" fill=\"currentColor\" text-anchor=\"middle\" y=\"572.0\">\n",
              "    <tspan class=\"displacy-word\" fill=\"currentColor\" x=\"3900\">product</tspan>\n",
              "    <tspan class=\"displacy-tag\" dy=\"2em\" fill=\"currentColor\" x=\"3900\">NOUN</tspan>\n",
              "</text>\n",
              "\n",
              "<text class=\"displacy-token\" fill=\"currentColor\" text-anchor=\"middle\" y=\"572.0\">\n",
              "    <tspan class=\"displacy-word\" fill=\"currentColor\" x=\"4075\">looks</tspan>\n",
              "    <tspan class=\"displacy-tag\" dy=\"2em\" fill=\"currentColor\" x=\"4075\">VERB</tspan>\n",
              "</text>\n",
              "\n",
              "<text class=\"displacy-token\" fill=\"currentColor\" text-anchor=\"middle\" y=\"572.0\">\n",
              "    <tspan class=\"displacy-word\" fill=\"currentColor\" x=\"4250\">more</tspan>\n",
              "    <tspan class=\"displacy-tag\" dy=\"2em\" fill=\"currentColor\" x=\"4250\">ADV</tspan>\n",
              "</text>\n",
              "\n",
              "<text class=\"displacy-token\" fill=\"currentColor\" text-anchor=\"middle\" y=\"572.0\">\n",
              "    <tspan class=\"displacy-word\" fill=\"currentColor\" x=\"4425\">like</tspan>\n",
              "    <tspan class=\"displacy-tag\" dy=\"2em\" fill=\"currentColor\" x=\"4425\">ADP</tspan>\n",
              "</text>\n",
              "\n",
              "<text class=\"displacy-token\" fill=\"currentColor\" text-anchor=\"middle\" y=\"572.0\">\n",
              "    <tspan class=\"displacy-word\" fill=\"currentColor\" x=\"4600\">a</tspan>\n",
              "    <tspan class=\"displacy-tag\" dy=\"2em\" fill=\"currentColor\" x=\"4600\">DET</tspan>\n",
              "</text>\n",
              "\n",
              "<text class=\"displacy-token\" fill=\"currentColor\" text-anchor=\"middle\" y=\"572.0\">\n",
              "    <tspan class=\"displacy-word\" fill=\"currentColor\" x=\"4775\">stew</tspan>\n",
              "    <tspan class=\"displacy-tag\" dy=\"2em\" fill=\"currentColor\" x=\"4775\">NOUN</tspan>\n",
              "</text>\n",
              "\n",
              "<text class=\"displacy-token\" fill=\"currentColor\" text-anchor=\"middle\" y=\"572.0\">\n",
              "    <tspan class=\"displacy-word\" fill=\"currentColor\" x=\"4950\">than</tspan>\n",
              "    <tspan class=\"displacy-tag\" dy=\"2em\" fill=\"currentColor\" x=\"4950\">ADP</tspan>\n",
              "</text>\n",
              "\n",
              "<text class=\"displacy-token\" fill=\"currentColor\" text-anchor=\"middle\" y=\"572.0\">\n",
              "    <tspan class=\"displacy-word\" fill=\"currentColor\" x=\"5125\">a</tspan>\n",
              "    <tspan class=\"displacy-tag\" dy=\"2em\" fill=\"currentColor\" x=\"5125\">DET</tspan>\n",
              "</text>\n",
              "\n",
              "<text class=\"displacy-token\" fill=\"currentColor\" text-anchor=\"middle\" y=\"572.0\">\n",
              "    <tspan class=\"displacy-word\" fill=\"currentColor\" x=\"5300\">processed</tspan>\n",
              "    <tspan class=\"displacy-tag\" dy=\"2em\" fill=\"currentColor\" x=\"5300\">VERB</tspan>\n",
              "</text>\n",
              "\n",
              "<text class=\"displacy-token\" fill=\"currentColor\" text-anchor=\"middle\" y=\"572.0\">\n",
              "    <tspan class=\"displacy-word\" fill=\"currentColor\" x=\"5475\">meat</tspan>\n",
              "    <tspan class=\"displacy-tag\" dy=\"2em\" fill=\"currentColor\" x=\"5475\">NOUN</tspan>\n",
              "</text>\n",
              "\n",
              "<text class=\"displacy-token\" fill=\"currentColor\" text-anchor=\"middle\" y=\"572.0\">\n",
              "    <tspan class=\"displacy-word\" fill=\"currentColor\" x=\"5650\">and</tspan>\n",
              "    <tspan class=\"displacy-tag\" dy=\"2em\" fill=\"currentColor\" x=\"5650\">CCONJ</tspan>\n",
              "</text>\n",
              "\n",
              "<text class=\"displacy-token\" fill=\"currentColor\" text-anchor=\"middle\" y=\"572.0\">\n",
              "    <tspan class=\"displacy-word\" fill=\"currentColor\" x=\"5825\">it</tspan>\n",
              "    <tspan class=\"displacy-tag\" dy=\"2em\" fill=\"currentColor\" x=\"5825\">PRON</tspan>\n",
              "</text>\n",
              "\n",
              "<text class=\"displacy-token\" fill=\"currentColor\" text-anchor=\"middle\" y=\"572.0\">\n",
              "    <tspan class=\"displacy-word\" fill=\"currentColor\" x=\"6000\">smells</tspan>\n",
              "    <tspan class=\"displacy-tag\" dy=\"2em\" fill=\"currentColor\" x=\"6000\">VERB</tspan>\n",
              "</text>\n",
              "\n",
              "<text class=\"displacy-token\" fill=\"currentColor\" text-anchor=\"middle\" y=\"572.0\">\n",
              "    <tspan class=\"displacy-word\" fill=\"currentColor\" x=\"6175\">better.</tspan>\n",
              "    <tspan class=\"displacy-tag\" dy=\"2em\" fill=\"currentColor\" x=\"6175\">ADV</tspan>\n",
              "</text>\n",
              "\n",
              "<text class=\"displacy-token\" fill=\"currentColor\" text-anchor=\"middle\" y=\"572.0\">\n",
              "    <tspan class=\"displacy-word\" fill=\"currentColor\" x=\"6350\">My</tspan>\n",
              "    <tspan class=\"displacy-tag\" dy=\"2em\" fill=\"currentColor\" x=\"6350\">PRON</tspan>\n",
              "</text>\n",
              "\n",
              "<text class=\"displacy-token\" fill=\"currentColor\" text-anchor=\"middle\" y=\"572.0\">\n",
              "    <tspan class=\"displacy-word\" fill=\"currentColor\" x=\"6525\">Labrador</tspan>\n",
              "    <tspan class=\"displacy-tag\" dy=\"2em\" fill=\"currentColor\" x=\"6525\">PROPN</tspan>\n",
              "</text>\n",
              "\n",
              "<text class=\"displacy-token\" fill=\"currentColor\" text-anchor=\"middle\" y=\"572.0\">\n",
              "    <tspan class=\"displacy-word\" fill=\"currentColor\" x=\"6700\">is</tspan>\n",
              "    <tspan class=\"displacy-tag\" dy=\"2em\" fill=\"currentColor\" x=\"6700\">AUX</tspan>\n",
              "</text>\n",
              "\n",
              "<text class=\"displacy-token\" fill=\"currentColor\" text-anchor=\"middle\" y=\"572.0\">\n",
              "    <tspan class=\"displacy-word\" fill=\"currentColor\" x=\"6875\">finicky</tspan>\n",
              "    <tspan class=\"displacy-tag\" dy=\"2em\" fill=\"currentColor\" x=\"6875\">ADJ</tspan>\n",
              "</text>\n",
              "\n",
              "<text class=\"displacy-token\" fill=\"currentColor\" text-anchor=\"middle\" y=\"572.0\">\n",
              "    <tspan class=\"displacy-word\" fill=\"currentColor\" x=\"7050\">and</tspan>\n",
              "    <tspan class=\"displacy-tag\" dy=\"2em\" fill=\"currentColor\" x=\"7050\">CCONJ</tspan>\n",
              "</text>\n",
              "\n",
              "<text class=\"displacy-token\" fill=\"currentColor\" text-anchor=\"middle\" y=\"572.0\">\n",
              "    <tspan class=\"displacy-word\" fill=\"currentColor\" x=\"7225\">she</tspan>\n",
              "    <tspan class=\"displacy-tag\" dy=\"2em\" fill=\"currentColor\" x=\"7225\">PRON</tspan>\n",
              "</text>\n",
              "\n",
              "<text class=\"displacy-token\" fill=\"currentColor\" text-anchor=\"middle\" y=\"572.0\">\n",
              "    <tspan class=\"displacy-word\" fill=\"currentColor\" x=\"7400\">appreciates</tspan>\n",
              "    <tspan class=\"displacy-tag\" dy=\"2em\" fill=\"currentColor\" x=\"7400\">VERB</tspan>\n",
              "</text>\n",
              "\n",
              "<text class=\"displacy-token\" fill=\"currentColor\" text-anchor=\"middle\" y=\"572.0\">\n",
              "    <tspan class=\"displacy-word\" fill=\"currentColor\" x=\"7575\">this</tspan>\n",
              "    <tspan class=\"displacy-tag\" dy=\"2em\" fill=\"currentColor\" x=\"7575\">DET</tspan>\n",
              "</text>\n",
              "\n",
              "<text class=\"displacy-token\" fill=\"currentColor\" text-anchor=\"middle\" y=\"572.0\">\n",
              "    <tspan class=\"displacy-word\" fill=\"currentColor\" x=\"7750\">product</tspan>\n",
              "    <tspan class=\"displacy-tag\" dy=\"2em\" fill=\"currentColor\" x=\"7750\">NOUN</tspan>\n",
              "</text>\n",
              "\n",
              "<text class=\"displacy-token\" fill=\"currentColor\" text-anchor=\"middle\" y=\"572.0\">\n",
              "    <tspan class=\"displacy-word\" fill=\"currentColor\" x=\"7925\">better</tspan>\n",
              "    <tspan class=\"displacy-tag\" dy=\"2em\" fill=\"currentColor\" x=\"7925\">ADV</tspan>\n",
              "</text>\n",
              "\n",
              "<text class=\"displacy-token\" fill=\"currentColor\" text-anchor=\"middle\" y=\"572.0\">\n",
              "    <tspan class=\"displacy-word\" fill=\"currentColor\" x=\"8100\">than</tspan>\n",
              "    <tspan class=\"displacy-tag\" dy=\"2em\" fill=\"currentColor\" x=\"8100\">ADP</tspan>\n",
              "</text>\n",
              "\n",
              "<text class=\"displacy-token\" fill=\"currentColor\" text-anchor=\"middle\" y=\"572.0\">\n",
              "    <tspan class=\"displacy-word\" fill=\"currentColor\" x=\"8275\"> </tspan>\n",
              "    <tspan class=\"displacy-tag\" dy=\"2em\" fill=\"currentColor\" x=\"8275\">SPACE</tspan>\n",
              "</text>\n",
              "\n",
              "<text class=\"displacy-token\" fill=\"currentColor\" text-anchor=\"middle\" y=\"572.0\">\n",
              "    <tspan class=\"displacy-word\" fill=\"currentColor\" x=\"8450\">most.</tspan>\n",
              "    <tspan class=\"displacy-tag\" dy=\"2em\" fill=\"currentColor\" x=\"8450\">ADJ</tspan>\n",
              "</text>\n",
              "\n",
              "<g class=\"displacy-arrow\">\n",
              "    <path class=\"displacy-arc\" id=\"arrow-d06772913d0f427fbf29b5b2f7854eed-0-0\" stroke-width=\"2px\" d=\"M70,527.0 C70,352.0 380.0,352.0 380.0,527.0\" fill=\"none\" stroke=\"currentColor\"/>\n",
              "    <text dy=\"1.25em\" style=\"font-size: 0.8em; letter-spacing: 1px\">\n",
              "        <textPath xlink:href=\"#arrow-d06772913d0f427fbf29b5b2f7854eed-0-0\" class=\"displacy-label\" startOffset=\"50%\" side=\"left\" fill=\"currentColor\" text-anchor=\"middle\">nsubj</textPath>\n",
              "    </text>\n",
              "    <path class=\"displacy-arrowhead\" d=\"M70,529.0 L62,517.0 78,517.0\" fill=\"currentColor\"/>\n",
              "</g>\n",
              "\n",
              "<g class=\"displacy-arrow\">\n",
              "    <path class=\"displacy-arc\" id=\"arrow-d06772913d0f427fbf29b5b2f7854eed-0-1\" stroke-width=\"2px\" d=\"M245,527.0 C245,439.5 375.0,439.5 375.0,527.0\" fill=\"none\" stroke=\"currentColor\"/>\n",
              "    <text dy=\"1.25em\" style=\"font-size: 0.8em; letter-spacing: 1px\">\n",
              "        <textPath xlink:href=\"#arrow-d06772913d0f427fbf29b5b2f7854eed-0-1\" class=\"displacy-label\" startOffset=\"50%\" side=\"left\" fill=\"currentColor\" text-anchor=\"middle\">aux</textPath>\n",
              "    </text>\n",
              "    <path class=\"displacy-arrowhead\" d=\"M245,529.0 L237,517.0 253,517.0\" fill=\"currentColor\"/>\n",
              "</g>\n",
              "\n",
              "<g class=\"displacy-arrow\">\n",
              "    <path class=\"displacy-arc\" id=\"arrow-d06772913d0f427fbf29b5b2f7854eed-0-2\" stroke-width=\"2px\" d=\"M420,527.0 C420,439.5 550.0,439.5 550.0,527.0\" fill=\"none\" stroke=\"currentColor\"/>\n",
              "    <text dy=\"1.25em\" style=\"font-size: 0.8em; letter-spacing: 1px\">\n",
              "        <textPath xlink:href=\"#arrow-d06772913d0f427fbf29b5b2f7854eed-0-2\" class=\"displacy-label\" startOffset=\"50%\" side=\"left\" fill=\"currentColor\" text-anchor=\"middle\">dobj</textPath>\n",
              "    </text>\n",
              "    <path class=\"displacy-arrowhead\" d=\"M550.0,529.0 L558.0,517.0 542.0,517.0\" fill=\"currentColor\"/>\n",
              "</g>\n",
              "\n",
              "<g class=\"displacy-arrow\">\n",
              "    <path class=\"displacy-arc\" id=\"arrow-d06772913d0f427fbf29b5b2f7854eed-0-3\" stroke-width=\"2px\" d=\"M595,527.0 C595,439.5 725.0,439.5 725.0,527.0\" fill=\"none\" stroke=\"currentColor\"/>\n",
              "    <text dy=\"1.25em\" style=\"font-size: 0.8em; letter-spacing: 1px\">\n",
              "        <textPath xlink:href=\"#arrow-d06772913d0f427fbf29b5b2f7854eed-0-3\" class=\"displacy-label\" startOffset=\"50%\" side=\"left\" fill=\"currentColor\" text-anchor=\"middle\">prep</textPath>\n",
              "    </text>\n",
              "    <path class=\"displacy-arrowhead\" d=\"M725.0,529.0 L733.0,517.0 717.0,517.0\" fill=\"currentColor\"/>\n",
              "</g>\n",
              "\n",
              "<g class=\"displacy-arrow\">\n",
              "    <path class=\"displacy-arc\" id=\"arrow-d06772913d0f427fbf29b5b2f7854eed-0-4\" stroke-width=\"2px\" d=\"M945,527.0 C945,264.5 1785.0,264.5 1785.0,527.0\" fill=\"none\" stroke=\"currentColor\"/>\n",
              "    <text dy=\"1.25em\" style=\"font-size: 0.8em; letter-spacing: 1px\">\n",
              "        <textPath xlink:href=\"#arrow-d06772913d0f427fbf29b5b2f7854eed-0-4\" class=\"displacy-label\" startOffset=\"50%\" side=\"left\" fill=\"currentColor\" text-anchor=\"middle\">det</textPath>\n",
              "    </text>\n",
              "    <path class=\"displacy-arrowhead\" d=\"M945,529.0 L937,517.0 953,517.0\" fill=\"currentColor\"/>\n",
              "</g>\n",
              "\n",
              "<g class=\"displacy-arrow\">\n",
              "    <path class=\"displacy-arc\" id=\"arrow-d06772913d0f427fbf29b5b2f7854eed-0-5\" stroke-width=\"2px\" d=\"M1120,527.0 C1120,439.5 1250.0,439.5 1250.0,527.0\" fill=\"none\" stroke=\"currentColor\"/>\n",
              "    <text dy=\"1.25em\" style=\"font-size: 0.8em; letter-spacing: 1px\">\n",
              "        <textPath xlink:href=\"#arrow-d06772913d0f427fbf29b5b2f7854eed-0-5\" class=\"displacy-label\" startOffset=\"50%\" side=\"left\" fill=\"currentColor\" text-anchor=\"middle\">npadvmod</textPath>\n",
              "    </text>\n",
              "    <path class=\"displacy-arrowhead\" d=\"M1120,529.0 L1112,517.0 1128,517.0\" fill=\"currentColor\"/>\n",
              "</g>\n",
              "\n",
              "<g class=\"displacy-arrow\">\n",
              "    <path class=\"displacy-arc\" id=\"arrow-d06772913d0f427fbf29b5b2f7854eed-0-6\" stroke-width=\"2px\" d=\"M1295,527.0 C1295,352.0 1780.0,352.0 1780.0,527.0\" fill=\"none\" stroke=\"currentColor\"/>\n",
              "    <text dy=\"1.25em\" style=\"font-size: 0.8em; letter-spacing: 1px\">\n",
              "        <textPath xlink:href=\"#arrow-d06772913d0f427fbf29b5b2f7854eed-0-6\" class=\"displacy-label\" startOffset=\"50%\" side=\"left\" fill=\"currentColor\" text-anchor=\"middle\">amod</textPath>\n",
              "    </text>\n",
              "    <path class=\"displacy-arrowhead\" d=\"M1295,529.0 L1287,517.0 1303,517.0\" fill=\"currentColor\"/>\n",
              "</g>\n",
              "\n",
              "<g class=\"displacy-arrow\">\n",
              "    <path class=\"displacy-arc\" id=\"arrow-d06772913d0f427fbf29b5b2f7854eed-0-7\" stroke-width=\"2px\" d=\"M1470,527.0 C1470,439.5 1600.0,439.5 1600.0,527.0\" fill=\"none\" stroke=\"currentColor\"/>\n",
              "    <text dy=\"1.25em\" style=\"font-size: 0.8em; letter-spacing: 1px\">\n",
              "        <textPath xlink:href=\"#arrow-d06772913d0f427fbf29b5b2f7854eed-0-7\" class=\"displacy-label\" startOffset=\"50%\" side=\"left\" fill=\"currentColor\" text-anchor=\"middle\">compound</textPath>\n",
              "    </text>\n",
              "    <path class=\"displacy-arrowhead\" d=\"M1470,529.0 L1462,517.0 1478,517.0\" fill=\"currentColor\"/>\n",
              "</g>\n",
              "\n",
              "<g class=\"displacy-arrow\">\n",
              "    <path class=\"displacy-arc\" id=\"arrow-d06772913d0f427fbf29b5b2f7854eed-0-8\" stroke-width=\"2px\" d=\"M1645,527.0 C1645,439.5 1775.0,439.5 1775.0,527.0\" fill=\"none\" stroke=\"currentColor\"/>\n",
              "    <text dy=\"1.25em\" style=\"font-size: 0.8em; letter-spacing: 1px\">\n",
              "        <textPath xlink:href=\"#arrow-d06772913d0f427fbf29b5b2f7854eed-0-8\" class=\"displacy-label\" startOffset=\"50%\" side=\"left\" fill=\"currentColor\" text-anchor=\"middle\">compound</textPath>\n",
              "    </text>\n",
              "    <path class=\"displacy-arrowhead\" d=\"M1645,529.0 L1637,517.0 1653,517.0\" fill=\"currentColor\"/>\n",
              "</g>\n",
              "\n",
              "<g class=\"displacy-arrow\">\n",
              "    <path class=\"displacy-arc\" id=\"arrow-d06772913d0f427fbf29b5b2f7854eed-0-9\" stroke-width=\"2px\" d=\"M770,527.0 C770,177.0 1790.0,177.0 1790.0,527.0\" fill=\"none\" stroke=\"currentColor\"/>\n",
              "    <text dy=\"1.25em\" style=\"font-size: 0.8em; letter-spacing: 1px\">\n",
              "        <textPath xlink:href=\"#arrow-d06772913d0f427fbf29b5b2f7854eed-0-9\" class=\"displacy-label\" startOffset=\"50%\" side=\"left\" fill=\"currentColor\" text-anchor=\"middle\">pobj</textPath>\n",
              "    </text>\n",
              "    <path class=\"displacy-arrowhead\" d=\"M1790.0,529.0 L1798.0,517.0 1782.0,517.0\" fill=\"currentColor\"/>\n",
              "</g>\n",
              "\n",
              "<g class=\"displacy-arrow\">\n",
              "    <path class=\"displacy-arc\" id=\"arrow-d06772913d0f427fbf29b5b2f7854eed-0-10\" stroke-width=\"2px\" d=\"M420,527.0 C420,89.5 1970.0,89.5 1970.0,527.0\" fill=\"none\" stroke=\"currentColor\"/>\n",
              "    <text dy=\"1.25em\" style=\"font-size: 0.8em; letter-spacing: 1px\">\n",
              "        <textPath xlink:href=\"#arrow-d06772913d0f427fbf29b5b2f7854eed-0-10\" class=\"displacy-label\" startOffset=\"50%\" side=\"left\" fill=\"currentColor\" text-anchor=\"middle\">cc</textPath>\n",
              "    </text>\n",
              "    <path class=\"displacy-arrowhead\" d=\"M1970.0,529.0 L1978.0,517.0 1962.0,517.0\" fill=\"currentColor\"/>\n",
              "</g>\n",
              "\n",
              "<g class=\"displacy-arrow\">\n",
              "    <path class=\"displacy-arc\" id=\"arrow-d06772913d0f427fbf29b5b2f7854eed-0-11\" stroke-width=\"2px\" d=\"M2170,527.0 C2170,439.5 2300.0,439.5 2300.0,527.0\" fill=\"none\" stroke=\"currentColor\"/>\n",
              "    <text dy=\"1.25em\" style=\"font-size: 0.8em; letter-spacing: 1px\">\n",
              "        <textPath xlink:href=\"#arrow-d06772913d0f427fbf29b5b2f7854eed-0-11\" class=\"displacy-label\" startOffset=\"50%\" side=\"left\" fill=\"currentColor\" text-anchor=\"middle\">aux</textPath>\n",
              "    </text>\n",
              "    <path class=\"displacy-arrowhead\" d=\"M2170,529.0 L2162,517.0 2178,517.0\" fill=\"currentColor\"/>\n",
              "</g>\n",
              "\n",
              "<g class=\"displacy-arrow\">\n",
              "    <path class=\"displacy-arc\" id=\"arrow-d06772913d0f427fbf29b5b2f7854eed-0-12\" stroke-width=\"2px\" d=\"M420,527.0 C420,2.0 2325.0,2.0 2325.0,527.0\" fill=\"none\" stroke=\"currentColor\"/>\n",
              "    <text dy=\"1.25em\" style=\"font-size: 0.8em; letter-spacing: 1px\">\n",
              "        <textPath xlink:href=\"#arrow-d06772913d0f427fbf29b5b2f7854eed-0-12\" class=\"displacy-label\" startOffset=\"50%\" side=\"left\" fill=\"currentColor\" text-anchor=\"middle\">conj</textPath>\n",
              "    </text>\n",
              "    <path class=\"displacy-arrowhead\" d=\"M2325.0,529.0 L2333.0,517.0 2317.0,517.0\" fill=\"currentColor\"/>\n",
              "</g>\n",
              "\n",
              "<g class=\"displacy-arrow\">\n",
              "    <path class=\"displacy-arc\" id=\"arrow-d06772913d0f427fbf29b5b2f7854eed-0-13\" stroke-width=\"2px\" d=\"M2520,527.0 C2520,352.0 3005.0,352.0 3005.0,527.0\" fill=\"none\" stroke=\"currentColor\"/>\n",
              "    <text dy=\"1.25em\" style=\"font-size: 0.8em; letter-spacing: 1px\">\n",
              "        <textPath xlink:href=\"#arrow-d06772913d0f427fbf29b5b2f7854eed-0-13\" class=\"displacy-label\" startOffset=\"50%\" side=\"left\" fill=\"currentColor\" text-anchor=\"middle\">nsubj</textPath>\n",
              "    </text>\n",
              "    <path class=\"displacy-arrowhead\" d=\"M2520,529.0 L2512,517.0 2528,517.0\" fill=\"currentColor\"/>\n",
              "</g>\n",
              "\n",
              "<g class=\"displacy-arrow\">\n",
              "    <path class=\"displacy-arc\" id=\"arrow-d06772913d0f427fbf29b5b2f7854eed-0-14\" stroke-width=\"2px\" d=\"M2520,527.0 C2520,439.5 2650.0,439.5 2650.0,527.0\" fill=\"none\" stroke=\"currentColor\"/>\n",
              "    <text dy=\"1.25em\" style=\"font-size: 0.8em; letter-spacing: 1px\">\n",
              "        <textPath xlink:href=\"#arrow-d06772913d0f427fbf29b5b2f7854eed-0-14\" class=\"displacy-label\" startOffset=\"50%\" side=\"left\" fill=\"currentColor\" text-anchor=\"middle\">appos</textPath>\n",
              "    </text>\n",
              "    <path class=\"displacy-arrowhead\" d=\"M2650.0,529.0 L2658.0,517.0 2642.0,517.0\" fill=\"currentColor\"/>\n",
              "</g>\n",
              "\n",
              "<g class=\"displacy-arrow\">\n",
              "    <path class=\"displacy-arc\" id=\"arrow-d06772913d0f427fbf29b5b2f7854eed-0-15\" stroke-width=\"2px\" d=\"M2870,527.0 C2870,439.5 3000.0,439.5 3000.0,527.0\" fill=\"none\" stroke=\"currentColor\"/>\n",
              "    <text dy=\"1.25em\" style=\"font-size: 0.8em; letter-spacing: 1px\">\n",
              "        <textPath xlink:href=\"#arrow-d06772913d0f427fbf29b5b2f7854eed-0-15\" class=\"displacy-label\" startOffset=\"50%\" side=\"left\" fill=\"currentColor\" text-anchor=\"middle\">aux</textPath>\n",
              "    </text>\n",
              "    <path class=\"displacy-arrowhead\" d=\"M2870,529.0 L2862,517.0 2878,517.0\" fill=\"currentColor\"/>\n",
              "</g>\n",
              "\n",
              "<g class=\"displacy-arrow\">\n",
              "    <path class=\"displacy-arc\" id=\"arrow-d06772913d0f427fbf29b5b2f7854eed-0-16\" stroke-width=\"2px\" d=\"M2345,527.0 C2345,264.5 3010.0,264.5 3010.0,527.0\" fill=\"none\" stroke=\"currentColor\"/>\n",
              "    <text dy=\"1.25em\" style=\"font-size: 0.8em; letter-spacing: 1px\">\n",
              "        <textPath xlink:href=\"#arrow-d06772913d0f427fbf29b5b2f7854eed-0-16\" class=\"displacy-label\" startOffset=\"50%\" side=\"left\" fill=\"currentColor\" text-anchor=\"middle\">ccomp</textPath>\n",
              "    </text>\n",
              "    <path class=\"displacy-arrowhead\" d=\"M3010.0,529.0 L3018.0,517.0 3002.0,517.0\" fill=\"currentColor\"/>\n",
              "</g>\n",
              "\n",
              "<g class=\"displacy-arrow\">\n",
              "    <path class=\"displacy-arc\" id=\"arrow-d06772913d0f427fbf29b5b2f7854eed-0-17\" stroke-width=\"2px\" d=\"M3045,527.0 C3045,439.5 3175.0,439.5 3175.0,527.0\" fill=\"none\" stroke=\"currentColor\"/>\n",
              "    <text dy=\"1.25em\" style=\"font-size: 0.8em; letter-spacing: 1px\">\n",
              "        <textPath xlink:href=\"#arrow-d06772913d0f427fbf29b5b2f7854eed-0-17\" class=\"displacy-label\" startOffset=\"50%\" side=\"left\" fill=\"currentColor\" text-anchor=\"middle\">prep</textPath>\n",
              "    </text>\n",
              "    <path class=\"displacy-arrowhead\" d=\"M3175.0,529.0 L3183.0,517.0 3167.0,517.0\" fill=\"currentColor\"/>\n",
              "</g>\n",
              "\n",
              "<g class=\"displacy-arrow\">\n",
              "    <path class=\"displacy-arc\" id=\"arrow-d06772913d0f427fbf29b5b2f7854eed-0-18\" stroke-width=\"2px\" d=\"M3395,527.0 C3395,439.5 3525.0,439.5 3525.0,527.0\" fill=\"none\" stroke=\"currentColor\"/>\n",
              "    <text dy=\"1.25em\" style=\"font-size: 0.8em; letter-spacing: 1px\">\n",
              "        <textPath xlink:href=\"#arrow-d06772913d0f427fbf29b5b2f7854eed-0-18\" class=\"displacy-label\" startOffset=\"50%\" side=\"left\" fill=\"currentColor\" text-anchor=\"middle\">amod</textPath>\n",
              "    </text>\n",
              "    <path class=\"displacy-arrowhead\" d=\"M3395,529.0 L3387,517.0 3403,517.0\" fill=\"currentColor\"/>\n",
              "</g>\n",
              "\n",
              "<g class=\"displacy-arrow\">\n",
              "    <path class=\"displacy-arc\" id=\"arrow-d06772913d0f427fbf29b5b2f7854eed-0-19\" stroke-width=\"2px\" d=\"M3220,527.0 C3220,352.0 3530.0,352.0 3530.0,527.0\" fill=\"none\" stroke=\"currentColor\"/>\n",
              "    <text dy=\"1.25em\" style=\"font-size: 0.8em; letter-spacing: 1px\">\n",
              "        <textPath xlink:href=\"#arrow-d06772913d0f427fbf29b5b2f7854eed-0-19\" class=\"displacy-label\" startOffset=\"50%\" side=\"left\" fill=\"currentColor\" text-anchor=\"middle\">pobj</textPath>\n",
              "    </text>\n",
              "    <path class=\"displacy-arrowhead\" d=\"M3530.0,529.0 L3538.0,517.0 3522.0,517.0\" fill=\"currentColor\"/>\n",
              "</g>\n",
              "\n",
              "<g class=\"displacy-arrow\">\n",
              "    <path class=\"displacy-arc\" id=\"arrow-d06772913d0f427fbf29b5b2f7854eed-0-20\" stroke-width=\"2px\" d=\"M3745,527.0 C3745,439.5 3875.0,439.5 3875.0,527.0\" fill=\"none\" stroke=\"currentColor\"/>\n",
              "    <text dy=\"1.25em\" style=\"font-size: 0.8em; letter-spacing: 1px\">\n",
              "        <textPath xlink:href=\"#arrow-d06772913d0f427fbf29b5b2f7854eed-0-20\" class=\"displacy-label\" startOffset=\"50%\" side=\"left\" fill=\"currentColor\" text-anchor=\"middle\">det</textPath>\n",
              "    </text>\n",
              "    <path class=\"displacy-arrowhead\" d=\"M3745,529.0 L3737,517.0 3753,517.0\" fill=\"currentColor\"/>\n",
              "</g>\n",
              "\n",
              "<g class=\"displacy-arrow\">\n",
              "    <path class=\"displacy-arc\" id=\"arrow-d06772913d0f427fbf29b5b2f7854eed-0-21\" stroke-width=\"2px\" d=\"M3920,527.0 C3920,439.5 4050.0,439.5 4050.0,527.0\" fill=\"none\" stroke=\"currentColor\"/>\n",
              "    <text dy=\"1.25em\" style=\"font-size: 0.8em; letter-spacing: 1px\">\n",
              "        <textPath xlink:href=\"#arrow-d06772913d0f427fbf29b5b2f7854eed-0-21\" class=\"displacy-label\" startOffset=\"50%\" side=\"left\" fill=\"currentColor\" text-anchor=\"middle\">nsubj</textPath>\n",
              "    </text>\n",
              "    <path class=\"displacy-arrowhead\" d=\"M3920,529.0 L3912,517.0 3928,517.0\" fill=\"currentColor\"/>\n",
              "</g>\n",
              "\n",
              "<g class=\"displacy-arrow\">\n",
              "    <path class=\"displacy-arc\" id=\"arrow-d06772913d0f427fbf29b5b2f7854eed-0-22\" stroke-width=\"2px\" d=\"M4270,527.0 C4270,439.5 4400.0,439.5 4400.0,527.0\" fill=\"none\" stroke=\"currentColor\"/>\n",
              "    <text dy=\"1.25em\" style=\"font-size: 0.8em; letter-spacing: 1px\">\n",
              "        <textPath xlink:href=\"#arrow-d06772913d0f427fbf29b5b2f7854eed-0-22\" class=\"displacy-label\" startOffset=\"50%\" side=\"left\" fill=\"currentColor\" text-anchor=\"middle\">advmod</textPath>\n",
              "    </text>\n",
              "    <path class=\"displacy-arrowhead\" d=\"M4270,529.0 L4262,517.0 4278,517.0\" fill=\"currentColor\"/>\n",
              "</g>\n",
              "\n",
              "<g class=\"displacy-arrow\">\n",
              "    <path class=\"displacy-arc\" id=\"arrow-d06772913d0f427fbf29b5b2f7854eed-0-23\" stroke-width=\"2px\" d=\"M4095,527.0 C4095,352.0 4405.0,352.0 4405.0,527.0\" fill=\"none\" stroke=\"currentColor\"/>\n",
              "    <text dy=\"1.25em\" style=\"font-size: 0.8em; letter-spacing: 1px\">\n",
              "        <textPath xlink:href=\"#arrow-d06772913d0f427fbf29b5b2f7854eed-0-23\" class=\"displacy-label\" startOffset=\"50%\" side=\"left\" fill=\"currentColor\" text-anchor=\"middle\">prep</textPath>\n",
              "    </text>\n",
              "    <path class=\"displacy-arrowhead\" d=\"M4405.0,529.0 L4413.0,517.0 4397.0,517.0\" fill=\"currentColor\"/>\n",
              "</g>\n",
              "\n",
              "<g class=\"displacy-arrow\">\n",
              "    <path class=\"displacy-arc\" id=\"arrow-d06772913d0f427fbf29b5b2f7854eed-0-24\" stroke-width=\"2px\" d=\"M4620,527.0 C4620,439.5 4750.0,439.5 4750.0,527.0\" fill=\"none\" stroke=\"currentColor\"/>\n",
              "    <text dy=\"1.25em\" style=\"font-size: 0.8em; letter-spacing: 1px\">\n",
              "        <textPath xlink:href=\"#arrow-d06772913d0f427fbf29b5b2f7854eed-0-24\" class=\"displacy-label\" startOffset=\"50%\" side=\"left\" fill=\"currentColor\" text-anchor=\"middle\">det</textPath>\n",
              "    </text>\n",
              "    <path class=\"displacy-arrowhead\" d=\"M4620,529.0 L4612,517.0 4628,517.0\" fill=\"currentColor\"/>\n",
              "</g>\n",
              "\n",
              "<g class=\"displacy-arrow\">\n",
              "    <path class=\"displacy-arc\" id=\"arrow-d06772913d0f427fbf29b5b2f7854eed-0-25\" stroke-width=\"2px\" d=\"M4445,527.0 C4445,352.0 4755.0,352.0 4755.0,527.0\" fill=\"none\" stroke=\"currentColor\"/>\n",
              "    <text dy=\"1.25em\" style=\"font-size: 0.8em; letter-spacing: 1px\">\n",
              "        <textPath xlink:href=\"#arrow-d06772913d0f427fbf29b5b2f7854eed-0-25\" class=\"displacy-label\" startOffset=\"50%\" side=\"left\" fill=\"currentColor\" text-anchor=\"middle\">pobj</textPath>\n",
              "    </text>\n",
              "    <path class=\"displacy-arrowhead\" d=\"M4755.0,529.0 L4763.0,517.0 4747.0,517.0\" fill=\"currentColor\"/>\n",
              "</g>\n",
              "\n",
              "<g class=\"displacy-arrow\">\n",
              "    <path class=\"displacy-arc\" id=\"arrow-d06772913d0f427fbf29b5b2f7854eed-0-26\" stroke-width=\"2px\" d=\"M4795,527.0 C4795,439.5 4925.0,439.5 4925.0,527.0\" fill=\"none\" stroke=\"currentColor\"/>\n",
              "    <text dy=\"1.25em\" style=\"font-size: 0.8em; letter-spacing: 1px\">\n",
              "        <textPath xlink:href=\"#arrow-d06772913d0f427fbf29b5b2f7854eed-0-26\" class=\"displacy-label\" startOffset=\"50%\" side=\"left\" fill=\"currentColor\" text-anchor=\"middle\">prep</textPath>\n",
              "    </text>\n",
              "    <path class=\"displacy-arrowhead\" d=\"M4925.0,529.0 L4933.0,517.0 4917.0,517.0\" fill=\"currentColor\"/>\n",
              "</g>\n",
              "\n",
              "<g class=\"displacy-arrow\">\n",
              "    <path class=\"displacy-arc\" id=\"arrow-d06772913d0f427fbf29b5b2f7854eed-0-27\" stroke-width=\"2px\" d=\"M5145,527.0 C5145,352.0 5455.0,352.0 5455.0,527.0\" fill=\"none\" stroke=\"currentColor\"/>\n",
              "    <text dy=\"1.25em\" style=\"font-size: 0.8em; letter-spacing: 1px\">\n",
              "        <textPath xlink:href=\"#arrow-d06772913d0f427fbf29b5b2f7854eed-0-27\" class=\"displacy-label\" startOffset=\"50%\" side=\"left\" fill=\"currentColor\" text-anchor=\"middle\">det</textPath>\n",
              "    </text>\n",
              "    <path class=\"displacy-arrowhead\" d=\"M5145,529.0 L5137,517.0 5153,517.0\" fill=\"currentColor\"/>\n",
              "</g>\n",
              "\n",
              "<g class=\"displacy-arrow\">\n",
              "    <path class=\"displacy-arc\" id=\"arrow-d06772913d0f427fbf29b5b2f7854eed-0-28\" stroke-width=\"2px\" d=\"M5320,527.0 C5320,439.5 5450.0,439.5 5450.0,527.0\" fill=\"none\" stroke=\"currentColor\"/>\n",
              "    <text dy=\"1.25em\" style=\"font-size: 0.8em; letter-spacing: 1px\">\n",
              "        <textPath xlink:href=\"#arrow-d06772913d0f427fbf29b5b2f7854eed-0-28\" class=\"displacy-label\" startOffset=\"50%\" side=\"left\" fill=\"currentColor\" text-anchor=\"middle\">amod</textPath>\n",
              "    </text>\n",
              "    <path class=\"displacy-arrowhead\" d=\"M5320,529.0 L5312,517.0 5328,517.0\" fill=\"currentColor\"/>\n",
              "</g>\n",
              "\n",
              "<g class=\"displacy-arrow\">\n",
              "    <path class=\"displacy-arc\" id=\"arrow-d06772913d0f427fbf29b5b2f7854eed-0-29\" stroke-width=\"2px\" d=\"M4970,527.0 C4970,264.5 5460.0,264.5 5460.0,527.0\" fill=\"none\" stroke=\"currentColor\"/>\n",
              "    <text dy=\"1.25em\" style=\"font-size: 0.8em; letter-spacing: 1px\">\n",
              "        <textPath xlink:href=\"#arrow-d06772913d0f427fbf29b5b2f7854eed-0-29\" class=\"displacy-label\" startOffset=\"50%\" side=\"left\" fill=\"currentColor\" text-anchor=\"middle\">pobj</textPath>\n",
              "    </text>\n",
              "    <path class=\"displacy-arrowhead\" d=\"M5460.0,529.0 L5468.0,517.0 5452.0,517.0\" fill=\"currentColor\"/>\n",
              "</g>\n",
              "\n",
              "<g class=\"displacy-arrow\">\n",
              "    <path class=\"displacy-arc\" id=\"arrow-d06772913d0f427fbf29b5b2f7854eed-0-30\" stroke-width=\"2px\" d=\"M4095,527.0 C4095,177.0 5640.0,177.0 5640.0,527.0\" fill=\"none\" stroke=\"currentColor\"/>\n",
              "    <text dy=\"1.25em\" style=\"font-size: 0.8em; letter-spacing: 1px\">\n",
              "        <textPath xlink:href=\"#arrow-d06772913d0f427fbf29b5b2f7854eed-0-30\" class=\"displacy-label\" startOffset=\"50%\" side=\"left\" fill=\"currentColor\" text-anchor=\"middle\">cc</textPath>\n",
              "    </text>\n",
              "    <path class=\"displacy-arrowhead\" d=\"M5640.0,529.0 L5648.0,517.0 5632.0,517.0\" fill=\"currentColor\"/>\n",
              "</g>\n",
              "\n",
              "<g class=\"displacy-arrow\">\n",
              "    <path class=\"displacy-arc\" id=\"arrow-d06772913d0f427fbf29b5b2f7854eed-0-31\" stroke-width=\"2px\" d=\"M5845,527.0 C5845,439.5 5975.0,439.5 5975.0,527.0\" fill=\"none\" stroke=\"currentColor\"/>\n",
              "    <text dy=\"1.25em\" style=\"font-size: 0.8em; letter-spacing: 1px\">\n",
              "        <textPath xlink:href=\"#arrow-d06772913d0f427fbf29b5b2f7854eed-0-31\" class=\"displacy-label\" startOffset=\"50%\" side=\"left\" fill=\"currentColor\" text-anchor=\"middle\">nsubj</textPath>\n",
              "    </text>\n",
              "    <path class=\"displacy-arrowhead\" d=\"M5845,529.0 L5837,517.0 5853,517.0\" fill=\"currentColor\"/>\n",
              "</g>\n",
              "\n",
              "<g class=\"displacy-arrow\">\n",
              "    <path class=\"displacy-arc\" id=\"arrow-d06772913d0f427fbf29b5b2f7854eed-0-32\" stroke-width=\"2px\" d=\"M4095,527.0 C4095,89.5 5995.0,89.5 5995.0,527.0\" fill=\"none\" stroke=\"currentColor\"/>\n",
              "    <text dy=\"1.25em\" style=\"font-size: 0.8em; letter-spacing: 1px\">\n",
              "        <textPath xlink:href=\"#arrow-d06772913d0f427fbf29b5b2f7854eed-0-32\" class=\"displacy-label\" startOffset=\"50%\" side=\"left\" fill=\"currentColor\" text-anchor=\"middle\">conj</textPath>\n",
              "    </text>\n",
              "    <path class=\"displacy-arrowhead\" d=\"M5995.0,529.0 L6003.0,517.0 5987.0,517.0\" fill=\"currentColor\"/>\n",
              "</g>\n",
              "\n",
              "<g class=\"displacy-arrow\">\n",
              "    <path class=\"displacy-arc\" id=\"arrow-d06772913d0f427fbf29b5b2f7854eed-0-33\" stroke-width=\"2px\" d=\"M6020,527.0 C6020,439.5 6150.0,439.5 6150.0,527.0\" fill=\"none\" stroke=\"currentColor\"/>\n",
              "    <text dy=\"1.25em\" style=\"font-size: 0.8em; letter-spacing: 1px\">\n",
              "        <textPath xlink:href=\"#arrow-d06772913d0f427fbf29b5b2f7854eed-0-33\" class=\"displacy-label\" startOffset=\"50%\" side=\"left\" fill=\"currentColor\" text-anchor=\"middle\">advmod</textPath>\n",
              "    </text>\n",
              "    <path class=\"displacy-arrowhead\" d=\"M6150.0,529.0 L6158.0,517.0 6142.0,517.0\" fill=\"currentColor\"/>\n",
              "</g>\n",
              "\n",
              "<g class=\"displacy-arrow\">\n",
              "    <path class=\"displacy-arc\" id=\"arrow-d06772913d0f427fbf29b5b2f7854eed-0-34\" stroke-width=\"2px\" d=\"M6370,527.0 C6370,439.5 6500.0,439.5 6500.0,527.0\" fill=\"none\" stroke=\"currentColor\"/>\n",
              "    <text dy=\"1.25em\" style=\"font-size: 0.8em; letter-spacing: 1px\">\n",
              "        <textPath xlink:href=\"#arrow-d06772913d0f427fbf29b5b2f7854eed-0-34\" class=\"displacy-label\" startOffset=\"50%\" side=\"left\" fill=\"currentColor\" text-anchor=\"middle\">poss</textPath>\n",
              "    </text>\n",
              "    <path class=\"displacy-arrowhead\" d=\"M6370,529.0 L6362,517.0 6378,517.0\" fill=\"currentColor\"/>\n",
              "</g>\n",
              "\n",
              "<g class=\"displacy-arrow\">\n",
              "    <path class=\"displacy-arc\" id=\"arrow-d06772913d0f427fbf29b5b2f7854eed-0-35\" stroke-width=\"2px\" d=\"M6545,527.0 C6545,439.5 6675.0,439.5 6675.0,527.0\" fill=\"none\" stroke=\"currentColor\"/>\n",
              "    <text dy=\"1.25em\" style=\"font-size: 0.8em; letter-spacing: 1px\">\n",
              "        <textPath xlink:href=\"#arrow-d06772913d0f427fbf29b5b2f7854eed-0-35\" class=\"displacy-label\" startOffset=\"50%\" side=\"left\" fill=\"currentColor\" text-anchor=\"middle\">nsubj</textPath>\n",
              "    </text>\n",
              "    <path class=\"displacy-arrowhead\" d=\"M6545,529.0 L6537,517.0 6553,517.0\" fill=\"currentColor\"/>\n",
              "</g>\n",
              "\n",
              "<g class=\"displacy-arrow\">\n",
              "    <path class=\"displacy-arc\" id=\"arrow-d06772913d0f427fbf29b5b2f7854eed-0-36\" stroke-width=\"2px\" d=\"M6720,527.0 C6720,439.5 6850.0,439.5 6850.0,527.0\" fill=\"none\" stroke=\"currentColor\"/>\n",
              "    <text dy=\"1.25em\" style=\"font-size: 0.8em; letter-spacing: 1px\">\n",
              "        <textPath xlink:href=\"#arrow-d06772913d0f427fbf29b5b2f7854eed-0-36\" class=\"displacy-label\" startOffset=\"50%\" side=\"left\" fill=\"currentColor\" text-anchor=\"middle\">acomp</textPath>\n",
              "    </text>\n",
              "    <path class=\"displacy-arrowhead\" d=\"M6850.0,529.0 L6858.0,517.0 6842.0,517.0\" fill=\"currentColor\"/>\n",
              "</g>\n",
              "\n",
              "<g class=\"displacy-arrow\">\n",
              "    <path class=\"displacy-arc\" id=\"arrow-d06772913d0f427fbf29b5b2f7854eed-0-37\" stroke-width=\"2px\" d=\"M6720,527.0 C6720,352.0 7030.0,352.0 7030.0,527.0\" fill=\"none\" stroke=\"currentColor\"/>\n",
              "    <text dy=\"1.25em\" style=\"font-size: 0.8em; letter-spacing: 1px\">\n",
              "        <textPath xlink:href=\"#arrow-d06772913d0f427fbf29b5b2f7854eed-0-37\" class=\"displacy-label\" startOffset=\"50%\" side=\"left\" fill=\"currentColor\" text-anchor=\"middle\">cc</textPath>\n",
              "    </text>\n",
              "    <path class=\"displacy-arrowhead\" d=\"M7030.0,529.0 L7038.0,517.0 7022.0,517.0\" fill=\"currentColor\"/>\n",
              "</g>\n",
              "\n",
              "<g class=\"displacy-arrow\">\n",
              "    <path class=\"displacy-arc\" id=\"arrow-d06772913d0f427fbf29b5b2f7854eed-0-38\" stroke-width=\"2px\" d=\"M7245,527.0 C7245,439.5 7375.0,439.5 7375.0,527.0\" fill=\"none\" stroke=\"currentColor\"/>\n",
              "    <text dy=\"1.25em\" style=\"font-size: 0.8em; letter-spacing: 1px\">\n",
              "        <textPath xlink:href=\"#arrow-d06772913d0f427fbf29b5b2f7854eed-0-38\" class=\"displacy-label\" startOffset=\"50%\" side=\"left\" fill=\"currentColor\" text-anchor=\"middle\">nsubj</textPath>\n",
              "    </text>\n",
              "    <path class=\"displacy-arrowhead\" d=\"M7245,529.0 L7237,517.0 7253,517.0\" fill=\"currentColor\"/>\n",
              "</g>\n",
              "\n",
              "<g class=\"displacy-arrow\">\n",
              "    <path class=\"displacy-arc\" id=\"arrow-d06772913d0f427fbf29b5b2f7854eed-0-39\" stroke-width=\"2px\" d=\"M6720,527.0 C6720,264.5 7385.0,264.5 7385.0,527.0\" fill=\"none\" stroke=\"currentColor\"/>\n",
              "    <text dy=\"1.25em\" style=\"font-size: 0.8em; letter-spacing: 1px\">\n",
              "        <textPath xlink:href=\"#arrow-d06772913d0f427fbf29b5b2f7854eed-0-39\" class=\"displacy-label\" startOffset=\"50%\" side=\"left\" fill=\"currentColor\" text-anchor=\"middle\">conj</textPath>\n",
              "    </text>\n",
              "    <path class=\"displacy-arrowhead\" d=\"M7385.0,529.0 L7393.0,517.0 7377.0,517.0\" fill=\"currentColor\"/>\n",
              "</g>\n",
              "\n",
              "<g class=\"displacy-arrow\">\n",
              "    <path class=\"displacy-arc\" id=\"arrow-d06772913d0f427fbf29b5b2f7854eed-0-40\" stroke-width=\"2px\" d=\"M7595,527.0 C7595,439.5 7725.0,439.5 7725.0,527.0\" fill=\"none\" stroke=\"currentColor\"/>\n",
              "    <text dy=\"1.25em\" style=\"font-size: 0.8em; letter-spacing: 1px\">\n",
              "        <textPath xlink:href=\"#arrow-d06772913d0f427fbf29b5b2f7854eed-0-40\" class=\"displacy-label\" startOffset=\"50%\" side=\"left\" fill=\"currentColor\" text-anchor=\"middle\">det</textPath>\n",
              "    </text>\n",
              "    <path class=\"displacy-arrowhead\" d=\"M7595,529.0 L7587,517.0 7603,517.0\" fill=\"currentColor\"/>\n",
              "</g>\n",
              "\n",
              "<g class=\"displacy-arrow\">\n",
              "    <path class=\"displacy-arc\" id=\"arrow-d06772913d0f427fbf29b5b2f7854eed-0-41\" stroke-width=\"2px\" d=\"M7420,527.0 C7420,352.0 7730.0,352.0 7730.0,527.0\" fill=\"none\" stroke=\"currentColor\"/>\n",
              "    <text dy=\"1.25em\" style=\"font-size: 0.8em; letter-spacing: 1px\">\n",
              "        <textPath xlink:href=\"#arrow-d06772913d0f427fbf29b5b2f7854eed-0-41\" class=\"displacy-label\" startOffset=\"50%\" side=\"left\" fill=\"currentColor\" text-anchor=\"middle\">dobj</textPath>\n",
              "    </text>\n",
              "    <path class=\"displacy-arrowhead\" d=\"M7730.0,529.0 L7738.0,517.0 7722.0,517.0\" fill=\"currentColor\"/>\n",
              "</g>\n",
              "\n",
              "<g class=\"displacy-arrow\">\n",
              "    <path class=\"displacy-arc\" id=\"arrow-d06772913d0f427fbf29b5b2f7854eed-0-42\" stroke-width=\"2px\" d=\"M7420,527.0 C7420,264.5 7910.0,264.5 7910.0,527.0\" fill=\"none\" stroke=\"currentColor\"/>\n",
              "    <text dy=\"1.25em\" style=\"font-size: 0.8em; letter-spacing: 1px\">\n",
              "        <textPath xlink:href=\"#arrow-d06772913d0f427fbf29b5b2f7854eed-0-42\" class=\"displacy-label\" startOffset=\"50%\" side=\"left\" fill=\"currentColor\" text-anchor=\"middle\">advmod</textPath>\n",
              "    </text>\n",
              "    <path class=\"displacy-arrowhead\" d=\"M7910.0,529.0 L7918.0,517.0 7902.0,517.0\" fill=\"currentColor\"/>\n",
              "</g>\n",
              "\n",
              "<g class=\"displacy-arrow\">\n",
              "    <path class=\"displacy-arc\" id=\"arrow-d06772913d0f427fbf29b5b2f7854eed-0-43\" stroke-width=\"2px\" d=\"M7945,527.0 C7945,439.5 8075.0,439.5 8075.0,527.0\" fill=\"none\" stroke=\"currentColor\"/>\n",
              "    <text dy=\"1.25em\" style=\"font-size: 0.8em; letter-spacing: 1px\">\n",
              "        <textPath xlink:href=\"#arrow-d06772913d0f427fbf29b5b2f7854eed-0-43\" class=\"displacy-label\" startOffset=\"50%\" side=\"left\" fill=\"currentColor\" text-anchor=\"middle\">prep</textPath>\n",
              "    </text>\n",
              "    <path class=\"displacy-arrowhead\" d=\"M8075.0,529.0 L8083.0,517.0 8067.0,517.0\" fill=\"currentColor\"/>\n",
              "</g>\n",
              "\n",
              "<g class=\"displacy-arrow\">\n",
              "    <path class=\"displacy-arc\" id=\"arrow-d06772913d0f427fbf29b5b2f7854eed-0-44\" stroke-width=\"2px\" d=\"M8120,527.0 C8120,439.5 8250.0,439.5 8250.0,527.0\" fill=\"none\" stroke=\"currentColor\"/>\n",
              "    <text dy=\"1.25em\" style=\"font-size: 0.8em; letter-spacing: 1px\">\n",
              "        <textPath xlink:href=\"#arrow-d06772913d0f427fbf29b5b2f7854eed-0-44\" class=\"displacy-label\" startOffset=\"50%\" side=\"left\" fill=\"currentColor\" text-anchor=\"middle\">dep</textPath>\n",
              "    </text>\n",
              "    <path class=\"displacy-arrowhead\" d=\"M8250.0,529.0 L8258.0,517.0 8242.0,517.0\" fill=\"currentColor\"/>\n",
              "</g>\n",
              "\n",
              "<g class=\"displacy-arrow\">\n",
              "    <path class=\"displacy-arc\" id=\"arrow-d06772913d0f427fbf29b5b2f7854eed-0-45\" stroke-width=\"2px\" d=\"M8120,527.0 C8120,352.0 8430.0,352.0 8430.0,527.0\" fill=\"none\" stroke=\"currentColor\"/>\n",
              "    <text dy=\"1.25em\" style=\"font-size: 0.8em; letter-spacing: 1px\">\n",
              "        <textPath xlink:href=\"#arrow-d06772913d0f427fbf29b5b2f7854eed-0-45\" class=\"displacy-label\" startOffset=\"50%\" side=\"left\" fill=\"currentColor\" text-anchor=\"middle\">pobj</textPath>\n",
              "    </text>\n",
              "    <path class=\"displacy-arrowhead\" d=\"M8430.0,529.0 L8438.0,517.0 8422.0,517.0\" fill=\"currentColor\"/>\n",
              "</g>\n",
              "</svg></span>"
            ]
          },
          "metadata": {}
        }
      ]
    },
    {
      "cell_type": "markdown",
      "source": [
        "##### all dependencies"
      ],
      "metadata": {
        "id": "8WJTRBHWe0xa"
      }
    },
    {
      "cell_type": "code",
      "source": [
        "from tqdm import tqdm\n",
        "acomps = []\n",
        "advcl = [] # verbs : not interesting\n",
        "advmod = []# adverb that modify the verb : very,so,much,only,better,just,...\n",
        "amod = [] # adjective that modify the noun : good,great,best,little,hot\n",
        "ccomp = [] # complement of a verb : recomment, buying,got,...\n",
        "compound = [] # word formed by a combination of words : saltwater,supermarket\n",
        "conj = [] # second verb : (he sings and dances -> dances) : tasted,smokey,...\n",
        "dobj = [] # object after a verb : product, flavor, tea\n",
        "intj = [] # interjections : Oh,well,NO\n",
        "nmod = [] # not interesting\n",
        "for i in tqdm(range(nbr_sent)):\n",
        "  sente = nlp(X_train.Text.iloc[i])\n",
        "  for token in sente:\n",
        "    if token.dep_ == 'acomp':\n",
        "      acomps.append(token.text)\n",
        "    elif token.dep_ == 'advcl':\n",
        "      advcl.append(token.text)\n",
        "    elif token.dep_ == 'advmod':\n",
        "      advmod.append(token.text)\n",
        "    elif token.dep_ == 'amod':\n",
        "      amod.append(token.text)\n",
        "    elif token.dep_ == 'ccomp':\n",
        "      ccomp.append(token.text)\n",
        "    elif token.dep_ == 'compound':\n",
        "      compound.append(token.text)\n",
        "    elif token.dep_ == 'conj':\n",
        "      conj.append(token.text)\n",
        "    elif token.dep_ == 'dobj':\n",
        "      dobj.append(token.text)\n",
        "    elif token.dep_ == 'intj':\n",
        "      intj.append(token.text)\n",
        "    elif token.dep_ == 'nmod':\n",
        "      nmod.append(token.text)"
      ],
      "metadata": {
        "colab": {
          "base_uri": "https://localhost:8080/"
        },
        "outputId": "180aaf0e-073c-4bb5-807e-833e2915680b",
        "id": "lXS81qjhbAxv"
      },
      "execution_count": 16,
      "outputs": [
        {
          "output_type": "stream",
          "name": "stderr",
          "text": [
            "100%|██████████| 500/500 [00:15<00:00, 32.34it/s]\n"
          ]
        }
      ]
    },
    {
      "cell_type": "code",
      "source": [
        "from collections import Counter\n",
        "counter_intj = Counter(intj)\n",
        "counter_intj.most_common(10)"
      ],
      "metadata": {
        "colab": {
          "base_uri": "https://localhost:8080/"
        },
        "outputId": "2378b0c5-4062-4905-faf1-ccdc1f6acad9",
        "id": "6Pxi2Pe4bAxv"
      },
      "execution_count": 17,
      "outputs": [
        {
          "output_type": "execute_result",
          "data": {
            "text/plain": [
              "[('Well', 8),\n",
              " ('Oh', 6),\n",
              " ('like', 6),\n",
              " ('/>We', 4),\n",
              " ('wow', 4),\n",
              " ('Yes', 3),\n",
              " ('Please', 3),\n",
              " ('please', 3),\n",
              " ('well', 2),\n",
              " ('/><br', 2)]"
            ]
          },
          "metadata": {},
          "execution_count": 17
        }
      ]
    },
    {
      "cell_type": "code",
      "source": [
        "counter_advcl = Counter(advmod)\n",
        "counter_advcl.most_common(10)"
      ],
      "metadata": {
        "colab": {
          "base_uri": "https://localhost:8080/"
        },
        "outputId": "5d59f4d8-a8c9-4607-b1ed-f3a5bb7d5b3e",
        "id": "ZT9-d80lbAxv"
      },
      "execution_count": 18,
      "outputs": [
        {
          "output_type": "execute_result",
          "data": {
            "text/plain": [
              "[('very', 123),\n",
              " ('so', 121),\n",
              " ('just', 113),\n",
              " ('too', 97),\n",
              " ('when', 76),\n",
              " ('really', 71),\n",
              " ('also', 67),\n",
              " ('as', 57),\n",
              " ('much', 52),\n",
              " ('more', 48)]"
            ]
          },
          "metadata": {},
          "execution_count": 18
        }
      ]
    },
    {
      "cell_type": "code",
      "source": [
        "counter_amod = Counter(amod)\n",
        "counter_amod.most_common(20)"
      ],
      "metadata": {
        "colab": {
          "base_uri": "https://localhost:8080/"
        },
        "outputId": "e6f2540d-c098-403c-aa16-a135b65d1ec9",
        "id": "BAQ_WdH-bAxv"
      },
      "execution_count": 19,
      "outputs": [
        {
          "output_type": "execute_result",
          "data": {
            "text/plain": [
              "[('other', 98),\n",
              " ('great', 72),\n",
              " ('good', 71),\n",
              " ('best', 45),\n",
              " ('many', 32),\n",
              " ('local', 31),\n",
              " ('little', 30),\n",
              " ('first', 28),\n",
              " ('more', 27),\n",
              " ('only', 26),\n",
              " ('regular', 25),\n",
              " ('sweet', 25),\n",
              " ('natural', 23),\n",
              " ('big', 21),\n",
              " ('small', 20),\n",
              " ('favorite', 20),\n",
              " ('free', 19),\n",
              " ('whole', 19),\n",
              " ('better', 19),\n",
              " ('spicy', 18)]"
            ]
          },
          "metadata": {},
          "execution_count": 19
        }
      ]
    },
    {
      "cell_type": "code",
      "source": [
        "counter_ccomp = Counter(ccomp)\n",
        "counter_ccomp.most_common(10)"
      ],
      "metadata": {
        "colab": {
          "base_uri": "https://localhost:8080/"
        },
        "outputId": "eda6870b-a1a9-4800-a165-3bcd1b2540fc",
        "id": "mJVdWyY3bAxw"
      },
      "execution_count": 20,
      "outputs": [
        {
          "output_type": "execute_result",
          "data": {
            "text/plain": [
              "[('is', 82),\n",
              " ('are', 61),\n",
              " ('was', 34),\n",
              " ('have', 24),\n",
              " ('were', 20),\n",
              " ('be', 19),\n",
              " (\"'s\", 18),\n",
              " ('had', 15),\n",
              " ('get', 12),\n",
              " ('like', 10)]"
            ]
          },
          "metadata": {},
          "execution_count": 20
        }
      ]
    },
    {
      "cell_type": "code",
      "source": [
        "counter_dobj = Counter(dobj)\n",
        "counter_dobj.most_common(10)"
      ],
      "metadata": {
        "colab": {
          "base_uri": "https://localhost:8080/"
        },
        "outputId": "f300fba7-d1c0-4e9c-a014-37176ecf3f2b",
        "id": "nK86x0EUbAxw"
      },
      "execution_count": 21,
      "outputs": [
        {
          "output_type": "execute_result",
          "data": {
            "text/plain": [
              "[('it', 200),\n",
              " ('them', 147),\n",
              " ('chips', 96),\n",
              " ('these', 72),\n",
              " ('bag', 51),\n",
              " ('flavor', 51),\n",
              " ('this', 46),\n",
              " ('product', 36),\n",
              " ('taste', 36),\n",
              " ('what', 31)]"
            ]
          },
          "metadata": {},
          "execution_count": 21
        }
      ]
    },
    {
      "cell_type": "markdown",
      "source": [
        "##### example of a sentence and all spacy attributes"
      ],
      "metadata": {
        "id": "QaCVjhvge5Af"
      }
    },
    {
      "cell_type": "code",
      "source": [
        "test_sent = nlp('This girl is beautiful')\n",
        "for token in test_sent:\n",
        "  print(token.text, token.dep_)\n",
        "  #print(token.dep_)\n",
        "  print([child.text for child in token.children])\n",
        "  print([child.pos_ for child in token.children])\n",
        "  print([child.dep_ for child in token.children])"
      ],
      "metadata": {
        "colab": {
          "base_uri": "https://localhost:8080/"
        },
        "outputId": "ada18b0c-7158-4389-e315-3ced53b8a45d",
        "id": "k-heW2CbbAxw"
      },
      "execution_count": 22,
      "outputs": [
        {
          "output_type": "stream",
          "name": "stdout",
          "text": [
            "This det\n",
            "[]\n",
            "[]\n",
            "[]\n",
            "girl nsubj\n",
            "['This']\n",
            "['DET']\n",
            "['det']\n",
            "is ROOT\n",
            "['girl', 'beautiful']\n",
            "['NOUN', 'ADJ']\n",
            "['nsubj', 'acomp']\n",
            "beautiful acomp\n",
            "[]\n",
            "[]\n",
            "[]\n"
          ]
        }
      ]
    },
    {
      "cell_type": "code",
      "source": [
        "test_sent = nlp('she is a very beautiful girl')\n",
        "for token in test_sent:\n",
        "  print(token.text, token.dep_)\n",
        "  #print(token.dep_)\n",
        "  print([child.text for child in token.children])\n",
        "  print([child.pos_ for child in token.children])\n",
        "  print([child.dep_ for child in token.children])"
      ],
      "metadata": {
        "colab": {
          "base_uri": "https://localhost:8080/"
        },
        "outputId": "ff9971c6-10c7-489e-fe0c-c1a21ff093fb",
        "id": "CMnOILZJbAxx"
      },
      "execution_count": 23,
      "outputs": [
        {
          "output_type": "stream",
          "name": "stdout",
          "text": [
            "she nsubj\n",
            "[]\n",
            "[]\n",
            "[]\n",
            "is ROOT\n",
            "['she', 'girl']\n",
            "['PRON', 'NOUN']\n",
            "['nsubj', 'attr']\n",
            "a det\n",
            "[]\n",
            "[]\n",
            "[]\n",
            "very advmod\n",
            "[]\n",
            "[]\n",
            "[]\n",
            "beautiful amod\n",
            "['very']\n",
            "['ADV']\n",
            "['advmod']\n",
            "girl attr\n",
            "['a', 'beautiful']\n",
            "['DET', 'ADJ']\n",
            "['det', 'amod']\n"
          ]
        }
      ]
    },
    {
      "cell_type": "markdown",
      "source": [
        "##### noun + verb + adjective"
      ],
      "metadata": {
        "id": "F925DeBYfInq"
      }
    },
    {
      "cell_type": "code",
      "source": [
        "sub_ver_adj = []\n",
        "for i in tqdm(range(nbr_sent)):\n",
        "  sente = nlp(X_train.Text.iloc[i])\n",
        "  for token in sente:\n",
        "    noun = ''\n",
        "    adj = ''\n",
        "    if token.dep_ == 'ROOT':\n",
        "      for child in token.children:\n",
        "        if child.pos_ == 'NOUN':\n",
        "          noun = child.text\n",
        "        elif child.pos_ == 'ADJ':\n",
        "          adj = child.text\n",
        "      if noun and adj:\n",
        "        sub_ver_adj.append((noun, token.text,adj))"
      ],
      "metadata": {
        "colab": {
          "base_uri": "https://localhost:8080/"
        },
        "outputId": "074b3ac5-c205-48ea-dab1-69facc616d97",
        "id": "ET0KN_vfbAxw"
      },
      "execution_count": 24,
      "outputs": [
        {
          "output_type": "stream",
          "name": "stderr",
          "text": [
            "100%|██████████| 500/500 [00:12<00:00, 41.09it/s]\n"
          ]
        }
      ]
    },
    {
      "cell_type": "code",
      "source": [
        "counter_sva = Counter(sub_ver_adj)\n",
        "counter_sva.most_common(20)"
      ],
      "metadata": {
        "colab": {
          "base_uri": "https://localhost:8080/"
        },
        "outputId": "f0c00868-0919-4bec-9085-2828ef09103d",
        "id": "BLBjsP7abAxx"
      },
      "execution_count": 25,
      "outputs": [
        {
          "output_type": "execute_result",
          "data": {
            "text/plain": [
              "[(('chips', 'are', 'unmistakable'), 5),\n",
              " (('chips', 'are', 'crunchy'), 4),\n",
              " (('price', 'is', 'good'), 3),\n",
              " (('chips', 'are', 'excellent'), 3),\n",
              " (('chips', 'are', 'delicious'), 3),\n",
              " (('chips', 'are', 'spicy'), 3),\n",
              " (('taste', 'is', 'great'), 2),\n",
              " (('chips', 'are', 'bad'), 2),\n",
              " (('chips', 'are', 'tasty'), 2),\n",
              " (('flavor', 'is', 'medicinal'), 1),\n",
              " (('taffy', 'was', 'enjoyable'), 1),\n",
              " (('taffy', 'is', 'good'), 1),\n",
              " (('flavors', 'are', 'amazing'), 1),\n",
              " (('cracks', 'are', 'distinct'), 1),\n",
              " (('aroma', 'is', 'strong'), 1),\n",
              " (('smell', 'is', 'wonderful'), 1),\n",
              " (('coffee', 'is', 'smooth'), 1),\n",
              " (('jam', 'was', 'good'), 1),\n",
              " (('guests', 'were', 'impressed'), 1),\n",
              " (('taste', 'was', 'great'), 1)]"
            ]
          },
          "metadata": {},
          "execution_count": 25
        }
      ]
    },
    {
      "cell_type": "markdown",
      "source": [
        "##### noun + amod adj"
      ],
      "metadata": {
        "id": "B0DvrDJpfUYy"
      }
    },
    {
      "cell_type": "code",
      "source": [
        "adj_noun = []\n",
        "for i in tqdm(range(nbr_sent)):\n",
        "  sente = nlp(X_train.Text.iloc[i])\n",
        "  for token in sente:\n",
        "    if token.dep_ == 'attr':\n",
        "      for child in token.children:\n",
        "        if child.dep_ == 'amod': # adj that modify the noun\n",
        "          adj_noun.append((token.text,child.text))\n"
      ],
      "metadata": {
        "colab": {
          "base_uri": "https://localhost:8080/"
        },
        "outputId": "d504094b-5ed8-43bd-9582-e44f8e901e84",
        "id": "9CRjBQFubAxx"
      },
      "execution_count": 26,
      "outputs": [
        {
          "output_type": "stream",
          "name": "stderr",
          "text": [
            "100%|██████████| 500/500 [00:12<00:00, 41.03it/s]\n"
          ]
        }
      ]
    },
    {
      "cell_type": "code",
      "source": [
        "adj_noun"
      ],
      "metadata": {
        "colab": {
          "base_uri": "https://localhost:8080/"
        },
        "outputId": "0375e3d8-257d-4528-8312-00dabdc326b1",
        "id": "VukHBtfMbAxx"
      },
      "execution_count": 27,
      "outputs": [
        {
          "output_type": "execute_result",
          "data": {
            "text/plain": [
              "[('mouthful', 'tiny'),\n",
              " ('assortment', 'wide'),\n",
              " ('pieces', 'much'),\n",
              " ('pieces', 'black'),\n",
              " ('pieces', 'flavored'),\n",
              " ('treat', 'delightful'),\n",
              " ('food', 'healthy'),\n",
              " ('velvety', 'smooth'),\n",
              " ('packaging', 'insulating'),\n",
              " ('tart', 'sour'),\n",
              " ('flavor', 'excellent'),\n",
              " ('cat', 'posh'),\n",
              " ('food', 'good'),\n",
              " ('cat', 'big'),\n",
              " ('brands', 'other'),\n",
              " ('purchase', 'great'),\n",
              " ('food', 'excellent'),\n",
              " ('weight', 'loosing'),\n",
              " ('solution', 'best'),\n",
              " ('one', 'only'),\n",
              " ('one', 'other'),\n",
              " ('kid', 'little'),\n",
              " ('situation', 'amazing'),\n",
              " ('snack', 'GREAT'),\n",
              " ('deal.<br', 'good'),\n",
              " ('size', 'certain'),\n",
              " ('marinade', 'fabulous'),\n",
              " ('things', 'many'),\n",
              " ('pack', 'tasting'),\n",
              " ('basil', 'pleasant'),\n",
              " ('basil', 'much'),\n",
              " ('option', 'great'),\n",
              " ('products', 'tasting'),\n",
              " ('gem', 'hidden'),\n",
              " ('product', 'great'),\n",
              " ('choice', 'good'),\n",
              " ('choice', 'second'),\n",
              " ('bonus.<br', 'huge'),\n",
              " ('taste', 'slight'),\n",
              " ('ingredients', 'organic'),\n",
              " ('value', 'good'),\n",
              " ('value', 'bulk'),\n",
              " ('deal', 'great'),\n",
              " ('amount', 'right'),\n",
              " ('mint!<br', 'real'),\n",
              " ('size', 'convenient'),\n",
              " ('supply', 'huge'),\n",
              " ('half', 'less'),\n",
              " ('ingredient', 'exotic'),\n",
              " ('ingredient', 'costly'),\n",
              " ('hit', 'real'),\n",
              " ('alternative', 'good'),\n",
              " ('counterpart', 'full'),\n",
              " ('candies', 'tasting'),\n",
              " ('candies', 'little'),\n",
              " ('eaters', 'picky'),\n",
              " ('improvements', 'new'),\n",
              " ('cat', 'older'),\n",
              " ('cat', 'sweeter'),\n",
              " ('cat', 'happier'),\n",
              " ('purchaser', 'happy'),\n",
              " ('eaters', 'picky'),\n",
              " ('olives', 'other'),\n",
              " ('price', 'approximate'),\n",
              " ('replacement', 'great'),\n",
              " ('drinker', 'black'),\n",
              " ('tea', 'black'),\n",
              " ('body', 'full'),\n",
              " ('tea', 'excellent'),\n",
              " ('mornings', 'good'),\n",
              " ('tea', 'same'),\n",
              " ('tea', 'hot'),\n",
              " ('product', 'same'),\n",
              " ('meat', 'dry'),\n",
              " ('150', 'lower'),\n",
              " ('buy', 'good'),\n",
              " ('drinks', 'organic'),\n",
              " ('buy', 'great'),\n",
              " ('sugar', 'loaded'),\n",
              " ('Llasa', 'mixed'),\n",
              " ('sugar', 'only'),\n",
              " ('molasses', 'less'),\n",
              " ('sugar', 'white'),\n",
              " ('sugar', 'delicious'),\n",
              " ('product', 'great'),\n",
              " ('sugar', 'perfect'),\n",
              " ('buy', 'great'),\n",
              " ('tasting', 'sweet'),\n",
              " ('product', 'excellent'),\n",
              " ('fan', 'big'),\n",
              " ('carb', 'good'),\n",
              " ('product', 'fantastic'),\n",
              " ('coffee', 'black'),\n",
              " ('shots', 'best'),\n",
              " ('option', 'great'),\n",
              " ('uplift', 'nice'),\n",
              " ('uplift', 'smooth'),\n",
              " ('one', 'only'),\n",
              " ('time', 'first'),\n",
              " ('purpose', 'main'),\n",
              " ('fan', 'big'),\n",
              " ('more', 'few'),\n",
              " ('option', 'best'),\n",
              " ('bet', 'best'),\n",
              " ('box', 'single'),\n",
              " ('brew', 'tasting'),\n",
              " ('cup', 'pleasing'),\n",
              " ('cup', 'standard'),\n",
              " ('anything', 'new'),\n",
              " ('brand', 'favorite'),\n",
              " ('coffee', 'favorite'),\n",
              " ('update', 'great'),\n",
              " ('ketchup', 'best'),\n",
              " ('deal', 'better'),\n",
              " ('ones', 'several'),\n",
              " ('ones', 'shriveled'),\n",
              " ('deal', 'great'),\n",
              " ('deal', 'good'),\n",
              " ('base', 'great'),\n",
              " ('mix', 'favorite'),\n",
              " ('way', 'foolish'),\n",
              " ('tea', 'wonderful'),\n",
              " ('tea', 'warm'),\n",
              " ('tea', 'flavored'),\n",
              " ('product', 'simple'),\n",
              " ('ingredients', 'extra'),\n",
              " ('consistency', 'thinner'),\n",
              " ('sachets', 'enough'),\n",
              " ('drink', 'delicious'),\n",
              " ('sachets', 'more'),\n",
              " ('way', 'best'),\n",
              " ('mix', 'flavorful'),\n",
              " ('meal', 'great'),\n",
              " ('meal', 'easy'),\n",
              " ('thing', 'English'),\n",
              " ('chocolate', 'real'),\n",
              " ('cookies', 'great'),\n",
              " ('chips', 'great'),\n",
              " ('size', 'good'),\n",
              " ('taste', 'slight'),\n",
              " ('bags', 'enough'),\n",
              " ('chips', 'non'),\n",
              " ('chips', '-'),\n",
              " ('chips', 'baked'),\n",
              " ('SOUR', 'TANGY'),\n",
              " ('amount', 'great'),\n",
              " ('size', 'right'),\n",
              " ('favorite', 'new'),\n",
              " ('chips', 'favorite'),\n",
              " ('chips', 'free'),\n",
              " ('chips', 'flavored'),\n",
              " ('spices', 'other'),\n",
              " ('slit', 'small'),\n",
              " ('eater', 'fancy'),\n",
              " ('brand', 'best'),\n",
              " ('favorite', 'new'),\n",
              " ('type', 'favorite'),\n",
              " ('option', 'healthy'),\n",
              " ('/>4', 'subjective'),\n",
              " ('oil', 'much'),\n",
              " ('plus!<br', 'definite'),\n",
              " ('chips', 'burnt'),\n",
              " ('flaw', 'big'),\n",
              " ('flavor', 'favorite'),\n",
              " ('preference.<br', 'personal'),\n",
              " ('way', 'best'),\n",
              " ('snack', 'good'),\n",
              " ('deal', 'best'),\n",
              " ('chip', 'made'),\n",
              " ('chip', 'balanced'),\n",
              " ('chips', 'favorite'),\n",
              " ('chips', 'only'),\n",
              " ('option', 'healthier'),\n",
              " ('option', 'healthier'),\n",
              " ('chips', 'tastiest'),\n",
              " ('chips', 'favorite'),\n",
              " ('flavor', 'extreme'),\n",
              " ('bags', 'hardest'),\n",
              " ('chips', 'many'),\n",
              " ('chips', 'brown'),\n",
              " ('deal', 'great'),\n",
              " ('flavor', 'favorite'),\n",
              " ('chips', 'good'),\n",
              " ('chips', 'best'),\n",
              " ('chip', 'best'),\n",
              " ('value', 'great'),\n",
              " ('chips', 'best'),\n",
              " ('chips', 'unsalted'),\n",
              " ('time', 'first'),\n",
              " ('fan', 'big'),\n",
              " ('chips', 'worst'),\n",
              " ('time', 'first'),\n",
              " ('chip', 'best'),\n",
              " ('chip', 'spicy'),\n",
              " ('size', 'good'),\n",
              " ('value', 'great'),\n",
              " ('product', 'free'),\n",
              " ('chips', 'best'),\n",
              " ('salt', 'enough'),\n",
              " ('cheesy', 'darn'),\n",
              " ('girl', 'good'),\n",
              " ('chips', 'absolute'),\n",
              " ('chips', 'favorite'),\n",
              " ('TANGY', 'super'),\n",
              " ('chips', 'only'),\n",
              " ('deal', 'great'),\n",
              " ('choice', 'better'),\n",
              " ('spicy', 'darn'),\n",
              " ('chips', 'best'),\n",
              " ('wisdom', 'deep'),\n",
              " ('flavour', 'strongest'),\n",
              " ('taste', 'true'),\n",
              " ('garbage', 'total'),\n",
              " ('chips', 'saltiest'),\n",
              " ('kind', 'rare'),\n",
              " ('opposite.<br', 'exact'),\n",
              " ('trans', 'free'),\n",
              " ('greasy', 'less'),\n",
              " ('bits', 'burnt'),\n",
              " ('bits', 'broken'),\n",
              " ('snack', 'quick'),\n",
              " ('MSG', 'free'),\n",
              " ('food', 'real'),\n",
              " ('garbage', 'processed'),\n",
              " ('product', 'premium'),\n",
              " ('chip', 'best'),\n",
              " ('chips', 'absolute'),\n",
              " ('chips', 'favorite'),\n",
              " ('fan', 'great'),\n",
              " ('treat', 'worth'),\n",
              " ('gold', 'beautiful'),\n",
              " ('fan', 'big'),\n",
              " ('gem', 'hidden'),\n",
              " ('option', 'healthier'),\n",
              " ('one', 'big'),\n",
              " ('product', 'good'),\n",
              " ('chips', 'only'),\n",
              " ('deal', 'great'),\n",
              " ('size', 'great'),\n",
              " ('chip', 'good'),\n",
              " ('chip', 'unique'),\n",
              " ('flavor', 'favorite'),\n",
              " ('chips', 'best'),\n",
              " ('nothing', 'good'),\n",
              " ('purchase', 'second'),\n",
              " ('chips', 'best'),\n",
              " ('chips', 'spicy'),\n",
              " ('favorite', 'personal'),\n",
              " ('chips', 'best'),\n",
              " ('combination', 'great'),\n",
              " ('combination', 'sweet'),\n",
              " ('combination', 'perfect'),\n",
              " ('option', 'healthier'),\n",
              " ('complement', 'perfect'),\n",
              " ('option', 'healthier'),\n",
              " ('chips', 'ultimate'),\n",
              " ('chips', 'amazing'),\n",
              " ('cheese', 'blue'),\n",
              " ('kiss', 'worth'),\n",
              " ('makeout', 'total'),\n",
              " ('product', 'excellent'),\n",
              " ('favorite', 'new'),\n",
              " ('chips', 'best'),\n",
              " ('chips', 'best'),\n",
              " ('chips', 'tasting'),\n",
              " ('flavor', 'first'),\n",
              " ('chips', 'high'),\n",
              " ('aholic', 'confirmed'),\n",
              " ('greasy', 'little'),\n",
              " ('chips', 'cooked'),\n",
              " ('issues.<br', 'nutritional'),\n",
              " ('word', 'right'),\n",
              " ('difference', 'noticeable'),\n",
              " ('IMHO', 'better'),\n",
              " ('tea!<br', 'delicious'),\n",
              " ('Grey', 'best'),\n",
              " ('Grey', 'best'),\n",
              " ('drink', 'old'),\n",
              " ('drink', 'fashioned'),\n",
              " ('soda', 'regional'),\n",
              " ('areas', 'many'),\n",
              " ('fan', 'big'),\n",
              " ('fan', 'red'),\n",
              " ('goo', 'indescribable'),\n",
              " ('goo', 'gelatinous'),\n",
              " ('version', 'white'),\n",
              " ('goo', 'gelatinous'),\n",
              " ('mess', 'grayish'),\n",
              " ('mess', 'sticky'),\n",
              " ('eater', 'picky'),\n",
              " ('consistency', 'right'),\n",
              " ('deal', 'good'),\n",
              " ('value', 'excellent'),\n",
              " ('considering', 'good'),\n",
              " ('meat', 'good'),\n",
              " ('meat', 'canned'),\n",
              " ('quality', 'good'),\n",
              " ('chunks', 'large'),\n",
              " ('texture', 'mild'),\n",
              " ('texture', 'spam\"-like'),\n",
              " ('value', 'good'),\n",
              " ('fighter', 'noteworthy'),\n",
              " ('texture', 'pleasing'),\n",
              " ('cup', 'weak'),\n",
              " ('cup', 'watery'),\n",
              " ('sauce', 'good'),\n",
              " ('style', 'regular'),\n",
              " ('sauce', 'good'),\n",
              " ('sauce', 'delicious'),\n",
              " ('process.<br', 'interesting')]"
            ]
          },
          "metadata": {},
          "execution_count": 27
        }
      ]
    },
    {
      "cell_type": "code",
      "source": [
        "sub_ver_adv = []\n",
        "for i in tqdm(range(nbr_sent)):\n",
        "  sente = nlp(X_train.Text.iloc[i])\n",
        "  attrib = ''\n",
        "  subject = ''\n",
        "  verb = ''\n",
        "  adverb = ''\n",
        "  adj = ''\n",
        "  for token in sente:\n",
        "    if token.dep_ == 'nsubj':\n",
        "      subject = token.text\n",
        "    elif token.dep_ == 'ROOT':\n",
        "      verb = token.text\n",
        "    elif token.dep_ == 'advmod':\n",
        "      adverb = token.text\n",
        "      adv_notext = token\n",
        "    elif token.dep_ == 'amod':\n",
        "      adj = token.text\n",
        "    elif token.dep_ == 'attr':\n",
        "      attrib = token.text\n",
        "  if (subject and verb and adverb and adj and attrib):\n",
        "    sub_ver_adv.append((subject,verb,adverb,adj, attrib))"
      ],
      "metadata": {
        "colab": {
          "base_uri": "https://localhost:8080/"
        },
        "outputId": "79d31930-85d7-44a7-a6a5-26b05f2d5004",
        "id": "gEGHJqgfbAxy"
      },
      "execution_count": 28,
      "outputs": [
        {
          "output_type": "stream",
          "name": "stderr",
          "text": [
            "100%|██████████| 500/500 [00:12<00:00, 41.03it/s]\n"
          ]
        }
      ]
    },
    {
      "cell_type": "code",
      "source": [
        "sub_ver_adv"
      ],
      "metadata": {
        "colab": {
          "base_uri": "https://localhost:8080/"
        },
        "outputId": "86534096-f088-4ac5-9dc2-6414942080d5",
        "id": "nCEh6EnObAxy"
      },
      "execution_count": 29,
      "outputs": [
        {
          "output_type": "execute_result",
          "data": {
            "text/plain": [
              "[('that', 'is', 'highly', 'yummy', 'treat'),\n",
              " ('this', 'is', 'very', 'yummy', 'deal'),\n",
              " ('it', 'was', 'only', 'delightful', 'treat'),\n",
              " ('dog', 'eats', 'Also', 'required', 'food'),\n",
              " ('They', 'Perfect', 'hot', 'nice', 'reviews'),\n",
              " ('taste', 'is', 'slightly', 'smooth', 'velvety'),\n",
              " ('guests', 'were', 'really', 'later', 'best'),\n",
              " ('I', 'order', 'again', 'few', 'grainy'),\n",
              " ('they', 'Order', 'very', 'cold', 'packaging'),\n",
              " ('it', 'worked', 'Also', 'own', 'problem'),\n",
              " ('it', \"'s\", 'just', 'sour', 'me'),\n",
              " ('them', 'loved', 'whenever', 'nice', 'slicing'),\n",
              " ('They', 'go', 'even', 'Amish', 'household'),\n",
              " ('this', 'Peterson', 'Now', 'good', 'idea'),\n",
              " ('they', 'ordered', 'back', 'female', 'cat'),\n",
              " ('I', 'recommend', 'highly', 'past', 'kitten'),\n",
              " ('she', 'is', 'only', 'old', 'food'),\n",
              " ('anyone', 'Had', 'so', 'sorry', 'lot'),\n",
              " ('it', \"'s\", 'well', 'best', 'solution'),\n",
              " ('that', 'is', 'very', 'finicky', 'food'),\n",
              " ('I', 'recommend', 'highly', 'most', 'definite'),\n",
              " ('food', 'reduces', 'also', 'tartar', 'one'),\n",
              " ('ships', 'Is', 'extremely', 'top', 'one'),\n",
              " ('It', \"'s\", 'only', 'long', '3.36'),\n",
              " ('it', 'is', 'sure', 'better', 'kid'),\n",
              " ('anyone', 'is', 'Always', 'amazing', 'situation'),\n",
              " ('this', 'killed', 'Typically', 'good', 'case'),\n",
              " ('this', 'be', 'usually', 'hot', 'opposite'),\n",
              " ('it', 'is', 'back', 'favorite', 'one'),\n",
              " ('this', 'bought', 'soon', 'different', 'one'),\n",
              " ('one', 'is', 'rather', 'only', 'size'),\n",
              " ('taste', 'have', 'there', 'good', 'deal.<br'),\n",
              " ('I', 'love', 'about', 'other', '1.00'),\n",
              " ('it', 'is', 'all', 'old', 'same'),\n",
              " ('DEFINITELY', 'Love', 'super', 'enough', 'marinade'),\n",
              " ('flavor', 'purchasing', 'so', 'many', 'things'),\n",
              " ('people', 'wearing', 'anyway', 'many', 'order'),\n",
              " ('they', 'are', 'really', 'tasting', 'pack'),\n",
              " ('taste', 'was', 'too', 'other', 'basil'),\n",
              " ('It', \"'s\", 'still', 'fat', 'option'),\n",
              " ('You', 'have', 'else', 'special', 'products'),\n",
              " ('you', 'Check', 'back', 'hidden', 'gem'),\n",
              " ('it', 'AMAZING', 'exactly', 'natural', 'product'),\n",
              " ('product', 'fail', 'around', 'Big', 'glass'),\n",
              " ('you', \"'s\", 'also', 'slight', 'taste'),\n",
              " ('you', 'is', 'before', 'instant', 'one'),\n",
              " ('I', 'Cheers', 'highly', 'bulk', 'value'),\n",
              " ('you', 'be', 'there', 'right', 'amount'),\n",
              " ('it', '/>Cons', 'too', 'real', 'mint!<br'),\n",
              " ('They', 'are', 'also', 'convenient', 'size'),\n",
              " ('you', 'effective', 'more', 'huge', 'supply'),\n",
              " ('manufacturers', 'filled', 'how', 'tiny', 'ingredient'),\n",
              " ('it', 'make', 'still', 'full', 'counterpart'),\n",
              " ('mints', 'think', 'maybe', 'free', 'best'),\n",
              " ('absence', 'seems', '/>Additionally', 'loyal', 'consumers.<br'),\n",
              " ('mine', 'does', 'Clearly', 'previous', 'purchaser'),\n",
              " ('balls', 'help', 'certainly', 'happier', 'blob'),\n",
              " ('This', 'is', 'just', 'picky', 'death'),\n",
              " ('brand', 'remember', 'online', 'stuffed', 'favorite'),\n",
              " ('flavors', 'One', 'great', 'favorite', 'olives'),\n",
              " ('that', 'is', 'roughly', 'approximate', 'price'),\n",
              " ('you', 'love', 'extremely', 'favorite', 'replacement'),\n",
              " ('this', 'is', 'of', 'white', 'tea'),\n",
              " ('it', 'use', 'about', 'stainless', 'body'),\n",
              " ('you', 'loves', 'too', 'Imperial', 'favorite'),\n",
              " ('you', 'is', 'when', 'excellent', 'tea'),\n",
              " ('it', 'Paid', 'way', 'good', 'expiration'),\n",
              " ('this', 'think', 'highly', 'next', 'favorite'),\n",
              " ('i', 'tried', 'exactly', 'Russian', 'tea'),\n",
              " ('they', 'are', 'much', 'same', 'product'),\n",
              " ('these', 'was', 'partly', 'dry', 'problem'),\n",
              " ('you', 'have', 'away', 'heavy', 'sugar'),\n",
              " ('Mercola', 'supply', 'However', 'best', 'plastic'),\n",
              " ('I', 'Thanks', 'much', 'only', 'sugar'),\n",
              " ('I', 'go', 'back', 'better', 'code'),\n",
              " ('bags', 'wish', 'just', 'white', 'sugar'),\n",
              " ('granules', 'be', 'only', 'perfect', 'sugar'),\n",
              " ('I', 'be', 'well', 'Raw', 'cheapest'),\n",
              " ('I', 'guess', 'recently', 'next', 'buy'),\n",
              " ('it', 'is', 'very', 'everyday', 'tasting'),\n",
              " ('that', 'order', 'again', 'plastic', 'what'),\n",
              " ('I', 'buy', 'absolutely', 'excellent', 'product'),\n",
              " ('I', 'is', 'far', 'Best', 'need'),\n",
              " ('I', \"'s\", 'anyway', 'gluten', 'diabetic'),\n",
              " ('I', 'give', 'anyway', 'big', 'fan'),\n",
              " ('I', 'buy', 'only', 'whole', 'one'),\n",
              " ('I', 'get', 'again', 'similar', 'carb'),\n",
              " ('i', 'care,<br', 'really', 'local', 'dollar'),\n",
              " ('they', 'ingredients', 'Overall', 'big', 'coffee'),\n",
              " ('me', \"'s\", 'almost', 'jittery', '3'),\n",
              " ('He', 'stuff', 'hard', 'Good', 'shots'),\n",
              " ('it', 'like', 'then', 'same', 'others'),\n",
              " ('/>Already', 'value', 'afterwards', 'Great', 'similarities'),\n",
              " ('you', 'looking', 'almost', 'natural', 'out.<br'),\n",
              " ('I', 'ordering', 'soon', 'sure', 'same'),\n",
              " ('you', 'give', 'So', 'unnatural', 'whatever'),\n",
              " ('I', 'purchase', 'once', 'past', 'favorite'),\n",
              " ('I', 'signed', 'specifically', 'bulk', 'mg'),\n",
              " ('I', 'love', 'also', 'fresh', 'one'),\n",
              " ('I', 'fail', 'really', 'big', 'time'),\n",
              " ('it', 'served', 'that', 'main', 'purpose'),\n",
              " ('I', 'going', 'now', 'flavored', 'fan'),\n",
              " ('you', 'like', 'less', 'flavored', 'brainer'),\n",
              " ('I', 'enjoy', 'even', 'traditional', 'more'),\n",
              " ('listings', 'think', 'definitely', 'other', 'option'),\n",
              " ('price', 'is', 'very', 'best', 'bet'),\n",
              " ('I', 'get', 'there', 'only', 'bacause'),\n",
              " ('I', 'buy', 'again', 'more', 'brands'),\n",
              " ('I', 'order', 'any', 'single', 'pack'),\n",
              " ('/>These', '/><br', 'generally', 'Large', 'brew'),\n",
              " ('this', 'is', 'how', 'few', 'cup'),\n",
              " ('Nantucket', 'strong', 'too', 'smooth', 'coffee'),\n",
              " ('I', 'find', 'here', 'large', 'soup'),\n",
              " ('I', 'buy', 'again', 'whole', 'good'),\n",
              " ('ketchup', 'is', 'definitely', 'first', 'way'),\n",
              " ('me', 'is', 'now', 'best', 'ketchup'),\n",
              " ('it', 'gave', 'instead', 'better', 'deal'),\n",
              " ('I', 'value', 'just', 'clear', 'number'),\n",
              " ('I', 'are', 'about', 'great', 'deal'),\n",
              " ('I', 'is', 'only', 'fresh', 'deal'),\n",
              " ('that', 'amazon', 'again', 'wonderful', 'great'),\n",
              " ('I', 'love', 'better', 'organic', 'mix'),\n",
              " ('mix', 'is', 'too', 'extra', 'ORGANIC'),\n",
              " ('it', 'took', 'however', 'foolish', 'way'),\n",
              " ('bags', 'were', 'Nearly', 'full', 'tears'),\n",
              " ('/>I', 'try', 'highly', 'sweet', 'one'),\n",
              " ('I', 'use', 'longer', 'other', 'calories'),\n",
              " ('simple', 'is', 'Sometimes', 'stronger', 'consistency'),\n",
              " ('I', 'buy', 'again', 'more', 'sachets'),\n",
              " ('I', 'continue', 'here', 'local', 'way'),\n",
              " ('you', 'is', 'ever', 'cooking', 'mix'),\n",
              " ('it', 'mix', 'when', 'easy', 'meal'),\n",
              " ('I', 'job', 'now', 'Good', 'jar'),\n",
              " ('these', 'Hope', 'fast', 'only', 'What'),\n",
              " ('These', 'are', 'truly', 'great', 'cookies'),\n",
              " ('they', 'dry', 'Extremely', 'regular', 'nothing'),\n",
              " ('chips', 'are', 'great', 'great', 'chips'),\n",
              " ('flavor', 'is', 'about', 'full', 'size'),\n",
              " ('flavor', 'is', 'about', 'serving', '8'),\n",
              " ('these', 'See', 'only', 'anonymous', 'chip'),\n",
              " ('you', 'make', 'otherwise', 'larger', 'bags'),\n",
              " ('flavor', 'is', 'ever', 'sweet', 'GREAT'),\n",
              " ('who', 'is', 'just', 'actual', 'oil'),\n",
              " ('they', 'hate', 'too', 'big', 'SOUR'),\n",
              " ('size', 'prevents', 'too', 'larger', 'amount'),\n",
              " ('spice', 'is', 'still', 'great', 'size'),\n",
              " ('they', 'have', 'somewhere', 'good', 'chips'),\n",
              " ('they', 'ordering', 'now', 'new', 'favorite'),\n",
              " ('flavor', 'is', 'really', 'vinegar', 'chips'),\n",
              " ('I', 'think', 'Why', 'simple', 'slit'),\n",
              " ('I', 'are', 'enough', 'lingering', 'eater'),\n",
              " ('they', 'are', 'highly', 'more', 'favorite'),\n",
              " ('I', 'wish', 'more', 'great', 'option'),\n",
              " ('it', 'rid', 'least', 'much', 'oil'),\n",
              " ('you', 'is', 'especially', 'big', 'lover'),\n",
              " ('mouth', 'is', 'wateringly', 'other', 'BEST'),\n",
              " ('this', 'chips', 'just', 'real', 'preference.<br'),\n",
              " ('it', 'have', 'Definitely', 'yummy', 'clip'),\n",
              " ('which', 'are', 'hard', 'cold', 'lot'),\n",
              " ('chips', 'Love', 'very', 'best', 'deal'),\n",
              " ('that', 'know', 'well', 'balanced', 'chip'),\n",
              " ('I', 'recommend', 'highly', 'favorite', 'chips'),\n",
              " ('package', 'Enjoy', 'easily', 'little', 'package'),\n",
              " ('Amazon', 'stock', 'so', 'overwhelming', 'choice'),\n",
              " ('I', 'scissors', 'instead', 'entire', 'pain'),\n",
              " ('me', 'be', 'online', 'same', 'chips'),\n",
              " ('Riesling', 'fits', 'perfectly', 'German', 'option'),\n",
              " ('Riesling', 'fits', 'perfectly', 'German', 'option'),\n",
              " ('it', 'are', 'then', 'blue', 'chips'),\n",
              " ('none', 'tried', 'close', 'other', 'flavor'),\n",
              " ('I', 'have', 'very', 'hardest', 'bags'),\n",
              " ('They', 'are', 'as', 'salty', 'chips'),\n",
              " ('old', 'loves', 'Even', 'tangy', 'some'),\n",
              " ('Shipping', 'was', 'sooner', 'favorite', 'flavor'),\n",
              " ('these', 'buy', 'again', 'sized', 'different.<br'),\n",
              " ('I', 'order', 'online', 'good', 'chips'),\n",
              " ('these', 'is', 'very', 'sour', 'flavor'),\n",
              " ('I', 'chip', 'again', 'good', 'Thai'),\n",
              " ('These', 'were', 'again', 'other', 'treat'),\n",
              " ('they', 'convert', 'anyway', 'spicy', 'type'),\n",
              " ('all', 'are', 'somewhat', 'good', 'chips'),\n",
              " ('that', 'have', 'probably', 'Thai', 'chip'),\n",
              " ('them', 'makes', 'absolutely', 'fabulous', 'more'),\n",
              " ('Kettle', 'Enjoy', 'fast', 'amazing', 'best'),\n",
              " ('I', 'chips', 'otherwise', 'Great', 'value'),\n",
              " ('Who', 'me', 'later', 'serving', 'bag'),\n",
              " ('you', '/>Enjoy', 'so', 'enough', 'favorite'),\n",
              " ('they', 'came', 'when', 'best', 'chips'),\n",
              " ('Mmmmm', 'vinegar', 'again', 'whole', 'time'),\n",
              " ('I', 'recommend', 'almost', 'buffalo', 'favorite'),\n",
              " ('they', 'reassess', 'otherwise', 'wonderful', 'favorite'),\n",
              " ('that', \"'ve\", 'yet', 'tasty', 'bargain'),\n",
              " ('they', 'are', 'Luckily', 'other', 'victims'),\n",
              " ('I', 'stick', 'before', 'black', 'time'),\n",
              " ('you', 'ENJOY', 'ahead', 'going', 'steal'),\n",
              " ('it', 'line', 'too', 'fried', 'size'),\n",
              " ('I', 'recommend', 'definitely', 'reasonable', 'value'),\n",
              " ('I', 'wish', 'there', 'better', 'brand'),\n",
              " ('chips', 'is', 'quite', 'free', 'greasy'),\n",
              " ('I', 'eat', 'again', 'perfect', 'salt'),\n",
              " ('you', 'overdose', 'Otherwise', 'cheddary', 'cheesy'),\n",
              " ('I', 'Prophecy', 'much', 'fewer', 'girl'),\n",
              " ('Kettle', 'having', 'just', 'available', 'best'),\n",
              " ('I', 'recommend', 'highly', 'great', 'brand'),\n",
              " ('These', 'are', 'how', 'browned', 'best'),\n",
              " ('flavor', 'is', 'very', 'REAL', 'best'),\n",
              " ('flavor', 'has', 'chemically', 'chemical', 'TANGY'),\n",
              " ('they', 'Stay', 'longer', 'exploited', 'same'),\n",
              " ('I', 'delicious', 'Truly', 'crisp', 'all'),\n",
              " ('chips', 'flavor', 'about', 'Great', 'ounces'),\n",
              " ('Kettle', 'get', 'just', 'free', 'there.<br'),\n",
              " ('Brothers', 'is', 'as', 'hard', 'choice'),\n",
              " ('mouth', 'Hard', 'when', 'darn', 'spicy'),\n",
              " ('they', 'are', 'much', 'real', 'chips'),\n",
              " ('chips', 'become', 'VERY', 'first', 'one'),\n",
              " ('they', 'expired', 'just', 'due', 'one'),\n",
              " ('I', 'awful', 'Completely', 'salty', 'garbage'),\n",
              " ('I', 'try', 'actually', 'normal', 'kind'),\n",
              " ('I', 'buy', 'more', 'sure', 'same'),\n",
              " ('I', 'WISH', '/>TUSCAN', 'LARGE', 'PACK'),\n",
              " ('these', 'have', 'just', 'great', 'HEB'),\n",
              " ('they', 'had', 'enough', 'salty', 'opposite.<br'),\n",
              " ('they', 'need', 'Even', 'less', 'greasy'),\n",
              " ('Kettle', 'well', 'oily', 'light', 'bits'),\n",
              " ('it', 'are', 'again', 'cold', 'snack'),\n",
              " ('they', 'fooled', 'anymore', 'premium', 'product'),\n",
              " ('It', \"'s\", 'somewhere', 'sealed', 'hazard'),\n",
              " ('I', 'Get', 'back', 'other', 'chip'),\n",
              " ('this', 'is', 'definitely', 'worth', 'treat'),\n",
              " ('soldiers', \"'m\", 'now', 'crusty', 'snack'),\n",
              " ('bags', 'is', 'here', 'local', 'team'),\n",
              " ('it', 'know', 'totally', 'pretty', 'you'),\n",
              " ('you', 'is', 'also', 'unsalted', 'Period'),\n",
              " ('chips', 'Buy', 'so', 'hidden', 'gem'),\n",
              " ('You', 'got', 'just', 'blue', 'same'),\n",
              " ('Riesling', 'fits', 'perfectly', 'German', 'option'),\n",
              " ('these', 'got', 'overly', 'sweet', 'fats'),\n",
              " ('customers', 'love', 'so', 'wrong', 'product'),\n",
              " ('I', 'are', 'now', 'only', 'chips'),\n",
              " ('bags', 'are', 'already', 'great', 'size'),\n",
              " ('these', 'try', 'absolutely', 'little', 'chip'),\n",
              " ('that', 'Thank', 'else', 'hard', 'texture'),\n",
              " ('I', 'eat', 'longer', 'entire', 'shame'),\n",
              " ('They', 'seem', 'excessively', 'right', 'best'),\n",
              " ('flavor', 'held', 'again.<br', 'other', 'chips'),\n",
              " ('Kettle', 'is', 'then', 'jalapeno', 'try.<br'),\n",
              " ('I', 'purchase', 'now', 'local', 'addicted.<br'),\n",
              " ('I', 'buy', 'soon', 'quick', 'sale'),\n",
              " ('I', 'are', 'again', 'spicy', 'March'),\n",
              " ('you', 'ask', 'only', 'tasting', 'purchase'),\n",
              " ('Lays', 'got', 'highly', 'personal', 'favorite'),\n",
              " ('bag', 'scissors', 'when', 'bad', 'pain'),\n",
              " ('who', 'are', 'especially', 'extra', 'combination'),\n",
              " ('I', 'recommend', 'highly', 'great', 'complement'),\n",
              " ('Riesling', 'fits', 'perfectly', 'German', 'option'),\n",
              " ('Nothing', 'compares', 'else', 'ultimate', 'chips'),\n",
              " ('they', 'Delicious', 'very', 'satisfying', 'coating'),\n",
              " ('/>They', 'are', 'when', 'high', 'chips'),\n",
              " ('environment', 'thank', 'so', 'recent', 'efforts'),\n",
              " ('haters', 'is', 'even', 'blue', 'cheese'),\n",
              " ('it', 'is', 'just', 'total', 'makeout'),\n",
              " ('/>This', 'is', 'of', 'excellent', 'product'),\n",
              " ('you', 'getting', 'anywhere', 'great', 'favorite'),\n",
              " ('taste', 'disappointed', 'easily', 'strong', 'much'),\n",
              " ('you', 'stop', 'definitely', 'best', 'chips'),\n",
              " ('maltodextrin', 'Way', 'natural.<br', 'great', 'existent.<br'),\n",
              " ('chips', 'are', 'when', 'other', 'flavor'),\n",
              " ('they', 'done', 'SO', 'soured', 'best'),\n",
              " ('I', 'recommend', 'more', 'high', 'chips'),\n",
              " ('chips', 'nice', 'too', 'much', 'crispy'),\n",
              " ('I', 'are', 'instead', 'little', 'greasy'),\n",
              " ('they', 'are', 'super', 'Thick', 'best'),\n",
              " ('/>I', 'like', 'more', 'manufactured', 'chips'),\n",
              " ('I', 'buying', 'definitely', 'Great', 'addict'),\n",
              " ('I', 'are', 'so', 'other', 'important.<br'),\n",
              " ('I', 'is', 'sure', 'better', 'IMHO'),\n",
              " ('they', 'wish', 'though', 'harsh', 'GMO'),\n",
              " ('I', 'suggest', 'then', 'bigger', 'experience'),\n",
              " ('you', 'beat', 'quicker', 'good', 'brainer'),\n",
              " ('it', 'recommend', 'Definitely', 'expensive', 'ready.<br'),\n",
              " ('price', 'is', 'very', 'best', 'right.<br'),\n",
              " ('I', 'is', 'ever', 'best', 'Grey'),\n",
              " ('you', 'Do', 'even', 'attached', 'Grey'),\n",
              " ('I', 'gone', '/>(Recently', 'next', 'oz'),\n",
              " ('book', 'is', 'so', 'famous', 'ISBN-10'),\n",
              " ('shipment', 'wondering', 'when', 'next', 'fan'),\n",
              " ('I', 'read', 'carefully', 'supreme', 'husband'),\n",
              " ('I', 'read', 'maybe', 'next', 'goo'),\n",
              " ('Which', 'live', 'better', 'sticky', 'mess'),\n",
              " ('taste', 'waste', 'Seriously', 'canned', 'putting'),\n",
              " ('they', \"'s\", 'even', 'own', 'gluey'),\n",
              " ('Who', 'Horrible', 'too', 'GDs', 'way'),\n",
              " ('it', 'think', 'still', 'right', 'consistency'),\n",
              " ('frosting', 'centerpiece', 'really', 'ugly', 'gooey'),\n",
              " ('I', 'used', 'less', 'good', 'deal'),\n",
              " ('30lbs', 'Enjoy', 'pretty', 'good', 'considering'),\n",
              " ('I', 'buy', 'only', 'higher', 'brine'),\n",
              " ('Amazon', 'had', 'only', 'lesser', 'fighter'),\n",
              " ('that', 'saying', 'neither', 'real', 'blend'),\n",
              " ('memories', 'is', 'back', 'super', 'killin.flavor'),\n",
              " ('husband', 'waste', 'very', 'definite', 'cup'),\n",
              " ('this', 'is', 'perfectly', 'standard', 'sauce'),\n",
              " ('It', 'Thanks', 'again', 'big', 'best'),\n",
              " ('I', 'flavor', 'again', 'deep', 'sauce'),\n",
              " ('who', 'forward', 'really', 'more', 'process.<br')]"
            ]
          },
          "metadata": {},
          "execution_count": 29
        }
      ]
    },
    {
      "cell_type": "markdown",
      "source": [
        "##### nouns + adj & verb + adj"
      ],
      "metadata": {
        "id": "wkUk0H44tsEh"
      }
    },
    {
      "cell_type": "code",
      "source": [
        "nouns_adj = []\n",
        "verbs_adv = []\n",
        "for i in tqdm(range(nbr_sent)):\n",
        "  sente = nlp(X_train.Text.iloc[i])\n",
        "  for token in sente:\n",
        "    if token.pos_ == 'NOUN':\n",
        "      for child in token.children:\n",
        "        if child.pos_ == 'ADJ':\n",
        "          nouns_adj.append((token.text,child.text))\n",
        "    elif token.pos_ == 'VERB':\n",
        "      for child in token.children:\n",
        "        if child.pos_ == 'ADV':\n",
        "          verbs_adv.append((token.text,child.text))\n",
        "\n",
        "\n"
      ],
      "metadata": {
        "colab": {
          "base_uri": "https://localhost:8080/"
        },
        "outputId": "7b93ce8e-7bbc-477d-9c05-e3ab1dd52f77",
        "id": "MrPDI4WKbAxz"
      },
      "execution_count": 30,
      "outputs": [
        {
          "output_type": "stream",
          "name": "stderr",
          "text": [
            "100%|██████████| 500/500 [00:11<00:00, 43.04it/s]\n"
          ]
        }
      ]
    },
    {
      "cell_type": "code",
      "source": [
        "from collections import Counter\n",
        "counter_na = Counter(nouns_adj)\n",
        "counter_na.most_common(20)"
      ],
      "metadata": {
        "colab": {
          "base_uri": "https://localhost:8080/"
        },
        "outputId": "9408a459-c157-4c3b-9a40-04f3641957e2",
        "id": "N7Fn570-bAxz"
      },
      "execution_count": 31,
      "outputs": [
        {
          "output_type": "execute_result",
          "data": {
            "text/plain": [
              "[(('brands', 'other'), 16),\n",
              " (('chips', 'best'), 13),\n",
              " (('store', 'local'), 12),\n",
              " (('cream', 'sour'), 9),\n",
              " (('time', 'first'), 9),\n",
              " (('chips', 'other'), 8),\n",
              " (('thing', 'only'), 7),\n",
              " (('quality', 'good'), 6),\n",
              " (('stores', 'local'), 6),\n",
              " (('deal', 'great'), 6),\n",
              " (('amount', 'right'), 6),\n",
              " (('color', 'light'), 6),\n",
              " (('chips', 'regular'), 6),\n",
              " (('chips', 'favorite'), 6),\n",
              " (('price', 'great'), 5),\n",
              " (('food', 'dry'), 5),\n",
              " (('product', 'great'), 5),\n",
              " (('time', 'same'), 5),\n",
              " (('flavor', 'Great'), 5),\n",
              " (('fan', 'big'), 5)]"
            ]
          },
          "metadata": {},
          "execution_count": 31
        }
      ]
    },
    {
      "cell_type": "code",
      "source": [
        "counter_va = Counter(verbs_adv)\n",
        "counter_va.most_common(20)"
      ],
      "metadata": {
        "colab": {
          "base_uri": "https://localhost:8080/"
        },
        "outputId": "168f2a7c-d523-4967-e653-36e23cd6c934",
        "id": "oJlw1ydSbAxz"
      },
      "execution_count": 32,
      "outputs": [
        {
          "output_type": "execute_result",
          "data": {
            "text/plain": [
              "[(('buy', 'again'), 21),\n",
              " (('recommend', 'highly'), 15),\n",
              " (('had', 'ever'), 14),\n",
              " (('tasted', 'ever'), 9),\n",
              " (('order', 'again'), 9),\n",
              " (('has', 'also'), 6),\n",
              " (('eaten', 'ever'), 6),\n",
              " (('recommend', 'also'), 6),\n",
              " (('like', 'really'), 5),\n",
              " (('buy', 'never'), 5),\n",
              " (('goes', 'nicely'), 5),\n",
              " (('subdue', 'Also'), 5),\n",
              " (('powering', 'over'), 5),\n",
              " (('fits', 'Classically'), 5),\n",
              " (('fits', 'perfectly'), 5),\n",
              " (('go', 'back'), 4),\n",
              " (('have', 'now'), 4),\n",
              " (('noted', 'recently'), 4),\n",
              " (('wrapped', 'individually'), 3),\n",
              " (('like', 'much'), 3)]"
            ]
          },
          "metadata": {},
          "execution_count": 32
        }
      ]
    },
    {
      "cell_type": "code",
      "source": [],
      "metadata": {
        "id": "50kr9q2mtlne"
      },
      "execution_count": 32,
      "outputs": []
    }
  ]
}